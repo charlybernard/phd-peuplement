{
 "cells": [
  {
   "cell_type": "markdown",
   "metadata": {},
   "source": [
    "## Introduction"
   ]
  },
  {
   "cell_type": "markdown",
   "metadata": {},
   "source": [
    "### Pré-requis\n",
    "\n",
    "* Ce notebook permet de peupler l'ontologie relative aux adresses définies dans le fichier lié à la variable `ont_file`.\n",
    "* Avant de procéder à l'exécution du script, il faut installer deux logiciels qui devront être tournés durant le processus :\n",
    "    * [GraphDB](https://graphdb.ontotext.com/) qui permet de stocker et de travailler sur des graphes de connaissance. Une variable est associée au logiciel : `graphdb_url` qui est l'URL de l'application web. Le procédé est similaire à celui de `ontorefine_url` pour trouver sa valeur."
   ]
  },
  {
   "cell_type": "markdown",
   "metadata": {},
   "source": [
    "### Fichiers du dossier\n",
    "* `ont_file` est le fichier comprenant l'ontologie des adresses.\n",
    "* `data_file` : le but du notebook est de peupler l'ontologie. Ce peuplement se fait grâce à des exemples d'adresses qu'on trouve dans les annuaires du commerce de la ville de Paris dont les adresses sont stockées localement dans le fichier json lié à la variable `data_file`."
   ]
  },
  {
   "cell_type": "markdown",
   "metadata": {},
   "source": [
    "### Présentation du processus\n",
    "* Le processus est divisé en quatre parties :\n",
    "    * la première fait des traitements généraux :\n",
    "        * import des librairies\n",
    "        * définition des variables et modification de ces dernières si nécessaire (conversion des chemins relatifs en chemins absolus pour éviter les mauvaises surprises par exemple)\n",
    "        * créer de dossiers s'ils n'existent pas (`out_folder` ou `tmp_folder`).\n",
    "    * la deuxième est liée à la création des données à partir du fichier `data_file` :\n",
    "        * pour chaque adresse définie dans `data_file`, on la structure selon l'ontologie définie et on l'importe dans un graphe provisoire (`Graph()` de `rdflib`) ;\n",
    "        * export des données du graphe dans le fichier `out_file` ;\n",
    "    * la troisième est liée à l'import des données présentes dans `data_file` dans GraphDB :\n",
    "        * création d'un répertoire ayant `project_name` comme identifiant. S'il existe déjà, on le vide de tous ses triplets. C'est pourquoi il faut éviter de définir un identifiant qui se réfère à un répertoire déjà existant ;\n",
    "        * import de l'ontologie présente dans `ont_file` et des données créées dans la section précédente qui sont dans `out_file` ;\n",
    "        * :warning: pas encore traité ici : nettoyage des données grâce aux requêtes présentes dans `query_file`.\n",
    "    * la dernière partie permet de répondre aux questions de compétence liées au modelet adresse qui a mené à la création du fichier `ont_file`. Les réponses à ces questions sont enregistrés dans le dossier `out_folder` sous la forme des fichiers csv. Les questions sont les suivantes :\n",
    "        * *Quelles sont les adresses faisant référence à un lieu dont la localisation est située dans une zone géographique donnée ?*\n",
    "        * *Quelles sont les adresses faisant référence à un numéro d'immeuble situé le long d'une rue donnée ?*\n",
    "        * *Quelles sont les coordonnées d'une adresse donnée (définie par son libellé) ?*"
   ]
  },
  {
   "cell_type": "markdown",
   "metadata": {},
   "source": [
    "### Structure du fichier d'entrée\n",
    "Le fichier d'entrée `data_file` est un fichier `json` qui doit respecter une certaine syntaxe.\n",
    "* Il y doit avoir une clé `addresses` qui doit être associée à une liste de dictionnaires décrivrant chacun une adresse : `{\"addresses\":[addr1, addr2, ..., addrN]}`\n",
    "* Comme dit précédemment, chaque addresse est un dictionnaire et doit comprendre les clés-valeurs suivantes :\n",
    "    * `label` / `{label de l'adresse}` qui permet de décrire le libellé de l'adresse ;\n",
    "    * `date` / `{date de validité de l'adresse}` décrit la date à laquelle l'adresse est valable, la valeur doit respecter le format `yyyy-MM-ddTHH:mm:ss` ;\n",
    "    * `lang` / `{code de la langue}` décrit la langue dans laquelle est exprimée l'adresse, `null` est la valeur par défaut ;\n",
    "    * `target` / `{réference de la cible}` : décrit le repère cible de l'adresse. Dans la structure présente, chaque repère est défini par un identifiant unique qu'on appelle référence. Si l'adresse cible un repère connu par un identifiant, la valeur associée à `target` vaut la référence, sinon la valeur est `null`.\n",
    "    * `landmarks` / `{dictionnaire de repères}` : cet élément stocke l'ensemble des repères détectés dans le libellé de l'adresse dans un dictionnaire, chaque clé définit un repère de manière unique au sein de l'adresse. Un repère est décrit par l'intermédiaire d'un dictionnaire qui contient au minimum :\n",
    "        * `label` / `{label du repère}` qui permet de décrire le libellé du repère au sein de l'adresse ;\n",
    "        * `type` / `{type du repère}` qui permet de décrire le type du repère (`housenumber`, `thoroughfare`, `district`, `city`, `structure`, `undefined`)\n",
    "    * `spatial_relations` / `{liste des relations spatiales}` décrit l'ensemble des relations spatiales entre les repères décrites dans l'adresse (explicite ou non). Chaque relation est représentée par une liste des 3 éléments :\n",
    "\t\t* libellé de la relation spatiale\n",
    "\t\t* référence du repère ayant le rôle de locatum ; \n",
    "\t\t* liste des références des repères ayant le rôle de relatum (:warning: même s'il n'y a qu'un repère, il doit être stocké dans une liste) \n",
    "\n",
    "Ici, voici l'exemple d'un fichier json contenant une seule adresse :\n",
    "```json\n",
    "{\n",
    "   \"addresses\":[\n",
    "      {\n",
    "         \"label\":\"situé sur le blv. de Clichy, dans la partie comprise entre la place Blanche et la rue Fontaine\",\n",
    "         \"date\":\"1850-01-01T00:00:00\",\n",
    "         \"lang\":\"fr\",\n",
    "         \"target\":null,\n",
    "         \"landmarks\":{\n",
    "            \"bd_clichy\":{\n",
    "               \"label\":\"blv. de Clichy\",\n",
    "               \"type\":\"thoroughfare\"\n",
    "            },\n",
    "            \"pl_blanche\":{\n",
    "               \"label\":\"place Blanche\",\n",
    "               \"type\":\"thoroughfare\"\n",
    "            },\n",
    "            \"rue_fontaine\":{\n",
    "               \"label\":\"rue Fontaine\",\n",
    "               \"type\":\"thoroughfare\"\n",
    "            }\n",
    "         },\n",
    "         \"spatial_relations\":[\n",
    "            [\"sur\", null, [\"bd_clichy\"]],\n",
    "            [\"dans la partie comprise entre\", null, [\"pl_blanche\", \"rue_fontaine\"]]\n",
    "         ]\n",
    "      }\n",
    "   ]\n",
    "}\n",
    "```"
   ]
  },
  {
   "cell_type": "markdown",
   "metadata": {},
   "source": [
    "## 1. Traitements généraux"
   ]
  },
  {
   "cell_type": "markdown",
   "metadata": {},
   "source": [
    "### Import des librairies"
   ]
  },
  {
   "cell_type": "code",
   "execution_count": null,
   "metadata": {},
   "outputs": [],
   "source": [
    "import os\n",
    "import sys\n",
    "from rdflib import Graph"
   ]
  },
  {
   "cell_type": "markdown",
   "metadata": {},
   "source": [
    "### Import des variables globales"
   ]
  },
  {
   "cell_type": "code",
   "execution_count": null,
   "metadata": {},
   "outputs": [],
   "source": [
    "ont_file_name = \"address_ont.ttl\"\n",
    "data_file_name = \"adresses.json\"\n",
    "query_file_name = \"query.txt\"\n",
    "out_file_name = \"addresses.ttl\"\n",
    "local_config_file_name = \"repo_config.ttl\"\n",
    "\n",
    "out_folder_name = \"out\"\n",
    "tmp_folder_name = \"tmp\"\n",
    "\n",
    "project_name = \"paris_directories\"\n",
    "graphdb_url = \"http://localhost:7200\"\n",
    "local_uri = \"http://rdf.geohistoricaldata.org/address#\"\n",
    "\n",
    "py_code_folder_path = \"../../../code\""
   ]
  },
  {
   "cell_type": "markdown",
   "metadata": {},
   "source": [
    "### Traitement des variables globales\n",
    "\n",
    "* Obtention des chemins absolus des fichiers à partir des chemins relatifs donnés dans la section précédente\n",
    "* Création d'un dossier de sortie s'il n'existe pas encore pour stocker les fichiers de sortie\n",
    "\n"
   ]
  },
  {
   "cell_type": "code",
   "execution_count": null,
   "metadata": {},
   "outputs": [],
   "source": [
    "tmp_folder = os.path.abspath(tmp_folder_name)\n",
    "out_folder = os.path.abspath(out_folder_name)\n",
    "python_code_folder = os.path.abspath(py_code_folder_path)\n",
    "\n",
    "ont_file = os.path.abspath(ont_file_name)\n",
    "data_file = os.path.abspath(data_file_name)\n",
    "query_file = os.path.abspath(query_file_name)\n",
    "out_file = os.path.join(out_folder, out_file_name)\n",
    "local_config_file = os.path.join(tmp_folder, local_config_file_name)"
   ]
  },
  {
   "cell_type": "markdown",
   "metadata": {},
   "source": [
    "### Import des modules situés dans le dossier `code`"
   ]
  },
  {
   "cell_type": "code",
   "execution_count": null,
   "metadata": {},
   "outputs": [],
   "source": [
    "# Appel du dossier `code` comprend les codes python\n",
    "sys.path.insert(1, python_code_folder)\n",
    "\n",
    "import graphdb as gd\n",
    "import graphrdf as gr\n",
    "import filemanagement as fm"
   ]
  },
  {
   "cell_type": "markdown",
   "metadata": {},
   "source": [
    "### Création de dossiers s'ils n'existent pas"
   ]
  },
  {
   "cell_type": "code",
   "execution_count": null,
   "metadata": {},
   "outputs": [],
   "source": [
    "fm.create_folder_if_not_exists(out_folder)\n",
    "fm.create_folder_if_not_exists(tmp_folder)"
   ]
  },
  {
   "cell_type": "markdown",
   "metadata": {},
   "source": [
    "## 2. Création d'adresses via le fichier JSON"
   ]
  },
  {
   "cell_type": "code",
   "execution_count": null,
   "metadata": {},
   "outputs": [],
   "source": [
    "data = fm.read_json_file(data_file)\n",
    "g = Graph()\n",
    "\n",
    "for addr in data.get(\"addresses\"):\n",
    "    try:\n",
    "        gr.create_address(g, local_uri, addr.get(\"label\"), addr.get(\"lang\"), addr.get(\"landmarks\"), addr.get(\"spatial_relations\"), addr.get(\"target\"), addr.get(\"date\"))\n",
    "    except TypeError:\n",
    "        pass\n",
    "\n",
    "g.serialize(destination=out_file)"
   ]
  },
  {
   "cell_type": "markdown",
   "metadata": {},
   "source": [
    "## 3. Import des données dans GraphDB et nettoyage"
   ]
  },
  {
   "cell_type": "markdown",
   "metadata": {},
   "source": [
    "### Création du répertoire local dans GraphDB\n",
    "Pour que la création marche, il faut que GraphDB soit lancé et donc que l'URI donné par `graphdb_url` fonctionne. Si le répertoire existe déjà, rien n'est fait"
   ]
  },
  {
   "cell_type": "code",
   "execution_count": null,
   "metadata": {},
   "outputs": [],
   "source": [
    "gd.create_config_local_repository_file(local_config_file, project_name)\n",
    "gd.create_repository_from_config_file(graphdb_url, local_config_file)"
   ]
  },
  {
   "cell_type": "markdown",
   "metadata": {},
   "source": [
    "### Vidage du répertoire local\n",
    "Le répertoire dont l'id est `project_name` pour y stocker les données récupérées, cela est utile si le répertoire existait déjà."
   ]
  },
  {
   "cell_type": "code",
   "execution_count": null,
   "metadata": {},
   "outputs": [],
   "source": [
    "gd.clear_repository(graphdb_url, project_name)"
   ]
  },
  {
   "cell_type": "markdown",
   "metadata": {},
   "source": [
    "### Import de l'ontologie et des triplets créés"
   ]
  },
  {
   "cell_type": "code",
   "execution_count": null,
   "metadata": {},
   "outputs": [],
   "source": [
    "gd.import_ttl_file_in_graphdb(graphdb_url, project_name, ont_file)\n",
    "gd.import_ttl_file_in_graphdb(graphdb_url, project_name, out_file)"
   ]
  },
  {
   "cell_type": "markdown",
   "metadata": {},
   "source": [
    "## 4. Réponses aux questions de compétence"
   ]
  },
  {
   "cell_type": "markdown",
   "metadata": {},
   "source": [
    "### Quelles sont les adresses faisant référence à un lieu dont la localisation est située dans une zone géographique donnée ?"
   ]
  },
  {
   "cell_type": "code",
   "execution_count": null,
   "metadata": {},
   "outputs": [],
   "source": [
    "proj_uri = \"http://www.opengis.net/def/crs/OGC/1.3/CRS84\"\n",
    "polygon_wkt = \"POLYGON ((2.338886 48.858207, 2.345817 48.857007, 2.352061 48.854847, 2.359893 48.851727, 2.360559 48.851458, 2.360601 48.850061, 2.360601 48.849114, 2.356503 48.850216, 2.352576 48.851388, 2.349722 48.852094, 2.348199 48.852743, 2.344787 48.854042, 2.342191 48.855285, 2.33968 48.857134, 2.338328 48.857882, 2.338886 48.858207))\" #Polygon describes area of Centre Paris islands\n",
    "out_file_name = \"query1-out.csv\"\n",
    "\n",
    "query = f\"\"\"\n",
    "PREFIX rdfs: <http://www.w3.org/2000/01/rdf-schema#>\n",
    "PREFIX rdf: <http://www.w3.org/1999/02/22-rdf-syntax-ns#>\n",
    "PREFIX addr: <http://rdf.geohistoricaldata.org/address#>\n",
    "PREFIX gsp: <http://www.opengis.net/ont/geosparql#>\n",
    "PREFIX gspf: <http://www.opengis.net/def/function/geosparql/>\n",
    "\n",
    "select ?s ?nb ?streetName ?coords where {{\n",
    "    ?s a addr:Address; addr:targets [rdfs:label ?nb;\n",
    "                       addr:isPartOf [addr:isLandmarkType addr:Thoroughfare; rdfs:label ?streetName];\n",
    "                                                                              gsp:asWKT ?coords].\n",
    "        FILTER (\n",
    "        gspf:sfWithin(\n",
    "            ?coords,\n",
    "            \"<{proj_uri}> {polygon_wkt}\"^^gsp:wktLiteral\n",
    "        )\n",
    "    )\n",
    "\n",
    "}}\n",
    "\"\"\"\n",
    "\n",
    "gd.select_query_to_txt_file(query, graphdb_url, project_name, os.path.join(out_folder,out_file_name))"
   ]
  },
  {
   "cell_type": "markdown",
   "metadata": {},
   "source": [
    "### Quelles sont les adresses ayant référence un lien avec une rue donnée ?"
   ]
  },
  {
   "cell_type": "code",
   "execution_count": null,
   "metadata": {},
   "outputs": [],
   "source": [
    "street_name = \"place Blanche\"\n",
    "lang = \"fr\"\n",
    "out_file_name = \"query2-out.csv\"\n",
    "\n",
    "query = f\"\"\"\n",
    "PREFIX rdfs: <http://www.w3.org/2000/01/rdf-schema#>\n",
    "PREFIX addr: <http://rdf.geohistoricaldata.org/address#>\n",
    "PREFIX geo: <http://www.opengis.net/ont/geosparql#>\n",
    "SELECT ?address ?addressLabel ?geom WHERE {{\n",
    "    ?lm a addr:Landmark; addr:isLandmarkType addr:Thoroughfare; rdfs:label ?streetName.\n",
    "    FILTER(LCASE(STR(?streetName)) = \\\"{street_name.lower()}\\\" && LANG(?streetName) = \\\"{lang}\\\")\n",
    "    ?address a addr:Address; rdfs:label ?addressLabel.\n",
    "    OPTIONAL {{?address addr:targets [geo:asWKT ?geom].}}\n",
    "    {{?address addr:firstStep ?addrSegment}}UNION{{?address addr:firstStep [addr:nextStep+ ?addrSegment]}}\n",
    "    ?addrSegment a addr:AddressSegment; addr:relatum ?lm.\n",
    "}}\n",
    "\"\"\"\n",
    "\n",
    "gd.select_query_to_txt_file(query, graphdb_url, project_name, os.path.join(out_folder,out_file_name))"
   ]
  },
  {
   "cell_type": "markdown",
   "metadata": {},
   "source": [
    "### Quelles sont les coordonnées d'une adresse donnée (définie par son libellé) ?"
   ]
  },
  {
   "cell_type": "code",
   "execution_count": null,
   "metadata": {},
   "outputs": [],
   "source": [
    "address_name = \"3 rue de la vieille place aux veaux, Paris\"\n",
    "lang = \"fr\"\n",
    "out_file_name = \"query3-out.csv\"\n",
    "\n",
    "query = f\"\"\"\n",
    "PREFIX rdfs: <http://www.w3.org/2000/01/rdf-schema#>\n",
    "PREFIX rdf: <http://www.w3.org/1999/02/22-rdf-syntax-ns#>\n",
    "PREFIX addr: <http://rdf.geohistoricaldata.org/address#>\n",
    "PREFIX gsp: <http://www.opengis.net/ont/geosparql#>\n",
    "\n",
    "SELECT ?item ?addressLabel ?coords WHERE {{\n",
    "    ?item a addr:Address;\n",
    "          rdfs:label ?addressLabel.\n",
    "    OPTIONAL {{ ?item addr:targets [gsp:asWKT ?coords]. }}\n",
    "    FILTER(LCASE(STR(?addressLabel)) = \\\"{address_name.lower()}\\\" && LANG(?addressLabel) = \\\"{lang}\\\")\n",
    "}}\n",
    "\"\"\"\n",
    "\n",
    "gd.select_query_to_txt_file(query, graphdb_url, project_name, os.path.join(out_folder,out_file_name))"
   ]
  }
 ],
 "metadata": {
  "kernelspec": {
   "display_name": "Python 3",
   "language": "python",
   "name": "python3"
  },
  "language_info": {
   "codemirror_mode": {
    "name": "ipython",
    "version": 3
   },
   "file_extension": ".py",
   "mimetype": "text/x-python",
   "name": "python",
   "nbconvert_exporter": "python",
   "pygments_lexer": "ipython3",
   "version": "3.10.12"
  },
  "orig_nbformat": 4
 },
 "nbformat": 4,
 "nbformat_minor": 2
}
