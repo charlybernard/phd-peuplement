{
 "cells": [
  {
   "cell_type": "markdown",
   "metadata": {},
   "source": [
    "## Introduction"
   ]
  },
  {
   "cell_type": "markdown",
   "metadata": {},
   "source": [
    "### Pré-requis\n",
    "\n",
    "* Ce notebook permet de peupler l'ontologie relative aux adresses définies dans le fichier lié à la variable `ont_file`.\n",
    "* Il faut s'assurer que l'environnement Python qui va lancer le script possède les librairies suivantes : `os`, `sys`, `ssl`, `xml`, `rdflib`, `urllib`, `importlib`, `SPARQLWrapper`\n",
    "* Avant de procéder à l'exécution du script, il faut installer deux logiciels qui devront être tournés durant le processus :\n",
    "    * [Ontotext Refine](https://www.ontotext.com/products/ontotext-refine/) (ou OntoRefine) qui permet d'automatiser la conversion de données textuelles en un graphe de connaissances. Dans la section des variables globables (voir ci-dessous), deux variables sont liées au logiciel :\n",
    "        * `ontorefine_cli` : chemin absolu de l'interface en ligne de commande (CLI) d'OntoRefine. Pour trouver ce chemin, il suffit de cliquer sur le bouton `Open CLI directory` présent sur l'interface de lancement du logiciel. Cela vous renvoie vers le dossier contenant la CLI dont le nom est `ontorefine-cli`.\n",
    "        * `ontorefine_url` : l'URL de l'application web.  Pour trouver cette valeur, il suffit de cliquer sur le bouton `Open Refine web application` présent sur l'interface de lancement du logiciel. La valeur à associer à `ontorefine_url` est l'url à laquelle on enlève `/projects`.\n",
    "    * [GraphDB](https://graphdb.ontotext.com/) qui permet de stocker et de travailler sur des graphes de connaissance. Une variable est associée au logiciel : `graphdb_url` qui est l'URL de l'application web. Le procédé est similaire à celui de `ontorefine_url` pour trouver sa valeur.\n",
    "\n",
    "![Interface d'OntoRefine avec les boutons \\`Open Refine web application\\` et \\`Open CLI directory\\`](/../../img/interface_ontorefine.png)"
   ]
  },
  {
   "cell_type": "markdown",
   "metadata": {},
   "source": [
    "### Fichiers du dossier\n",
    "* `ont_file` est le fichier comprenant l'ontologie des adresses.\n",
    "* `data_file` : le but du notebook est de peupler l'ontologie. Ce peuplement se fait grâce aux données de la [BAN (Base Nationale Adresse)](https://adresse.data.gouv.fr/base-adresse-nationale) dont les adresses sont stockées localement dans le fichier csv lié à la variable `data_file`.\n",
    "* `mapping_file` : Afin de convertir les données présentes dans le fichier précédemment cité, un mapping est nécessaire pour les convertir en données RDF selon les recommandations de l'ontologie. Pour cela, le fichier json lié `mapping_file` existe et est utilisé par OntoRefine.\n",
    "* `query_file` : À la création des données via OntoRefine, il y a des données dupliquées. Un ensemble de requêtes SPARQL détecte ces doublons et supprimer les données inutiles. Ces requêtes sont dans le fichier `query_file`."
   ]
  },
  {
   "cell_type": "markdown",
   "metadata": {},
   "source": [
    "### Présentation du processus\n",
    "* Le processus est divisé en quatre parties :\n",
    "    * la première fait des traitements généraux :\n",
    "        * import des librairies\n",
    "        * définition des variables et modification de ces dernières si nécessaire (conversion des chemins relatifs en chemins absolus pour éviter les mauvaises surprises par exemple)\n",
    "        * créer de dossiers s'ils n'existent pas (`out_folder` ou `tmp_folder`).\n",
    "    * la deuxième est relative à OntoRefine :\n",
    "        * création d'un projet à partir du fichier lié à `data_file` ;\n",
    "        * conversion en données RDF grâce au fichier `mapping_file` ;\n",
    "        * export des données créées dans un graphe stocké dans le fichier `out_file` ;\n",
    "        * suppression du projet.\n",
    "    * la troisième est liée à l'import des données créées par OntoRefine dans GraphDB :\n",
    "        * création d'un répertoire ayant `project_name` comme identifiant. S'il existe déjà, on le vide de tous ses triplets. C'est pourquoi il faut éviter de définir un identifiant qui se réfère à un répertoire déjà existant ;\n",
    "        * import de l'ontologie présente dans `ont_file` et des données créées par OntoRefine qui sont dans `out_file` ;\n",
    "        * nettoyage des données grâce aux requêtes présentes dans `query_file`.\n",
    "    * la dernière partie permet de répondre aux questions de compétence liées au modelet adresse qui a mené à la création du fichier `ont_file`. Les réponses à ces questions sont enregistrés dans le dossier `out_folder` sous la forme des fichiers csv. Les questions sont les suivantes :\n",
    "        * *Quelles sont les adresses faisant référence à un lieu dont la localisation est située dans une zone géographique donnée ?*\n",
    "        * *Quelles sont les adresses faisant référence à un numéro d'immeuble situé le long d'une rue donnée ?*\n",
    "        * *Quelles sont les coordonnées d'une adresse donnée (définie par son libellé) ?*"
   ]
  },
  {
   "cell_type": "markdown",
   "metadata": {},
   "source": [
    "## 1. Traitements généraux"
   ]
  },
  {
   "cell_type": "markdown",
   "metadata": {},
   "source": [
    "### Import des librairies"
   ]
  },
  {
   "cell_type": "code",
   "execution_count": null,
   "metadata": {},
   "outputs": [],
   "source": [
    "import os\n",
    "import sys"
   ]
  },
  {
   "cell_type": "markdown",
   "metadata": {},
   "source": [
    "### Import des variables globales"
   ]
  },
  {
   "cell_type": "code",
   "execution_count": null,
   "metadata": {},
   "outputs": [],
   "source": [
    "ont_file_name = \"address_ont.ttl\"\n",
    "data_file_name = \"addresses.csv\"\n",
    "query_file_name = \"query.txt\"\n",
    "mapping_file_name = \"mapping.json\"\n",
    "out_file_name = \"addresses.ttl\"\n",
    "local_config_file_name = \"repo_config.ttl\"\n",
    "\n",
    "out_folder_name = \"out\"\n",
    "tmp_folder_name = \"tmp\"\n",
    "\n",
    "project_name = \"ban_01343\"\n",
    "\n",
    "ontorefine_url = \"http://localhost:7333\"\n",
    "graphdb_url = \"http://localhost:7200\"\n",
    "\n",
    "ontorefine_cli = \"/opt/ontotext-refine/lib/app/bin/ontorefine-cli\"\n",
    "# ontorefine_cli = \"/Applications/Ontotext\\ Refine.app/Contents/app/bin/ontorefine-cli\"\n",
    "\n",
    "py_code_folder_path = \"../../code\""
   ]
  },
  {
   "cell_type": "markdown",
   "metadata": {},
   "source": [
    "### Traitement des variables globales\n",
    "\n",
    "* Obtention des chemins absolus des fichiers à partir des chemins relatifs donnés dans la section précédente\n",
    "* Création d'un dossier de sortie s'il n'existe pas encore pour stocker les fichiers de sortie\n",
    "\n"
   ]
  },
  {
   "cell_type": "code",
   "execution_count": null,
   "metadata": {},
   "outputs": [],
   "source": [
    "tmp_folder = os.path.abspath(tmp_folder_name)\n",
    "out_folder = os.path.abspath(out_folder_name)\n",
    "python_code_folder = os.path.abspath(py_code_folder_path)\n",
    "\n",
    "ont_file = os.path.abspath(ont_file_name)\n",
    "data_file = os.path.abspath(data_file_name)\n",
    "query_file = os.path.abspath(query_file_name)\n",
    "mapping_file = os.path.abspath(mapping_file_name)\n",
    "out_file = os.path.join(out_folder, out_file_name)\n",
    "local_config_file = os.path.join(tmp_folder, local_config_file_name)"
   ]
  },
  {
   "cell_type": "markdown",
   "metadata": {},
   "source": [
    "### Import des modules situés dans le dossier `code`"
   ]
  },
  {
   "cell_type": "code",
   "execution_count": null,
   "metadata": {},
   "outputs": [],
   "source": [
    "# Appel du dossier `code` comprend les codes python\n",
    "sys.path.insert(1, python_code_folder)\n",
    "\n",
    "import graphdb as gd\n",
    "import filemanagement as fm\n",
    "import ontorefine as otr"
   ]
  },
  {
   "cell_type": "markdown",
   "metadata": {},
   "source": [
    "### Création de dossiers s'ils n'existent pas"
   ]
  },
  {
   "cell_type": "code",
   "execution_count": null,
   "metadata": {},
   "outputs": [],
   "source": [
    "fm.create_folder_if_not_exists(out_folder)\n",
    "fm.create_folder_if_not_exists(tmp_folder)"
   ]
  },
  {
   "cell_type": "markdown",
   "metadata": {},
   "source": [
    "## 2. Structuration des données contenues dans `data_file` via OntoRefine"
   ]
  },
  {
   "cell_type": "markdown",
   "metadata": {},
   "source": [
    ":warning: Dans cette partie, il faut que OntoRefine soit lancé avnt d'exécuter les lignes de code.\n"
   ]
  },
  {
   "cell_type": "code",
   "execution_count": null,
   "metadata": {},
   "outputs": [],
   "source": [
    "otr.get_export_file_from_ontorefine(data_file, mapping_file, out_file, ontorefine_cli, ontorefine_url, project_name)"
   ]
  },
  {
   "cell_type": "markdown",
   "metadata": {},
   "source": [
    "## 3. Import des données dans GraphDB et nettoyage"
   ]
  },
  {
   "cell_type": "markdown",
   "metadata": {},
   "source": [
    ":warning: Lancer GraphDB avant de lancer les commandes ci-dessous (pour que `graphdb_url` fonctionne)."
   ]
  },
  {
   "cell_type": "markdown",
   "metadata": {},
   "source": [
    "### Création du répertoire local dans GraphDB\n",
    "Pour que la création marche, il faut que GraphDB soit lancé et donc que l'URI donné par `graphdb_url` fonctionne. Si le répertoire existe déjà, rien n'est fait"
   ]
  },
  {
   "cell_type": "code",
   "execution_count": null,
   "metadata": {},
   "outputs": [],
   "source": [
    "gd.create_config_local_repository_file(local_config_file, project_name)\n",
    "gd.create_repository_from_config_file(graphdb_url, local_config_file)"
   ]
  },
  {
   "cell_type": "markdown",
   "metadata": {},
   "source": [
    "### Vidage du répertoire local\n",
    "Le répertoire dont l'id est `project_name` pour y stocker les données récupérées, cela est utile si le répertoire existait déjà."
   ]
  },
  {
   "cell_type": "code",
   "execution_count": null,
   "metadata": {},
   "outputs": [],
   "source": [
    "gd.clear_repository(graphdb_url, project_name)"
   ]
  },
  {
   "cell_type": "markdown",
   "metadata": {},
   "source": [
    "### Import de l'ontologie et des triplets créés dans la partie liée à Ontorefine"
   ]
  },
  {
   "cell_type": "code",
   "execution_count": null,
   "metadata": {},
   "outputs": [],
   "source": [
    "gd.import_ttl_file_in_graphdb(graphdb_url, project_name, ont_file)\n",
    "gd.import_ttl_file_in_graphdb(graphdb_url, project_name, out_file)"
   ]
  },
  {
   "cell_type": "markdown",
   "metadata": {},
   "source": [
    "### Nettoyage les données en supprimant les doublons"
   ]
  },
  {
   "cell_type": "code",
   "execution_count": null,
   "metadata": {},
   "outputs": [],
   "source": [
    "# Lecture du fichier contenant la requête pour nettoyer les données\n",
    "query = fm.read_file(query_file)\n",
    "\n",
    "# Mise à jour des données grâce à la requête fournie\n",
    "gd.update_query(query, graphdb_url, project_name)"
   ]
  },
  {
   "cell_type": "markdown",
   "metadata": {},
   "source": [
    "## 4. Réponses aux questions de compétence"
   ]
  },
  {
   "cell_type": "markdown",
   "metadata": {},
   "source": [
    "### Quelles sont les adresses faisant référence à un lieu dont la localisation est située dans une zone géographique donnée ?"
   ]
  },
  {
   "cell_type": "code",
   "execution_count": null,
   "metadata": {},
   "outputs": [],
   "source": [
    "proj_uri = \"http://www.opengis.net/def/crs/OGC/1.3/CRS84\"\n",
    "polygon_wkt = \"POLYGON((4.957909552887547 46.2633019251873,4.965140788391698 46.2633019251873,4.965140788391698 46.258658479525806,4.957909552887547 46.258658479525806,4.957909552887547 46.2633019251873))\"\n",
    "out_file_name = \"query1-out.csv\"\n",
    "\n",
    "query = f\"\"\"\n",
    "PREFIX rdfs: <http://www.w3.org/2000/01/rdf-schema#>\n",
    "PREFIX rdf: <http://www.w3.org/1999/02/22-rdf-syntax-ns#>\n",
    "PREFIX addr: <http://rdf.geohistoricaldata.org/address#>\n",
    "PREFIX gsp: <http://www.opengis.net/ont/geosparql#>\n",
    "PREFIX gspf: <http://www.opengis.net/def/function/geosparql/>\n",
    "\n",
    "select ?s ?nb ?streetName ?coords where {{\n",
    "    ?s a addr:Address; addr:targets [rdfs:label ?nb;\n",
    "                       addr:isPartOf [addr:isLandmarkType addr:Thoroughfare; rdfs:label ?streetName];\n",
    "                                                                              gsp:asWKT ?coords].\n",
    "        FILTER (\n",
    "        gspf:sfWithin(\n",
    "            ?coords,\n",
    "            \"<{proj_uri}> {polygon_wkt}\"^^gsp:wktLiteral\n",
    "        )\n",
    "    )\n",
    "\n",
    "}}\n",
    "\"\"\"\n",
    "\n",
    "gd.select_query_to_txt_file(query, graphdb_url, project_name, os.path.join(out_folder,out_file_name))"
   ]
  },
  {
   "cell_type": "markdown",
   "metadata": {},
   "source": [
    "### Quelles sont les adresses faisant référence à un numéro d'immeuble situé le long d'une rue donnée ?"
   ]
  },
  {
   "cell_type": "code",
   "execution_count": null,
   "metadata": {},
   "outputs": [],
   "source": [
    "street_name = \"route de l'Amitié\"\n",
    "lang = \"fr\"\n",
    "out_file_name = \"query2-out.csv\"\n",
    "\n",
    "query = f\"\"\"\n",
    "PREFIX rdfs: <http://www.w3.org/2000/01/rdf-schema#>\n",
    "PREFIX addr: <http://rdf.geohistoricaldata.org/address#>\n",
    "PREFIX geo: <http://www.opengis.net/ont/geosparql#>\n",
    "SELECT ?address ?addressLabel ?geom WHERE {{\n",
    "    ?lm a addr:Landmark; addr:isLandmarkType addr:Thoroughfare; rdfs:label ?streetName.\n",
    "    FILTER(LCASE(STR(?streetName)) = \\\"{street_name.lower()}\\\" && LANG(?streetName) = \\\"{lang}\\\")\n",
    "    ?address a addr:Address; rdfs:label ?addressLabel.\n",
    "    OPTIONAL {{?address addr:targets [geo:asWKT ?geom].}}\n",
    "    {{?address addr:firstStep ?addrSegment}}UNION{{?address addr:firstStep [addr:nextStep+ ?addrSegment]}}\n",
    "    ?addrSegment a addr:AddressSegment; addr:relatum ?lm.\n",
    "}}\n",
    "\"\"\"\n",
    "\n",
    "gd.select_query_to_txt_file(query, graphdb_url, project_name, os.path.join(out_folder,out_file_name))"
   ]
  },
  {
   "cell_type": "markdown",
   "metadata": {},
   "source": [
    "### Quelles sont les coordonnées d'une adresse donnée (définie par son libellé) ?"
   ]
  },
  {
   "cell_type": "code",
   "execution_count": null,
   "metadata": {},
   "outputs": [],
   "source": [
    "address_name = \"95 route de l'Amitié, 01380 Saint-Cyr-sur-Menthon\"\n",
    "lang = \"fr\"\n",
    "out_file_name = \"query3-out.csv\"\n",
    "\n",
    "query = f\"\"\"\n",
    "PREFIX rdfs: <http://www.w3.org/2000/01/rdf-schema#>\n",
    "PREFIX rdf: <http://www.w3.org/1999/02/22-rdf-syntax-ns#>\n",
    "PREFIX addr: <http://rdf.geohistoricaldata.org/address#>\n",
    "PREFIX gsp: <http://www.opengis.net/ont/geosparql#>\n",
    "\n",
    "SELECT ?item ?addressLabel ?coords WHERE {{\n",
    "    ?item a addr:Address;\n",
    "          rdfs:label ?addressLabel; \n",
    "          addr:targets [gsp:asWKT ?coords].\n",
    "    FILTER(LCASE(STR(?addressLabel)) = \\\"{address_name.lower()}\\\" && LANG(?addressLabel) = \\\"{lang}\\\")\n",
    "}}\n",
    "\"\"\"\n",
    "\n",
    "gd.select_query_to_txt_file(query, graphdb_url, project_name, os.path.join(out_folder,out_file_name))"
   ]
  }
 ],
 "metadata": {
  "kernelspec": {
   "display_name": "Python 3",
   "language": "python",
   "name": "python3"
  },
  "language_info": {
   "codemirror_mode": {
    "name": "ipython",
    "version": 3
   },
   "file_extension": ".py",
   "mimetype": "text/x-python",
   "name": "python",
   "nbconvert_exporter": "python",
   "pygments_lexer": "ipython3",
   "version": "3.10.12"
  },
  "orig_nbformat": 4
 },
 "nbformat": 4,
 "nbformat_minor": 2
}
