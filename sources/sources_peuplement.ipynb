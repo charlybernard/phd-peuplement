{
 "cells": [
  {
   "cell_type": "markdown",
   "metadata": {},
   "source": [
    "# Variables"
   ]
  },
  {
   "cell_type": "markdown",
   "metadata": {},
   "source": [
    "## Import des librairies"
   ]
  },
  {
   "cell_type": "code",
   "execution_count": null,
   "metadata": {},
   "outputs": [],
   "source": [
    "import os\n",
    "import sys\n",
    "from rdflib import Graph, Namespace, URIRef, Literal, BNode, XSD"
   ]
  },
  {
   "cell_type": "markdown",
   "metadata": {},
   "source": [
    "## Définition des variables globales"
   ]
  },
  {
   "cell_type": "code",
   "execution_count": null,
   "metadata": {},
   "outputs": [],
   "source": [
    "# Fichiers existants\n",
    "ont_file_name = \"ontology.ttl\" # Fusion des deux fichiers précédents\n",
    "ruleset_file_name = \"rules.pie\"\n",
    "\n",
    "# Fichiers créés durant le processus\n",
    "export_file_name = \"addresses-temp.ttl\"\n",
    "out_file_name = \"addresses.ttl\"\n",
    "local_config_file_name = \"config_repo.ttl\"\n",
    "facts_ttl_file_name = \"facts_data.ttl\"\n",
    "implicit_to_facts_ttl_file_name = \"implicit_to_facts.ttl\"\n",
    "\n",
    "# Dossiers existants\n",
    "data_folder_name = \"data\"\n",
    "mapping_folder_name = \"mappings\"\n",
    "\n",
    "# Dossiers créés durant le traitement\n",
    "tmp_folder_name = \"tmp_files\"\n",
    "\n",
    "# Nom du répertoire GraphDB pour les faits\n",
    "facts_repository_name = \"addresses_from_factoids_6\"\n",
    "\n",
    "# Définition des graphes nommés\n",
    "ontology_named_graph_name = \"ontology\"\n",
    "facts_named_graph_name = \"facts\"\n",
    "factoids_named_graph_name = \"factoids\"\n",
    "permanent_named_graph_name = \"permanent\"\n",
    "tmp_named_graph_name = \"temporary\"\n",
    "\n",
    "# Définition de namespaces et de préfixes associés\n",
    "namespace_prefixes = {\"addr\":Namespace(\"http://rdf.geohistoricaldata.org/def/address#\"),\n",
    "                      \"atype\":Namespace(\"http://rdf.geohistoricaldata.org/id/codes/address/attributeType/\"),\n",
    "                      \"ltype\":Namespace(\"http://rdf.geohistoricaldata.org/id/codes/address/landmarkType/\"),\n",
    "                      \"lrtype\":Namespace(\"http://rdf.geohistoricaldata.org/id/codes/address/landmarkRelationType/\"),\n",
    "                      \"ctype\":Namespace(\"http://rdf.geohistoricaldata.org/id/codes/address/changeType/\"),\n",
    "                      \"facts\":Namespace(\"http://rdf.geohistoricaldata.org/id/address/facts/\"),\n",
    "                      \"factoids\":Namespace(\"http://rdf.geohistoricaldata.org/id/address/factoids/\"),\n",
    "                      \"geo\": Namespace(\"http://www.opengis.net/ont/geosparql#\"),\n",
    "                      \"skos\": Namespace(\"http://www.w3.org/2004/02/skos/core#\"),\n",
    "                      \"rdf\": Namespace(\"http://www.w3.org/1999/02/22-rdf-syntax-ns#\"),\n",
    "                      \"rdfs\": Namespace(\"http://www.w3.org/2000/01/rdf-schema#\"),\n",
    "                      }\n",
    "\n",
    "# URIs pour accéder aux logiciels GraphDB et Ontotext-Refine\n",
    "graphdb_url = \"http://localhost:7200\"\n",
    "ontorefine_url = \"http://localhost:7333\"\n",
    "\n",
    "# Commande pour lancer `Ontorefine`, dépend de l'OS et d'où il se situe\n",
    "# ontorefine_cmd = \"ontorefine-cli\" # Nom sans chemin\n",
    "# ontorefine_cmd = \"/opt/ontotext-refine/lib/app/bin/ontorefine-cli\" #Ubuntu\n",
    "ontorefine_cmd = \"/Applications/Ontotext\\\\ Refine.app/Contents/app/bin/ontorefine-cli\" #MacOS\n",
    "\n",
    "py_code_folder_path = \"../code\""
   ]
  },
  {
   "cell_type": "markdown",
   "metadata": {},
   "source": [
    "## Traitement des variables globales\n",
    "\n",
    "* Obtention des chemins absolus des fichiers à partir des chemins relatifs donnés dans la section précédente\n",
    "* Création d'un dossier temporaire s'il n'existe pas encore pour stocker des fichiers à vocation d'être supprimés"
   ]
  },
  {
   "cell_type": "code",
   "execution_count": null,
   "metadata": {},
   "outputs": [],
   "source": [
    "tmp_folder = os.path.abspath(tmp_folder_name)\n",
    "mapping_folder = os.path.abspath(mapping_folder_name)\n",
    "data_folder = os.path.abspath(data_folder_name)\n",
    "\n",
    "python_code_folder = os.path.abspath(py_code_folder_path)\n",
    "\n",
    "local_config_file = os.path.join(tmp_folder, local_config_file_name)\n",
    "ont_file = os.path.abspath(ont_file_name)\n",
    "ruleset_file = os.path.abspath(ruleset_file_name)\n",
    "facts_ttl_file = os.path.join(tmp_folder, facts_ttl_file_name)\n",
    "implicit_to_facts_ttl_file = os.path.join(tmp_folder, implicit_to_facts_ttl_file_name)"
   ]
  },
  {
   "cell_type": "markdown",
   "metadata": {},
   "source": [
    "## Import des modules situés dans le dossier `code`"
   ]
  },
  {
   "cell_type": "code",
   "execution_count": null,
   "metadata": {},
   "outputs": [],
   "source": [
    "# Appel du dossier `code` comprend les codes python\n",
    "sys.path.insert(1, python_code_folder)\n",
    "\n",
    "import filemanagement as fm\n",
    "import wikidata as wd\n",
    "import ontorefine as otr\n",
    "import graphdb as gd\n",
    "import graphrdf as gr\n",
    "import strprocessing as sp\n",
    "import geomprocessing as gp\n",
    "import multisourcesprocessing as msp\n",
    "import factoidscreation as fc"
   ]
  },
  {
   "cell_type": "markdown",
   "metadata": {},
   "source": [
    "## Création de dossiers s'ils n'existent pas"
   ]
  },
  {
   "cell_type": "code",
   "execution_count": null,
   "metadata": {},
   "outputs": [],
   "source": [
    "fm.create_folder_if_not_exists(tmp_folder)"
   ]
  },
  {
   "cell_type": "markdown",
   "metadata": {},
   "source": [
    "## Gestion du répertoire local"
   ]
  },
  {
   "cell_type": "markdown",
   "metadata": {},
   "source": [
    "### Création du répertoire local dans GraphDB\n",
    "Pour que la création marche, il faut que GraphDB soit lancé et donc que l'URI donné par `graphdb_url` fonctionne. Si le répertoire existe déjà, rien n'est fait."
   ]
  },
  {
   "cell_type": "code",
   "execution_count": null,
   "metadata": {},
   "outputs": [],
   "source": [
    "# Il se peut que la suppression d'un répertoire ne fonctionne pas donc pour éviter la suppresion au moment de la réinitialisation (suppression + (re)création)\n",
    "# `allow_removal` doit valoir False et dans ce cas-là, le répertoire sera juste vidé.\n",
    "allow_removal = False\n",
    "disable_same_as = False\n",
    "# gd.reinitialize_repository(graphdb_url, facts_repository_name, local_config_file, ruleset_file=\"owl2-rl-optimized\", disable_same_as=disable_same_as, allow_removal=allow_removal)\n",
    "\n",
    "gd.reinitialize_repository(graphdb_url, facts_repository_name, local_config_file, ruleset_file=ruleset_file, disable_same_as=disable_same_as, allow_removal=allow_removal)\n",
    "# gd.reinitialize_repository(graphdb_url, facts_repository_name, local_config_file, disable_same_as=disable_same_as, allow_removal=allow_removal)"
   ]
  },
  {
   "cell_type": "markdown",
   "metadata": {},
   "source": [
    "## Import des ontologies"
   ]
  },
  {
   "cell_type": "code",
   "execution_count": null,
   "metadata": {},
   "outputs": [],
   "source": [
    "gd.load_ontologies(graphdb_url, facts_repository_name, [ont_file], ontology_named_graph_name)"
   ]
  },
  {
   "cell_type": "markdown",
   "metadata": {},
   "source": [
    "## Définition de variables liées aux sources"
   ]
  },
  {
   "cell_type": "markdown",
   "metadata": {},
   "source": [
    "### Voies de Paris via Wikidata"
   ]
  },
  {
   "cell_type": "markdown",
   "metadata": {},
   "source": [
    "* `wd` pour \"wikidata\"\n",
    "* `wdpt` pour \"wikidata paris thoroughfares\"\n",
    "* `wdpa` pour \"wikidata paris areas\"\n",
    "* `wdpl` pour \"wikidata paris thoroughfare locations\""
   ]
  },
  {
   "cell_type": "code",
   "execution_count": null,
   "metadata": {},
   "outputs": [],
   "source": [
    "# Nom du répertoire où sont stockés et construits les triplets des factoïdes des données de Wikidata\n",
    "wd_repository_name = \"factoids_wikidata\"\n",
    "\n",
    "# Fichier CSV pour stocker le résultat de la requête de la sélection\n",
    "wdpt_csv_file_name = \"wd_paris_thoroughfares.csv\"\n",
    "wdpt_csv_file = os.path.join(data_folder, wdpt_csv_file_name)\n",
    "\n",
    "# Fichier de mapping pour transformer le fichier CSV en fichier TTL\n",
    "wdpt_mapping_file_name = \"mapping_wikidata_landmarks_thoroughfares.json\"\n",
    "wdpt_mapping_file = os.path.join(mapping_folder, wdpt_mapping_file_name)\n",
    "\n",
    "# Fichier TTL pour structurer les connaissances des voies de Paris\n",
    "wdpt_kg_file_name = \"wd_paris_thoroughfares.ttl\"\n",
    "wdpt_kg_file = os.path.join(tmp_folder, wdpt_kg_file_name)\n",
    "\n",
    "# Fichier CSV pour stocker le résultat de la requête de la sélection\n",
    "wdpa_csv_file_name = \"wd_paris_areas.csv\"\n",
    "wdpa_csv_file = os.path.join(data_folder, wdpa_csv_file_name)\n",
    "\n",
    "# Fichier de mapping pour transformer le fichier CSV en fichier TTL\n",
    "wdpa_mapping_file_name = \"mapping_wikidata_landmarks_areas.json\"\n",
    "wdpa_mapping_file = os.path.join(mapping_folder, wdpa_mapping_file_name)\n",
    "\n",
    "# Fichier TTL pour structurer les connaissances des zones de Paris\n",
    "wdpa_kg_file_name = \"wd_paris_areas.ttl\"\n",
    "wdpa_kg_file = os.path.join(tmp_folder, wdpa_kg_file_name)\n",
    "\n",
    "# Fichier CSV pour stocker le résultat de la requête de la sélection\n",
    "wdpl_csv_file_name = \"wd_paris_locations.csv\"\n",
    "wdpl_csv_file = os.path.join(data_folder, wdpl_csv_file_name)\n",
    "\n",
    "# Fichier de mapping pour transformer le fichier CSV en fichier TTL\n",
    "wdpl_mapping_file_name = \"mapping_wikidata_landmark_relations.json\"\n",
    "wdpl_mapping_file = os.path.join(mapping_folder, wdpl_mapping_file_name)\n",
    "\n",
    "# Fichier TTL pour structurer les connaissances des zones de Paris\n",
    "wdpl_kg_file_name = \"wd_paris_thoroughfare_locations.ttl\"\n",
    "wdpl_kg_file = os.path.join(tmp_folder, wdpl_kg_file_name)\n",
    "\n",
    "# Fichier TTL final des factoïdes de Wikidata\n",
    "wd_factoids_kg_file_name = \"wd_factoids.ttl\"\n",
    "wd_factoids_kg_file = os.path.join(tmp_folder, wd_factoids_kg_file_name)\n",
    "wd_permanent_kg_file_name = \"wd_permanent.ttl\"\n",
    "wd_permanent_kg_file = os.path.join(tmp_folder, wd_permanent_kg_file_name)"
   ]
  },
  {
   "cell_type": "markdown",
   "metadata": {},
   "source": [
    "### Nomenclature des voies de la ville de Paris"
   ]
  },
  {
   "cell_type": "markdown",
   "metadata": {},
   "source": [
    "Les données de la ville de Paris sont composées de deux jeux :\n",
    "* [dénominations des emprises des voies actuelles](https://opendata.paris.fr/explore/dataset/denominations-emprises-voies-actuelles)\n",
    "* [dénominations caduques des voies](https://opendata.paris.fr/explore/dataset/denominations-des-voies-caduques)\n",
    "\n",
    "Les voies actuelles ont une emprise géométrique contrairement aux anciennes voies.\n",
    "\n",
    "* `vpt` pour \"ville paris thoroughfares\"\n",
    "* `vpta` pour \"ville paris thoroughfares actuelles\"\n",
    "* `vptc` pour \"ville paris thoroughfares caduques\""
   ]
  },
  {
   "cell_type": "code",
   "execution_count": null,
   "metadata": {},
   "outputs": [],
   "source": [
    "# Nom du répertoire où sont stockés et construits les triplets des factoïdes des données de la BAN\n",
    "vpt_repository_name = \"factoids_ville_de_paris\"\n",
    "\n",
    "# Fichier CSV pour stocker le résultat de la requête de la sélection\n",
    "vpta_csv_file_name = \"denominations-emprises-voies-actuelles.csv\"\n",
    "vpta_csv_file = os.path.join(data_folder, vpta_csv_file_name)\n",
    "vptc_csv_file_name = \"denominations-des-voies-caduques.csv\"\n",
    "vptc_csv_file = os.path.join(data_folder, vptc_csv_file_name)\n",
    "\n",
    "# Propriétés liées au fichier `vpta_csv_file` (colonne décrivant la géométrie, séparateur de colonnes...)\n",
    "vpta_csv_file_delimiter = \";\"\n",
    "vpta_csv_file_geom_col_name = \"geo_shape\"\n",
    "\n",
    "# Le fichier `vpta_csv_file_name` sera modifié durant le traitement. Le fichier ci-dessous sera la version modifiée.\n",
    "vpta_mod_csv_file_name = \"denominations-emprises-voies-actuelles_wkt.csv\"\n",
    "vpta_mod_csv_file = os.path.join(tmp_folder, vpta_mod_csv_file_name)\n",
    "\n",
    "# Fichier de mapping pour transformer le fichier CSV en fichier TTL\n",
    "vpta_mapping_file_name = \"mapping_voies_paris_actuelles.json\"\n",
    "vpta_mapping_file = os.path.join(mapping_folder, vpta_mapping_file_name)\n",
    "vptc_mapping_file_name = \"mapping_voies_paris_caduques.json\"\n",
    "vptc_mapping_file = os.path.join(mapping_folder, vptc_mapping_file_name)\n",
    "\n",
    "# Fichier TTL pour structurer les connaissances des voies de Paris\n",
    "vpta_kg_file_name = \"voies_paris_actuelles.ttl\"\n",
    "vpta_kg_file = os.path.join(tmp_folder, vpta_kg_file_name)\n",
    "vptc_kg_file_name = \"voies_paris_caduques.ttl\"\n",
    "vptc_kg_file = os.path.join(tmp_folder, vptc_kg_file_name)\n",
    "\n",
    "# Fichier TTL final des factoïdes de Ville de Paris\n",
    "vpt_factoids_kg_file_name = \"vpt_factoids.ttl\"\n",
    "vpt_factoids_kg_file = os.path.join(tmp_folder, vpt_factoids_kg_file_name)\n",
    "vpt_permanent_kg_file_name = \"vpt_permanent.ttl\"\n",
    "vpt_permanent_kg_file = os.path.join(tmp_folder, vpt_permanent_kg_file_name)"
   ]
  },
  {
   "cell_type": "markdown",
   "metadata": {},
   "source": [
    "### Base Adresse Nationale (BAN)"
   ]
  },
  {
   "cell_type": "markdown",
   "metadata": {},
   "source": [
    "Données de la [Base Adresse Nationale (BAN)](https://adresse.data.gouv.fr/base-adresse-nationale), accessible [ici](https://adresse.data.gouv.fr/data/ban/adresses/latest/csv)\n",
    "\n",
    "`bpa` pour \"BAN paris addresses\""
   ]
  },
  {
   "cell_type": "code",
   "execution_count": null,
   "metadata": {},
   "outputs": [],
   "source": [
    "# Nom du répertoire où sont stockés et construits les triplets des factoïdes des données de la BAN\n",
    "bpa_repository_name = \"factoids_ban\"\n",
    "\n",
    "# Fichier CSV pour stocker le résultat de la requête de la sélection\n",
    "bpa_csv_file_name = \"ban_adresses.csv\"\n",
    "bpa_csv_file = os.path.join(data_folder, bpa_csv_file_name)\n",
    "\n",
    "# Fichier de mapping pour transformer le fichier CSV en fichier TTL\n",
    "bpa_mapping_file_name = \"mapping_ban_adresses.json\"\n",
    "bpa_mapping_file = os.path.join(mapping_folder, bpa_mapping_file_name)\n",
    "\n",
    "# Fichier TTL pour structurer les connaissances des voies de Paris\n",
    "bpa_kg_file_name = \"ban_adresses.ttl\"\n",
    "bpa_kg_file = os.path.join(tmp_folder, bpa_kg_file_name)\n",
    "\n",
    "# Fichier TTL final des factoïdes de Ville de Paris\n",
    "bpa_factoids_kg_file_name = \"ban_factoids.ttl\"\n",
    "bpa_factoids_kg_file = os.path.join(tmp_folder, bpa_factoids_kg_file_name)\n",
    "bpa_permanent_kg_file_name = \"ban_permanent.ttl\"\n",
    "bpa_permanent_kg_file = os.path.join(tmp_folder, bpa_permanent_kg_file_name)"
   ]
  },
  {
   "cell_type": "markdown",
   "metadata": {},
   "source": [
    "### OpenStreetMap (OSM)"
   ]
  },
  {
   "cell_type": "markdown",
   "metadata": {},
   "source": [
    "Extraction des données d'OpenStreetMap"
   ]
  },
  {
   "cell_type": "code",
   "execution_count": null,
   "metadata": {},
   "outputs": [],
   "source": [
    "# Nom du répertoire où sont stockés et construits les triplets des factoïdes des données d'OSM\n",
    "osm_repository_name = \"factoids_osm\"\n",
    "\n",
    "# Fichiers CSV pour stocker les résultats des requêtes de la sélection\n",
    "osm_csv_file_name = \"osm_adresses.csv\"\n",
    "osm_csv_file = os.path.join(data_folder, osm_csv_file_name)\n",
    "osm_hn_csv_file_name = \"osm_hn_adresses.csv\"\n",
    "osm_hn_csv_file = os.path.join(data_folder, osm_hn_csv_file_name)\n",
    "\n",
    "# Fichiers de mapping pour transformer les fichier CSV en fichier TTL\n",
    "osm_mapping_file_name = \"mapping_osm_adresses.json\"\n",
    "osm_mapping_file = os.path.join(mapping_folder, osm_mapping_file_name)\n",
    "osm_hn_mapping_file_name = \"mapping_osm_hn_adresses.json\"\n",
    "osm_hn_mapping_file = os.path.join(mapping_folder, osm_hn_mapping_file_name)\n",
    "\n",
    "# Fichiers TTL pour structurer les connaissances venant d'OSM\n",
    "osm_kg_file_name = \"osm_adresses.ttl\"\n",
    "osm_kg_file = os.path.join(tmp_folder, osm_kg_file_name)\n",
    "osm_hn_kg_file_name = \"osm_adresses_hn.ttl\"\n",
    "osm_hn_kg_file = os.path.join(tmp_folder, osm_hn_kg_file_name)\n",
    "\n",
    "# Fichier TTL final des factoïdes de Ville de Paris\n",
    "osm_factoids_kg_file_name = \"osm_factoids.ttl\"\n",
    "osm_factoids_kg_file = os.path.join(tmp_folder, osm_factoids_kg_file_name)\n",
    "osm_permanent_kg_file_name = \"osm_permanent.ttl\"\n",
    "osm_permanent_kg_file = os.path.join(tmp_folder, osm_permanent_kg_file_name)"
   ]
  },
  {
   "cell_type": "markdown",
   "metadata": {},
   "source": [
    "## Processus final et itératif"
   ]
  },
  {
   "cell_type": "markdown",
   "metadata": {},
   "source": [
    "### Création des factoïdes dans des répertoires"
   ]
  },
  {
   "cell_type": "markdown",
   "metadata": {},
   "source": [
    "Pour chaque source, des factoïdes sont créés indépendamment dans des répertoires distincts"
   ]
  },
  {
   "cell_type": "markdown",
   "metadata": {},
   "source": [
    "#### Ville de Paris\n"
   ]
  },
  {
   "cell_type": "code",
   "execution_count": null,
   "metadata": {},
   "outputs": [],
   "source": [
    "# fc.create_factoid_process_ville_paris(graphdb_url, vpt_repository_name, namespace_prefixes, tmp_folder,\n",
    "#                                       ontorefine_url, ontorefine_cmd, ont_file, ontology_named_graph_name, factoids_named_graph_name, permanent_named_graph_name,\n",
    "#                                       vpta_csv_file, vpta_mod_csv_file, vpta_csv_file_delimiter, vpta_csv_file_geom_col_name,\n",
    "#                                       vptc_csv_file, vpta_mapping_file, vptc_mapping_file, vpta_kg_file, vptc_kg_file)"
   ]
  },
  {
   "cell_type": "markdown",
   "metadata": {},
   "source": [
    "####  BAN\n"
   ]
  },
  {
   "cell_type": "code",
   "execution_count": null,
   "metadata": {},
   "outputs": [],
   "source": [
    "# fc.create_factoid_process_ban(graphdb_url, bpa_repository_name, namespace_prefixes, tmp_folder,\n",
    "#                               ontorefine_url, ontorefine_cmd,\n",
    "#                               ont_file, ontology_named_graph_name, factoids_named_graph_name, permanent_named_graph_name,\n",
    "#                               bpa_csv_file, bpa_mapping_file, bpa_kg_file)"
   ]
  },
  {
   "cell_type": "markdown",
   "metadata": {},
   "source": [
    "#### Wikidata\n"
   ]
  },
  {
   "cell_type": "code",
   "execution_count": null,
   "metadata": {},
   "outputs": [],
   "source": [
    "# # fc.get_data_from_wikidata(wdpt_csv_file, wdpa_csv_file, wdpl_csv_file)\n",
    "# fc.create_factoid_process_wikidata(graphdb_url, wd_repository_name, namespace_prefixes, tmp_folder,\n",
    "#                                    ontorefine_url, ontorefine_cmd,\n",
    "#                                    ont_file, ontology_named_graph_name, factoids_named_graph_name, permanent_named_graph_name,\n",
    "#                                    wdpt_csv_file, wdpt_mapping_file, wdpt_kg_file,\n",
    "#                                    wdpa_csv_file, wdpa_mapping_file, wdpa_kg_file,\n",
    "#                                    wdpl_csv_file, wdpl_mapping_file, wdpl_kg_file)"
   ]
  },
  {
   "cell_type": "markdown",
   "metadata": {},
   "source": [
    "#### OSM"
   ]
  },
  {
   "cell_type": "code",
   "execution_count": null,
   "metadata": {},
   "outputs": [],
   "source": [
    "# fc.create_factoid_process_osm(graphdb_url, osm_repository_name, namespace_prefixes, tmp_folder,\n",
    "#                               ontorefine_url, ontorefine_cmd, ont_file, ontology_named_graph_name, factoids_named_graph_name, permanent_named_graph_name,\n",
    "#                               osm_csv_file, osm_mapping_file, osm_kg_file,\n",
    "#                               osm_hn_csv_file, osm_hn_mapping_file, osm_hn_kg_file)"
   ]
  },
  {
   "cell_type": "markdown",
   "metadata": {},
   "source": [
    "### Insertion des factoïdes dans le graphe des faits"
   ]
  },
  {
   "cell_type": "markdown",
   "metadata": {},
   "source": [
    "#### Ville de Paris"
   ]
  },
  {
   "cell_type": "code",
   "execution_count": null,
   "metadata": {},
   "outputs": [],
   "source": [
    "msp.transfert_factoids_to_facts_repository(graphdb_url, facts_repository_name, vpt_repository_name, vpt_factoids_kg_file, vpt_permanent_kg_file, factoids_named_graph_name, facts_named_graph_name, permanent_named_graph_name)\n",
    "msp.import_factoids_in_facts(graphdb_url, facts_repository_name, factoids_named_graph_name, facts_named_graph_name, tmp_named_graph_name, facts_ttl_file, implicit_to_facts_ttl_file, ont_file, ontology_named_graph_name)"
   ]
  },
  {
   "cell_type": "markdown",
   "metadata": {},
   "source": [
    "#### Wikidata"
   ]
  },
  {
   "cell_type": "code",
   "execution_count": null,
   "metadata": {},
   "outputs": [],
   "source": [
    "msp.transfert_factoids_to_facts_repository(graphdb_url, facts_repository_name, wd_repository_name, wd_factoids_kg_file, wd_permanent_kg_file, factoids_named_graph_name, facts_named_graph_name, permanent_named_graph_name)\n",
    "msp.import_factoids_in_facts(graphdb_url, facts_repository_name, factoids_named_graph_name, facts_named_graph_name, tmp_named_graph_name, facts_ttl_file, implicit_to_facts_ttl_file, ont_file, ontology_named_graph_name)"
   ]
  },
  {
   "cell_type": "markdown",
   "metadata": {},
   "source": [
    "#### BAN"
   ]
  },
  {
   "cell_type": "code",
   "execution_count": null,
   "metadata": {},
   "outputs": [],
   "source": [
    "msp.transfert_factoids_to_facts_repository(graphdb_url, facts_repository_name, bpa_repository_name, bpa_factoids_kg_file, bpa_permanent_kg_file, factoids_named_graph_name, facts_named_graph_name, permanent_named_graph_name)\n",
    "msp.import_factoids_in_facts(graphdb_url, facts_repository_name, factoids_named_graph_name, facts_named_graph_name, tmp_named_graph_name, facts_ttl_file, implicit_to_facts_ttl_file, ont_file, ontology_named_graph_name)"
   ]
  },
  {
   "cell_type": "markdown",
   "metadata": {},
   "source": [
    "#### OSM"
   ]
  },
  {
   "cell_type": "code",
   "execution_count": null,
   "metadata": {},
   "outputs": [],
   "source": [
    "msp.transfert_factoids_to_facts_repository(graphdb_url, facts_repository_name, osm_repository_name, osm_factoids_kg_file, osm_permanent_kg_file, factoids_named_graph_name, facts_named_graph_name, permanent_named_graph_name)\n",
    "msp.import_factoids_in_facts(graphdb_url, facts_repository_name, factoids_named_graph_name, facts_named_graph_name, tmp_named_graph_name, facts_ttl_file, implicit_to_facts_ttl_file, ont_file, ontology_named_graph_name)"
   ]
  },
  {
   "cell_type": "markdown",
   "metadata": {},
   "source": [
    "## Intégration de données issues de fichiers Geojson"
   ]
  },
  {
   "cell_type": "markdown",
   "metadata": {},
   "source": [
    "Ces fichiers sont issus de la vectorisation de plans de Paris\n",
    "* cadatre napoléonien révisé de 1847\n",
    "* plan \"Andriveau\" de 1849\n",
    "* plan parcellaire municipal de 1871\n",
    "* plan de l'Atlas Municipal de 1888"
   ]
  },
  {
   "cell_type": "code",
   "execution_count": null,
   "metadata": {},
   "outputs": [],
   "source": [
    "# Nom du répertoire où sont stockés et construits les triplets des factoïdes des données\n",
    "cn_1847_repository_name = \"factoids_1847_cadastre_nap\"\n",
    "\n",
    "cn_1847_geojson_file_name = \"1847_cadastre_nap.geojson\"\n",
    "cn_1847_geojson_file = os.path.join(data_folder, cn_1847_geojson_file_name)\n",
    "cn_1847_kg_file_name = \"cn_1847_kg.ttl\"\n",
    "cn_1847_kg_file = os.path.join(tmp_folder, cn_1847_kg_file_name)\n",
    "\n",
    "# Fichier TTL final des factoïdes du cadatre napoléonien révisé de 1847\n",
    "cn_1847_factoids_kg_file_name = \"cn_1847_factoids.ttl\"\n",
    "cn_1847_factoids_kg_file = os.path.join(tmp_folder, cn_1847_factoids_kg_file_name)\n",
    "cn_1847_permanent_kg_file_name = \"cn_1847_permanent.ttl\"\n",
    "cn_1847_permanent_kg_file = os.path.join(tmp_folder, cn_1847_permanent_kg_file_name)\n",
    "\n",
    "# Nom du répertoire où sont stockés et construits les triplets des factoïdes des données\n",
    "an_1849_repository_name = \"factoids_1849_andriveau\"\n",
    "\n",
    "an_1849_geojson_file_name = \"1849_andriveau.geojson\"\n",
    "an_1849_geojson_file = os.path.join(data_folder, an_1849_geojson_file_name)\n",
    "an_1849_kg_file_name = \"an_1849_kg.ttl\"\n",
    "an_1849_kg_file = os.path.join(tmp_folder, an_1849_kg_file_name)\n",
    "\n",
    "# Fichier TTL final des factoïdes du plan \"Andriveau\" de 1849\n",
    "an_1849_factoids_kg_file_name = \"an_1849_factoids.ttl\"\n",
    "an_1849_factoids_kg_file = os.path.join(tmp_folder, an_1849_factoids_kg_file_name)\n",
    "an_1849_permanent_kg_file_name = \"an_1849_permanent.ttl\"\n",
    "an_1849_permanent_kg_file = os.path.join(tmp_folder, an_1849_permanent_kg_file_name)\n",
    "\n",
    "# Nom du répertoire où sont stockés et construits les triplets des factoïdes des données\n",
    "pm_1871_repository_name = \"factoids_1871_plan_parcellaire_mun\"\n",
    "\n",
    "pm_1871_geojson_file_name = \"1871_plan_parcellaire_mun.geojson\"\n",
    "pm_1871_geojson_file = os.path.join(data_folder, pm_1871_geojson_file_name)\n",
    "pm_1871_kg_file_name = \"pm_1871_kg.ttl\"\n",
    "pm_1871_kg_file = os.path.join(tmp_folder, pm_1871_kg_file_name)\n",
    "\n",
    "# Fichier TTL final des factoïdes du plan parcellaire municipal de 1871\n",
    "pm_1871_factoids_kg_file_name = \"pm_1871_factoids.ttl\"\n",
    "pm_1871_factoids_kg_file = os.path.join(tmp_folder, pm_1871_factoids_kg_file_name)\n",
    "pm_1871_permanent_kg_file_name = \"pm_1871_permanent.ttl\"\n",
    "pm_1871_permanent_kg_file = os.path.join(tmp_folder, pm_1871_permanent_kg_file_name)\n",
    "\n",
    "# Nom du répertoire où sont stockés et construits les triplets des factoïdes des données\n",
    "am_1888_repository_name = \"factoids_1888_atlas_municipal\"\n",
    "\n",
    "am_1888_geojson_file_name = \"1888_atlas_municipal.geojson\"\n",
    "am_1888_geojson_file = os.path.join(data_folder, am_1888_geojson_file_name)\n",
    "am_1888_kg_file_name = \"am_1888_kg.ttl\"\n",
    "am_1888_kg_file = os.path.join(tmp_folder, am_1888_kg_file_name)\n",
    "\n",
    "# Fichier TTL final des factoïdes du plan de l'Atlas Municipal de 1888\n",
    "am_1888_factoids_kg_file_name = \"am_1888_factoids.ttl\"\n",
    "am_1888_factoids_kg_file = os.path.join(tmp_folder, am_1888_factoids_kg_file_name)\n",
    "am_1888_permanent_kg_file_name = \"am_1888_permanent.ttl\"\n",
    "am_1888_permanent_kg_file = os.path.join(tmp_folder, am_1888_permanent_kg_file_name)"
   ]
  },
  {
   "cell_type": "code",
   "execution_count": null,
   "metadata": {},
   "outputs": [],
   "source": [
    "def create_landmark_from_geojson_feature(feature:dict, landmark_type:str, g:Graph, namespace_prefixes:dict, srs_uri:URIRef=None, lang:str=None):\n",
    "    label = feature.get(\"properties\").get(\"name\")\n",
    "\n",
    "    if srs_uri is None:\n",
    "        geometry = gp.from_geojson_to_wkt(feature.get(\"geometry\"))\n",
    "    else:\n",
    "        geometry = srs_uri.n3() + \" \" + gp.from_geojson_to_wkt(feature.get(\"geometry\"))\n",
    "\n",
    "    geometry_lit = Literal(geometry, datatype=namespace_prefixes[\"geo\"][\"wktLiteral\"])\n",
    "    landmark_uri = gr.generate_uri(namespace_prefixes[\"factoids\"], \"LM\")\n",
    "\n",
    "    gr.create_landmark(landmark_uri, label, lang, landmark_type, g, namespace_prefixes[\"addr\"], namespace_prefixes[\"ltype\"])\n",
    "    g.add((landmark_uri, namespace_prefixes[\"geo\"][\"asWKT\"], geometry_lit))\n",
    "\n",
    "    if label is not None:\n",
    "        alt_label = sp.remove_abbreviations_in_french_street_name(label)\n",
    "        alt_label_lit = Literal(alt_label, lang=lang)\n",
    "        g.add((landmark_uri, namespace_prefixes[\"skos\"][\"altLabel\"], alt_label_lit))\n",
    "    \n",
    "    # landmark_uri = gr.generate_uri(namespace_prefixes[\"factoids\"], \"LM\")\n",
    "    # name_attribute_uri = gr.generate_uri(namespace_prefixes[\"factoids\"], \"ATTR\")\n",
    "    # geom_attribute_uri = gr.generate_uri(namespace_prefixes[\"factoids\"], \"ATTR\")\n",
    "    \n",
    "    # gr.create_landmark_with_changes(landmark_uri, name_version, lang, landmark_type, g,\n",
    "    #                              namespace_prefixes[\"addr\"], namespace_prefixes[\"factoids\"], namespace_prefixes[\"ltype\"], namespace_prefixes[\"ctype\"])\n",
    "    # gr.create_landmark_attribute(name_attribute_uri, landmark_uri, \"Name\", g, namespace_prefixes[\"addr\"], namespace_prefixes[\"atype\"])\n",
    "    # gr.create_landmark_attribute(geom_attribute_uri, landmark_uri, \"Geometry\", g, namespace_prefixes[\"addr\"], namespace_prefixes[\"atype\"])\n",
    "    # gr.create_attribute_version(name_attribute_uri, name_version, g, namespace_prefixes[\"addr\"], namespace_prefixes[\"factoids\"], namespace_prefixes[\"ctype\"], lang=lang)\n",
    "    # gr.create_attribute_version(geom_attribute_uri, geom_version, g, namespace_prefixes[\"addr\"], namespace_prefixes[\"factoids\"], namespace_prefixes[\"ctype\"], datatype=geom_datatype)\n",
    "\n",
    "def create_landmarks_from_geojson_feature_collection(feature_collection:dict, landmark_type:str, g:Graph, namespace_prefixes:dict, lang:str=None):\n",
    "    crs_dict = {\n",
    "        \"urn:ogc:def:crs:OGC:1.3:CRS84\" : URIRef(\"http://www.opengis.net/def/crs/EPSG/0/4326\"), \n",
    "        \"urn:ogc:def:crs:EPSG::2154\" :  URIRef(\"http://www.opengis.net/def/crs/EPSG/0/2154\"), \n",
    "    }\n",
    "\n",
    "    features = feature_collection.get(\"features\")\n",
    "    geojson_crs = feature_collection.get(\"crs\")\n",
    "    srs_iri = get_srs_iri_from_geojson_feature_collection(geojson_crs, crs_dict)\n",
    "    \n",
    "    for feature in features:\n",
    "        create_landmark_from_geojson_feature(feature, landmark_type, g, namespace_prefixes, srs_iri, lang=lang)\n",
    "\n",
    "def get_srs_iri_from_geojson_feature_collection(geojson_crs, crs_dict):  \n",
    "    try:\n",
    "        crs_name = geojson_crs.get(\"properties\").get(\"name\")\n",
    "        srs_iri = crs_dict.get(crs_name)\n",
    "        return srs_iri\n",
    "    except:\n",
    "        return None\n",
    "    \n",
    "def create_landmark_graph_from_geojson_file(geojson_file:str,out_kg_file, landmark_type:str,namespace_prefixes:dict,lang:str=None):\n",
    "    feature_collection = fm.read_json_file(geojson_file)\n",
    "    g = Graph()\n",
    "    create_landmarks_from_geojson_feature_collection(feature_collection, landmark_type, g, namespace_prefixes, lang)\n",
    "    g.serialize(out_kg_file)"
   ]
  },
  {
   "cell_type": "code",
   "execution_count": null,
   "metadata": {},
   "outputs": [],
   "source": [
    "def create_factoid_process_geojson(graphdb_url, repository_name, namespace_prefixes, tmp_folder,\n",
    "                                   ont_file, ontology_named_graph_name,\n",
    "                                   factoids_named_graph_name, permanent_named_graph_name,\n",
    "                                   geojson_file, kg_file, landmark_type, lang:str=None):\n",
    "\n",
    "    \"\"\"\n",
    "    Fonction pour faire l'ensemble des processus relatifs à la création des factoïdes pour les données issues d'un fichier Geojson\n",
    "    \"\"\"\n",
    "\n",
    "    # Création d'un répertoire des factoïdes pour les données\n",
    "    msp.create_factoid_repository(graphdb_url, repository_name, namespace_prefixes, tmp_folder, ont_file, ontology_named_graph_name, disable_same_as=False, clear_if_exists=True)\n",
    "\n",
    "    # Récupération des URI des graphes nommés\n",
    "    factoids_named_graph_uri = URIRef(gd.get_named_graph_uri_from_name(graphdb_url, repository_name, factoids_named_graph_name))\n",
    "    permanent_named_graph_uri = URIRef(gd.get_named_graph_uri_from_name(graphdb_url, repository_name, permanent_named_graph_name))\n",
    "\n",
    "    # À partir du fichier geojson décrivant des repères (qui sont tous du même type), convertir en un graphe de connaissance selon l'ontologie\n",
    "    create_landmark_graph_from_geojson_file(geojson_file, kg_file, landmark_type, namespace_prefixes, lang)\n",
    "\n",
    "    # Importer le fichier `kg_file` qui a été créé lors de la ligne précédente dans le répertoire `repository_name`, dans le graphe nommé `factoids_named_graph_name` \n",
    "    gd.import_ttl_file_in_graphdb(graphdb_url, repository_name, kg_file, factoids_named_graph_name)\n",
    "\n",
    "    # # Suppression des instants qui n'ont aucun timeStamp (instants sans date)\n",
    "    # msp.remove_time_instant_without_timestamp(graphdb_url, repository_name)\n",
    "\n",
    "    # Nettoyer les données en fusionnant les doublons après l'import dans GraphDB\n",
    "    clean_geojson_graph(graphdb_url, repository_name, factoids_named_graph_uri, permanent_named_graph_uri)\n",
    "\n",
    "    # Ajout d'éléments manquants\n",
    "    msp.add_missing_elements_for_landmarks(graphdb_url, repository_name, factoids_named_graph_uri)\n",
    "\n",
    "    # # L'URI ci-dessous définit la source liée à la BAN\n",
    "    # ban_factoids_uri = URIRef(\"http://rdf.geohistoricaldata.org/id/address/facts/Source_BAN\")\n",
    "    # create_source_ban(graphdb_url, repository_name, ban_factoids_uri, permanent_named_graph_uri)\n",
    "\n",
    "    # Ajout de labels normalisés\n",
    "    msp.add_normalized_label_for_landmarks(graphdb_url, repository_name, factoids_named_graph_uri)\n",
    "\n",
    "    # Transfert de triplets non modifiables vers le graphe nommé permanent\n",
    "    msp.transfert_immutable_triples(graphdb_url, repository_name, factoids_named_graph_uri, permanent_named_graph_uri)\n",
    "    \n",
    "    # # Ajout de liens entre les ressources de type repère et la source\n",
    "    # msp.add_factoids_resources_links(graphdb_url, repository_name, factoids_named_graph_uri)\n",
    "\n",
    "def clean_geojson_graph(graphdb_url, repository_name, factoids_named_graph_uri, permanent_named_graph_uri):\n",
    "    prefixes = \"\"\"\n",
    "    PREFIX owl: <http://www.w3.org/2002/07/owl#>\n",
    "    PREFIX skos: <http://www.w3.org/2004/02/skos/core#>\n",
    "    PREFIX rdfs: <http://www.w3.org/2000/01/rdf-schema#>\n",
    "    PREFIX rico: <https://www.ica.org/standards/RiC/ontology#>\n",
    "    PREFIX geofla: <http://data.ign.fr/def/geofla#>\n",
    "    PREFIX addr: <http://rdf.geohistoricaldata.org/def/address#>\n",
    "    PREFIX ltype: <http://rdf.geohistoricaldata.org/id/codes/address/landmarkType/>\n",
    "    \"\"\"\n",
    "\n",
    "    # Suppresion des numéros d'immeubles qui appartiennent à aucune voie\n",
    "    query1 = prefixes + f\"\"\"\n",
    "    DELETE {{\n",
    "            ?hn ?p ?o.\n",
    "            ?s ?p ?hn.\n",
    "        }}\n",
    "    WHERE {{\n",
    "        ?hn a addr:Landmark; addr:isLandmarkType ltype:HouseNumber.\n",
    "        MINUS {{?lr a addr:LandmarkRelation; addr:locatum ?hn; addr:relatum [a addr:Landmark; addr:isLandmarkType ?thoroughfare] }}\n",
    "        {{?hn ?p ?o.}}UNION{{?s ?p ?hn.}}\n",
    "    }}\n",
    "    \"\"\"\n",
    "    \n",
    "    queries = [query1]\n",
    "    for query in queries:\n",
    "        gd.update_query(query, graphdb_url, repository_name)"
   ]
  },
  {
   "cell_type": "code",
   "execution_count": null,
   "metadata": {},
   "outputs": [],
   "source": [
    "lang = \"fr\"\n",
    "landmark_type = \"Thoroughfare\"\n",
    "\n",
    "# create_factoid_process_geojson(graphdb_url, cn_1847_repository_name, namespace_prefixes, tmp_folder, ont_file, ontology_named_graph_name,\n",
    "#                                factoids_named_graph_name, permanent_named_graph_name, cn_1847_geojson_file, cn_1847_kg_file, landmark_type, lang)\n",
    "# create_factoid_process_geojson(graphdb_url, an_1849_repository_name, namespace_prefixes, tmp_folder, ont_file, ontology_named_graph_name,\n",
    "#                                factoids_named_graph_name, permanent_named_graph_name, an_1849_geojson_file, an_1849_kg_file, landmark_type, lang)\n",
    "# create_factoid_process_geojson(graphdb_url, pm_1871_repository_name, namespace_prefixes, tmp_folder, ont_file, ontology_named_graph_name,\n",
    "#                                factoids_named_graph_name, permanent_named_graph_name, pm_1871_geojson_file, pm_1871_kg_file, landmark_type, lang)\n",
    "# create_factoid_process_geojson(graphdb_url, am_1888_repository_name, namespace_prefixes, tmp_folder, ont_file, ontology_named_graph_name,\n",
    "#                                factoids_named_graph_name, permanent_named_graph_name, am_1888_geojson_file, am_1888_kg_file, landmark_type, lang)\n",
    "\n",
    "msp.transfert_factoids_to_facts_repository(graphdb_url, facts_repository_name, cn_1847_repository_name,\n",
    "                                       cn_1847_factoids_kg_file, cn_1847_permanent_kg_file, factoids_named_graph_name, facts_named_graph_name, permanent_named_graph_name)\n",
    "msp.import_factoids_in_facts(graphdb_url, facts_repository_name, factoids_named_graph_name, facts_named_graph_name, tmp_named_graph_name, facts_ttl_file, implicit_to_facts_ttl_file, ont_file, ontology_named_graph_name)\n",
    "\n",
    "msp.transfert_factoids_to_facts_repository(graphdb_url, facts_repository_name, an_1849_repository_name,\n",
    "                                       an_1849_factoids_kg_file, an_1849_permanent_kg_file, factoids_named_graph_name, facts_named_graph_name, permanent_named_graph_name)\n",
    "msp.import_factoids_in_facts(graphdb_url, facts_repository_name, factoids_named_graph_name, facts_named_graph_name, tmp_named_graph_name, facts_ttl_file, implicit_to_facts_ttl_file, ont_file, ontology_named_graph_name)\n",
    "\n",
    "msp.transfert_factoids_to_facts_repository(graphdb_url, facts_repository_name, pm_1871_repository_name,\n",
    "                                       pm_1871_factoids_kg_file, pm_1871_permanent_kg_file, factoids_named_graph_name, facts_named_graph_name, permanent_named_graph_name)\n",
    "msp.import_factoids_in_facts(graphdb_url, facts_repository_name, factoids_named_graph_name, facts_named_graph_name, tmp_named_graph_name, facts_ttl_file, implicit_to_facts_ttl_file, ont_file, ontology_named_graph_name)\n",
    "\n",
    "msp.transfert_factoids_to_facts_repository(graphdb_url, facts_repository_name, am_1888_repository_name,\n",
    "                                       am_1888_factoids_kg_file, am_1888_permanent_kg_file, factoids_named_graph_name, facts_named_graph_name, permanent_named_graph_name)\n",
    "msp.import_factoids_in_facts(graphdb_url, facts_repository_name, factoids_named_graph_name, facts_named_graph_name, tmp_named_graph_name, facts_ttl_file, implicit_to_facts_ttl_file, ont_file, ontology_named_graph_name)\n"
   ]
  },
  {
   "cell_type": "code",
   "execution_count": null,
   "metadata": {},
   "outputs": [],
   "source": [
    "import json\n",
    "import geojson\n",
    "from shapely.geometry import shape\n",
    "from uuid import uuid4\n",
    "feature_collection = fm.read_json_file(pm_1871_geojson_file)\n",
    "\n",
    "def merge_geojson_features_from_one_property(feature_collection, property_name:str):\n",
    "    \"\"\"\n",
    "    Merge all features of a geojson object which have the same property (name for instance)\n",
    "    \"\"\"\n",
    "\n",
    "    new_geojson_features = []\n",
    "    features_to_merge = {}\n",
    "    \n",
    "    for feat in feature_collection.get(\"features\"):\n",
    "        # Get property value for the feature\n",
    "        property_value = feat.get(\"properties\").get(property_name)\n",
    "\n",
    "        # If the value is blank or does not exist, generate an uuid\n",
    "        if property_value in [None, \"\"]:\n",
    "            empty_value = True\n",
    "            property_value = uuid4().hex\n",
    "            feature_template = {\"type\":\"Feature\", \"properties\":{property_name:\"\"}}\n",
    "        else:\n",
    "            empty_value = False\n",
    "            feature_template = {\"type\":\"Feature\", \"properties\":{property_name:property_value}}\n",
    "\n",
    "        features_to_merge_key = features_to_merge.get(property_value)\n",
    "\n",
    "        if features_to_merge_key is None:\n",
    "            features_to_merge[property_value] = [feature_template, [feat]]\n",
    "        else:\n",
    "            features_to_merge[features_to_merge_key][1].append(feat)\n",
    "\n",
    "        print(features_to_merge)\n",
    "    for elem in features_to_merge.values():\n",
    "        template, feature = elem\n",
    "\n",
    "        geom_collection_list = []\n",
    "        for portion in feature:\n",
    "            geom_collection_list.append(portion.get(\"geometry\"))\n",
    "    \n",
    "        geom_collection = {\"type\": \"GeometryCollection\", \"geometries\": geom_collection_list}\n",
    "        template[\"geometry\"] = geom_collection\n",
    "        new_geojson_features.append(template)\n",
    "\n",
    "    new_geojson = {\"type\":\"FeatureCollection\", \"features\":new_geojson_features}\n",
    "\n",
    "    return new_geojson\n",
    "\n",
    "a = merge_geojson_features_from_one_property(feature_collection, \"name\")\n",
    "print(a)"
   ]
  }
 ],
 "metadata": {
  "kernelspec": {
   "display_name": "Python 3",
   "language": "python",
   "name": "python3"
  },
  "language_info": {
   "codemirror_mode": {
    "name": "ipython",
    "version": 3
   },
   "file_extension": ".py",
   "mimetype": "text/x-python",
   "name": "python",
   "nbconvert_exporter": "python",
   "pygments_lexer": "ipython3",
   "version": "3.10.12"
  },
  "orig_nbformat": 4
 },
 "nbformat": 4,
 "nbformat_minor": 2
}
