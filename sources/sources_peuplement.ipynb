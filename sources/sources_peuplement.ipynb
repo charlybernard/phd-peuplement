{
 "cells": [
  {
   "cell_type": "markdown",
   "metadata": {},
   "source": [
    "# Variables"
   ]
  },
  {
   "cell_type": "markdown",
   "metadata": {},
   "source": [
    "## Import des librairies"
   ]
  },
  {
   "cell_type": "code",
   "execution_count": null,
   "metadata": {},
   "outputs": [],
   "source": [
    "import os\n",
    "import sys\n",
    "from rdflib import Graph, Namespace, URIRef, Literal, BNode, XSD"
   ]
  },
  {
   "cell_type": "markdown",
   "metadata": {},
   "source": [
    "## Définition des variables globales"
   ]
  },
  {
   "cell_type": "code",
   "execution_count": null,
   "metadata": {},
   "outputs": [],
   "source": [
    "# Fichiers existants\n",
    "ont_file_name = \"ontology.ttl\" # Fusion des deux fichiers précédents\n",
    "ruleset_file_name = \"rules.pie\"\n",
    "\n",
    "# Fichiers créés durant le processus\n",
    "export_file_name = \"addresses-temp.ttl\"\n",
    "out_file_name = \"addresses.ttl\"\n",
    "local_config_file_name = \"config_repo.ttl\"\n",
    "facts_ttl_file_name = \"facts_data.ttl\"\n",
    "\n",
    "# Dossiers existants\n",
    "data_folder_name = \"data\"\n",
    "mapping_folder_name = \"mappings\"\n",
    "\n",
    "# Dossiers créés durant le traitement\n",
    "tmp_folder_name = \"tmp_files\"\n",
    "\n",
    "# Nom du répertoire GraphDB\n",
    "repository_name = \"addresses_from_factoids\"\n",
    "\n",
    "# Définition des graphes nommés\n",
    "ontology_named_graph_name = \"ontology\"\n",
    "facts_graph_name = \"facts\"\n",
    "factoids_graph_name = \"factoids\"\n",
    "\n",
    "# URIs pour accéder aux logiciels GraphDB et Ontotext-Refine\n",
    "graphdb_url = \"http://localhost:7200\"\n",
    "ontorefine_url = \"http://localhost:7333\"\n",
    "\n",
    "# Commande pour lancer `Ontorefine`, dépend de l'OS et d'où il se situe\n",
    "# ontorefine_cmd = \"ontorefine-cli\" # Nom sans chemin\n",
    "ontorefine_cmd = \"/opt/ontotext-refine/lib/app/bin/ontorefine-cli\" #Ubuntu\n",
    "# ontorefine_cmd = \"/Applications/Ontotext\\\\ Refine.app/Contents/app/bin/ontorefine-cli\" #MacOS\n",
    "\n",
    "py_code_folder_path = \"../code\""
   ]
  },
  {
   "cell_type": "markdown",
   "metadata": {},
   "source": [
    "## Traitement des variables globales\n",
    "\n",
    "* Obtention des chemins absolus des fichiers à partir des chemins relatifs donnés dans la section précédente\n",
    "* Création d'un dossier temporaire s'il n'existe pas encore pour stocker des fichiers à vocation d'être supprimés"
   ]
  },
  {
   "cell_type": "code",
   "execution_count": null,
   "metadata": {},
   "outputs": [],
   "source": [
    "tmp_folder = os.path.abspath(tmp_folder_name)\n",
    "mapping_folder = os.path.abspath(mapping_folder_name)\n",
    "data_folder = os.path.abspath(data_folder_name)\n",
    "\n",
    "python_code_folder = os.path.abspath(py_code_folder_path)\n",
    "\n",
    "local_config_file = os.path.join(tmp_folder, local_config_file_name)\n",
    "ont_file = os.path.abspath(ont_file_name)\n",
    "ruleset_file = os.path.abspath(ruleset_file_name)\n",
    "facts_ttl_file = os.path.join(tmp_folder, facts_ttl_file_name)"
   ]
  },
  {
   "cell_type": "markdown",
   "metadata": {},
   "source": [
    "## Import des modules situés dans le dossier `code`"
   ]
  },
  {
   "cell_type": "code",
   "execution_count": null,
   "metadata": {},
   "outputs": [],
   "source": [
    "# Appel du dossier `code` comprend les codes python\n",
    "sys.path.insert(1, python_code_folder)\n",
    "\n",
    "import filemanagement as fm\n",
    "import wikidata as wd\n",
    "import ontorefine as otr\n",
    "import graphdb as gd\n",
    "import graphrdf as gr\n",
    "import strprocessing as sp"
   ]
  },
  {
   "cell_type": "markdown",
   "metadata": {},
   "source": [
    "## Création de dossiers s'ils n'existent pas"
   ]
  },
  {
   "cell_type": "code",
   "execution_count": null,
   "metadata": {},
   "outputs": [],
   "source": [
    "fm.create_folder_if_not_exists(tmp_folder)"
   ]
  },
  {
   "cell_type": "markdown",
   "metadata": {},
   "source": [
    "## Gestion du répertoire local"
   ]
  },
  {
   "cell_type": "markdown",
   "metadata": {},
   "source": [
    "### Création du répertoire local dans GraphDB\n",
    "Pour que la création marche, il faut que GraphDB soit lancé et donc que l'URI donné par `graphdb_url` fonctionne. Si le répertoire existe déjà, rien n'est fait"
   ]
  },
  {
   "cell_type": "code",
   "execution_count": null,
   "metadata": {},
   "outputs": [],
   "source": [
    "gd.remove_repository(graphdb_url, repository_name)\n",
    "gd.create_config_local_repository_file(local_config_file, repository_name, ruleset_file=ruleset_file, disable_same_as=False)\n",
    "gd.create_repository_from_config_file(graphdb_url, local_config_file)"
   ]
  },
  {
   "cell_type": "markdown",
   "metadata": {},
   "source": [
    "### Vidage du répertoire local\n",
    "Le répertoire dont l'id est `repository_name` pour y stocker les données récupérées, cela est utile si le répertoire existait déjà."
   ]
  },
  {
   "cell_type": "code",
   "execution_count": null,
   "metadata": {},
   "outputs": [],
   "source": [
    "gd.clear_repository(graphdb_url, repository_name)"
   ]
  },
  {
   "cell_type": "markdown",
   "metadata": {},
   "source": [
    "## Import de l'ontologie"
   ]
  },
  {
   "cell_type": "code",
   "execution_count": null,
   "metadata": {},
   "outputs": [],
   "source": [
    "gd.import_ttl_file_in_graphdb(graphdb_url, repository_name, ont_file, ontology_named_graph_name)"
   ]
  },
  {
   "cell_type": "markdown",
   "metadata": {},
   "source": [
    "## Définition de variables liées aux sources"
   ]
  },
  {
   "cell_type": "markdown",
   "metadata": {},
   "source": [
    "### Voies de Paris via Wikidata"
   ]
  },
  {
   "cell_type": "markdown",
   "metadata": {},
   "source": [
    "`wdpt` pour \"wikidata paris thoroughfares\"\n"
   ]
  },
  {
   "cell_type": "code",
   "execution_count": null,
   "metadata": {},
   "outputs": [],
   "source": [
    "# Fichier CSV pour stocker le résultat de la requête de la sélection\n",
    "wdpt_csv_file_name = \"wd_paris_thoroughfares.csv\"\n",
    "wdpt_csv_file = os.path.join(tmp_folder, wdpt_csv_file_name)\n",
    "\n",
    "# Fichier de mapping pour transformer le fichier CSV en fichier TTL\n",
    "wdpt_mapping_file_name = \"mapping_voies_wikidata.json\"\n",
    "wdpt_mapping_file = os.path.join(mapping_folder, wdpt_mapping_file_name)\n",
    "\n",
    "# Fichier TTL pour structurer les connaissances des voies de Paris\n",
    "wdpt_kg_file_name = \"wd_paris_thoroughfares.ttl\"\n",
    "wdpt_kg_file = os.path.join(tmp_folder, wdpt_kg_file_name)"
   ]
  },
  {
   "cell_type": "markdown",
   "metadata": {},
   "source": [
    "### Nomenclature des voies de la ville de Paris"
   ]
  },
  {
   "cell_type": "markdown",
   "metadata": {},
   "source": [
    "Les données de la ville de Paris sont composées de deux jeux :\n",
    "* [dénominations des emprises des voies actuelles](https://opendata.paris.fr/explore/dataset/denominations-emprises-voies-actuelles)\n",
    "* [dénominations caduques des voies](https://opendata.paris.fr/explore/dataset/denominations-des-voies-caduques)\n",
    "\n",
    "Les voies actuelles ont une emprise géométrique contrairement aux anciennes voies.\n",
    "\n",
    "`vpt` pour \"ville paris thoroughfares\""
   ]
  },
  {
   "cell_type": "code",
   "execution_count": null,
   "metadata": {},
   "outputs": [],
   "source": [
    "# Fichier CSV pour stocker le résultat de la requête de la sélection\n",
    "vpta_csv_file_name = \"denominations-emprises-voies-actuelles.csv\"\n",
    "vpta_csv_file = os.path.join(data_folder, vpta_csv_file_name)\n",
    "vptc_csv_file_name = \"denominations-des-voies-caduques.csv\"\n",
    "vptc_csv_file = os.path.join(data_folder, vptc_csv_file_name)\n",
    "\n",
    "# Fichier de mapping pour transformer le fichier CSV en fichier TTL\n",
    "vpta_mapping_file_name = \"mapping_voies_paris_actuelles.json\"\n",
    "vpta_mapping_file = os.path.join(mapping_folder, vpta_mapping_file_name)\n",
    "vptc_mapping_file_name = \"mapping_voies_paris_caduques.json\"\n",
    "vptc_mapping_file = os.path.join(mapping_folder, vptc_mapping_file_name)\n",
    "\n",
    "# Fichier TTL pour structurer les connaissances des voies de Paris\n",
    "vpta_kg_file_name = \"voies_paris_actuelles.ttl\"\n",
    "vpta_kg_file = os.path.join(tmp_folder, vpta_kg_file_name)\n",
    "vptc_kg_file_name = \"voies_paris_caduques.ttl\"\n",
    "vptc_kg_file = os.path.join(tmp_folder, vptc_kg_file_name)"
   ]
  },
  {
   "cell_type": "markdown",
   "metadata": {},
   "source": [
    "### Base Adresse Nationale (BAN)"
   ]
  },
  {
   "cell_type": "markdown",
   "metadata": {},
   "source": [
    "Données de la [Base Adresse Nationale (BAN)](https://adresse.data.gouv.fr/base-adresse-nationale), accessible [ici](https://adresse.data.gouv.fr/data/ban/adresses/latest/csv)\n",
    "\n",
    "`bpa` pour \"BAN paris addresses\""
   ]
  },
  {
   "cell_type": "code",
   "execution_count": null,
   "metadata": {},
   "outputs": [],
   "source": [
    "# Fichier CSV pour stocker le résultat de la requête de la sélection\n",
    "bpa_csv_file_name = \"ban_adresses.csv\"\n",
    "bpa_csv_file = os.path.join(data_folder, bpa_csv_file_name)\n",
    "\n",
    "# Fichier de mapping pour transformer le fichier CSV en fichier TTL\n",
    "bpa_mapping_file_name = \"mapping_ban_adresses.json\"\n",
    "bpa_mapping_file = os.path.join(mapping_folder, bpa_mapping_file_name)\n",
    "\n",
    "# Fichier TTL pour structurer les connaissances des voies de Paris\n",
    "bpa_kg_file_name = \"ban_adresses.ttl\"\n",
    "bpa_kg_file = os.path.join(tmp_folder, bpa_kg_file_name)"
   ]
  },
  {
   "cell_type": "markdown",
   "metadata": {},
   "source": [
    "## Fonctions pour des traitements de construction des graphes de factoïdes"
   ]
  },
  {
   "cell_type": "markdown",
   "metadata": {},
   "source": [
    "### Ajout de labels normalisés"
   ]
  },
  {
   "cell_type": "markdown",
   "metadata": {},
   "source": [
    "* Étant donné les variations de labels qui sont similaires, la normalisation consiste ici à :\n",
    "    * la mise en minuscule des caractères\n",
    "    * suppression des signes diacritiques (accents, cédille...)\n",
    "    * suppression de termes \"inutiles\" : déterminants, prépositions...\n",
    "* Ces labels normalisés sont liés aux repères via `skos:hiddenLabel`"
   ]
  },
  {
   "cell_type": "code",
   "execution_count": null,
   "metadata": {},
   "outputs": [],
   "source": [
    "def add_normalized_label_for_landmarks(graphdb_url, repository_name, factoids_graph_uri:URIRef):\n",
    "    \"\"\"\n",
    "    Ajout de labels normalisés pour les repères via `skos:hiddenLabel` dans le graphe nommé temporaire `tmp_graph_uri`\n",
    "    \"\"\"\n",
    "\n",
    "    label_var = \"?label\"\n",
    "    norm_label_var = \"?normLabel\"\n",
    "    norm_label_function = sp.get_lower_simplified_french_street_name_function(label_var)\n",
    "\n",
    "    prefixes = \"\"\"\n",
    "    PREFIX addr: <http://rdf.geohistoricaldata.org/def/address#>\n",
    "    PREFIX skos: <http://www.w3.org/2004/02/skos/core#>\n",
    "    PREFIX ltype: <http://rdf.geohistoricaldata.org/id/codes/address/landmarkType/>\n",
    "    PREFIX atype: <http://rdf.geohistoricaldata.org/id/codes/address/attributeType/>\n",
    "    \"\"\"\n",
    "\n",
    "    query = prefixes + f\"\"\"\n",
    "    INSERT {{\n",
    "        GRAPH ?g {{\n",
    "            ?landmark skos:hiddenLabel {norm_label_var}.\n",
    "        }}\n",
    "    }}\n",
    "    WHERE {{\n",
    "        BIND({factoids_graph_uri.n3()} AS ?g)\n",
    "        GRAPH ?g {{\n",
    "            ?landmark a addr:Landmark; addr:hasAttribute [a addr:Attribute; addr:isAttributeType atype:NameAttribute; addr:version [a addr:AttributeVersion; addr:versionValue {label_var}]].\n",
    "            BIND({norm_label_function} AS {norm_label_var})\n",
    "        }}\n",
    "    }}\n",
    "    \"\"\"\n",
    "\n",
    "    gd.update_query(query, graphdb_url, repository_name)"
   ]
  },
  {
   "cell_type": "markdown",
   "metadata": {},
   "source": [
    "### Suppression des instants temporels sans timeStamp"
   ]
  },
  {
   "cell_type": "markdown",
   "metadata": {},
   "source": [
    "Il existe des resources de classe `addr:TimeInstant` qui ont un calendrier et une granularité dans avoir de time stamp. Il faut supprimer ces ressources qui n'ont aucune utilité."
   ]
  },
  {
   "cell_type": "code",
   "execution_count": null,
   "metadata": {},
   "outputs": [],
   "source": [
    "def remove_time_instant_without_timestamp(graphdb_url, repository_name, factoids_graph_uri:URIRef):\n",
    "    query = f\"\"\"\n",
    "    PREFIX addr: <http://rdf.geohistoricaldata.org/def/address#> \n",
    "    DELETE {{\n",
    "        ?timeInstant ?p ?o.\n",
    "        ?s ?p ?timeInstant.\n",
    "    }}WHERE {{\n",
    "        GRAPH {factoids_graph_uri.n3()} {{\n",
    "            ?timeInstant a addr:TimeInstant.\n",
    "            MINUS {{?timeInstant addr:timeStamp ?timeStamp}}\n",
    "            {{?timeInstant ?p ?o}}UNION{{?s ?p ?timeInstant}}\n",
    "        }}\n",
    "    }}\n",
    "    \"\"\"\n",
    "\n",
    "    gd.update_query(query, graphdb_url, repository_name)"
   ]
  },
  {
   "cell_type": "markdown",
   "metadata": {},
   "source": [
    "### Ajout d'un lien entre les repères et les sources"
   ]
  },
  {
   "cell_type": "markdown",
   "metadata": {},
   "source": [
    "Un factoïde est la représentation d'une information, d'un fait dans une source. Ici, on crée des repères qui ont une identité définie par la source. Ces derniers doivent avoir un lien avec la source afin d'attester la provenance de son existence.\n",
    "\n",
    "Pour cela, on sélectionne l'ensemble des repères (`?landmark`) situés dans le graphe nommé défini par `factoids_graph_uri` afin de créer le triplet `<?landmark rico:isOrWasDescribedBy ?sourceUri>` où `?sourceUri` est l'URI décrivant la source."
   ]
  },
  {
   "cell_type": "code",
   "execution_count": null,
   "metadata": {},
   "outputs": [],
   "source": [
    "def add_factoids_resources_links(graphdb_url, repository_name, factoids_refactoids_uri:URIRef, factoids_graph_uri:URIRef):\n",
    "    query = f\"\"\"\n",
    "    PREFIX addr: <http://rdf.geohistoricaldata.org/def/address#> \n",
    "    PREFIX facts: <http://rdf.geohistoricaldata.org/id/address/facts/>\n",
    "    PREFIX rico: <https://www.ica.org/standards/RiC/ontology#>\n",
    "\n",
    "    INSERT {{\n",
    "        GRAPH ?g {{\n",
    "            ?elem rico:isOrWasDescribedBy {factoids_refactoids_uri.n3()}.\n",
    "        }}\n",
    "    }}WHERE {{\n",
    "        {{?type rdfs:subClassOf* addr:Landmark}} UNION\n",
    "        {{?type rdfs:subClassOf* addr:LandmarkRelation}} UNION\n",
    "        {{?type rdfs:subClassOf* addr:AttributeVersion}} UNION\n",
    "        {{?type rdfs:subClassOf* addr:Address}} UNION\n",
    "        {{?type rdfs:subClassOf* addr:Change}} UNION\n",
    "        {{?type rdfs:subClassOf* addr:Event}} UNION\n",
    "        {{?type rdfs:subClassOf* addr:TemporalEntity}}\n",
    "\n",
    "        BIND({factoids_graph_uri.n3()} AS ?g)\n",
    "        GRAPH ?g {{\n",
    "            ?elem a ?type.\n",
    "        }}\n",
    "    }}\n",
    "    \"\"\"\n",
    "\n",
    "    gd.update_query(query, graphdb_url, repository_name)"
   ]
  },
  {
   "cell_type": "markdown",
   "metadata": {},
   "source": [
    "### Conversion du fichier brut vers le graphe dans GraphDB"
   ]
  },
  {
   "cell_type": "markdown",
   "metadata": {},
   "source": [
    "À partir un fichier brut (un fichier tabulaire comme un CSV), la fonction le convertit en graphe de connaissances dans un fichier `ttl` (ici `kg_file`). La manière de convertir le fichier est défini par le fichier `ontorefine_mapping_file`, la conversion se fait par Ontotext Refine. Par la suite, le fichier `ttl` est importé dans le répertoire dont le nom est `repository_name`, plus précisément dans le graphe nommé `graph_name`."
   ]
  },
  {
   "cell_type": "code",
   "execution_count": null,
   "metadata": {},
   "outputs": [],
   "source": [
    "def from_raw_to_data_to_graphdb(graphdb_url, ontorefine_url, ontorefine_cmd, repository_name, graph_name, csv_file, ontorefine_mapping_file, kg_file):\n",
    "    # Si ça ne marche pas ici, c'est sûrement qu'Ontotext Refine n'est pas lancé\n",
    "    otr.get_export_file_from_ontorefine(csv_file, ontorefine_mapping_file, kg_file, ontorefine_cmd, ontorefine_url, repository_name)\n",
    "\n",
    "    # Importer le fichier `kg_file` qui a été créé lors de la ligne précédente dans le répertoire `repository_name`, dans le graphe nommé `graph_name` \n",
    "    gd.import_ttl_file_in_graphdb(graphdb_url, repository_name, kg_file, graph_name)"
   ]
  },
  {
   "cell_type": "markdown",
   "metadata": {},
   "source": [
    "## Construction des factoïdes pour chaque source"
   ]
  },
  {
   "cell_type": "markdown",
   "metadata": {},
   "source": [
    "### Nomenclature des voies de la ville de Paris"
   ]
  },
  {
   "cell_type": "markdown",
   "metadata": {},
   "source": [
    "#### Création des données liées à la source"
   ]
  },
  {
   "cell_type": "code",
   "execution_count": null,
   "metadata": {},
   "outputs": [],
   "source": [
    "def create_factoids_ville_paris(graphdb_url, repository_name, factoids_refactoids_uri:URIRef, facts_graph_uri:URIRef):\n",
    "    query = f\"\"\"\n",
    "        PREFIX addr: <http://rdf.geohistoricaldata.org/def/address#> \n",
    "        PREFIX facts: <http://rdf.geohistoricaldata.org/id/address/facts/>\n",
    "        PREFIX rico: <https://www.ica.org/standards/RiC/ontology#>\n",
    "\n",
    "        INSERT DATA {{\n",
    "            GRAPH {facts_graph_uri.n3()} {{\n",
    "                {factoids_refactoids_uri.n3()} a rico:Record;\n",
    "                    rdfs:label \"dénomination des voies de Paris (actuelles et caduques)\"@fr;\n",
    "                    rico:hasPublisher facts:DirTopoDocFoncVP .\n",
    "                facts:DirTopoDocFoncVP a rico:CorporateBody;\n",
    "                    rdfs:label \"Département de la Topographie et de la Documentation Foncière de la Ville de Paris\"@fr.    \n",
    "            }}\n",
    "        }}\n",
    "        \"\"\"\n",
    "    \n",
    "    gd.update_query(query, graphdb_url, repository_name)"
   ]
  },
  {
   "cell_type": "markdown",
   "metadata": {},
   "source": [
    "#### Définition d'un processus de création des données de la Ville de Paris"
   ]
  },
  {
   "cell_type": "code",
   "execution_count": null,
   "metadata": {},
   "outputs": [],
   "source": [
    "def create_factoid_process_ville_paris(graphdb_url, repository_name,\n",
    "                                       ontorefine_url, ontorefine_cmd,\n",
    "                                        factoids_graph_name, facts_graph_name, \n",
    "                                        vpta_csv_file, vptc_csv_file,\n",
    "                                        vpta_mapping_file, vptc_mapping_file,\n",
    "                                        vpta_kg_file, vptc_kg_file):\n",
    "    \"\"\"\n",
    "    Fonction pour faire l'ensemble des processus relatifs à la création des factoïdes pour les données de la dénomination des voies de la ville de Paris\n",
    "    \"\"\"\n",
    "\n",
    "    # Récupération des URI des graphes nommés\n",
    "    factoids_graph_uri = URIRef(gd.get_graph_uri_from_name(graphdb_url, repository_name, factoids_graph_name))\n",
    "    facts_graph_uri = URIRef(gd.get_graph_uri_from_name(graphdb_url, repository_name, facts_graph_name))\n",
    "\n",
    "    # A partir des fichiers csv décrivant les voies de la ville de Paris, convertir en un graphe de connaissance selon le mapping défini\n",
    "    # Puis import du graphe dans le répertoire dont le nom est `repository_name` et dans le graphe nommé donné par `graph_name`\n",
    "    from_raw_to_data_to_graphdb(graphdb_url, ontorefine_url, ontorefine_cmd, repository_name, factoids_graph_name, vpta_csv_file, vpta_mapping_file, vpta_kg_file)\n",
    "    from_raw_to_data_to_graphdb(graphdb_url, ontorefine_url, ontorefine_cmd, repository_name, factoids_graph_name, vptc_csv_file, vptc_mapping_file, vptc_kg_file)\n",
    "\n",
    "    # Suppression des instants qui n'ont aucun timeStamp (instants sans date)\n",
    "    remove_time_instant_without_timestamp(graphdb_url, repository_name, factoids_graph_uri)\n",
    "    \n",
    "    # L'URI ci-dessous définit la source liée à la ville de Paris\n",
    "    vdp_factoids_uri = URIRef(\"http://rdf.geohistoricaldata.org/id/address/facts/Source_VDP\")\n",
    "    create_factoids_ville_paris(graphdb_url, repository_name, vdp_factoids_uri, facts_graph_uri)\n",
    "\n",
    "    # Ajout de labels normalisés\n",
    "    add_normalized_label_for_landmarks(graphdb_url, repository_name, factoids_graph_uri)\n",
    "\n",
    "    # Ajout de liens entre les ressources de type repère et la source\n",
    "    add_factoids_resources_links(graphdb_url, repository_name, vdp_factoids_uri, factoids_graph_uri)"
   ]
  },
  {
   "cell_type": "markdown",
   "metadata": {},
   "source": [
    "### Base Adresse Nationale (BAN)"
   ]
  },
  {
   "cell_type": "markdown",
   "metadata": {},
   "source": [
    "#### Création des données liées à la source"
   ]
  },
  {
   "cell_type": "code",
   "execution_count": null,
   "metadata": {},
   "outputs": [],
   "source": [
    "def create_factoids_ban(graphdb_url, repository_name, factoids_refactoids_uri:URIRef, facts_graph_uri:URIRef):\n",
    "    query = f\"\"\"\n",
    "        PREFIX addr: <http://rdf.geohistoricaldata.org/def/address#> \n",
    "        PREFIX facts: <http://rdf.geohistoricaldata.org/id/address/facts/>\n",
    "        PREFIX rico: <https://www.ica.org/standards/RiC/ontology#>\n",
    "\n",
    "        INSERT DATA {{\n",
    "            GRAPH {facts_graph_uri.n3()} {{\n",
    "                {factoids_refactoids_uri.n3()} a rico:Record;\n",
    "                    rdfs:label \"Base Nationale Adresse\"@fr;\n",
    "                    rico:hasPublisher facts:DINUM_ANCT_IGN .\n",
    "                facts:IGN_DINUM_ANCT a rico:CorporateBody;\n",
    "                    rdfs:label \"DINUM / ANCT / IGN\"@fr.\n",
    "            }}\n",
    "        }}\n",
    "        \"\"\"\n",
    "    \n",
    "    gd.update_query(query, graphdb_url, repository_name)"
   ]
  },
  {
   "cell_type": "markdown",
   "metadata": {},
   "source": [
    "#### Nettoyage du graphe"
   ]
  },
  {
   "cell_type": "markdown",
   "metadata": {},
   "source": [
    "Détection de repères décrits via plusieurs ressources et création d'une unique ressource pour chaque."
   ]
  },
  {
   "cell_type": "code",
   "execution_count": null,
   "metadata": {},
   "outputs": [],
   "source": [
    "# Détection des communes et arrondissements dupliqués et création d'une source centrale (?newLandmark) selon le code INSEE.\n",
    "def clean_ban_graph(graphdb_url, repository_name, factoids_graph_uri):\n",
    "    prefixes = \"\"\"\n",
    "    PREFIX owl: <http://www.w3.org/2002/07/owl#>\n",
    "    PREFIX skos: <http://www.w3.org/2004/02/skos/core#>\n",
    "    PREFIX rdfs: <http://www.w3.org/2000/01/rdf-schema#>\n",
    "    PREFIX geofla: <http://data.ign.fr/def/geofla#>\n",
    "    PREFIX addr: <http://rdf.geohistoricaldata.org/def/address#>\n",
    "    PREFIX ltype: <http://rdf.geohistoricaldata.org/id/codes/address/landmarkType/>\n",
    "    PREFIX ban: <http://rdf.geohistoricaldata.org/id/address/sources/ban/>\n",
    "    \"\"\"\n",
    "\n",
    "    label_var = \"?label\"\n",
    "    norm_label_var = \"?normLabel\"\n",
    "    norm_label_function = sp.get_lower_simplified_french_street_name_function(label_var)\n",
    "\n",
    "    query1 = prefixes + f\"\"\"\n",
    "    INSERT {{\n",
    "        GRAPH ?g {{\n",
    "            ?landmark skos:hiddenLabel {norm_label_var}.\n",
    "        }}\n",
    "    }}\n",
    "    WHERE {{\n",
    "        BIND({factoids_graph_uri.n3()} AS ?g)\n",
    "        GRAPH ?g {{\n",
    "            ?landmark a addr:Landmark; rdfs:label {label_var}.\n",
    "            BIND({norm_label_function} AS {norm_label_var})\n",
    "        }}\n",
    "    }}\n",
    "    \"\"\"\n",
    "\n",
    "    query2 = prefixes + f\"\"\"\n",
    "    INSERT {{\n",
    "        GRAPH ?g {{\n",
    "            ?landmark skos:exactMatch ?tmpLandmark.\n",
    "        }}\n",
    "    }}\n",
    "    WHERE\n",
    "    {{\n",
    "        BIND({factoids_graph_uri.n3()} AS ?g)\n",
    "        {{\n",
    "            SELECT DISTINCT ?insee {{\n",
    "                GRAPH ?g {{\n",
    "                    ?tmpLandmark a addr:Landmark; geofla:numInsee ?insee.\n",
    "                }}\n",
    "            }}\n",
    "        }}\n",
    "        BIND(URI(CONCAT(STR(URI(ban:)), \"BAN_LM_\", STRUUID())) AS ?landmark)\n",
    "\n",
    "        GRAPH ?g {{\n",
    "            ?tmpLandmark a addr:Landmark; addr:isLandmarkType ?landmarkType; geofla:numInsee ?insee.\n",
    "        }}\n",
    "    }}\n",
    "    \"\"\"\n",
    "\n",
    "    # Détection des doublons sur les codes postaux\n",
    "\n",
    "    query3 = prefixes + f\"\"\"\n",
    "    INSERT {{\n",
    "        GRAPH ?g {{\n",
    "            ?landmark skos:exactMatch ?tmpLandmark.\n",
    "        }}\n",
    "    }}\n",
    "    WHERE\n",
    "    {{\n",
    "        BIND({factoids_graph_uri.n3()} AS ?g)\n",
    "        {{\n",
    "            SELECT DISTINCT ?postalCode {{\n",
    "                GRAPH ?g {{\n",
    "                    ?tmpLandmark a addr:Landmark; addr:isLandmarkType ltype:PostalCode; rdfs:label ?postalCode.\n",
    "                }}\n",
    "            }}\n",
    "        }}\n",
    "        BIND(URI(CONCAT(STR(URI(ban:)), \"BAN_LM_\", STRUUID())) AS ?landmark)\n",
    "\n",
    "        GRAPH ?g {{\n",
    "            ?tmpLandmark a addr:Landmark; addr:isLandmarkType ltype:PostalCode; rdfs:label ?postalCode.\n",
    "        }}\n",
    "    }}\n",
    "    \"\"\"\n",
    "\n",
    "    # Détection des doublons sur les voies (même nom et appartient à la même commune ou au même arrondissement)\n",
    "\n",
    "    query4 = prefixes + f\"\"\"\n",
    "    INSERT {{\n",
    "        GRAPH ?g {{\n",
    "            ?landmark skos:exactMatch ?tmpLandmark.\n",
    "        }}\n",
    "    }}\n",
    "    WHERE\n",
    "    {{\n",
    "        BIND({factoids_graph_uri.n3()} AS ?g)\n",
    "        {{\n",
    "            SELECT DISTINCT ?label ?district WHERE {{\n",
    "                GRAPH ?g {{\n",
    "                    ?tmpLandmark a addr:Landmark; addr:isLandmarkType ltype:Thoroughfare; skos:hiddenLabel ?label.\n",
    "                    ?addrSeg a addr:AddressSegment; addr:relatum ?tmpLandmark; addr:nextStep [a addr:AddressSegment; addr:relatum ?tmpDistrict].\n",
    "                    ?tmpDistrict a addr:Landmark; addr:isLandmarkType ltype:District.\n",
    "                    ?district skos:exactMatch ?tmpDistrict.\n",
    "                }}\n",
    "            }}\n",
    "        }}\n",
    "        BIND(URI(CONCAT(STR(URI(ban:)), \"BAN_LM_\", STRUUID())) AS ?landmark)\n",
    "\n",
    "        GRAPH ?g {{\n",
    "            ?tmpLandmark a addr:Landmark; addr:isLandmarkType ltype:Thoroughfare; skos:hiddenLabel ?label.\n",
    "                    ?addrSeg a addr:AddressSegment; addr:relatum ?tmpLandmark; addr:nextStep [a addr:AddressSegment; addr:relatum ?tmpDistrict].\n",
    "                    ?tmpDistrict a addr:Landmark; addr:isLandmarkType ltype:District.\n",
    "                    ?district skos:exactMatch ?tmpDistrict.\n",
    "        }}\n",
    "    }}\n",
    "    \"\"\"\n",
    "    # Transfert des données des ressources temporaires vers les permanentes.\n",
    "\n",
    "    query5 = prefixes + f\"\"\"\n",
    "    DELETE {{\n",
    "        GRAPH ?g {{\n",
    "            ?s ?p ?tmpLandmark.\n",
    "            ?tmpLandmark ?p ?o.\n",
    "        }}\n",
    "    }}\n",
    "    INSERT {{\n",
    "        GRAPH ?g {{\n",
    "            ?s ?p ?landmark.\n",
    "            ?landmark ?p ?o.\n",
    "        }}\n",
    "    }}\n",
    "    WHERE {{\n",
    "        ?landmark skos:exactMatch ?tmpLandmark.\n",
    "        GRAPH ?g {{\n",
    "            {{?tmpLandmark ?p ?o}} UNION {{?s ?p ?tmpLandmark}}\n",
    "          }}\n",
    "    }} ; \n",
    "\n",
    "    DELETE {{\n",
    "        ?landmark skos:exactMatch ?tmpLandmark.\n",
    "    }}\n",
    "    WHERE {{\n",
    "        BIND({factoids_graph_uri.n3()} AS ?g)\n",
    "        GRAPH ?g {{\n",
    "            ?landmark skos:exactMatch ?tmpLandmark.\n",
    "        }}\n",
    "    }}\n",
    "    \"\"\"\n",
    "\n",
    "    queries = [query1, query2, query3, query4, query5]\n",
    "    for query in queries:\n",
    "        gd.update_query(query, graphdb_url, repository_name)"
   ]
  },
  {
   "cell_type": "markdown",
   "metadata": {},
   "source": [
    "### Ajout d'événéments / de changements ainsi que des attributs à tous les repères"
   ]
  },
  {
   "cell_type": "code",
   "execution_count": null,
   "metadata": {},
   "outputs": [],
   "source": [
    "def add_missing_elements_for_landmarks(graphdb_url, repository_name, factoids_graph_uri):\n",
    "    \"\"\"\n",
    "    Ajouter des éléments comme les changements, les événements, les attributs et leurs versions\n",
    "    \"\"\"\n",
    "\n",
    "    query = f\"\"\"\n",
    "    PREFIX geo: <http://www.opengis.net/ont/geosparql#>\n",
    "    PREFIX geofla: <http://data.ign.fr/def/geofla#>\n",
    "    PREFIX addr: <http://rdf.geohistoricaldata.org/def/address#> \n",
    "    PREFIX ban: <http://rdf.geohistoricaldata.org/id/address/sources/ban/>\n",
    "    PREFIX ctype: <http://rdf.geohistoricaldata.org/id/codes/address/changeType/>\n",
    "    PREFIX atype: <http://rdf.geohistoricaldata.org/id/codes/address/attributeType/>\n",
    "    DELETE {{\n",
    "        GRAPH ?g {{ \n",
    "            ?landmark geo:asWKT ?geom; geofla:numInsee ?inseeCode.\n",
    "        }}\n",
    "    }}\n",
    "    INSERT {{\n",
    "        GRAPH ?g {{\n",
    "            ?landmark addr:hasAttribute ?nameAttribute, ?geomAttribute.\n",
    "            ?nameAttribute a addr:Attribute; addr:isAttributeType atype:NameAttribute; addr:version ?versionNameAttribute1, ?versionNameAttribute2.\n",
    "            ?geomAttribute a addr:Attribute; addr:isAttributeType atype:GeometryAttribute; addr:version ?versionGeomAttribute.\n",
    "            ?versionNameAttribute1 a addr:AttributeVersion; addr:versionValue ?label.\n",
    "            ?versionNameAttribute2 a addr:AttributeVersion; addr:versionValue ?inseeCode.\n",
    "            ?versionGeomAttribute a addr:AttributeVersion; addr:versionValue ?geom.\n",
    "        }}  \n",
    "    }}\n",
    "    WHERE {{\n",
    "        {{\n",
    "            SELECT * {{\n",
    "                BIND({factoids_graph_uri.n3()} AS ?g)\n",
    "                GRAPH ?g {{\n",
    "                    ?landmark a addr:Landmark; rdfs:label ?label.\n",
    "                    OPTIONAL {{?landmark geo:asWKT ?geom}}\n",
    "                    OPTIONAL {{?landmark geofla:numInsee ?inseeCode}}\n",
    "                }}\n",
    "            }}\n",
    "        }}\n",
    "        BIND(URI(CONCAT(STR(URI(ban:)), \"BAN_AN_\", STRUUID())) AS ?nameAttribute)\n",
    "        BIND(URI(CONCAT(STR(URI(ban:)), \"BAN_ANV_\", STRUUID())) AS ?versionNameAttribute1)\n",
    "        BIND(IF(BOUND(?inseeCode), URI(CONCAT(STR(URI(ban:)), \"BAN_ANV_\", STRUUID())), ?x) AS ?versionNameAttribute2)\n",
    "        BIND(IF(BOUND(?geom), URI(CONCAT(STR(URI(ban:)), \"BAN_AG_\", STRUUID())), ?x) AS ?geomAttribute)\n",
    "        BIND(IF(BOUND(?geom), URI(CONCAT(STR(URI(ban:)), \"BAN_AGV_\", STRUUID())), ?x) AS ?versionGeomAttribute)\n",
    "    }}\n",
    "    \"\"\"\n",
    "    \n",
    "    gd.update_query(query, graphdb_url, repository_name)\n"
   ]
  },
  {
   "cell_type": "markdown",
   "metadata": {},
   "source": [
    "#### Définition d'un processus de création des données de la BAN"
   ]
  },
  {
   "cell_type": "code",
   "execution_count": null,
   "metadata": {},
   "outputs": [],
   "source": [
    "def create_factoid_process_ban(graphdb_url, ontorefine_url, ontorefine_cmd, repository_name, factoids_graph_name, facts_graph_name,\n",
    "                               ban_csv_file, ban_mapping_file, ban_kg_file):\n",
    "    \"\"\"\n",
    "    Fonction pour faire l'ensemble des processus relatifs à la création des factoïdes pour les données de la BAN\n",
    "    \"\"\"\n",
    "\n",
    "    # Récupération des URI des graphes nommés\n",
    "    factoids_graph_uri = URIRef(gd.get_graph_uri_from_name(graphdb_url, repository_name, factoids_graph_name))\n",
    "    facts_graph_uri = URIRef(gd.get_graph_uri_from_name(graphdb_url, repository_name, facts_graph_name))\n",
    "\n",
    "    # A partir des fichiers csv décrivant les adresses de la BAN dans Paris, convertir en un graphe de connaissance selon le mapping défini\n",
    "    # Puis import du graphe dans le répertoire dont le nom est `repository_name` et dans le graphe nommé donné par `graph_name`\n",
    "    from_raw_to_data_to_graphdb(graphdb_url, ontorefine_url, ontorefine_cmd, repository_name, factoids_graph_name, ban_csv_file, ban_mapping_file, ban_kg_file)\n",
    "\n",
    "    # Suppression des instants qui n'ont aucun timeStamp (instants sans date)\n",
    "    remove_time_instant_without_timestamp(graphdb_url, repository_name, factoids_graph_uri)\n",
    "\n",
    "    # Nettoyer les données en fusionnant les doublons après l'import dans GraphDB\n",
    "    clean_ban_graph(graphdb_url, repository_name, factoids_graph_uri)\n",
    "\n",
    "    # Ajout d'éléments manquants\n",
    "    add_missing_elements_for_landmarks(graphdb_url, repository_name, factoids_graph_uri)\n",
    "\n",
    "    # L'URI ci-dessous définit la source liée à la BAN\n",
    "    ban_factoids_uri = URIRef(\"http://rdf.geohistoricaldata.org/id/address/facts/Source_BAN\")\n",
    "    create_factoids_ban(graphdb_url, repository_name, ban_factoids_uri, facts_graph_uri)\n",
    "\n",
    "    # Ajout de labels normalisés\n",
    "    add_normalized_label_for_landmarks(graphdb_url, repository_name, factoids_graph_uri)\n",
    "    \n",
    "    # Ajout de liens entre les ressources de type repère et la source\n",
    "    add_factoids_resources_links(graphdb_url, repository_name, ban_factoids_uri, factoids_graph_uri)"
   ]
  },
  {
   "cell_type": "markdown",
   "metadata": {},
   "source": [
    "### Voies de Paris via Wikidata"
   ]
  },
  {
   "cell_type": "markdown",
   "metadata": {},
   "source": [
    "#### Création des données liées à la source"
   ]
  },
  {
   "cell_type": "code",
   "execution_count": null,
   "metadata": {},
   "outputs": [],
   "source": [
    "def create_factoids_wikidata(graphdb_url, repository_name, factoids_refactoids_uri:URIRef, facts_graph_uri:URIRef):\n",
    "    query = f\"\"\"\n",
    "        PREFIX addr: <http://rdf.geohistoricaldata.org/def/address#> \n",
    "        PREFIX facts: <http://rdf.geohistoricaldata.org/id/address/facts/>\n",
    "        PREFIX rico: <https://www.ica.org/standards/RiC/ontology#>\n",
    "\n",
    "        INSERT DATA {{\n",
    "            GRAPH {facts_graph_uri.n3()} {{\n",
    "                {factoids_refactoids_uri.n3()} a rico:Record;\n",
    "                    rdfs:label \"Wikidata\"@fr.\n",
    "            }}\n",
    "        }}\n",
    "        \"\"\"\n",
    "    \n",
    "    gd.update_query(query, graphdb_url, repository_name)"
   ]
  },
  {
   "cell_type": "markdown",
   "metadata": {},
   "source": [
    "#### Sélection des voies de Paris sur Wikidata via une requête de sélection"
   ]
  },
  {
   "cell_type": "markdown",
   "metadata": {},
   "source": [
    "Via une requête SPARQL de sélection, on récupère une liste de ressources à créér :\n",
    "* pour chaque ressource décrivant une voie dans Paris, on créé autant de ressources qu'elle a de nom officiel. La place de la Nation ([wd:Q1573359](https://www.wikidata.org/entity/Q1573359)) a quatre noms officiels donc on aura 4 ressources. Pour celles qui n'ont pas de nom officiel, on créé une seule ressource dont le nom est le label en français\n",
    "* ces ressources créées seront liées à celle de Wikidata dont elle provient via `skos:closeMatch`\n",
    "* chaque ressource créée suit la structure définie par l'ontologie\n",
    "* le résultat de la requête est stocké dans un fichier csv qui sera converti en graphe de connaissance via Ontotext Refine et un fichier de mapping "
   ]
  },
  {
   "cell_type": "code",
   "execution_count": null,
   "metadata": {},
   "outputs": [],
   "source": [
    "def get_paris_thoroughfares_from_wikidata(out_csv_file):\n",
    "    query = f\"\"\"\n",
    "    PREFIX addr: <http://rdf.geohistoricaldata.org/def/address#> \n",
    "    PREFIX source: <http://rdf.geohistoricaldata.org/id/address/sources/wikidata/> \n",
    "    PREFIX rdfs: <http://www.w3.org/2000/01/rdf-schema#>\n",
    "    PREFIX owl: <http://www.w3.org/2002/07/owl#>\n",
    "    PREFIX wd: <http://www.wikidata.org/entity/>\n",
    "    PREFIX wdt: <http://www.wikidata.org/prop/direct/>\n",
    "    PREFIX pq: <http://www.wikidata.org/prop/qualifier/>\n",
    "    PREFIX ps: <http://www.wikidata.org/prop/statement/>\n",
    "    PREFIX p: <http://www.wikidata.org/prop/>\n",
    "    PREFIX pqv: <http://www.wikidata.org/prop/qualifier/value/>\n",
    "    PREFIX wb: <http://wikiba.se/ontology#>\n",
    "    PREFIX time: <http://www.w3.org/2006/time#>\n",
    "\n",
    "    SELECT ?landmarkId ?voie ?nomOff ?dateStartStamp ?dateStartPrec ?dateStartCal ?dateEndStamp ?dateEndPrec ?dateEndCal\n",
    "    WHERE {{\n",
    "\n",
    "        BIND(CONCAT(\"LM_\", STRUUID()) AS ?landmarkId)\n",
    "        {{\n",
    "            SELECT DISTINCT * WHERE {{\n",
    "                {{?voie p:P361 [ps:P361 wd:Q16024163].}}UNION{{?voie p:P361 [ps:P361 wd:Q107311481].}}\n",
    "                {{?voie p:P1448 ?nomOffSt.\n",
    "                    ?nomOffSt ps:P1448 ?nomOff.\n",
    "                    OPTIONAL {{?nomOffSt pq:P580 ?dateStartStamp; pqv:P580 [wb:timePrecision ?dateStartPrecRaw; wb:timeCalendarModel ?dateStartCal]}}\n",
    "                    OPTIONAL {{?nomOffSt pq:P582 ?dateEndStamp; pqv:P582 [wb:timePrecision ?dateEndPrecRaw; wb:timeCalendarModel ?dateEndCal]}}\n",
    "                }}UNION{{\n",
    "                    ?voie rdfs:label ?nomOff.\n",
    "                    FILTER (LANG(?nomOff) = \"fr\")\n",
    "                    MINUS {{?voie p:P1448 ?nomOffSt}}\n",
    "                }}\n",
    "            }}\n",
    "        }}\n",
    "        \n",
    "        BIND(IF(?dateStartPrecRaw = 11, time:unitDay, \n",
    "                        IF(?dateStartPrecRaw = 10, time:unitMonth,\n",
    "                            IF(?dateStartPrecRaw = 9, time:unitYear,\n",
    "                                IF(?dateStartPrecRaw = 8, time:unitDecade,\n",
    "                                    IF(?dateStartPrecRaw = 7, time:unitCentury,\n",
    "                                        IF(?dateStartPrecRaw = 6, time:unitMillenium, ?x\n",
    "                                    )))))) AS ?dateStartPrec)\n",
    "        BIND(IF(?dateEndPrecRaw = 11, time:unitDay, \n",
    "                        IF(?dateEndPrecRaw = 10, time:unitMonth,\n",
    "                            IF(?dateEndPrecRaw = 9, time:unitYear,\n",
    "                                IF(?dateEndPrecRaw = 8, time:unitDecade,\n",
    "                                    IF(?dateEndPrecRaw = 7, time:unitCentury,\n",
    "                                        IF(?dateEndPrecRaw = 6, time:unitMillenium, ?x\n",
    "                                    )))))) AS ?dateEndPrec)\n",
    "    }}\n",
    "    \"\"\"\n",
    "\n",
    "    wd.save_select_query_as_csv_file(query, out_csv_file)"
   ]
  },
  {
   "cell_type": "markdown",
   "metadata": {},
   "source": [
    "#### Définition d'un processus de création des données de Wikidata"
   ]
  },
  {
   "cell_type": "code",
   "execution_count": null,
   "metadata": {},
   "outputs": [],
   "source": [
    "def create_factoid_process_wikidata(graphdb_url, ontorefine_url, ontorefine_cmd, repository_name, factoids_graph_name, facts_graph_name,\n",
    "                               wdpt_csv_file, wdpt_mapping_file, wdpt_kg_file):\n",
    "    \"\"\"\n",
    "    Fonction pour faire l'ensemble des processus relatifs à la création des factoïdes pour les données de Wikidata\n",
    "    \"\"\"\n",
    "\n",
    "    # Récupération des URI des graphes nommés\n",
    "    factoids_graph_uri = URIRef(gd.get_graph_uri_from_name(graphdb_url, repository_name, factoids_graph_name))\n",
    "    facts_graph_uri = URIRef(gd.get_graph_uri_from_name(graphdb_url, repository_name, facts_graph_name))\n",
    "\n",
    "    # Récupération des données via le endpoint de Wikidatadans un fichier CSV\n",
    "    # get_paris_thoroughfares_from_wikidata(wdpt_csv_file)\n",
    "\n",
    "    # A partir des fichiers csv décrivant les adresses de la BAN dans Paris, convertir en un graphe de connaissance selon le mapping défini\n",
    "    # Puis import du graphe dans le répertoire dont le nom est `repository_name` et dans le graphe nommé donné par `graph_name`\n",
    "    from_raw_to_data_to_graphdb(graphdb_url, ontorefine_url, ontorefine_cmd, repository_name, factoids_graph_name, wdpt_csv_file, wdpt_mapping_file, wdpt_kg_file)\n",
    "\n",
    "    # Suppression des instants qui n'ont aucun timeStamp (instants sans date)\n",
    "    remove_time_instant_without_timestamp(graphdb_url, repository_name, factoids_graph_uri)\n",
    "\n",
    "    # L'URI ci-dessous définit la source liée à Wikidata\n",
    "    wdpt_factoids_uri = URIRef(\"http://rdf.geohistoricaldata.org/id/address/facts/Source_WD\")\n",
    "    create_factoids_wikidata(graphdb_url, repository_name, wdpt_factoids_uri, facts_graph_uri)\n",
    "\n",
    "    # Ajout de labels normalisés\n",
    "    add_normalized_label_for_landmarks(graphdb_url, repository_name, factoids_graph_uri)\n",
    "    \n",
    "    # Ajout de liens entre les ressources de type repère et la source\n",
    "    add_factoids_resources_links(graphdb_url, repository_name, wdpt_factoids_uri, factoids_graph_uri)"
   ]
  },
  {
   "cell_type": "markdown",
   "metadata": {},
   "source": [
    "# Création des faits"
   ]
  },
  {
   "cell_type": "markdown",
   "metadata": {},
   "source": [
    "## Création de données dans le graphe des faits"
   ]
  },
  {
   "cell_type": "markdown",
   "metadata": {},
   "source": [
    "### Définition de fonctions pour peupler le graphe des faits"
   ]
  },
  {
   "cell_type": "code",
   "execution_count": null,
   "metadata": {},
   "outputs": [],
   "source": [
    "def create_unlinked_resources(graphdb_url, repository_name, refactoids_class:str, refactoids_prefix:str, factoids_graph_uri:URIRef, facts_graph_uri:URIRef):\n",
    "    # Créer des ressources en tant que fait et créer un lien de provenance\n",
    "    query = f\"\"\"\n",
    "    PREFIX addr: <http://rdf.geohistoricaldata.org/def/address#>\n",
    "    PREFIX facts: <http://rdf.geohistoricaldata.org/id/address/facts/>\n",
    "    PREFIX rdfs: <http://www.w3.org/2000/01/rdf-schema#>\n",
    "    PREFIX owl: <http://www.w3.org/2002/07/owl#>\n",
    "    INSERT {{\n",
    "        GRAPH {factoids_graph_uri.n3()} {{\n",
    "            ?resource owl:sameAs ?sourceResource.\n",
    "        }}\n",
    "        GRAPH {facts_graph_uri.n3()} {{\n",
    "            ?resource a ?type.\n",
    "        }}\n",
    "    }}\n",
    "    WHERE {{\n",
    "        ?type rdfs:subClassOf* addr:{refactoids_class}.\n",
    "        GRAPH {factoids_graph_uri.n3()} {{\n",
    "            ?sourceResource a ?type.\n",
    "        }}\n",
    "        MINUS {{?sourceResource owl:sameAs [a addr:{refactoids_class}]}}\n",
    "        BIND(URI(CONCAT(STR(URI(facts:)), \"{refactoids_prefix}_\", STRUUID())) AS ?resource)\n",
    "    }}\n",
    "    \"\"\"\n",
    "    gd.update_query(query, graphdb_url, repository_name)\n",
    "\n",
    "def create_linked_between_similar_thoroughfares(graphdb_url, repository_name, factoids_graph_uri:URIRef, facts_graph_uri:URIRef):\n",
    "    \"\"\"\n",
    "    Pour les repères de type VOIE définis dans le graphe nommé `factoids_graph_uri`, les lier avec un repère de même type défini dans `facts_graph_uri` s'ils ont un nom similaire.\n",
    "    Le lien créé est mis dans `factoids_facts_graph_uri`.\n",
    "    \"\"\"\n",
    "    prefixes = \"\"\"\n",
    "    PREFIX addr: <http://rdf.geohistoricaldata.org/def/address#>\n",
    "    PREFIX skos: <http://www.w3.org/2004/02/skos/core#>\n",
    "    PREFIX ltype: <http://rdf.geohistoricaldata.org/id/codes/address/landmarkType/>\n",
    "    PREFIX owl: <http://www.w3.org/2002/07/owl#>\n",
    "    \"\"\"\n",
    "\n",
    "    query = prefixes + f\"\"\"\n",
    "    INSERT {{\n",
    "        GRAPH {factoids_graph_uri.n3()} {{\n",
    "            ?factsLandmark owl:sameAs ?sourceLandmark.\n",
    "        }}\n",
    "    }}\n",
    "    WHERE {{\n",
    "        GRAPH {factoids_graph_uri.n3()} {{\n",
    "            ?sourceLandmark a addr:Landmark; addr:isLandmarkType ltype:Thoroughfare.\n",
    "        }}\n",
    "        GRAPH {facts_graph_uri.n3()} {{\n",
    "            ?factsLandmark a addr:Landmark.\n",
    "           }}\n",
    "        MINUS {{?factsLandmark owl:sameAs ?sourceLandmark}}\n",
    "        ?sourceLandmark skos:hiddenLabel ?label.\n",
    "        ?factsLandmark skos:hiddenLabel ?label.\n",
    "    }}\n",
    "    \"\"\"\n",
    "\n",
    "    gd.update_query(query, graphdb_url, repository_name)\n",
    "\n",
    "def store_interesting_implicit_triples(graphdb_url, repository_name, tmp_graph_uri:URIRef):\n",
    "    query = f\"\"\"\n",
    "    PREFIX rdfs: <http://www.w3.org/2000/01/rdf-schema#>\n",
    "    PREFIX skos: <http://www.w3.org/2004/02/skos/core#>\n",
    "    PREFIX addr: <http://rdf.geohistoricaldata.org/def/address#>\n",
    "    PREFIX facts: <http://rdf.geohistoricaldata.org/id/address/facts/>\n",
    "    PREFIX owl: <http://www.w3.org/2002/07/owl#>\n",
    "    PREFIX rdf: <http://www.w3.org/1999/02/22-rdf-syntax-ns#>\n",
    "    PREFIX rico: <https://www.ica.org/standards/RiC/ontology#>\n",
    "    \n",
    "    INSERT {{\n",
    "        GRAPH {tmp_graph_uri.n3()} {{\n",
    "            ?s ?p ?o.\n",
    "        }}\n",
    "    }}\n",
    "    WHERE {{\n",
    "        ?s ?p ?o.\n",
    "\n",
    "        MINUS {{\n",
    "            GRAPH ?g {{ ?s ?p ?o. }}\n",
    "        }}\n",
    "        FILTER(?p in (addr:isAttributeType,addr:isChangeType,addr:isLandmarkType,addr:isLandmarkRelationType,\n",
    "            addr:hasTime,addr:timeCalendar,addr:timePrecision,addr:timeStamp,\n",
    "            addr:hasAttribute,addr:version,addr:versionValue,addr:appliedTo,addr:dependsOn,addr:makesEffective,addr:outdates,\n",
    "            addr:targets,addr:locatum,addr:relatum,addr:firstStep,addr:nextStep,\n",
    "            rdfs:label,skos:hiddenLabel,skos:closeMatch,rico:isOrWasDescribedBy\n",
    "        ))\n",
    "    }}\n",
    "    \"\"\"\n",
    "\n",
    "    gd.update_query(query, graphdb_url, repository_name)\n",
    "\n",
    "def get_facts_implicit_triples(graphdb_url, repository_name, factoids_graph_uri:URIRef, facts_graph_uri:URIRef, tmp_graph_uri:URIRef):\n",
    "    \"\"\"\n",
    "    Tous les triplets intéressants (selon la propriété du triplet) ont été stockés dans un graphe nommé temporaire.\n",
    "    Transférer les triplets dont :\n",
    "    - les sujets sont des ressources RS définies dans le graphe des faits (il existe <RS a ?rtype> dans le graphe des faits) \n",
    "    - les objets ne sont pas des ressources RO définies dans le graphe des factoïdes (celles tel qu'il n'existe pas <RO a ?rtype> dans le graphe des factoïdes)\n",
    "    \"\"\"\n",
    "    \n",
    "    query = f\"\"\"\n",
    "    PREFIX rdfs: <http://www.w3.org/2000/01/rdf-schema#>\n",
    "    PREFIX skos: <http://www.w3.org/2004/02/skos/core#>\n",
    "    PREFIX addr: <http://rdf.geohistoricaldata.org/def/address#>\n",
    "    PREFIX facts: <http://rdf.geohistoricaldata.org/id/address/facts/>\n",
    "    PREFIX owl: <http://www.w3.org/2002/07/owl#>\n",
    "    PREFIX rdf: <http://www.w3.org/1999/02/22-rdf-syntax-ns#>\n",
    "    PREFIX rico: <https://www.ica.org/standards/RiC/ontology#>\n",
    "    \n",
    "    DELETE {{\n",
    "        GRAPH ?gt {{\n",
    "            ?s ?p ?o.\n",
    "        }}\n",
    "    }}\n",
    "    INSERT {{\n",
    "        GRAPH ?gf {{\n",
    "            ?s ?p ?o.\n",
    "        }}\n",
    "    }}\n",
    "    WHERE {{\n",
    "        BIND ({facts_graph_uri.n3()} AS ?gf)\n",
    "        BIND ({factoids_graph_uri.n3()} AS ?gs)\n",
    "        BIND ({tmp_graph_uri.n3()} AS ?gt)\n",
    "\n",
    "        GRAPH ?gt {{\n",
    "            ?s ?p ?o.\n",
    "        }}\n",
    "\n",
    "        GRAPH ?gf {{\n",
    "            ?s a ?sType.\n",
    "        }}\n",
    "\n",
    "        OPTIONAL {{\n",
    "            GRAPH ?g {{?o a ?oType}}\n",
    "        }}\n",
    "\n",
    "        BIND(isIRI(?o) AS ?isIRI)\n",
    "        BIND(IF(BOUND(?g) && ?g != ?gs, \"true\"^^xsd:boolean, \"false\"^^xsd:boolean) AS ?iriInFacts)\n",
    "        FILTER(?isIRI = \"false\"^^xsd:boolean || ?iriInFacts = \"true\"^^xsd:boolean)\n",
    "    }}\n",
    "    \"\"\"\n",
    "\n",
    "    gd.update_query(query, graphdb_url, repository_name)\n",
    "\n",
    "def transfer_implicit_triples(graphdb_url, repository_name, factoids_graph_uri:URIRef, facts_graph_uri:URIRef):\n",
    "    tmp_graph_name = \"tmp_named_graph\"\n",
    "    tmp_graph_uri = URIRef(gd.get_graph_uri_from_name(graphdb_url, repository_name, tmp_graph_name))\n",
    "\n",
    "    # On stocke dans un graphe nommé temporaire les triplets implicites qui sont intéressants (selon la propriété du triplet)\n",
    "    store_interesting_implicit_triples(graphdb_url, repository_name, tmp_graph_uri)\n",
    "\n",
    "    # Suppression des liens owl:sameAs pour casser les liens implicites qui ont été stockés explicitement dans le graphe nommé\n",
    "    remove_all_same_as_triples(graphdb_url, repository_name)\n",
    "\n",
    "    # Refaire les inférences pour supprimer notamment les liens owl:sameAs implicites qui ne sont pas supprimés\n",
    "    gd.reinfer_repository(graphdb_url, repository_name)\n",
    "\n",
    "    # Transférer les triplets stockés dans le graphe nommé temporaire qui ne sont pas liés aux factoïdes\n",
    "    get_facts_implicit_triples(graphdb_url, repository_name, factoids_graph_uri, facts_graph_uri, tmp_graph_uri)\n",
    "    \n",
    "    # Supprimer tous les triples du graphe nommé temporaire\n",
    "    gd.remove_graph(graphdb_url, repository_name, tmp_graph_name)\n",
    "\n",
    "\n",
    "def remove_all_same_as_triples(graphdb_url, repository_name):\n",
    "    query = \"\"\"\n",
    "    PREFIX owl: <http://www.w3.org/2002/07/owl#>\n",
    "\n",
    "    DELETE {?s owl:sameAs ?o} WHERE {?s owl:sameAs ?o}\n",
    "    \"\"\"\n",
    "    \n",
    "    gd.update_query(query, graphdb_url, repository_name)"
   ]
  },
  {
   "cell_type": "markdown",
   "metadata": {},
   "source": [
    "### Création de voies à partir des différentes sources"
   ]
  },
  {
   "cell_type": "markdown",
   "metadata": {},
   "source": [
    "La création de voies se fait de la manière suivante :\n",
    "* on normalise les labels des repères, qui sont stockés dans un graphe nommé temporaire\n",
    "* on sélectionne une source\n",
    "* pour chaque ressource définie dans la source, on regarde si elle existe dans le graphe des faits (via des critères pré-définis comme le nom)\n",
    "    * si la ressource existe, on crée un lien `?a addr:isReferencedBy ?b` décrivant le fait que la ressource existe\n",
    "    * sinon, on la crée et on ajoute un lien `?a addr:isCreatedBy ?b`\n",
    "* on refait le processus suivant pour une autre source jusqu'à les avoir toutes faites"
   ]
  },
  {
   "cell_type": "code",
   "execution_count": null,
   "metadata": {},
   "outputs": [],
   "source": [
    "def links_factoids_with_facts(graphdb_url, repository_name, factoids_graph_uri:URIRef, facts_graph_uri:URIRef):\n",
    "    create_linked_between_similar_thoroughfares(graphdb_url, repository_name, factoids_graph_uri, facts_graph_uri)\n",
    "    resource_classes = {\"LM\": \"Landmark\", \"ADDR\": \"Address\", \"ATTR\": \"Attribute\", \"AV\":\"AttributeVersion\", \"CG\": \"Change\", \"EV\":\"Event\", \"TE\": \"TemporalEntity\", \"LR\": \"LandmarkRelation\"}\n",
    "    for prefix, class_name in resource_classes.items():\n",
    "        create_unlinked_resources(graphdb_url, repository_name, class_name, prefix, factoids_graph_uri, facts_graph_uri)"
   ]
  },
  {
   "cell_type": "markdown",
   "metadata": {},
   "source": [
    "### Réinitialisation du répertoire"
   ]
  },
  {
   "cell_type": "markdown",
   "metadata": {},
   "source": [
    "La réinitialisation du répertoire :\n",
    "* export du graphe des faits dans un fichier TTL\n",
    "* suppression de tous les triplets du répertoire (explicites comme implicites)\n",
    "* réimport des fichiers TTL de l'ontologie et du graphe des faits\n",
    "\n",
    ":TODO: voir si c'est possible de supprimer facilement les triplets implicites pour éviter de faire appel à cette fonction."
   ]
  },
  {
   "cell_type": "code",
   "execution_count": null,
   "metadata": {},
   "outputs": [],
   "source": [
    "def reload_repository(graphdb_url, repository_name, facts_ttl_file, facts_graph_uri, ont_file, ontology_named_graph_name):    \n",
    "    # Exporter le graphe des faits dans un fichier TTL\n",
    "    gd.export_data_from_repository(graphdb_url, repository_name, facts_ttl_file, facts_graph_uri)\n",
    "\n",
    "    # Réinitialiser le répertoire et le remplir une nouvelle fois avec l'ontologie et le graphe des faits\n",
    "    gd.clear_repository(graphdb_url, repository_name)\n",
    "    gd.import_ttl_file_in_graphdb(graphdb_url, repository_name, ont_file, ontology_named_graph_name)\n",
    "    gd.import_ttl_file_in_graphdb(graphdb_url, repository_name, facts_ttl_file, graph_uri=facts_graph_uri)"
   ]
  },
  {
   "cell_type": "markdown",
   "metadata": {},
   "source": [
    "### Import des factoïdes dans le graphe des faits"
   ]
  },
  {
   "cell_type": "markdown",
   "metadata": {},
   "source": [
    "L'import des factoïdes dans le graphe des faits se fait en trois étapes :\n",
    "* liaison des éléments du graphe des factoides avec celui des faits (`links_factoids_with_facts()`)\n",
    "* avec l'étape précédente, on a des inférences qui se font et `transfer_implicit_triples()` récupère les triplets implicites intéressants pour les expliciter en les mettant dans le graphe des faits\n",
    "* `reload_repository()` exporte le graphe des faits dans un fichier temporaire afin de nettoyer le répertoire (suppression de triplets implicites inutiles), le graphe des faits est rechargé dans le répertoire."
   ]
  },
  {
   "cell_type": "code",
   "execution_count": null,
   "metadata": {},
   "outputs": [],
   "source": [
    "def import_factoids_in_facts(graphdb_url, repository_name, factoids_graph_name, facts_graph_name, facts_ttl_file):\n",
    "    facts_graph_uri = URIRef(gd.get_graph_uri_from_name(graphdb_url, repository_name, facts_graph_name))\n",
    "    factoids_graph_uri = URIRef(gd.get_graph_uri_from_name(graphdb_url, repository_name, factoids_graph_name))\n",
    "\n",
    "    links_factoids_with_facts(graphdb_url, repository_name, factoids_graph_uri, facts_graph_uri)\n",
    "    transfer_implicit_triples(graphdb_url, repository_name, factoids_graph_uri, facts_graph_uri)\n",
    "    reload_repository(graphdb_url, repository_name, facts_ttl_file, facts_graph_uri, ont_file, ontology_named_graph_name)"
   ]
  },
  {
   "cell_type": "markdown",
   "metadata": {},
   "source": [
    "## Processus final et itératif"
   ]
  },
  {
   "cell_type": "markdown",
   "metadata": {},
   "source": [
    "Pour chaque source, on fait les choses suivantes :\n",
    "* création du graphe des factoïdes associés à la source (`create_factoid_process_XXXX()`)\n",
    "    * on part d'un fichier décrivant les données brutes (souvent c'est un fichier tabulaire)\n",
    "    * on utilise Ontotext-Refine pour le convertir en un graphe de connaissances selon l'ontologie définie. La manière de convertir est donnée par un fichier de mapping et le graphe est stocké dans un fichier TTL \n",
    "    * le fichier TTL est importé dans GraphDB dans un graphe nommé des factoïdes\n",
    "* voir la section précédente pour comprendre ce que fait `import_factoids_in_facts()`"
   ]
  },
  {
   "cell_type": "code",
   "execution_count": null,
   "metadata": {},
   "outputs": [],
   "source": [
    "# Import des données de la ville de Paris\n",
    "create_factoid_process_ville_paris(graphdb_url, repository_name, ontorefine_url, ontorefine_cmd, factoids_graph_name, facts_graph_name,\n",
    "                                   vpta_csv_file, vptc_csv_file, vpta_mapping_file, vptc_mapping_file, vpta_kg_file, vptc_kg_file)\n",
    "import_factoids_in_facts(graphdb_url, repository_name, factoids_graph_name, facts_graph_name, facts_ttl_file)"
   ]
  },
  {
   "cell_type": "code",
   "execution_count": null,
   "metadata": {},
   "outputs": [],
   "source": [
    "# Import des données de la BAN\n",
    "create_factoid_process_ban(graphdb_url, ontorefine_url, ontorefine_cmd, repository_name, factoids_graph_name, facts_graph_name, bpa_csv_file, bpa_mapping_file, bpa_kg_file)\n",
    "import_factoids_in_facts(graphdb_url, repository_name, factoids_graph_name, facts_graph_name, facts_ttl_file)"
   ]
  },
  {
   "cell_type": "code",
   "execution_count": null,
   "metadata": {},
   "outputs": [],
   "source": [
    "# Import des données de Wikidata\n",
    "create_factoid_process_wikidata(graphdb_url, ontorefine_url, ontorefine_cmd, repository_name, factoids_graph_name, facts_graph_name, wdpt_csv_file, wdpt_mapping_file, wdpt_kg_file)\n",
    "import_factoids_in_facts(graphdb_url, repository_name, factoids_graph_name, facts_graph_name, facts_ttl_file)"
   ]
  }
 ],
 "metadata": {
  "kernelspec": {
   "display_name": "Python 3",
   "language": "python",
   "name": "python3"
  },
  "language_info": {
   "codemirror_mode": {
    "name": "ipython",
    "version": 3
   },
   "file_extension": ".py",
   "mimetype": "text/x-python",
   "name": "python",
   "nbconvert_exporter": "python",
   "pygments_lexer": "ipython3",
   "version": "3.9.0"
  },
  "orig_nbformat": 4
 },
 "nbformat": 4,
 "nbformat_minor": 2
}
