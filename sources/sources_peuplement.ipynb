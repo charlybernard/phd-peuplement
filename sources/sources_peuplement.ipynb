{
 "cells": [
  {
   "cell_type": "markdown",
   "metadata": {},
   "source": [
    "# Variables"
   ]
  },
  {
   "cell_type": "markdown",
   "metadata": {},
   "source": [
    "## Import des librairies"
   ]
  },
  {
   "cell_type": "code",
   "execution_count": null,
   "metadata": {},
   "outputs": [],
   "source": [
    "import os\n",
    "import sys\n",
    "import csv\n",
    "import json\n",
    "from rdflib import Graph, Namespace, URIRef, Literal, BNode, XSD"
   ]
  },
  {
   "cell_type": "markdown",
   "metadata": {},
   "source": [
    "## Définition des variables globales"
   ]
  },
  {
   "cell_type": "code",
   "execution_count": null,
   "metadata": {},
   "outputs": [],
   "source": [
    "# Fichiers existants\n",
    "ont_file_name = \"ontology.ttl\" # Fusion des deux fichiers précédents\n",
    "ruleset_file_name = \"rules.pie\"\n",
    "\n",
    "# Fichiers créés durant le processus\n",
    "export_file_name = \"addresses-temp.ttl\"\n",
    "out_file_name = \"addresses.ttl\"\n",
    "local_config_file_name = \"config_repo.ttl\"\n",
    "facts_ttl_file_name = \"facts_data.ttl\"\n",
    "\n",
    "# Dossiers existants\n",
    "data_folder_name = \"data\"\n",
    "mapping_folder_name = \"mappings\"\n",
    "\n",
    "# Dossiers créés durant le traitement\n",
    "tmp_folder_name = \"tmp_files\"\n",
    "\n",
    "# Nom du répertoire GraphDB pour les faits\n",
    "facts_repository_name = \"addresses_from_factoids\"\n",
    "\n",
    "# Définition des graphes nommés\n",
    "ontology_named_graph_name = \"ontology\"\n",
    "facts_graph_name = \"facts\"\n",
    "factoids_graph_name = \"factoids\"\n",
    "permanent_graph_name = \"permanent\"\n",
    "\n",
    "# Définition de namespaces et de préfixes associés\n",
    "namespace_prefixes = {\"addr\":Namespace(\"http://rdf.geohistoricaldata.org/def/address#\"),\n",
    "                      \"facts\":Namespace(\"http://rdf.geohistoricaldata.org/id/address/facts/\"),\n",
    "                      \"factoids\":Namespace(\"http://rdf.geohistoricaldata.org/id/address/factoids/\"),\n",
    "                     }\n",
    "\n",
    "# URIs pour accéder aux logiciels GraphDB et Ontotext-Refine\n",
    "graphdb_url = \"http://localhost:7200\"\n",
    "ontorefine_url = \"http://localhost:7333\"\n",
    "\n",
    "# Commande pour lancer `Ontorefine`, dépend de l'OS et d'où il se situe\n",
    "# ontorefine_cmd = \"ontorefine-cli\" # Nom sans chemin\n",
    "ontorefine_cmd = \"/opt/ontotext-refine/lib/app/bin/ontorefine-cli\" #Ubuntu\n",
    "# ontorefine_cmd = \"/Applications/Ontotext\\\\ Refine.app/Contents/app/bin/ontorefine-cli\" #MacOS\n",
    "\n",
    "py_code_folder_path = \"../code\""
   ]
  },
  {
   "cell_type": "markdown",
   "metadata": {},
   "source": [
    "## Traitement des variables globales\n",
    "\n",
    "* Obtention des chemins absolus des fichiers à partir des chemins relatifs donnés dans la section précédente\n",
    "* Création d'un dossier temporaire s'il n'existe pas encore pour stocker des fichiers à vocation d'être supprimés"
   ]
  },
  {
   "cell_type": "code",
   "execution_count": null,
   "metadata": {},
   "outputs": [],
   "source": [
    "tmp_folder = os.path.abspath(tmp_folder_name)\n",
    "mapping_folder = os.path.abspath(mapping_folder_name)\n",
    "data_folder = os.path.abspath(data_folder_name)\n",
    "\n",
    "python_code_folder = os.path.abspath(py_code_folder_path)\n",
    "\n",
    "local_config_file = os.path.join(tmp_folder, local_config_file_name)\n",
    "ont_file = os.path.abspath(ont_file_name)\n",
    "ruleset_file = os.path.abspath(ruleset_file_name)\n",
    "facts_ttl_file = os.path.join(tmp_folder, facts_ttl_file_name)"
   ]
  },
  {
   "cell_type": "markdown",
   "metadata": {},
   "source": [
    "## Import des modules situés dans le dossier `code`"
   ]
  },
  {
   "cell_type": "code",
   "execution_count": null,
   "metadata": {},
   "outputs": [],
   "source": [
    "# Appel du dossier `code` comprend les codes python\n",
    "sys.path.insert(1, python_code_folder)\n",
    "\n",
    "import filemanagement as fm\n",
    "import wikidata as wd\n",
    "import ontorefine as otr\n",
    "import graphdb as gd\n",
    "import graphrdf as gr\n",
    "import strprocessing as sp\n",
    "import geomprocessing as gp"
   ]
  },
  {
   "cell_type": "markdown",
   "metadata": {},
   "source": [
    "## Création de dossiers s'ils n'existent pas"
   ]
  },
  {
   "cell_type": "code",
   "execution_count": null,
   "metadata": {},
   "outputs": [],
   "source": [
    "fm.create_folder_if_not_exists(tmp_folder)"
   ]
  },
  {
   "cell_type": "markdown",
   "metadata": {},
   "source": [
    "## Gestion du répertoire local"
   ]
  },
  {
   "cell_type": "markdown",
   "metadata": {},
   "source": [
    "### Création du répertoire local dans GraphDB\n",
    "Pour que la création marche, il faut que GraphDB soit lancé et donc que l'URI donné par `graphdb_url` fonctionne. Si le répertoire existe déjà, rien n'est fait"
   ]
  },
  {
   "cell_type": "code",
   "execution_count": null,
   "metadata": {},
   "outputs": [],
   "source": [
    "# gd.remove_repository(graphdb_url, facts_repository_name)\n",
    "gd.create_config_local_repository_file(local_config_file, facts_repository_name, ruleset_file=ruleset_file, disable_same_as=False)\n",
    "gd.create_repository_from_config_file(graphdb_url, local_config_file)"
   ]
  },
  {
   "cell_type": "markdown",
   "metadata": {},
   "source": [
    "### Vidage du répertoire local\n",
    "Le répertoire dont l'id est `repository_name` pour y stocker les données récupérées, cela est utile si le répertoire existait déjà."
   ]
  },
  {
   "cell_type": "code",
   "execution_count": null,
   "metadata": {},
   "outputs": [],
   "source": [
    "gd.clear_repository(graphdb_url, facts_repository_name)"
   ]
  },
  {
   "cell_type": "markdown",
   "metadata": {},
   "source": [
    "## Import de l'ontologie"
   ]
  },
  {
   "cell_type": "code",
   "execution_count": null,
   "metadata": {},
   "outputs": [],
   "source": [
    "gd.import_ttl_file_in_graphdb(graphdb_url, facts_repository_name, ont_file, ontology_named_graph_name)"
   ]
  },
  {
   "cell_type": "markdown",
   "metadata": {},
   "source": [
    "## Définition de variables liées aux sources"
   ]
  },
  {
   "cell_type": "markdown",
   "metadata": {},
   "source": [
    "### Voies de Paris via Wikidata"
   ]
  },
  {
   "cell_type": "markdown",
   "metadata": {},
   "source": [
    "* `wd` pour \"wikidata\"\n",
    "* `wdpt` pour \"wikidata paris thoroughfares\"\n",
    "* `wdpa` pour \"wikidata paris areas\"\n",
    "* `wdpl` pour \"wikidata paris thoroughfare locations\""
   ]
  },
  {
   "cell_type": "code",
   "execution_count": null,
   "metadata": {},
   "outputs": [],
   "source": [
    "# Nom du répertoire où sont stockés et construits les triplets des factoïdes des données de Wikidata\n",
    "wd_repository_name = \"factoids_wikidata\"\n",
    "\n",
    "# Fichier CSV pour stocker le résultat de la requête de la sélection\n",
    "wdpt_csv_file_name = \"wd_paris_thoroughfares.csv\"\n",
    "wdpt_csv_file = os.path.join(data_folder, wdpt_csv_file_name)\n",
    "\n",
    "# Fichier de mapping pour transformer le fichier CSV en fichier TTL\n",
    "wdpt_mapping_file_name = \"mapping_wikidata_landmarks_thoroughfares.json\"\n",
    "wdpt_mapping_file = os.path.join(mapping_folder, wdpt_mapping_file_name)\n",
    "\n",
    "# Fichier TTL pour structurer les connaissances des voies de Paris\n",
    "wdpt_kg_file_name = \"wd_paris_thoroughfares.ttl\"\n",
    "wdpt_kg_file = os.path.join(tmp_folder, wdpt_kg_file_name)\n",
    "\n",
    "# Fichier CSV pour stocker le résultat de la requête de la sélection\n",
    "wdpa_csv_file_name = \"wd_paris_areas.csv\"\n",
    "wdpa_csv_file = os.path.join(data_folder, wdpa_csv_file_name)\n",
    "\n",
    "# Fichier de mapping pour transformer le fichier CSV en fichier TTL\n",
    "wdpa_mapping_file_name = \"mapping_wikidata_landmarks_areas.json\"\n",
    "wdpa_mapping_file = os.path.join(mapping_folder, wdpa_mapping_file_name)\n",
    "\n",
    "# Fichier TTL pour structurer les connaissances des zones de Paris\n",
    "wdpa_kg_file_name = \"wd_paris_areas.ttl\"\n",
    "wdpa_kg_file = os.path.join(tmp_folder, wdpa_kg_file_name)\n",
    "\n",
    "# Fichier CSV pour stocker le résultat de la requête de la sélection\n",
    "wdpl_csv_file_name = \"wd_paris_locations.csv\"\n",
    "wdpl_csv_file = os.path.join(data_folder, wdpl_csv_file_name)\n",
    "\n",
    "# Fichier de mapping pour transformer le fichier CSV en fichier TTL\n",
    "wdpl_mapping_file_name = \"mapping_wikidata_landmark_relations.json\"\n",
    "wdpl_mapping_file = os.path.join(mapping_folder, wdpl_mapping_file_name)\n",
    "\n",
    "# Fichier TTL pour structurer les connaissances des zones de Paris\n",
    "wdpl_kg_file_name = \"wd_paris_thoroughfare_locations.ttl\"\n",
    "wdpl_kg_file = os.path.join(tmp_folder, wdpl_kg_file_name)\n",
    "\n",
    "# Fichier TTL final des factoïdes de Wikidata\n",
    "wd_factoids_kg_file_name = \"wd_factoids.ttl\"\n",
    "wd_factoids_kg_file = os.path.join(tmp_folder, wd_factoids_kg_file_name)\n",
    "wd_permanent_kg_file_name = \"wd_permanent.ttl\"\n",
    "wd_permanent_kg_file = os.path.join(tmp_folder, wd_permanent_kg_file_name)"
   ]
  },
  {
   "cell_type": "markdown",
   "metadata": {},
   "source": [
    "### Nomenclature des voies de la ville de Paris"
   ]
  },
  {
   "cell_type": "markdown",
   "metadata": {},
   "source": [
    "Les données de la ville de Paris sont composées de deux jeux :\n",
    "* [dénominations des emprises des voies actuelles](https://opendata.paris.fr/explore/dataset/denominations-emprises-voies-actuelles)\n",
    "* [dénominations caduques des voies](https://opendata.paris.fr/explore/dataset/denominations-des-voies-caduques)\n",
    "\n",
    "Les voies actuelles ont une emprise géométrique contrairement aux anciennes voies.\n",
    "\n",
    "* `vpt` pour \"ville paris thoroughfares\"\n",
    "* `vpta` pour \"ville paris thoroughfares actuelles\"\n",
    "* `vptc` pour \"ville paris thoroughfares caduques\""
   ]
  },
  {
   "cell_type": "code",
   "execution_count": null,
   "metadata": {},
   "outputs": [],
   "source": [
    "# Nom du répertoire où sont stockés et construits les triplets des factoïdes des données de la BAN\n",
    "vpt_repository_name = \"factoids_ville_de_paris\"\n",
    "\n",
    "# Fichier CSV pour stocker le résultat de la requête de la sélection\n",
    "vpta_csv_file_name = \"denominations-emprises-voies-actuelles.csv\"\n",
    "vpta_csv_file = os.path.join(data_folder, vpta_csv_file_name)\n",
    "vptc_csv_file_name = \"denominations-des-voies-caduques.csv\"\n",
    "vptc_csv_file = os.path.join(data_folder, vptc_csv_file_name)\n",
    "\n",
    "# Propriétés liées au fichier `vpta_csv_file` (colonne décrivant la géométrie, séparateur de colonnes...)\n",
    "vpta_csv_file_delimiter = \";\"\n",
    "vpta_csv_file_geom_col_name = \"geo_shape\"\n",
    "\n",
    "# Le fichier `vpta_csv_file_name` sera modifié durant le traitement. Le fichier ci-dessous sera la version modifiée.\n",
    "vpta_mod_csv_file_name = \"denominations-emprises-voies-actuelles_wkt.csv\"\n",
    "vpta_mod_csv_file = os.path.join(tmp_folder, vpta_mod_csv_file_name)\n",
    "\n",
    "# Fichier de mapping pour transformer le fichier CSV en fichier TTL\n",
    "vpta_mapping_file_name = \"mapping_voies_paris_actuelles.json\"\n",
    "vpta_mapping_file = os.path.join(mapping_folder, vpta_mapping_file_name)\n",
    "vptc_mapping_file_name = \"mapping_voies_paris_caduques.json\"\n",
    "vptc_mapping_file = os.path.join(mapping_folder, vptc_mapping_file_name)\n",
    "\n",
    "# Fichier TTL pour structurer les connaissances des voies de Paris\n",
    "vpta_kg_file_name = \"voies_paris_actuelles.ttl\"\n",
    "vpta_kg_file = os.path.join(tmp_folder, vpta_kg_file_name)\n",
    "vptc_kg_file_name = \"voies_paris_caduques.ttl\"\n",
    "vptc_kg_file = os.path.join(tmp_folder, vptc_kg_file_name)\n",
    "\n",
    "# Fichier TTL final des factoïdes de Ville de Paris\n",
    "vpt_factoids_kg_file_name = \"vpt_factoids.ttl\"\n",
    "vpt_factoids_kg_file = os.path.join(tmp_folder, vpt_factoids_kg_file_name)\n",
    "vpt_permanent_kg_file_name = \"vpt_permanent.ttl\"\n",
    "vpt_permanent_kg_file = os.path.join(tmp_folder, vpt_permanent_kg_file_name)"
   ]
  },
  {
   "cell_type": "markdown",
   "metadata": {},
   "source": [
    "### Base Adresse Nationale (BAN)"
   ]
  },
  {
   "cell_type": "markdown",
   "metadata": {},
   "source": [
    "Données de la [Base Adresse Nationale (BAN)](https://adresse.data.gouv.fr/base-adresse-nationale), accessible [ici](https://adresse.data.gouv.fr/data/ban/adresses/latest/csv)\n",
    "\n",
    "`bpa` pour \"BAN paris addresses\""
   ]
  },
  {
   "cell_type": "code",
   "execution_count": null,
   "metadata": {},
   "outputs": [],
   "source": [
    "# Nom du répertoire où sont stockés et construits les triplets des factoïdes des données de la BAN\n",
    "bpa_repository_name = \"factoids_ban\"\n",
    "\n",
    "# Fichier CSV pour stocker le résultat de la requête de la sélection\n",
    "bpa_csv_file_name = \"ban_adresses.csv\"\n",
    "bpa_csv_file = os.path.join(data_folder, bpa_csv_file_name)\n",
    "\n",
    "# Fichier de mapping pour transformer le fichier CSV en fichier TTL\n",
    "bpa_mapping_file_name = \"mapping_ban_adresses.json\"\n",
    "bpa_mapping_file = os.path.join(mapping_folder, bpa_mapping_file_name)\n",
    "\n",
    "# Fichier TTL pour structurer les connaissances des voies de Paris\n",
    "bpa_kg_file_name = \"ban_adresses.ttl\"\n",
    "bpa_kg_file = os.path.join(tmp_folder, bpa_kg_file_name)\n",
    "\n",
    "# Fichier TTL final des factoïdes de Ville de Paris\n",
    "bpa_factoids_kg_file_name = \"ban_factoids.ttl\"\n",
    "bpa_factoids_kg_file = os.path.join(tmp_folder, bpa_factoids_kg_file_name)\n",
    "bpa_permanent_kg_file_name = \"ban_permanent.ttl\"\n",
    "bpa_permanent_kg_file = os.path.join(tmp_folder, bpa_permanent_kg_file_name)"
   ]
  },
  {
   "cell_type": "markdown",
   "metadata": {},
   "source": [
    "### OpenStreetMap (OSM)"
   ]
  },
  {
   "cell_type": "markdown",
   "metadata": {},
   "source": [
    "Extraction des données d'OpenStreetMap"
   ]
  },
  {
   "cell_type": "code",
   "execution_count": null,
   "metadata": {},
   "outputs": [],
   "source": [
    "# Nom du répertoire où sont stockés et construits les triplets des factoïdes des données d'OSM\n",
    "osm_repository_name = \"factoids_osm\"\n",
    "\n",
    "# Fichiers CSV pour stocker les résultats des requêtes de la sélection\n",
    "osm_csv_file_name = \"osm_adresses.csv\"\n",
    "osm_csv_file = os.path.join(data_folder, osm_csv_file_name)\n",
    "osm_hn_csv_file_name = \"osm_hn_adresses.csv\"\n",
    "osm_hn_csv_file = os.path.join(data_folder, osm_hn_csv_file_name)\n",
    "\n",
    "# Fichiers de mapping pour transformer les fichier CSV en fichier TTL\n",
    "osm_mapping_file_name = \"mapping_osm_adresses.json\"\n",
    "osm_mapping_file = os.path.join(mapping_folder, osm_mapping_file_name)\n",
    "osm_hn_mapping_file_name = \"mapping_osm_hn_adresses.json\"\n",
    "osm_hn_mapping_file = os.path.join(mapping_folder, osm_hn_mapping_file_name)\n",
    "\n",
    "# Fichiers TTL pour structurer les connaissances venant d'OSM\n",
    "osm_kg_file_name = \"osm_adresses.ttl\"\n",
    "osm_kg_file = os.path.join(tmp_folder, osm_kg_file_name)\n",
    "osm_hn_kg_file_name = \"osm_adresses_hn.ttl\"\n",
    "osm_hn_kg_file = os.path.join(tmp_folder, osm_hn_kg_file_name)\n",
    "\n",
    "# Fichier TTL final des factoïdes de Ville de Paris\n",
    "osm_factoids_kg_file_name = \"osm_factoids.ttl\"\n",
    "osm_factoids_kg_file = os.path.join(tmp_folder, osm_factoids_kg_file_name)\n",
    "osm_permanent_kg_file_name = \"osm_permanent.ttl\"\n",
    "osm_permanent_kg_file = os.path.join(tmp_folder, osm_permanent_kg_file_name)"
   ]
  },
  {
   "cell_type": "markdown",
   "metadata": {},
   "source": [
    "## Fonctions pour des traitements de construction des graphes de factoïdes"
   ]
  },
  {
   "cell_type": "markdown",
   "metadata": {},
   "source": [
    "### Ajout de labels normalisés"
   ]
  },
  {
   "cell_type": "markdown",
   "metadata": {},
   "source": [
    "* Étant donné les variations de labels qui sont similaires, la normalisation consiste ici à :\n",
    "    * la mise en minuscule des caractères\n",
    "    * suppression des signes diacritiques (accents, cédille...)\n",
    "    * suppression de termes \"inutiles\" : déterminants, prépositions...\n",
    "* Ces labels normalisés sont liés aux repères via `skos:hiddenLabel`"
   ]
  },
  {
   "cell_type": "code",
   "execution_count": null,
   "metadata": {},
   "outputs": [],
   "source": [
    "def add_normalized_label_for_landmarks(graphdb_url, repository_name, factoids_graph_uri:URIRef):\n",
    "    \"\"\"\n",
    "    Ajout de labels normalisés pour les repères via `skos:hiddenLabel` dans le graphe nommé temporaire `tmp_graph_uri`\n",
    "    \"\"\"\n",
    "\n",
    "    label_var = \"?label\"\n",
    "    norm_label_var = \"?normLabel\"\n",
    "    norm_label_function = sp.get_lower_simplified_french_street_name_function(label_var)\n",
    "\n",
    "    prefixes = \"\"\"\n",
    "    PREFIX addr: <http://rdf.geohistoricaldata.org/def/address#>\n",
    "    PREFIX skos: <http://www.w3.org/2004/02/skos/core#>\n",
    "    PREFIX ltype: <http://rdf.geohistoricaldata.org/id/codes/address/landmarkType/>\n",
    "    PREFIX atype: <http://rdf.geohistoricaldata.org/id/codes/address/attributeType/>\n",
    "    \"\"\"\n",
    "\n",
    "    query = prefixes + f\"\"\"\n",
    "    INSERT {{\n",
    "        GRAPH ?g {{\n",
    "            ?landmark skos:hiddenLabel {norm_label_var}.\n",
    "        }}\n",
    "    }}\n",
    "    WHERE {{\n",
    "        BIND({factoids_graph_uri.n3()} AS ?g)\n",
    "        GRAPH ?g {{\n",
    "            ?landmark a addr:Landmark; addr:hasAttribute [a addr:Attribute; addr:isAttributeType atype:Name; addr:hasAttributeVersion [a addr:AttributeVersion; addr:versionValue {label_var}]].\n",
    "            BIND(REPLACE({norm_label_function}, \" \", \"\") AS {norm_label_var})\n",
    "        }}\n",
    "    }}\n",
    "    \"\"\"\n",
    "\n",
    "    gd.update_query(query, graphdb_url, repository_name)"
   ]
  },
  {
   "cell_type": "markdown",
   "metadata": {},
   "source": [
    "### Suppression des instants temporels sans timeStamp"
   ]
  },
  {
   "cell_type": "markdown",
   "metadata": {},
   "source": [
    "Il existe des resources de classe `addr:TimeInstant` qui ont un calendrier et une granularité dans avoir de time stamp. Il faut supprimer ces ressources qui n'ont aucune utilité."
   ]
  },
  {
   "cell_type": "code",
   "execution_count": null,
   "metadata": {},
   "outputs": [],
   "source": [
    "def remove_time_instant_without_timestamp(graphdb_url, repository_name, factoids_graph_uri:URIRef):\n",
    "    query = f\"\"\"\n",
    "    PREFIX addr: <http://rdf.geohistoricaldata.org/def/address#> \n",
    "    DELETE {{\n",
    "        ?timeInstant ?p ?o.\n",
    "        ?s ?p ?timeInstant.\n",
    "    }}\n",
    "    WHERE {{\n",
    "        ?timeInstant a addr:TimeInstant.\n",
    "        MINUS {{?timeInstant addr:timeStamp ?timeStamp}}\n",
    "        {{?timeInstant ?p ?o}}UNION{{?s ?p ?timeInstant}}\n",
    "    }}\n",
    "    \"\"\"\n",
    "\n",
    "    gd.update_query(query, graphdb_url, repository_name)"
   ]
  },
  {
   "cell_type": "markdown",
   "metadata": {},
   "source": [
    "### Transfert de triplets vers le graphe nommé permanent"
   ]
  },
  {
   "cell_type": "markdown",
   "metadata": {},
   "source": [
    "Tous les triplets créés via Ontotext-Refine sont initialement importés dans le graphe nommé des factoïdes. Certains doivent être mis dans le graphe nommé permanent, ce sont ceux qui ne pourront être modifiés à l'import dans le répertoire des faits. "
   ]
  },
  {
   "cell_type": "code",
   "execution_count": null,
   "metadata": {},
   "outputs": [],
   "source": [
    "def transfert_immutable_triples(graphdb_url, repository_name, factoids_graph_uri, permanent_graph_uri):\n",
    "    prefixes = \"\"\"\n",
    "    PREFIX owl: <http://www.w3.org/2002/07/owl#>\n",
    "    PREFIX skos: <http://www.w3.org/2004/02/skos/core#>\n",
    "    PREFIX rdfs: <http://www.w3.org/2000/01/rdf-schema#>\n",
    "    PREFIX rico: <https://www.ica.org/standards/RiC/ontology#>\n",
    "    PREFIX prov: <http://www.w3.org/ns/prov#>\n",
    "    PREFIX geofla: <http://data.ign.fr/def/geofla#>\n",
    "    PREFIX addr: <http://rdf.geohistoricaldata.org/def/address#>\n",
    "    PREFIX ltype: <http://rdf.geohistoricaldata.org/id/codes/address/landmarkType/>\n",
    "    PREFIX wb: <http://wikiba.se/ontology#>\n",
    "    \"\"\" \n",
    "    \n",
    "    # Déplacer tous les triplets dont le prédicat est `rico:isOrWasDescribedBy` dans le graphe nommé des triplets permenents\n",
    "    query1 = prefixes + f\"\"\"\n",
    "    DELETE {{\n",
    "       ?s ?p ?o\n",
    "    }}\n",
    "    INSERT {{\n",
    "        GRAPH {permanent_graph_uri.n3()} {{\n",
    "            ?s ?p ?o.\n",
    "        }}\n",
    "    }}\n",
    "    WHERE {{\n",
    "        BIND(rico:isOrWasDescribedBy AS ?p)\n",
    "        ?s ?p ?o.\n",
    "    }} ; \n",
    "    \"\"\"\n",
    "\n",
    "    # Transférer dans le graphe permanent les triplets dont l'objet est une URI donnant la provenance \n",
    "    query2 = prefixes + f\"\"\"\n",
    "    DELETE {{\n",
    "        GRAPH ?gf {{ ?prov ?p ?o }}\n",
    "    }}\n",
    "    INSERT {{\n",
    "        GRAPH ?gp {{ ?prov ?p ?o }}\n",
    "    }}\n",
    "    WHERE\n",
    "    {{\n",
    "        BIND({factoids_graph_uri.n3()} AS ?gf)\n",
    "        BIND({permanent_graph_uri.n3()} AS ?gp)\n",
    "        GRAPH ?gf {{ \n",
    "            ?elem prov:wasDerivedFrom ?prov.\n",
    "            ?prov ?p ?o.\n",
    "        }}\n",
    "    }}\n",
    "    \"\"\"\n",
    "\n",
    "    # Transférer dans le graphe permanent les triplets dont le sujet est un Item ou un Statement de Wikibase\n",
    "    query3 = prefixes + f\"\"\"\n",
    "    DELETE {{\n",
    "        GRAPH ?gf {{ ?elem a ?type }}\n",
    "    }}\n",
    "    INSERT {{\n",
    "        GRAPH ?gp {{ ?elem a ?type }}\n",
    "    }}\n",
    "    WHERE\n",
    "    {{\n",
    "        BIND({factoids_graph_uri.n3()} AS ?gf)\n",
    "        BIND({permanent_graph_uri.n3()} AS ?gp)\n",
    "        GRAPH ?gf {{ \n",
    "            ?elem a ?type.\n",
    "        }}\n",
    "        FILTER (?type in (wb:Item, wb:Statement))\n",
    "    }}\n",
    "    \"\"\"\n",
    "\n",
    "    queries = [query1, query2, query3]\n",
    "    for query in queries:\n",
    "        gd.update_query(query, graphdb_url, repository_name)"
   ]
  },
  {
   "cell_type": "markdown",
   "metadata": {},
   "source": [
    "### Ajout d'un lien entre les repères et les sources"
   ]
  },
  {
   "cell_type": "markdown",
   "metadata": {},
   "source": [
    "Un factoïde est la représentation d'une information, d'un fait dans une source. Ici, on crée des repères qui ont une identité définie par la source. Ces derniers doivent avoir un lien avec la source afin d'attester la provenance de son existence.\n",
    "\n",
    "Pour cela, on sélectionne l'ensemble des repères (`?landmark`) situés dans le graphe nommé défini par `factoids_graph_uri` afin de créer le triplet `<?landmark rico:isOrWasDescribedBy ?sourceUri>` où `?sourceUri` est l'URI décrivant la source."
   ]
  },
  {
   "cell_type": "code",
   "execution_count": null,
   "metadata": {},
   "outputs": [],
   "source": [
    "def add_factoids_resources_links(graphdb_url, repository_name, factoids_graph_uri:URIRef):\n",
    "    # query = f\"\"\"\n",
    "    # PREFIX addr: <http://rdf.geohistoricaldata.org/def/address#> \n",
    "    # PREFIX facts: <http://rdf.geohistoricaldata.org/id/address/facts/>\n",
    "    # PREFIX rico: <https://www.ica.org/standards/RiC/ontology#>\n",
    "\n",
    "    # INSERT {{\n",
    "    #     GRAPH ?g {{\n",
    "    #         ?elem rico:isOrWasDescribedBy {factoids_refactoids_uri.n3()}.\n",
    "    #     }}\n",
    "    # }}WHERE {{\n",
    "    #     {{?type rdfs:subClassOf* addr:Landmark}} UNION\n",
    "    #     {{?type rdfs:subClassOf* addr:LandmarkRelation}} UNION\n",
    "    #     {{?type rdfs:subClassOf* addr:AttributeVersion}} UNION\n",
    "    #     {{?type rdfs:subClassOf* addr:Address}} UNION\n",
    "    #     {{?type rdfs:subClassOf* addr:Change}} UNION\n",
    "    #     {{?type rdfs:subClassOf* addr:Event}} UNION\n",
    "    #     {{?type rdfs:subClassOf* addr:TemporalEntity}} UNION\n",
    "    #     {{?type rdfs:subClassOf* rico:Record}} UNION\n",
    "    #     {{?type rdfs:subClassOf* rico:CorporateBody}}\n",
    "        \n",
    "    #     BIND({factoids_graph_uri.n3()} AS ?g)\n",
    "    #     GRAPH ?g {{\n",
    "    #         ?elem a ?type.\n",
    "    #     }}\n",
    "    # }}\n",
    "    # \"\"\"\n",
    "\n",
    "    # gd.update_query(query, graphdb_url, repository_name)\n",
    "\n",
    "    prefixes = \"\"\"\n",
    "    PREFIX owl: <http://www.w3.org/2002/07/owl#>\n",
    "    PREFIX skos: <http://www.w3.org/2004/02/skos/core#>\n",
    "    PREFIX rdfs: <http://www.w3.org/2000/01/rdf-schema#>\n",
    "    PREFIX rico: <https://www.ica.org/standards/RiC/ontology#>\n",
    "    PREFIX prov: <http://www.w3.org/ns/prov#>\n",
    "    PREFIX geofla: <http://data.ign.fr/def/geofla#>\n",
    "    PREFIX addr: <http://rdf.geohistoricaldata.org/def/address#>\n",
    "    PREFIX ltype: <http://rdf.geohistoricaldata.org/id/codes/address/landmarkType/>\n",
    "    PREFIX ban: <http://rdf.geohistoricaldata.org/id/address/sources/ban/>\n",
    "    PREFIX wb: <http://wikiba.se/ontology#>\n",
    "    \"\"\"\n",
    "\n",
    "    # Ajouter le lien de provenance des versions d'attributs\n",
    "    query = prefixes + f\"\"\"\n",
    "    INSERT {{\n",
    "        GRAPH {factoids_graph_uri.n3()} {{\n",
    "            ?attrVers ?p ?prov.\n",
    "        }}\n",
    "    }}\n",
    "    WHERE {{\n",
    "        BIND(prov:wasDerivedFrom AS ?p)\n",
    "        ?lm a addr:Landmark; addr:hasAttribute [addr:hasAttributeVersion ?attrVers]; ?p ?prov.\n",
    "    }} ; \n",
    "    \"\"\"\n",
    "\n",
    "    gd.update_query(query, graphdb_url, repository_name)"
   ]
  },
  {
   "cell_type": "markdown",
   "metadata": {},
   "source": [
    "### Initialisation d'un répertoire pour créer un graphe de factoïdes"
   ]
  },
  {
   "cell_type": "code",
   "execution_count": null,
   "metadata": {},
   "outputs": [],
   "source": [
    "def create_factoid_repository(graphdb_url, repository_name, namespace_prefixes, tmp_folder, ont_file, ontology_named_graph_name, ruleset_file=None, disable_same_as=False, clear_if_exists=False):\n",
    "    \"`clear_if_exists` is a bool to remove all statements if repository already exists\"\n",
    "    local_config_file_name = f\"config_for_{repository_name}.ttl\" \n",
    "    local_config_file = os.path.join(tmp_folder, local_config_file_name)\n",
    "\n",
    "    if ruleset_file is not None:\n",
    "        gd.create_config_local_repository_file(local_config_file, repository_name, ruleset_file=ruleset_file, disable_same_as=disable_same_as)\n",
    "    else:\n",
    "        gd.create_config_local_repository_file(local_config_file, repository_name, disable_same_as=disable_same_as)\n",
    "    gd.create_repository_from_config_file(graphdb_url, local_config_file)\n",
    "    if clear_if_exists:\n",
    "        gd.clear_repository(graphdb_url, repository_name)\n",
    "\n",
    "    gd.add_prefixes_to_repository(graphdb_url, repository_name, namespace_prefixes)\n",
    "    gd.import_ttl_file_in_graphdb(graphdb_url, repository_name, ont_file, ontology_named_graph_name)"
   ]
  },
  {
   "cell_type": "markdown",
   "metadata": {},
   "source": [
    "### Transfert des factoïdes vers le graphe des faits"
   ]
  },
  {
   "cell_type": "code",
   "execution_count": null,
   "metadata": {},
   "outputs": [],
   "source": [
    "def transfert_factoids_to_facts_repository(graphdb_url, facts_repository_name, factoids_repository_name, factoids_ttl_file, permanent_ttl_file, factoids_graph_name, facts_graph_name, permanent_graph_name):\n",
    "    factoids_graph_uri = URIRef(gd.get_graph_uri_from_name(graphdb_url, factoids_repository_name, factoids_graph_name))\n",
    "    permanent_graph_uri = URIRef(gd.get_graph_uri_from_name(graphdb_url, factoids_repository_name, permanent_graph_name))\n",
    "    gd.export_data_from_repository(graphdb_url, factoids_repository_name, factoids_ttl_file, factoids_graph_uri)\n",
    "    gd.export_data_from_repository(graphdb_url, factoids_repository_name, permanent_ttl_file, permanent_graph_uri)\n",
    "    gd.import_ttl_file_in_graphdb(graphdb_url, facts_repository_name, factoids_ttl_file, factoids_graph_name)\n",
    "    gd.import_ttl_file_in_graphdb(graphdb_url, facts_repository_name, permanent_ttl_file, facts_graph_name)"
   ]
  },
  {
   "cell_type": "markdown",
   "metadata": {},
   "source": [
    "### Conversion du fichier brut vers le graphe dans GraphDB"
   ]
  },
  {
   "cell_type": "markdown",
   "metadata": {},
   "source": [
    "À partir un fichier brut (un fichier tabulaire comme un CSV), la fonction le convertit en graphe de connaissances dans un fichier `ttl` (ici `kg_file`). La manière de convertir le fichier est défini par le fichier `ontorefine_mapping_file`, la conversion se fait par Ontotext Refine. Par la suite, le fichier `ttl` est importé dans le répertoire dont le nom est `repository_name`, plus précisément dans le graphe nommé `graph_name`."
   ]
  },
  {
   "cell_type": "code",
   "execution_count": null,
   "metadata": {},
   "outputs": [],
   "source": [
    "def from_raw_to_data_to_graphdb(graphdb_url, ontorefine_url, ontorefine_cmd, repository_name, graph_name, csv_file, ontorefine_mapping_file, kg_file):\n",
    "    # Si ça ne marche pas ici, c'est sûrement qu'Ontotext Refine n'est pas lancé\n",
    "    otr.get_export_file_from_ontorefine(csv_file, ontorefine_mapping_file, kg_file, ontorefine_cmd, ontorefine_url, repository_name)\n",
    "\n",
    "    # Importer le fichier `kg_file` qui a été créé lors de la ligne précédente dans le répertoire `repository_name`, dans le graphe nommé `graph_name` \n",
    "    gd.import_ttl_file_in_graphdb(graphdb_url, repository_name, kg_file, graph_name)"
   ]
  },
  {
   "cell_type": "markdown",
   "metadata": {},
   "source": [
    "## Construction des factoïdes pour chaque source"
   ]
  },
  {
   "cell_type": "markdown",
   "metadata": {},
   "source": [
    "### Nomenclature des voies de la ville de Paris"
   ]
  },
  {
   "cell_type": "markdown",
   "metadata": {},
   "source": [
    "#### Création des données liées à la source"
   ]
  },
  {
   "cell_type": "code",
   "execution_count": null,
   "metadata": {},
   "outputs": [],
   "source": [
    "def create_source_ville_paris(graphdb_url, repository_name, source_uri:URIRef, graph_uri:URIRef):\n",
    "    query = f\"\"\"\n",
    "        PREFIX addr: <http://rdf.geohistoricaldata.org/def/address#> \n",
    "        PREFIX facts: <http://rdf.geohistoricaldata.org/id/address/facts/>\n",
    "        PREFIX rico: <https://www.ica.org/standards/RiC/ontology#>\n",
    "\n",
    "        INSERT DATA {{\n",
    "            GRAPH {graph_uri.n3()} {{\n",
    "                {source_uri.n3()} a rico:Record;\n",
    "                    rdfs:label \"dénomination des voies de Paris (actuelles et caduques)\"@fr;\n",
    "                    rico:hasPublisher facts:DirTopoDocFoncVP .\n",
    "                facts:DirTopoDocFoncVP a rico:CorporateBody;\n",
    "                    rdfs:label \"Département de la Topographie et de la Documentation Foncière de la Ville de Paris\"@fr.    \n",
    "            }}\n",
    "        }}\n",
    "        \"\"\"\n",
    "    \n",
    "    gd.update_query(query, graphdb_url, repository_name)"
   ]
  },
  {
   "cell_type": "markdown",
   "metadata": {},
   "source": [
    "#### Conversion du fichier de départ"
   ]
  },
  {
   "cell_type": "markdown",
   "metadata": {},
   "source": [
    "Le fichier `vpta_csv_file` comporte une colonne donnant la géométrie de la voie (donnée ici par la variable `vpta_csv_file_geom_col_name`). Toutefois, les géométries sont représentées en geojson mais il est nécessaire de les avoir en WKT. La fonction ci-dessous permet de faire la conversion en enregistrant la nouvelle version sous un nouveau fichier."
   ]
  },
  {
   "cell_type": "code",
   "execution_count": null,
   "metadata": {},
   "outputs": [],
   "source": [
    "def get_csv_file_with_wkt_geom(csv_file_raw, csv_file, geom_column, delimiter=\",\"):\n",
    "    \"\"\"\n",
    "    Obtention d'une nouvelle version d'un fichier csv en convertissant une des colonnes (`geom_column`) en géométrie WKT si celle-ci est une géométrie geojson\n",
    "    Le fichier de départ est `csv_file_raw` et la nouvelle version est `csv_file`.\n",
    "    \"\"\"\n",
    "    file1 = open(csv_file_raw)\n",
    "    file2 = open(csv_file, \"w\")\n",
    "    csvreader1 = csv.reader(file1, delimiter=delimiter)\n",
    "    csvreader2 = csv.writer(file2, delimiter=delimiter)\n",
    "\n",
    "    header = next(csvreader1)\n",
    "    csvreader2.writerow(header)\n",
    "    geom_index = header.index(geom_column)\n",
    "\n",
    "    for row in csvreader1:\n",
    "        str_geom = row[geom_index]\n",
    "        geom = json.loads(str_geom)\n",
    "        wkt_geom = gp.from_geojson_to_wkt(geom)\n",
    "        row[geom_index] = wkt_geom\n",
    "        csvreader2.writerow(row)\n",
    "\n",
    "    file1.close()\n",
    "    file2.close()"
   ]
  },
  {
   "cell_type": "markdown",
   "metadata": {},
   "source": [
    "#### Définition d'un processus de création des données de la Ville de Paris"
   ]
  },
  {
   "cell_type": "code",
   "execution_count": null,
   "metadata": {},
   "outputs": [],
   "source": [
    "def create_factoid_process_ville_paris(graphdb_url, repository_name, namespace_prefixes, tmp_folder,\n",
    "                                       ontorefine_url, ontorefine_cmd,\n",
    "                                       ont_file, ontology_named_graph_name,\n",
    "                                       factoids_graph_name, permanent_graph_name,\n",
    "                                       vpta_csv_file, vpta_mod_csv_file,\n",
    "                                       vpta_csv_file_delimiter, vpta_csv_file_geom_col_name, vptc_csv_file,\n",
    "                                       vpta_mapping_file, vptc_mapping_file,\n",
    "                                       vpta_kg_file, vptc_kg_file):\n",
    "    \"\"\"\n",
    "    Fonction pour faire l'ensemble des processus relatifs à la création des factoïdes pour les données de la dénomination des voies de la ville de Paris\n",
    "    \"\"\"\n",
    "\n",
    "    # Création d'un répertoire des factoïdes pour les données de la ville de Paris\n",
    "    create_factoid_repository(graphdb_url, repository_name, namespace_prefixes, tmp_folder, ont_file, ontology_named_graph_name, disable_same_as=False, clear_if_exists=True)\n",
    "\n",
    "    # Récupération des URI des graphes nommés\n",
    "    factoids_graph_uri = URIRef(gd.get_graph_uri_from_name(graphdb_url, repository_name, factoids_graph_name))\n",
    "    permanent_graph_uri = URIRef(gd.get_graph_uri_from_name(graphdb_url, repository_name, permanent_graph_name))\n",
    "\n",
    "    # Création d'une nouvelle version du fichier `vpta_csv_file` via `vpta_mod_csv_file` qui comporte des géométries WKT au lieu de geojson\n",
    "    get_csv_file_with_wkt_geom(vpta_csv_file, vpta_mod_csv_file, vpta_csv_file_geom_col_name, vpta_csv_file_delimiter)\n",
    "\n",
    "    # A partir des fichiers csv décrivant les voies de la ville de Paris, convertir en un graphe de connaissance selon le mapping défini\n",
    "    # Puis import du graphe dans le répertoire dont le nom est `repository_name` et dans le graphe nommé donné par `graph_name`\n",
    "    from_raw_to_data_to_graphdb(graphdb_url, ontorefine_url, ontorefine_cmd, repository_name, factoids_graph_name, vpta_mod_csv_file, vpta_mapping_file, vpta_kg_file)\n",
    "    from_raw_to_data_to_graphdb(graphdb_url, ontorefine_url, ontorefine_cmd, repository_name, factoids_graph_name, vptc_csv_file, vptc_mapping_file, vptc_kg_file)\n",
    "\n",
    "    # Suppression des instants qui n'ont aucun timeStamp (instants sans date)\n",
    "    remove_time_instant_without_timestamp(graphdb_url, repository_name, factoids_graph_uri)\n",
    "    \n",
    "    # L'URI ci-dessous définit la source liée à la ville de Paris\n",
    "    vdp_source_uri = URIRef(\"http://rdf.geohistoricaldata.org/id/address/facts/Source_VDP\")\n",
    "    create_source_ville_paris(graphdb_url, repository_name, vdp_source_uri, permanent_graph_uri)\n",
    "\n",
    "    # # Ajout de labels normalisés\n",
    "    add_normalized_label_for_landmarks(graphdb_url, repository_name, factoids_graph_uri)\n",
    "\n",
    "    # Transfert de triplets non modifiables vers le graphe nommé permanent\n",
    "    transfert_immutable_triples(graphdb_url, repository_name, factoids_graph_uri, permanent_graph_uri)\n",
    "\n",
    "    # # Ajout de liens entre les ressources de type repère et la source\n",
    "    # add_factoids_resources_links(graphdb_url, repository_name, factoids_graph_uri)"
   ]
  },
  {
   "cell_type": "markdown",
   "metadata": {},
   "source": [
    "### Base Adresse Nationale (BAN)"
   ]
  },
  {
   "cell_type": "markdown",
   "metadata": {},
   "source": [
    "#### Création des données liées à la source"
   ]
  },
  {
   "cell_type": "code",
   "execution_count": null,
   "metadata": {},
   "outputs": [],
   "source": [
    "def create_source_ban(graphdb_url, repository_name, source_uri:URIRef, graph_uri:URIRef):\n",
    "    query = f\"\"\"\n",
    "        PREFIX addr: <http://rdf.geohistoricaldata.org/def/address#> \n",
    "        PREFIX facts: <http://rdf.geohistoricaldata.org/id/address/facts/>\n",
    "        PREFIX rico: <https://www.ica.org/standards/RiC/ontology#>\n",
    "\n",
    "        INSERT DATA {{\n",
    "            GRAPH {graph_uri.n3()} {{\n",
    "                {source_uri.n3()} a rico:Record;\n",
    "                    rdfs:label \"Base Adresse Nationale\"@fr;\n",
    "                    rico:hasPublisher facts:DINUM_ANCT_IGN .\n",
    "                facts:DINUM_ANCT_IGN a rico:CorporateBody;\n",
    "                    rdfs:label \"DINUM / ANCT / IGN\"@fr.\n",
    "            }}\n",
    "        }}\n",
    "        \"\"\"\n",
    "    \n",
    "    gd.update_query(query, graphdb_url, repository_name)"
   ]
  },
  {
   "cell_type": "markdown",
   "metadata": {},
   "source": [
    "#### Nettoyage du graphe"
   ]
  },
  {
   "cell_type": "markdown",
   "metadata": {},
   "source": [
    "Détection de repères décrits via plusieurs ressources et création d'une unique ressource pour chaque."
   ]
  },
  {
   "cell_type": "code",
   "execution_count": null,
   "metadata": {},
   "outputs": [],
   "source": [
    "# Détection des communes et arrondissements dupliqués et création d'une source centrale (?newLandmark) selon le code INSEE.\n",
    "def clean_ban_graph(graphdb_url, repository_name, factoids_graph_uri, permanent_graph_uri):\n",
    "    prefixes = \"\"\"\n",
    "    PREFIX owl: <http://www.w3.org/2002/07/owl#>\n",
    "    PREFIX skos: <http://www.w3.org/2004/02/skos/core#>\n",
    "    PREFIX rdfs: <http://www.w3.org/2000/01/rdf-schema#>\n",
    "    PREFIX prov: <http://www.w3.org/ns/prov#>\n",
    "    PREFIX rico: <https://www.ica.org/standards/RiC/ontology#>\n",
    "    PREFIX geofla: <http://data.ign.fr/def/geofla#>\n",
    "    PREFIX addr: <http://rdf.geohistoricaldata.org/def/address#>\n",
    "    PREFIX ltype: <http://rdf.geohistoricaldata.org/id/codes/address/landmarkType/>\n",
    "    PREFIX ban: <http://rdf.geohistoricaldata.org/id/address/sources/ban/>\n",
    "    \"\"\"\n",
    "\n",
    "    label_var = \"?label\"\n",
    "    norm_label_var = \"?normLabel\"\n",
    "    norm_label_function = sp.get_lower_simplified_french_street_name_function(label_var)\n",
    "\n",
    "    query1 = prefixes + f\"\"\"\n",
    "    INSERT {{\n",
    "        GRAPH ?g {{\n",
    "            ?landmark skos:hiddenLabel {norm_label_var}.\n",
    "        }}\n",
    "    }}\n",
    "    WHERE {{\n",
    "        BIND({factoids_graph_uri.n3()} AS ?g)\n",
    "        GRAPH ?g {{\n",
    "            ?landmark a addr:Landmark; rdfs:label {label_var}.\n",
    "            BIND(REPLACE({norm_label_function}, \" \", \"\") AS {norm_label_var})\n",
    "        }}\n",
    "    }}\n",
    "    \"\"\"\n",
    "\n",
    "    query2 = prefixes + f\"\"\"\n",
    "    INSERT {{\n",
    "        GRAPH ?g {{\n",
    "            ?landmark skos:exactMatch ?tmpLandmark.\n",
    "        }}\n",
    "    }}\n",
    "    WHERE\n",
    "    {{\n",
    "        BIND({factoids_graph_uri.n3()} AS ?g)\n",
    "        {{\n",
    "            SELECT DISTINCT ?insee {{\n",
    "                GRAPH ?g {{\n",
    "                    ?tmpLandmark a addr:Landmark; geofla:numInsee ?insee.\n",
    "                }}\n",
    "            }}\n",
    "        }}\n",
    "        BIND(URI(CONCAT(STR(URI(ban:)), \"BAN_LM_\", STRUUID())) AS ?landmark)\n",
    "\n",
    "        GRAPH ?g {{\n",
    "            ?tmpLandmark a addr:Landmark; addr:isLandmarkType ?landmarkType; geofla:numInsee ?insee.\n",
    "        }}\n",
    "    }}\n",
    "    \"\"\"\n",
    "\n",
    "    # Détection des doublons sur les codes postaux\n",
    "\n",
    "    query3 = prefixes + f\"\"\"\n",
    "    INSERT {{\n",
    "        GRAPH ?g {{\n",
    "            ?landmark skos:exactMatch ?tmpLandmark.\n",
    "        }}\n",
    "    }}\n",
    "    WHERE\n",
    "    {{\n",
    "        BIND({factoids_graph_uri.n3()} AS ?g)\n",
    "        {{\n",
    "            SELECT DISTINCT ?postalCode {{\n",
    "                GRAPH ?g {{\n",
    "                    ?tmpLandmark a addr:Landmark; addr:isLandmarkType ltype:PostalCode; rdfs:label ?postalCode.\n",
    "                }}\n",
    "            }}\n",
    "        }}\n",
    "        BIND(URI(CONCAT(STR(URI(ban:)), \"BAN_LM_\", STRUUID())) AS ?landmark)\n",
    "\n",
    "        GRAPH ?g {{\n",
    "            ?tmpLandmark a addr:Landmark; addr:isLandmarkType ltype:PostalCode; rdfs:label ?postalCode.\n",
    "        }}\n",
    "    }}\n",
    "    \"\"\"\n",
    "\n",
    "    # Détection des doublons sur les voies (même nom et appartient à la même commune ou au même arrondissement)\n",
    "\n",
    "    query4 = prefixes + f\"\"\"\n",
    "    INSERT {{\n",
    "        GRAPH ?g {{\n",
    "            ?landmark skos:exactMatch ?tmpLandmark.\n",
    "        }}\n",
    "    }}\n",
    "    WHERE\n",
    "    {{\n",
    "        BIND({factoids_graph_uri.n3()} AS ?g)\n",
    "        {{\n",
    "            SELECT DISTINCT ?label ?district WHERE {{\n",
    "                GRAPH ?g {{\n",
    "                    ?tmpLandmark a addr:Landmark; addr:isLandmarkType ltype:Thoroughfare; skos:hiddenLabel ?label.\n",
    "                    ?addrSeg a addr:AddressSegment; addr:relatum ?tmpLandmark; addr:nextStep [a addr:AddressSegment; addr:relatum ?tmpDistrict].\n",
    "                    ?tmpDistrict a addr:Landmark; addr:isLandmarkType ltype:District.\n",
    "                    ?district skos:exactMatch ?tmpDistrict.\n",
    "                }}\n",
    "            }}\n",
    "        }}\n",
    "        BIND(URI(CONCAT(STR(URI(ban:)), \"BAN_LM_\", STRUUID())) AS ?landmark)\n",
    "\n",
    "        GRAPH ?g {{\n",
    "            ?tmpLandmark a addr:Landmark; addr:isLandmarkType ltype:Thoroughfare; skos:hiddenLabel ?label.\n",
    "                    ?addrSeg a addr:AddressSegment; addr:relatum ?tmpLandmark; addr:nextStep [a addr:AddressSegment; addr:relatum ?tmpDistrict].\n",
    "                    ?tmpDistrict a addr:Landmark; addr:isLandmarkType ltype:District.\n",
    "                    ?district skos:exactMatch ?tmpDistrict.\n",
    "        }}\n",
    "    }}\n",
    "    \"\"\"\n",
    "    # Transfert des données des ressources temporaires vers les permanentes.\n",
    "    query5 = prefixes + f\"\"\"\n",
    "    DELETE {{\n",
    "        GRAPH ?g {{\n",
    "            ?s ?p ?tmpLandmark.\n",
    "            ?tmpLandmark ?p ?o.\n",
    "        }}\n",
    "    }}\n",
    "    INSERT {{\n",
    "        GRAPH ?g {{\n",
    "            ?s ?p ?landmark.\n",
    "            ?landmark ?p ?o.\n",
    "        }}\n",
    "    }}\n",
    "    WHERE {{\n",
    "        ?landmark skos:exactMatch ?tmpLandmark.\n",
    "        GRAPH ?g {{\n",
    "            {{?tmpLandmark ?p ?o}} UNION {{?s ?p ?tmpLandmark}}\n",
    "          }}\n",
    "    }} ; \n",
    "\n",
    "    DELETE {{\n",
    "        ?landmark skos:exactMatch ?tmpLandmark.\n",
    "    }}\n",
    "    WHERE {{\n",
    "        BIND({factoids_graph_uri.n3()} AS ?g)\n",
    "        GRAPH ?g {{\n",
    "            ?landmark skos:exactMatch ?tmpLandmark.\n",
    "        }}\n",
    "    }}\n",
    "    \"\"\"\n",
    "\n",
    "    queries = [query1, query2, query3, query4, query5]\n",
    "    for query in queries:\n",
    "        gd.update_query(query, graphdb_url, repository_name)"
   ]
  },
  {
   "cell_type": "markdown",
   "metadata": {},
   "source": [
    "### Ajout d'événéments / de changements ainsi que des attributs à tous les repères"
   ]
  },
  {
   "cell_type": "code",
   "execution_count": null,
   "metadata": {},
   "outputs": [],
   "source": [
    "def add_missing_elements_for_landmarks(graphdb_url, repository_name, factoids_graph_uri):\n",
    "    \"\"\"\n",
    "    Ajouter des éléments comme les changements, les événements, les attributs et leurs versions\n",
    "    \"\"\"\n",
    "\n",
    "    query = f\"\"\"\n",
    "    PREFIX geo: <http://www.opengis.net/ont/geosparql#>\n",
    "    PREFIX geofla: <http://data.ign.fr/def/geofla#>\n",
    "    PREFIX addr: <http://rdf.geohistoricaldata.org/def/address#> \n",
    "    PREFIX factoids: <http://rdf.geohistoricaldata.org/id/address/factoids/>\n",
    "    PREFIX ctype: <http://rdf.geohistoricaldata.org/id/codes/address/changeType/>\n",
    "    PREFIX atype: <http://rdf.geohistoricaldata.org/id/codes/address/attributeType/>\n",
    "    DELETE {{\n",
    "        GRAPH ?g {{ \n",
    "            ?landmark geo:asWKT ?geom; geofla:numInsee ?inseeCode.\n",
    "        }}\n",
    "    }}\n",
    "    INSERT {{\n",
    "        GRAPH ?g {{\n",
    "            ?landmark addr:hasAttribute ?nameAttribute, ?geomAttribute, ?inseeCodeAttribute.\n",
    "            ?nameAttribute a addr:Attribute; addr:isAttributeType atype:Name; addr:hasAttributeVersion ?versionNameAttribute.\n",
    "            ?inseeCodeAttribute a addr:Attribute; addr:isAttributeType atype:InseeCode; addr:hasAttributeVersion ?versionInseeCodeAttribute.\n",
    "            ?geomAttribute a addr:Attribute; addr:isAttributeType atype:Geometry; addr:hasAttributeVersion ?versionGeomAttribute.\n",
    "            ?versionNameAttribute a addr:AttributeVersion; addr:versionValue ?label.\n",
    "            ?versionInseeCodeAttribute a addr:AttributeVersion; addr:versionValue ?inseeCode.\n",
    "            ?versionGeomAttribute a addr:AttributeVersion; addr:versionValue ?geom.\n",
    "            ?landmarkChangeApp a addr:LandmarkChange; addr:isChangeType ctype:LandmarkAppearance; addr:appliedTo ?landmark; addr:dependsOn ?landmarkEventApp.\n",
    "            ?landmarkChangeDis a addr:LandmarkChange; addr:isChangeType ctype:LandmarkDisappearance; addr:appliedTo ?landmark; addr:dependsOn ?landmarkEventDis.\n",
    "            ?versNameAttributeChangeApp a addr:AttributeChange; addr:isChangeType ctype:AttributeVersionAppearance; addr:appliedTo ?nameAttribute; addr:dependsOn ?landmarkEventApp; addr:makesEffective ?versionNameAttribute.\n",
    "            ?versNameAttributeChangeDis a addr:AttributeChange; addr:isChangeType ctype:AttributeVersionDisappearance; addr:appliedTo ?nameAttribute; addr:dependsOn ?landmarkEventDis; addr:outdates ?versionNameAttribute.\n",
    "            ?inseeCodeAttributeChangeApp a addr:AttributeChange; addr:isChangeType ctype:AttributeVersionAppearance; addr:appliedTo ?inseeCodeAttribute; addr:dependsOn ?inseeCodeAttributeEventApp; addr:makesEffective ?versionInseeCodeAttribute.\n",
    "            ?inseeCodeAttributeChangeDis a addr:AttributeChange; addr:isChangeType ctype:AttributeVersionDisappearance; addr:appliedTo ?inseeCodeAttribute; addr:dependsOn ?inseeCodeAttributeEventDis; addr:outdates ?versionInseeCodeAttribute.\n",
    "            ?geomAttributeChangeApp a addr:AttributeChange; addr:isChangeType ctype:AttributeVersionAppearance; addr:appliedTo ?geomAttribute; addr:dependsOn ?geomAttributeEventApp; addr:makesEffective ?versionGeomAttribute.\n",
    "            ?geomAttributeChangeDis a addr:AttributeChange; addr:isChangeType ctype:AttributeVersionDisappearance; addr:appliedTo ?geomAttribute; addr:dependsOn ?geomAttributeEventDis; addr:outdates ?versionGeomAttribute.\n",
    "            ?landmarkEventApp a addr:Event.\n",
    "            ?landmarkEventDis a addr:Event.\n",
    "            ?inseeCodeAttributeEventApp a addr:Event.\n",
    "            ?inseeCodeAttributeEventDis a addr:Event.\n",
    "            ?geomAttributeEventApp a addr:Event.\n",
    "            ?geomAttributeEventDis a addr:Event.\n",
    "        }}  \n",
    "    }}\n",
    "    WHERE {{\n",
    "        {{\n",
    "            SELECT * {{\n",
    "                BIND({factoids_graph_uri.n3()} AS ?g)\n",
    "                GRAPH ?g {{\n",
    "                    ?landmark a addr:Landmark; rdfs:label ?label.\n",
    "                    OPTIONAL {{?landmark geo:asWKT ?geom}}\n",
    "                    OPTIONAL {{?landmark geofla:numInsee ?inseeCode}}\n",
    "                }}\n",
    "            }}\n",
    "        }}\n",
    "        BIND(URI(CONCAT(STR(URI(factoids:)), \"CGA_\", STRUUID())) AS ?landmarkChangeApp)\n",
    "        BIND(URI(CONCAT(STR(URI(factoids:)), \"CGD_\", STRUUID())) AS ?landmarkChangeDis)\n",
    "        BIND(URI(CONCAT(STR(URI(factoids:)), \"EVA_\", STRUUID())) AS ?landmarkEventApp)\n",
    "        BIND(URI(CONCAT(STR(URI(factoids:)), \"EVD_\", STRUUID())) AS ?landmarkEventDis)\n",
    "        BIND(URI(CONCAT(STR(URI(factoids:)), \"AN_\", STRUUID())) AS ?nameAttribute)\n",
    "        BIND(URI(CONCAT(STR(URI(factoids:)), \"ANV_\", STRUUID())) AS ?versionNameAttribute)\n",
    "        BIND(URI(CONCAT(STR(URI(factoids:)), \"CGA_AN_\", STRUUID())) AS ?versNameAttributeChangeApp)\n",
    "        BIND(URI(CONCAT(STR(URI(factoids:)), \"CGD_AN_\", STRUUID())) AS ?versNameAttributeChangeDis)\n",
    "        BIND(IF(BOUND(?inseeCode), URI(CONCAT(STR(URI(factoids:)), \"AI_\", STRUUID())), ?x) AS ?inseeCodeAttribute)\n",
    "        BIND(IF(BOUND(?inseeCode), URI(CONCAT(STR(URI(factoids:)), \"AIV_\", STRUUID())), ?x) AS ?versionInseeCodeAttribute)\n",
    "        BIND(IF(BOUND(?inseeCode), URI(CONCAT(STR(URI(factoids:)), \"CGA_AI_\", STRUUID())), ?x) AS ?inseeCodeAttributeChangeApp)\n",
    "        BIND(IF(BOUND(?inseeCode), URI(CONCAT(STR(URI(factoids:)), \"CGD_AI_\", STRUUID())), ?x) AS ?inseeCodeAttributeChangeDis)\n",
    "        BIND(IF(BOUND(?inseeCode), URI(CONCAT(STR(URI(factoids:)), \"EVA_AI_\", STRUUID())), ?x) AS ?inseeCodeAttributeEventApp)\n",
    "        BIND(IF(BOUND(?inseeCode), URI(CONCAT(STR(URI(factoids:)), \"EVD_AI_\", STRUUID())), ?x) AS ?inseeCodeAttributeEventDis)\n",
    "        BIND(IF(BOUND(?geom), URI(CONCAT(STR(URI(factoids:)), \"AG_\", STRUUID())), ?x) AS ?geomAttribute)\n",
    "        BIND(IF(BOUND(?geom), URI(CONCAT(STR(URI(factoids:)), \"AGV_\", STRUUID())), ?x) AS ?versionGeomAttribute)\n",
    "        BIND(IF(BOUND(?geom), URI(CONCAT(STR(URI(factoids:)), \"CGA_AG_\", STRUUID())), ?x) AS ?geomAttributeChangeApp)\n",
    "        BIND(IF(BOUND(?geom), URI(CONCAT(STR(URI(factoids:)), \"CGD_AG_\", STRUUID())), ?x) AS ?geomAttributeChangeDis)\n",
    "        BIND(IF(BOUND(?geom), URI(CONCAT(STR(URI(factoids:)), \"EVA_AG_\", STRUUID())), ?x) AS ?geomAttributeEventApp)\n",
    "        BIND(IF(BOUND(?geom), URI(CONCAT(STR(URI(factoids:)), \"EVD_AG_\", STRUUID())), ?x) AS ?geomAttributeEventDis)\n",
    "    }}\n",
    "    \"\"\"\n",
    "    \n",
    "    gd.update_query(query, graphdb_url, repository_name)\n"
   ]
  },
  {
   "cell_type": "markdown",
   "metadata": {},
   "source": [
    "#### Définition d'un processus de création des données de la BAN"
   ]
  },
  {
   "cell_type": "code",
   "execution_count": null,
   "metadata": {},
   "outputs": [],
   "source": [
    "def create_factoid_process_ban(graphdb_url, repository_name, namespace_prefixes, tmp_folder,\n",
    "                               ontorefine_url, ontorefine_cmd, ont_file, ontology_named_graph_name,\n",
    "                               factoids_graph_name, permanent_graph_name,\n",
    "                               ban_csv_file, ban_mapping_file, ban_kg_file):\n",
    "\n",
    "    \"\"\"\n",
    "    Fonction pour faire l'ensemble des processus relatifs à la création des factoïdes pour les données de la BAN\n",
    "    \"\"\"\n",
    "\n",
    "    # Création d'un répertoire des factoïdes pour les données de la BAN\n",
    "    create_factoid_repository(graphdb_url, repository_name, namespace_prefixes, tmp_folder, ont_file, ontology_named_graph_name, disable_same_as=False, clear_if_exists=True)\n",
    "\n",
    "    # Récupération des URI des graphes nommés\n",
    "    factoids_graph_uri = URIRef(gd.get_graph_uri_from_name(graphdb_url, repository_name, factoids_graph_name))\n",
    "    permanent_graph_uri = URIRef(gd.get_graph_uri_from_name(graphdb_url, repository_name, permanent_graph_name))\n",
    "\n",
    "    # A partir des fichiers csv décrivant les adresses de la BAN dans Paris, convertir en un graphe de connaissance selon le mapping défini\n",
    "    # Puis import du graphe dans le répertoire dont le nom est `repository_name` et dans le graphe nommé donné par `graph_name`\n",
    "    from_raw_to_data_to_graphdb(graphdb_url, ontorefine_url, ontorefine_cmd, repository_name, factoids_graph_name, ban_csv_file, ban_mapping_file, ban_kg_file)\n",
    "\n",
    "    # Suppression des instants qui n'ont aucun timeStamp (instants sans date)\n",
    "    remove_time_instant_without_timestamp(graphdb_url, repository_name, factoids_graph_uri)\n",
    "\n",
    "    # Nettoyer les données en fusionnant les doublons après l'import dans GraphDB\n",
    "    clean_ban_graph(graphdb_url, repository_name, factoids_graph_uri, permanent_graph_uri)\n",
    "\n",
    "    # Ajout d'éléments manquants\n",
    "    add_missing_elements_for_landmarks(graphdb_url, repository_name, factoids_graph_uri)\n",
    "\n",
    "    # L'URI ci-dessous définit la source liée à la BAN\n",
    "    ban_factoids_uri = URIRef(\"http://rdf.geohistoricaldata.org/id/address/facts/Source_BAN\")\n",
    "    create_source_ban(graphdb_url, repository_name, ban_factoids_uri, permanent_graph_uri)\n",
    "\n",
    "    # Transfert de triplets non modifiables vers le graphe nommé permanent\n",
    "    transfert_immutable_triples(graphdb_url, repository_name, factoids_graph_uri, permanent_graph_uri)\n",
    "\n",
    "    # Ajout de labels normalisés\n",
    "    add_normalized_label_for_landmarks(graphdb_url, repository_name, factoids_graph_uri)\n",
    "    \n",
    "    # Ajout de liens entre les ressources de type repère et la source\n",
    "    add_factoids_resources_links(graphdb_url, repository_name, factoids_graph_uri)"
   ]
  },
  {
   "cell_type": "markdown",
   "metadata": {},
   "source": [
    "### Voies de Paris via Wikidata"
   ]
  },
  {
   "cell_type": "markdown",
   "metadata": {},
   "source": [
    "#### Création des données liées à la source"
   ]
  },
  {
   "cell_type": "code",
   "execution_count": null,
   "metadata": {},
   "outputs": [],
   "source": [
    "def create_source_wikidata(graphdb_url, repository_name, source_uri:URIRef, graph_uri:URIRef):\n",
    "    query = f\"\"\"\n",
    "        PREFIX addr: <http://rdf.geohistoricaldata.org/def/address#> \n",
    "        PREFIX facts: <http://rdf.geohistoricaldata.org/id/address/facts/>\n",
    "        PREFIX rico: <https://www.ica.org/standards/RiC/ontology#>\n",
    "\n",
    "        INSERT DATA {{\n",
    "            GRAPH {graph_uri.n3()} {{\n",
    "                {source_uri.n3()} a rico:Record;\n",
    "                    rdfs:label \"Wikidata\"@fr.\n",
    "            }}\n",
    "        }}\n",
    "        \"\"\"\n",
    "    \n",
    "    gd.update_query(query, graphdb_url, repository_name)"
   ]
  },
  {
   "cell_type": "markdown",
   "metadata": {},
   "source": [
    "#### Nettoyage du graphe"
   ]
  },
  {
   "cell_type": "code",
   "execution_count": null,
   "metadata": {},
   "outputs": [],
   "source": [
    "def clean_wikidata_graph(graphdb_url, repository_name, factoids_graph_uri:URIRef, permanent_graph_uri:URIRef):\n",
    "    prefixes = \"\"\"\n",
    "    PREFIX owl: <http://www.w3.org/2002/07/owl#>\n",
    "    PREFIX skos: <http://www.w3.org/2004/02/skos/core#>\n",
    "    PREFIX rdfs: <http://www.w3.org/2000/01/rdf-schema#>\n",
    "    PREFIX geofla: <http://data.ign.fr/def/geofla#>\n",
    "    PREFIX addr: <http://rdf.geohistoricaldata.org/def/address#>\n",
    "    PREFIX time: <http://www.w3.org/2006/time#> \n",
    "    PREFIX ltype: <http://rdf.geohistoricaldata.org/id/codes/address/landmarkType/>\n",
    "    PREFIX ban: <http://rdf.geohistoricaldata.org/id/address/sources/ban/>\n",
    "    PREFIX wb: <http://wikiba.se/ontology#>\n",
    "    \"\"\"\n",
    "\n",
    "    query1 =  prefixes + f\"\"\"\n",
    "    INSERT DATA{{\n",
    "        GRAPH {permanent_graph_uri.n3()} {{\n",
    "            wb:Statement a owl:Class.\n",
    "            wb:Item a owl:Class.\n",
    "        }}\n",
    "    }}\n",
    "    \"\"\"\n",
    "\n",
    "    queries = [query1]\n",
    "    for query in queries:\n",
    "        gd.update_query(query, graphdb_url, repository_name)"
   ]
  },
  {
   "cell_type": "markdown",
   "metadata": {},
   "source": [
    "#### Sélection des voies de Paris sur Wikidata via une requête de sélection"
   ]
  },
  {
   "cell_type": "markdown",
   "metadata": {},
   "source": [
    "Via une requête SPARQL de sélection, on récupère une liste de ressources à créér :\n",
    "* pour chaque ressource décrivant une voie dans Paris, on créé autant de ressources qu'elle a de nom officiel. La place de la Nation ([wd:Q1573359](https://www.wikidata.org/entity/Q1573359)) a quatre noms officiels donc on aura 4 ressources. Pour celles qui n'ont pas de nom officiel, on créé une seule ressource dont le nom est le label en français\n",
    "* ces ressources créées seront liées à celle de Wikidata dont elle provient via `skos:closeMatch`\n",
    "* chaque ressource créée suit la structure définie par l'ontologie\n",
    "* le résultat de la requête est stocké dans un fichier csv qui sera converti en graphe de connaissance via Ontotext Refine et un fichier de mapping "
   ]
  },
  {
   "cell_type": "code",
   "execution_count": null,
   "metadata": {},
   "outputs": [],
   "source": [
    "def get_paris_thoroughfares_from_wikidata(out_csv_file):\n",
    "   query = \"\"\"\n",
    "   PREFIX addr: <http://rdf.geohistoricaldata.org/def/address#> \n",
    "   PREFIX source: <http://rdf.geohistoricaldata.org/id/address/sources/wikidata/> \n",
    "   PREFIX rdfs: <http://www.w3.org/2000/01/rdf-schema#>\n",
    "   PREFIX owl: <http://www.w3.org/2002/07/owl#>\n",
    "   PREFIX wd: <http://www.wikidata.org/entity/>\n",
    "   PREFIX wdt: <http://www.wikidata.org/prop/direct/>\n",
    "   PREFIX pq: <http://www.wikidata.org/prop/qualifier/>\n",
    "   PREFIX ps: <http://www.wikidata.org/prop/statement/>\n",
    "   PREFIX p: <http://www.wikidata.org/prop/>\n",
    "   PREFIX pqv: <http://www.wikidata.org/prop/qualifier/value/>\n",
    "   PREFIX wb: <http://wikiba.se/ontology#>\n",
    "   PREFIX time: <http://www.w3.org/2006/time#>\n",
    "   SELECT ?landmarkQid ?landmarkId ?landmarkType ?attributeNameVersionId ?nomOff ?dateStartStamp ?dateStartPrec ?dateStartCal ?dateEndStamp ?dateEndPrec ?dateEndCal ?statement ?statementType\n",
    "   WHERE {\n",
    "   BIND(CONCAT(\"LM_\", STRUUID()) AS ?landmarkId)\n",
    "   BIND(CONCAT(\"AN_\", STRUUID()) AS ?attributeNameVersionId)\n",
    "   {\n",
    "      SELECT DISTINCT * WHERE {\n",
    "         {?landmarkQid p:P361 [ps:P361 wd:Q16024163].}UNION{?landmarkQid p:P361 [ps:P361 wd:Q107311481].}\n",
    "         {?landmarkQid p:P1448 ?nomOffSt.\n",
    "         ?nomOffSt ps:P1448 ?nomOff.\n",
    "         BIND(?nomOffSt AS ?statement)\n",
    "         BIND(wb:Statement AS ?statementType)\n",
    "         OPTIONAL {?nomOffSt pq:P580 ?dateStartStamp; pqv:P580 [wb:timePrecision ?dateStartPrecRaw; wb:timeCalendarModel ?dateStartCal]}\n",
    "         OPTIONAL {?nomOffSt pq:P582 ?dateEndStamp; pqv:P582 [wb:timePrecision ?dateEndPrecRaw; wb:timeCalendarModel ?dateEndCal]}\n",
    "         }UNION{\n",
    "         ?landmarkQid rdfs:label ?nomOff.\n",
    "         FILTER (LANG(?nomOff) = \"fr\")\n",
    "         MINUS {?landmarkQid p:P1448 ?nomOffSt}\n",
    "         BIND(?landmarkQid AS ?statement)\n",
    "         BIND(wb:Item AS ?statementType)\n",
    "         }\n",
    "         BIND(\"Thoroughfare\" AS ?landmarkType)\n",
    "      }\n",
    "   }\n",
    "\n",
    "   BIND(IF(?dateStartPrecRaw = 11, time:unitDay, \n",
    "            IF(?dateStartPrecRaw = 10, time:unitMonth,\n",
    "               IF(?dateStartPrecRaw = 9, time:unitYear,\n",
    "                  IF(?dateStartPrecRaw = 8, time:unitDecade,\n",
    "                     IF(?dateStartPrecRaw = 7, time:unitCentury,\n",
    "                        IF(?dateStartPrecRaw = 6, time:unitMillenium, ?x\n",
    "                           )))))) AS ?dateStartPrec)\n",
    "   BIND(IF(?dateEndPrecRaw = 11, time:unitDay, \n",
    "            IF(?dateEndPrecRaw = 10, time:unitMonth,\n",
    "               IF(?dateEndPrecRaw = 9, time:unitYear,\n",
    "                  IF(?dateEndPrecRaw = 8, time:unitDecade,\n",
    "                     IF(?dateEndPrecRaw = 7, time:unitCentury,\n",
    "                        IF(?dateEndPrecRaw = 6, time:unitMillenium, ?x\n",
    "                           )))))) AS ?dateEndPrec)\n",
    "   }\n",
    "    \"\"\"\n",
    "\n",
    "   wd.save_select_query_as_csv_file(query, out_csv_file)"
   ]
  },
  {
   "cell_type": "code",
   "execution_count": null,
   "metadata": {},
   "outputs": [],
   "source": [
    "def get_areas_around_paris_from_wikidata(out_csv_file):\n",
    "    \"\"\"\n",
    "    Sélection de zones autour de Paris (communes de l'ancien département de la Seine) et des quartiers / arrondissements de la capitale française\"\"\"\n",
    "    \n",
    "    query = \"\"\"\n",
    "    PREFIX addr: <http://rdf.geohistoricaldata.org/def/address#> \n",
    "    PREFIX rdfs: <http://www.w3.org/2000/01/rdf-schema#>\n",
    "    PREFIX owl: <http://www.w3.org/2002/07/owl#>\n",
    "    PREFIX wd: <http://www.wikidata.org/entity/>\n",
    "    PREFIX wdt: <http://www.wikidata.org/prop/direct/>\n",
    "    PREFIX pq: <http://www.wikidata.org/prop/qualifier/>\n",
    "    PREFIX ps: <http://www.wikidata.org/prop/statement/>\n",
    "    PREFIX p: <http://www.wikidata.org/prop/>\n",
    "    PREFIX pqv: <http://www.wikidata.org/prop/qualifier/value/>\n",
    "    PREFIX wb: <http://wikiba.se/ontology#>\n",
    "    PREFIX time: <http://www.w3.org/2006/time#>\n",
    "\n",
    "    SELECT ?landmarkQid ?landmarkId ?landmarkType ?attributeInseeCodeVersionId ?inseeCodeSt ?inseeCode ?inseeDateStartStamp ?inseeDateStartPrec ?inseeDateStartCal ?inseeDateEndStamp ?inseeDateEndPrec ?inseeDateEndCal ?attributeNameVersionId ?nomOff ?dateStartStamp ?dateStartPrec ?dateStartCal ?dateEndStamp ?dateEndPrec ?dateEndCal ?statement ?statementType \n",
    "    {\n",
    "        {\n",
    "        SELECT DISTINCT * WHERE {\n",
    "        BIND(CONCAT(\"LM_\", STRUUID()) AS ?landmarkId)\n",
    "        BIND(CONCAT(\"ANV_\", STRUUID()) AS ?attributeNameVersionId)\n",
    "        {\n",
    "            SELECT DISTINCT * WHERE {\n",
    "            {?landmarkQid p:P31 [ps:P31 wd:Q252916].}UNION{?landmarkQid p:P31 [ps:P31 wd:Q702842]; p:P131 [ps:P131 wd:Q90].}UNION{?landmarkQid p:P31 [ps:P31 wd:Q484170]; p:P131 [ps:P131 wd:Q1142326].}\n",
    "            {?landmarkQid p:P1448 ?nomOffSt.\n",
    "            ?nomOffSt ps:P1448 ?nomOff.\n",
    "            BIND(?nomOffSt AS ?statement)\n",
    "            BIND(wb:Statement AS ?statementType)\n",
    "            OPTIONAL {?nomOffSt pq:P580 ?dateStartStamp; pqv:P580 [wb:timePrecision ?dateStartPrecRaw; wb:timeCalendarModel ?dateStartCal]}\n",
    "            OPTIONAL {?nomOffSt pq:P582 ?dateEndStamp; pqv:P582 [wb:timePrecision ?dateEndPrecRaw; wb:timeCalendarModel ?dateEndCal]}\n",
    "            }UNION{\n",
    "                ?landmarkQid rdfs:label ?nomOff.\n",
    "                FILTER (LANG(?nomOff) = \"fr\")\n",
    "                MINUS {?landmarkQid p:P1448 ?nomOffSt}\n",
    "                BIND(?landmarkQid AS ?statement)\n",
    "                BIND(wb:Item AS ?statementType)\n",
    "            }\n",
    "            ?landmarkQid p:P31 [ps:P31 ?wdLandmarkType].\n",
    "            BIND(\n",
    "                IF(?wdLandmarkType = wd:Q252916, \"District\",\n",
    "                IF(?wdLandmarkType = wd:Q702842, \"District\",\n",
    "                    IF(?wdLandmarkType = wd:Q484170, \"City\", ?x))) AS ?landmarkType)\n",
    "            FILTER(BOUND(?landmarkType))\n",
    "            }\n",
    "        }\n",
    "        OPTIONAL {?landmarkQid p:P374 ?inseeCodeSt.\n",
    "                    ?inseeCodeSt ps:P374 ?inseeCode.\n",
    "                    OPTIONAL {?inseeCodeSt pq:P580 ?inseeDateStartStamp; pqv:P580 [wb:timePrecision ?inseeDateStartPrecRaw; wb:timeCalendarModel ?inseeDateStartCal]}\n",
    "                    OPTIONAL {?inseeCodeSt pq:P582 ?inseeDateEndStamp; pqv:P582 [wb:timePrecision ?inseeDateEndPrecRaw; wb:timeCalendarModel ?inseeDateEndCal]}\n",
    "                }\n",
    "        }\n",
    "    }\n",
    "    BIND(IF(BOUND(?inseeCodeSt), CONCAT(\"AIV_\", STRUUID()), ?x) AS ?attributeInseeCodeVersionId)\n",
    "\n",
    "    BIND(IF(?dateStartPrecRaw = 11, time:unitDay, \n",
    "            IF(?dateStartPrecRaw = 10, time:unitMonth,\n",
    "                IF(?dateStartPrecRaw = 9, time:unitYear,\n",
    "                    IF(?dateStartPrecRaw = 8, time:unitDecade,\n",
    "                    IF(?dateStartPrecRaw = 7, time:unitCentury,\n",
    "                        IF(?dateStartPrecRaw = 6, time:unitMillenium, ?x\n",
    "                            )))))) AS ?dateStartPrec)\n",
    "    BIND(IF(?dateEndPrecRaw = 11, time:unitDay, \n",
    "            IF(?dateEndPrecRaw = 10, time:unitMonth,\n",
    "                IF(?dateEndPrecRaw = 9, time:unitYear,\n",
    "                    IF(?dateEndPrecRaw = 8, time:unitDecade,\n",
    "                    IF(?dateEndPrecRaw = 7, time:unitCentury,\n",
    "                        IF(?dateEndPrecRaw = 6, time:unitMillenium, ?x\n",
    "                            )))))) AS ?dateEndPrec)\n",
    "    BIND(IF(?inseeDateStartPrecRaw = 11, time:unitDay, \n",
    "            IF(?inseeDateStartPrecRaw = 10, time:unitMonth,\n",
    "                IF(?inseeDateStartPrecRaw = 9, time:unitYear,\n",
    "                    IF(?inseeDateStartPrecRaw = 8, time:unitDecade,\n",
    "                    IF(?inseeDateStartPrecRaw = 7, time:unitCentury,\n",
    "                        IF(?inseeDateStartPrecRaw = 6, time:unitMillenium, ?x\n",
    "                            )))))) AS ?inseeDateStartPrec)\n",
    "    BIND(IF(?inseeDateEndPrecRaw = 11, time:unitDay, \n",
    "            IF(?inseeDateEndPrecRaw = 10, time:unitMonth,\n",
    "                IF(?inseeDateEndPrecRaw = 9, time:unitYear,\n",
    "                    IF(?inseeDateEndPrecRaw = 8, time:unitDecade,\n",
    "                    IF(?inseeDateEndPrecRaw = 7, time:unitCentury,\n",
    "                        IF(?inseeDateEndPrecRaw = 6, time:unitMillenium, ?x\n",
    "                            )))))) AS ?inseeDateEndPrec)\n",
    "    }\n",
    "    \"\"\"\n",
    "\n",
    "    query = wd.save_select_query_as_csv_file(query, out_csv_file)"
   ]
  },
  {
   "cell_type": "code",
   "execution_count": null,
   "metadata": {},
   "outputs": [],
   "source": [
    "def get_paris_locations_from_wikidata(out_csv_file):\n",
    "    \"\"\"\n",
    "    Obtenir la localisation des données (voies et zones) de Paris depuis Wikidata\"\"\"\n",
    "\n",
    "    query = \"\"\"\n",
    "    PREFIX rdfs: <http://www.w3.org/2000/01/rdf-schema#>\n",
    "    PREFIX wd: <http://www.wikidata.org/entity/>\n",
    "    PREFIX wdt: <http://www.wikidata.org/prop/direct/>\n",
    "    PREFIX pq: <http://www.wikidata.org/prop/qualifier/>\n",
    "    PREFIX ps: <http://www.wikidata.org/prop/statement/>\n",
    "    PREFIX p: <http://www.wikidata.org/prop/>\n",
    "    PREFIX pqv: <http://www.wikidata.org/prop/qualifier/value/>\n",
    "    PREFIX wb: <http://wikiba.se/ontology#>\n",
    "    PREFIX time: <http://www.w3.org/2006/time#>\n",
    "\n",
    "    SELECT DISTINCT ?landmarkRelationId ?locatumQid ?relatumQid ?landmarkRelationType ?dateStartStamp ?dateStartPrec ?dateStartCal ?dateEndStamp ?dateEndPrec ?dateEndCal ?relatumQidSt WHERE {\n",
    "    {?locatumQid p:P361 [ps:P361 wd:Q16024163].}UNION{?locatumQid p:P361 [ps:P361 wd:Q107311481].}UNION{?locatumQid p:P31 [ps:P31 wd:Q252916].}UNION{?locatumQid p:P31 [ps:P31 wd:Q702842]; p:P131 [ps:P131 wd:Q90].}UNION{?locatumQid p:P31 [ps:P31 wd:Q484170]; p:P131 [ps:P131 wd:Q1142326].}\n",
    "    ?locatumQid p:P131 ?relatumQidSt.\n",
    "    ?relatumQidSt ps:P131 ?relatumQid. \n",
    "    OPTIONAL {?relatumQidSt pq:P580 ?dateStartStamp; pqv:P580 [wb:timePrecision ?dateStartPrecRaw; wb:timeCalendarModel ?dateStartCal]}\n",
    "    OPTIONAL {?relatumQidSt pq:P582 ?dateEndStamp; pqv:P582 [wb:timePrecision ?dateEndPrecRaw; wb:timeCalendarModel ?dateEndCal]}\n",
    "    BIND(\"Within\" AS ?landmarkRelationType)\n",
    "    BIND(CONCAT(\"LR_\", STRUUID()) AS ?landmarkRelationId)\n",
    "    BIND(IF(?dateStartPrecRaw = 11, time:unitDay, \n",
    "            IF(?dateStartPrecRaw = 10, time:unitMonth,\n",
    "                IF(?dateStartPrecRaw = 9, time:unitYear,\n",
    "                    IF(?dateStartPrecRaw = 8, time:unitDecade,\n",
    "                    IF(?dateStartPrecRaw = 7, time:unitCentury,\n",
    "                        IF(?dateStartPrecRaw = 6, time:unitMillenium, ?x\n",
    "                            )))))) AS ?dateStartPrec)\n",
    "    BIND(IF(?dateEndPrecRaw = 11, time:unitDay, \n",
    "            IF(?dateEndPrecRaw = 10, time:unitMonth,\n",
    "                IF(?dateEndPrecRaw = 9, time:unitYear,\n",
    "                    IF(?dateEndPrecRaw = 8, time:unitDecade,\n",
    "                    IF(?dateEndPrecRaw = 7, time:unitCentury,\n",
    "                        IF(?dateEndPrecRaw = 6, time:unitMillenium, ?x\n",
    "                            )))))) AS ?dateEndPrec)\n",
    "    }\n",
    "    \"\"\"\n",
    "    \n",
    "    query = wd.save_select_query_as_csv_file(query, out_csv_file)"
   ]
  },
  {
   "cell_type": "code",
   "execution_count": null,
   "metadata": {},
   "outputs": [],
   "source": [
    "def transfert_landmark_relations_to_thoroughfares_wikidata(graphdb_url, repository_name, factoids_graph_uri:URIRef, tmp_graph_uri:URIRef):\n",
    "    query = f\"\"\"\n",
    "    PREFIX ctype: <http://rdf.geohistoricaldata.org/id/codes/address/changeType/>\n",
    "    PREFIX lrtype: <http://rdf.geohistoricaldata.org/id/codes/address/landmarkRelationType/>\n",
    "    PREFIX skos: <http://www.w3.org/2004/02/skos/core#>\n",
    "    PREFIX xsd: <http://www.w3.org/2001/XMLSchema#>\n",
    "    PREFIX rdfs: <http://www.w3.org/2000/01/rdf-schema#>\n",
    "    PREFIX prov: <http://www.w3.org/ns/prov#>\n",
    "    PREFIX addr: <http://rdf.geohistoricaldata.org/def/address#>\n",
    "    PREFIX wikidata: <http://rdf.geohistoricaldata.org/id/address/sources/wikidata/>\n",
    "    \n",
    "    INSERT {{\n",
    "        GRAPH ?gf {{\n",
    "            ?landmarkRelation a addr:LandmarkRelation; addr:isLandmarkRelationType ?landmarkRelationType;\n",
    "            addr:locatum ?cml; addr:relatum ?cmr; prov:wasDerivedFrom ?prov.\n",
    "            ?lrChangeApp a addr:Change; addr:isChangeType ctype:LandmarkRelationAppearance; addr:appliedTo ?landmarkRelation; addr:dependsOn ?lrEventApp.\n",
    "            ?lrChangeDis a addr:Change; addr:isChangeType ctype:LandmarkRelationDisappearance; addr:appliedTo ?landmarkRelation; addr:dependsOn ?lrEventDis.\n",
    "            ?lrEventApp a addr:Event; addr:hasTime ?timeInstantApp.\n",
    "            ?lrEventDis a addr:Event; addr:hasTime ?timeInstantDis.\n",
    "            ?timeInstantApp a ?timeInstantAppType; addr:timeStamp ?timeInstantAppStamp; addr:timePrecision ?timeInstantAppPrec; addr:timeCalendar ?timeInstantAppCal.\n",
    "            ?timeInstantDis a ?timeInstantDisType; addr:timeStamp ?timeInstantDisStamp; addr:timePrecision ?timeInstantDisPrec; addr:timeCalendar ?timeInstantDisCal.\n",
    "        }}\n",
    "    }}\n",
    "    WHERE {{\n",
    "        BIND({factoids_graph_uri.n3()} AS ?gf)\n",
    "        BIND({tmp_graph_uri.n3()} AS ?gt)\n",
    "        BIND(URI(CONCAT(STR(URI(wikidata:)), \"LR_\", STRUUID())) AS ?landmarkRelation)\n",
    "        BIND(URI(CONCAT(STR(URI(wikidata:)), \"CHA_\", STRUUID())) AS ?lrChangeApp)\n",
    "        BIND(URI(CONCAT(STR(URI(wikidata:)), \"CHD_\", STRUUID())) AS ?lrChangeDis)\n",
    "        BIND(URI(CONCAT(STR(URI(wikidata:)), \"EVA_\", STRUUID())) AS ?lrEventApp)\n",
    "        BIND(URI(CONCAT(STR(URI(wikidata:)), \"EVD_\", STRUUID())) AS ?lrEventDis)\n",
    "        BIND(IF(BOUND(?timeInstantAppStamp), URI(CONCAT(STR(URI(wikidata:)), \"TIA_\", STRUUID())), ?x) AS ?timeInstantApp)\n",
    "        BIND(IF(BOUND(?timeInstantDisStamp), URI(CONCAT(STR(URI(wikidata:)), \"TID_\", STRUUID())), ?x) AS ?timeInstantDis)\n",
    "        {{\n",
    "            SELECT DISTINCT * WHERE {{\n",
    "                ?lr a addr:LandmarkRelation; addr:isLandmarkRelationType ?landmarkRelationType; addr:locatum ?l; addr:relatum ?r.\n",
    "                ?changeApp a addr:Change; addr:isChangeType ctype:LandmarkRelationAppearance; addr:appliedTo ?lr; addr:dependsOn [a addr:Event; addr:hasTime ?timeInstantAppRaw].\n",
    "                ?changeDis a addr:Change; addr:isChangeType ctype:LandmarkRelationDisappearance; addr:appliedTo ?lr; addr:dependsOn [a addr:Event; addr:hasTime ?timeInstantDisRaw].\n",
    "                OPTIONAL {{\n",
    "                    ?lr prov:wasDerivedFrom ?prov.\n",
    "                }}\n",
    "                OPTIONAL {{\n",
    "                    GRAPH ?gt {{?timeInstantAppRaw a ?timeInstantAppType}}\n",
    "                    ?timeInstantAppType rdfs:subClassOf* addr:TemporalEntity.\n",
    "                    ?timeInstantAppRaw addr:timeStamp ?timeInstantAppStamp; addr:timePrecision ?timeInstantAppPrec; addr:timeCalendar ?timeInstantAppCal.\n",
    "                    }}\n",
    "                OPTIONAL {{\n",
    "                    GRAPH ?gt {{?timeInstantDisRaw a ?timeInstantDisType}}\n",
    "                    ?timeInstantDisType rdfs:subClassOf* addr:TemporalEntity.\n",
    "                    ?timeInstantDisRaw addr:timeStamp ?timeInstantDisStamp; addr:timePrecision ?timeInstantDisPrec; addr:timeCalendar ?timeInstantDisCal.\n",
    "                    }}\n",
    "                ?cml skos:closeMatch ?l.\n",
    "                ?cmr skos:closeMatch ?r.\n",
    "            }}\n",
    "        }}\n",
    "    }}\n",
    "    \"\"\"\n",
    "\n",
    "    gd.update_query(query, graphdb_url, repository_name)\n",
    "    gd.remove_graph_from_uri(tmp_graph_uri)"
   ]
  },
  {
   "cell_type": "markdown",
   "metadata": {},
   "source": [
    "#### Définition d'un processus de création des données de Wikidata"
   ]
  },
  {
   "cell_type": "code",
   "execution_count": null,
   "metadata": {},
   "outputs": [],
   "source": [
    "def get_data_from_wikidata(wdpt_csv_file, wdpa_csv_file, wdpl_csv_file):\n",
    "    \"\"\"\n",
    "    Obtenir les fichiers CSV pour les données provenant de Wikidata\n",
    "    \"\"\"\n",
    "    get_paris_thoroughfares_from_wikidata(wdpt_csv_file)\n",
    "    get_areas_around_paris_from_wikidata(wdpa_csv_file)\n",
    "    get_paris_locations_from_wikidata(wdpl_csv_file)\n",
    "\n",
    "\n",
    "def create_factoid_process_wikidata(graphdb_url, repository_name, namespace_prefixes, tmp_folder,\n",
    "                                    ontorefine_url, ontorefine_cmd, \n",
    "                                    ont_file, ontology_named_graph_name,\n",
    "                                    factoids_graph_name, permanent_graph_name,\n",
    "                                    wdpt_csv_file, wdpt_mapping_file, wdpt_kg_file,\n",
    "                                    wdpa_csv_file, wdpa_mapping_file, wdpa_kg_file,\n",
    "                                    wdpl_csv_file, wdpl_mapping_file, wdpl_kg_file):\n",
    "    \"\"\"\n",
    "    Fonction pour faire l'ensemble des processus relatifs à la création des factoïdes pour les données de Wikidata\n",
    "    \"\"\"\n",
    "\n",
    "    # Création d'un répertoire des factoïdes pour les données de Wikidata\n",
    "    create_factoid_repository(graphdb_url, repository_name, namespace_prefixes, tmp_folder, ont_file, ontology_named_graph_name, disable_same_as=False, clear_if_exists=True)\n",
    "\n",
    "    # Récupération des URI des graphes nommés\n",
    "    factoids_graph_uri = URIRef(gd.get_graph_uri_from_name(graphdb_url, repository_name, factoids_graph_name))\n",
    "    permanent_graph_uri = URIRef(gd.get_graph_uri_from_name(graphdb_url, repository_name, permanent_graph_name))\n",
    "    tmp_graph_name = \"tmp\"\n",
    "    tmp_graph_uri = URIRef(gd.get_graph_uri_from_name(graphdb_url, repository_name, tmp_graph_name))\n",
    "\n",
    "    # À partir des fichiers csv décrivant les repères liés à Paris (voies et zones), convertir en un graphe de connaissance selon le mapping défini\n",
    "    # Puis import du graphe dans le répertoire dont le nom est `repository_name` et dans le graphe nommé donné par `graph_name`\n",
    "    from_raw_to_data_to_graphdb(graphdb_url, ontorefine_url, ontorefine_cmd, repository_name, factoids_graph_name, wdpt_csv_file, wdpt_mapping_file, wdpt_kg_file)\n",
    "    from_raw_to_data_to_graphdb(graphdb_url, ontorefine_url, ontorefine_cmd, repository_name, factoids_graph_name, wdpa_csv_file, wdpa_mapping_file, wdpa_kg_file)\n",
    "    from_raw_to_data_to_graphdb(graphdb_url, ontorefine_url, ontorefine_cmd, repository_name, tmp_graph_name, wdpl_csv_file, wdpl_mapping_file, wdpl_kg_file)\n",
    "\n",
    "    # Transférer les relations spatiales entre les entités de Wikidata vers les entités créées\n",
    "    transfert_landmark_relations_to_thoroughfares_wikidata(graphdb_url, repository_name, factoids_graph_uri, tmp_graph_uri)\n",
    "\n",
    "    # Suppression des instants qui n'ont aucun timeStamp (instants sans date)\n",
    "    remove_time_instant_without_timestamp(graphdb_url, repository_name, factoids_graph_uri)\n",
    "\n",
    "    # Nettoyage du graphe\n",
    "    clean_wikidata_graph(graphdb_url, repository_name, factoids_graph_uri, permanent_graph_uri)\n",
    "\n",
    "    # Transfert de triplets non modifiables vers le graphe nommé permanent\n",
    "    transfert_immutable_triples(graphdb_url, repository_name, factoids_graph_uri, permanent_graph_uri)\n",
    "    \n",
    "    # L'URI ci-dessous définit la source liée à Wikidata\n",
    "    wdpt_source_uri = URIRef(\"http://rdf.geohistoricaldata.org/id/address/facts/Source_WD\")\n",
    "    create_source_wikidata(graphdb_url, repository_name, wdpt_source_uri, permanent_graph_uri)\n",
    "\n",
    "    # Ajout de labels normalisés\n",
    "    add_normalized_label_for_landmarks(graphdb_url, repository_name, factoids_graph_uri)\n",
    "    \n",
    "    # # Ajout de liens entre les ressources de type repère et la source\n",
    "    # add_factoids_resources_links(graphdb_url, repository_name, wdpt_source_uri, factoids_graph_uri)"
   ]
  },
  {
   "cell_type": "markdown",
   "metadata": {},
   "source": [
    "### OpenStreetMap (OSM)"
   ]
  },
  {
   "cell_type": "markdown",
   "metadata": {},
   "source": [
    "#### Création des données liées à la source"
   ]
  },
  {
   "cell_type": "code",
   "execution_count": null,
   "metadata": {},
   "outputs": [],
   "source": [
    "def create_source_osm(graphdb_url, repository_name, factoids_refactoids_uri:URIRef, facts_graph_uri:URIRef):\n",
    "    query = f\"\"\"\n",
    "        PREFIX addr: <http://rdf.geohistoricaldata.org/def/address#> \n",
    "        PREFIX facts: <http://rdf.geohistoricaldata.org/id/address/facts/>\n",
    "        PREFIX rico: <https://www.ica.org/standards/RiC/ontology#>\n",
    "\n",
    "        INSERT DATA {{\n",
    "            GRAPH {facts_graph_uri.n3()} {{\n",
    "                {factoids_refactoids_uri.n3()} a rico:Record;\n",
    "                    rdfs:label \"OpenStreetMap\"@mul.\n",
    "            }}\n",
    "        }}\n",
    "        \"\"\"\n",
    "    \n",
    "    gd.update_query(query, graphdb_url, repository_name)"
   ]
  },
  {
   "cell_type": "markdown",
   "metadata": {},
   "source": [
    "#### Nettoyage du graphe"
   ]
  },
  {
   "cell_type": "markdown",
   "metadata": {},
   "source": [
    "Détection de repères décrits via plusieurs ressources et création d'une unique ressource pour chaque."
   ]
  },
  {
   "cell_type": "code",
   "execution_count": null,
   "metadata": {},
   "outputs": [],
   "source": [
    "# Détection des communes et arrondissements dupliqués et création d'une source centrale (?newLandmark) selon le code INSEE.\n",
    "def clean_osm_graph(graphdb_url, repository_name, factoids_graph_uri, permanent_graph_uri):\n",
    "    prefixes = \"\"\"\n",
    "    PREFIX owl: <http://www.w3.org/2002/07/owl#>\n",
    "    PREFIX skos: <http://www.w3.org/2004/02/skos/core#>\n",
    "    PREFIX rdfs: <http://www.w3.org/2000/01/rdf-schema#>\n",
    "    PREFIX rico: <https://www.ica.org/standards/RiC/ontology#>\n",
    "    PREFIX geofla: <http://data.ign.fr/def/geofla#>\n",
    "    PREFIX addr: <http://rdf.geohistoricaldata.org/def/address#>\n",
    "    PREFIX ltype: <http://rdf.geohistoricaldata.org/id/codes/address/landmarkType/>\n",
    "    \"\"\"\n",
    "\n",
    "    # Suppresion des numéros d'immeubles qui appartiennent à aucune voie\n",
    "    query1 = prefixes + f\"\"\"\n",
    "    DELETE {{\n",
    "            ?hn ?p ?o.\n",
    "            ?s ?p ?hn.\n",
    "        }}\n",
    "    WHERE {{\n",
    "        ?hn a addr:Landmark; addr:isLandmarkType ltype:HouseNumber.\n",
    "        MINUS {{?lr a addr:LandmarkRelation; addr:locatum ?hn; addr:relatum [a addr:Landmark; addr:isLandmarkType ?thoroughfare] }}\n",
    "        {{?hn ?p ?o.}}UNION{{?s ?p ?hn.}}\n",
    "    }}\n",
    "    \"\"\"\n",
    "    \n",
    "    queries = [query1]\n",
    "    for query in queries:\n",
    "        gd.update_query(query, graphdb_url, repository_name)"
   ]
  },
  {
   "cell_type": "markdown",
   "metadata": {},
   "source": [
    "#### Définition d'un processus de création des données d'OSM"
   ]
  },
  {
   "cell_type": "code",
   "execution_count": null,
   "metadata": {},
   "outputs": [],
   "source": [
    "def create_factoid_process_osm(graphdb_url, repository_name, namespace_prefixes, tmp_folder,\n",
    "                               ontorefine_url, ontorefine_cmd, ont_file, ontology_named_graph_name,\n",
    "                               factoids_graph_name, permanent_graph_name,\n",
    "                               osm_csv_file, osm_mapping_file, osm_kg_file,\n",
    "                               osm_hn_csv_file, osm_hn_mapping_file, osm_hn_kg_file):\n",
    "\n",
    "    \"\"\"\n",
    "    Fonction pour faire l'ensemble des processus relatifs à la création des factoïdes pour les données d'OSM\n",
    "    \"\"\"\n",
    "\n",
    "    # Création d'un répertoire des factoïdes pour les données d'OSM\n",
    "    create_factoid_repository(graphdb_url, repository_name, namespace_prefixes, tmp_folder, ont_file, ontology_named_graph_name, disable_same_as=False, clear_if_exists=True)\n",
    "\n",
    "    # Récupération des URI des graphes nommés\n",
    "    factoids_graph_uri = URIRef(gd.get_graph_uri_from_name(graphdb_url, repository_name, factoids_graph_name))\n",
    "    permanent_graph_uri = URIRef(gd.get_graph_uri_from_name(graphdb_url, repository_name, permanent_graph_name))\n",
    "\n",
    "    # A partir des fichiers csv décrivant les adresses d'OSM dans Paris, convertir en un graphe de connaissance selon le mapping défini\n",
    "    # Puis import du graphe dans le répertoire dont le nom est `repository_name` et dans le graphe nommé donné par `graph_name`\n",
    "    from_raw_to_data_to_graphdb(graphdb_url, ontorefine_url, ontorefine_cmd, repository_name, factoids_graph_name, osm_csv_file, osm_mapping_file, osm_kg_file)\n",
    "    from_raw_to_data_to_graphdb(graphdb_url, ontorefine_url, ontorefine_cmd, repository_name, factoids_graph_name, osm_hn_csv_file, osm_hn_mapping_file, osm_hn_kg_file)\n",
    "\n",
    "    # Nettoyage du graphe\n",
    "    clean_osm_graph(graphdb_url, repository_name, factoids_graph_uri, permanent_graph_uri)\n",
    "\n",
    "    # Ajout d'éléments manquants\n",
    "    add_missing_elements_for_landmarks(graphdb_url, repository_name, factoids_graph_uri)\n",
    "\n",
    "    # L'URI ci-dessous définit la source liée à OSM\n",
    "    osm_source_uri = URIRef(\"http://rdf.geohistoricaldata.org/id/address/facts/Source_OSM\")\n",
    "    create_source_osm(graphdb_url, repository_name, osm_source_uri, permanent_graph_uri)\n",
    "\n",
    "    # Transfert de triplets non modifiables vers le graphe nommé permanent\n",
    "    transfert_immutable_triples(graphdb_url, repository_name, factoids_graph_uri, permanent_graph_uri)\n",
    "\n",
    "    # Ajout de labels normalisés\n",
    "    add_normalized_label_for_landmarks(graphdb_url, repository_name, factoids_graph_uri)\n",
    "    \n",
    "    # Ajout de liens entre les ressources de type repère et la source\n",
    "    add_factoids_resources_links(graphdb_url, repository_name, factoids_graph_uri)"
   ]
  },
  {
   "cell_type": "markdown",
   "metadata": {},
   "source": [
    "# Création des faits"
   ]
  },
  {
   "cell_type": "markdown",
   "metadata": {},
   "source": [
    "## Création de données dans le graphe des faits"
   ]
  },
  {
   "cell_type": "markdown",
   "metadata": {},
   "source": [
    "### Définition de fonctions pour peupler le graphe des faits"
   ]
  },
  {
   "cell_type": "code",
   "execution_count": null,
   "metadata": {},
   "outputs": [],
   "source": [
    "def create_unlinked_resources(graphdb_url, repository_name, refactoids_class:URIRef, refactoids_prefix:str, factoids_graph_uri:URIRef, facts_graph_uri:URIRef):\n",
    "    # Créer des ressources en tant que fait et créer un lien de provenance\n",
    "    query = f\"\"\"\n",
    "    PREFIX addr: <http://rdf.geohistoricaldata.org/def/address#>\n",
    "    PREFIX facts: <http://rdf.geohistoricaldata.org/id/address/facts/>\n",
    "    PREFIX rdfs: <http://www.w3.org/2000/01/rdf-schema#>\n",
    "    PREFIX owl: <http://www.w3.org/2002/07/owl#>\n",
    "    INSERT {{\n",
    "        GRAPH {factoids_graph_uri.n3()} {{\n",
    "            ?resource owl:sameAs ?sourceResource.\n",
    "        }}\n",
    "        GRAPH {facts_graph_uri.n3()} {{\n",
    "            ?resource a ?type.\n",
    "        }}\n",
    "    }}\n",
    "    WHERE {{\n",
    "        ?type rdfs:subClassOf* {refactoids_class.n3()}.\n",
    "        GRAPH {factoids_graph_uri.n3()} {{\n",
    "            ?sourceResource a ?type.\n",
    "        }}\n",
    "        MINUS {{?sourceResource owl:sameAs [a {refactoids_class.n3()}]}}\n",
    "        BIND(URI(CONCAT(STR(URI(facts:)), \"{refactoids_prefix}_\", STRUUID())) AS ?resource)\n",
    "    }}\n",
    "    \"\"\"\n",
    "    gd.update_query(query, graphdb_url, repository_name)\n",
    "\n",
    "def create_same_as_links_between_landmarks(graphdb_url, repository_name, factoids_graph_uri:URIRef, facts_graph_uri:URIRef):\n",
    "    \"\"\"\n",
    "    Création de liens owl:sameAs entre des repères.\n",
    "    \"\"\"\n",
    "\n",
    "    create_same_as_links_between_areas(graphdb_url, repository_name, factoids_graph_uri, facts_graph_uri)\n",
    "    create_same_as_links_between_thoroughfares(graphdb_url, repository_name, factoids_graph_uri, facts_graph_uri)\n",
    "    create_same_as_links_between_housenumbers(graphdb_url, repository_name, factoids_graph_uri, facts_graph_uri)\n",
    "\n",
    "def create_same_as_links_between_areas(graphdb_url, repository_name, factoids_graph_uri:URIRef, facts_graph_uri:URIRef):\n",
    "    \"\"\"\n",
    "    Pour les repères de type DISTRICT ou CITY définis dans le graphe nommé `factoids_graph_uri`, les lier avec un repère de même type défini dans `facts_graph_uri` s'ils ont un nom similaire.\n",
    "    Le lien créé est mis dans `factoids_facts_graph_uri`.\n",
    "    \"\"\"\n",
    "    prefixes = \"\"\"\n",
    "    PREFIX addr: <http://rdf.geohistoricaldata.org/def/address#>\n",
    "    PREFIX skos: <http://www.w3.org/2004/02/skos/core#>\n",
    "    PREFIX ltype: <http://rdf.geohistoricaldata.org/id/codes/address/landmarkType/>\n",
    "    PREFIX owl: <http://www.w3.org/2002/07/owl#>\n",
    "    \"\"\"\n",
    "\n",
    "    query = prefixes + f\"\"\"\n",
    "    INSERT {{\n",
    "        GRAPH {factoids_graph_uri.n3()} {{\n",
    "            ?factsLandmark owl:sameAs ?sourceLandmark.\n",
    "        }}\n",
    "    }}\n",
    "    WHERE {{\n",
    "        GRAPH {factoids_graph_uri.n3()} {{\n",
    "            ?sourceLandmark a addr:Landmark; addr:isLandmarkType ?landmarkType; addr:hasAttribute ?sourceLandmarkAttr.\n",
    "            ?sourceLandmarkAttr addr:isAttributeType ?attrType; addr:hasAttributeVersion [addr:versionValue ?versionValue].\n",
    "        }}\n",
    "        GRAPH {facts_graph_uri.n3()} {{\n",
    "            ?factsLandmark a addr:Landmark; addr:isLandmarkType ?landmarkType; addr:hasAttribute ?factsLandmarkAttr.\n",
    "            ?factsLandmarkAttr addr:isAttributeType ?attrType; addr:hasAttributeVersion [addr:versionValue ?versionValue].\n",
    "           }}\n",
    "        FILTER (?landmarkType IN (ltype:District, ltype:City, ltype:PostalCode))\n",
    "        MINUS {{?factsLandmark owl:sameAs ?sourceLandmark}}\n",
    "    }}\n",
    "    \"\"\"\n",
    "\n",
    "    gd.update_query(query, graphdb_url, repository_name)\n",
    "\n",
    "def create_same_as_links_between_thoroughfares(graphdb_url, repository_name, factoids_graph_uri:URIRef, facts_graph_uri:URIRef):\n",
    "    \"\"\"\n",
    "    Pour les repères de type VOIE définis dans le graphe nommé `factoids_graph_uri`, les lier avec un repère de même type défini dans `facts_graph_uri` s'ils ont un nom similaire.\n",
    "    Le lien créé est mis dans `factoids_facts_graph_uri`.\n",
    "    \"\"\"\n",
    "    prefixes = \"\"\"\n",
    "    PREFIX addr: <http://rdf.geohistoricaldata.org/def/address#>\n",
    "    PREFIX skos: <http://www.w3.org/2004/02/skos/core#>\n",
    "    PREFIX ltype: <http://rdf.geohistoricaldata.org/id/codes/address/landmarkType/>\n",
    "    PREFIX owl: <http://www.w3.org/2002/07/owl#>\n",
    "    \"\"\"\n",
    "\n",
    "    query = prefixes + f\"\"\"\n",
    "    INSERT {{\n",
    "        GRAPH {factoids_graph_uri.n3()} {{\n",
    "            ?factsLandmark owl:sameAs ?sourceLandmark.\n",
    "        }}\n",
    "    }}\n",
    "    WHERE {{\n",
    "        GRAPH {factoids_graph_uri.n3()} {{\n",
    "            ?sourceLandmark a addr:Landmark; addr:isLandmarkType ltype:Thoroughfare.\n",
    "        }}\n",
    "        GRAPH {facts_graph_uri.n3()} {{\n",
    "            ?factsLandmark a addr:Landmark; addr:isLandmarkType ltype:Thoroughfare.\n",
    "           }}\n",
    "        MINUS {{?factsLandmark owl:sameAs ?sourceLandmark}}\n",
    "        ?sourceLandmark skos:hiddenLabel ?label.\n",
    "        ?factsLandmark skos:hiddenLabel ?label.\n",
    "    }}\n",
    "    \"\"\"\n",
    "\n",
    "    gd.update_query(query, graphdb_url, repository_name)\n",
    "\n",
    "\n",
    "def create_same_as_links_between_housenumbers(graphdb_url, repository_name, factoids_graph_uri:URIRef, facts_graph_uri:URIRef):\n",
    "    \"\"\"\n",
    "    Pour les repères de type HOUSENUMBER définis dans le graphe nommé `factoids_graph_uri`, les lier avec un repère de même type défini dans `facts_graph_uri` s'ils ont un nom similaire.\n",
    "    Le lien créé est mis dans `factoids_facts_graph_uri`.\n",
    "    \"\"\"\n",
    "    prefixes = \"\"\"\n",
    "    PREFIX addr: <http://rdf.geohistoricaldata.org/def/address#>\n",
    "    PREFIX skos: <http://www.w3.org/2004/02/skos/core#>\n",
    "    PREFIX ltype: <http://rdf.geohistoricaldata.org/id/codes/address/landmarkType/>\n",
    "    PREFIX lrtype: <http://rdf.geohistoricaldata.org/id/codes/address/landmarkRelationType/>\n",
    "    PREFIX owl: <http://www.w3.org/2002/07/owl#>\n",
    "    \"\"\"\n",
    "\n",
    "    query = prefixes + f\"\"\"\n",
    "    INSERT {{\n",
    "        GRAPH {factoids_graph_uri.n3()} {{\n",
    "            ?factsHN owl:sameAs ?sourceHN.\n",
    "        }}\n",
    "    }}\n",
    "    WHERE {{\n",
    "        BIND(ltype:HouseNumber AS ?landmarkType)\n",
    "        BIND(lrtype:Along AS ?landmarkRelationType)\n",
    "        GRAPH {factoids_graph_uri.n3()} {{\n",
    "            ?sourceHN a addr:Landmark; addr:isLandmarkType ?landmarkType.\n",
    "        }}\n",
    "        GRAPH {facts_graph_uri.n3()} {{\n",
    "            ?factsHN a addr:Landmark; addr:isLandmarkType ?landmarkType.\n",
    "           }}\n",
    "\n",
    "        ?sourceLR a addr:LandmarkRelation; addr:isLandmarkRelationType ?landmarkRelationType; addr:locatum ?sourceHN; addr:relatum ?thoroughfare.\n",
    "        ?factsLR a addr:LandmarkRelation; addr:isLandmarkRelationType ?landmarkRelationType; addr:locatum ?factsHN; addr:relatum ?thoroughfare.\n",
    "        MINUS {{?factsHN owl:sameAs ?sourceHN}}\n",
    "        ?sourceHN skos:hiddenLabel ?label.\n",
    "        ?factsHN skos:hiddenLabel ?label.\n",
    "    }}\n",
    "    \"\"\"\n",
    "\n",
    "    gd.update_query(query, graphdb_url, repository_name)\n",
    "\n",
    "def create_same_as_links_between_landmark_relations(graphdb_url, repository_name, factoids_graph_uri:URIRef, facts_graph_uri:URIRef):\n",
    "    \"\"\"\n",
    "    Pour des relations entre repères dans le graphe nommé `factoids_graph_uri`, les lier avec une relation entre repères dans `facts_graph_uri` qui sont similaires (mêmes locatum, relatums et type de relation).\n",
    "    Le lien créé est mis dans `factoids_facts_graph_uri`.\n",
    "    \"\"\"\n",
    "\n",
    "    query = f\"\"\"\n",
    "    PREFIX addr: <http://rdf.geohistoricaldata.org/def/address#>\n",
    "    PREFIX owl: <http://www.w3.org/2002/07/owl#>\n",
    "    INSERT {{\n",
    "        GRAPH {factoids_graph_uri.n3()} {{ ?lr1 owl:sameAs ?lr2. }}\n",
    "    }}\n",
    "    WHERE {{\n",
    "        GRAPH {facts_graph_uri.n3()} {{ ?lr1 a ?typeLR1. }}\n",
    "        GRAPH {factoids_graph_uri.n3()} {{ ?lr2 a ?typeLR2. }}\n",
    "        ?typeLR1 rdfs:subClassOf addr:LandmarkRelation.\n",
    "        ?typeLR2 rdfs:subClassOf addr:LandmarkRelation.\n",
    "        ?lr1 addr:isLandmarkRelationType ?lrt; addr:locatum ?l.\n",
    "        ?lr2 addr:isLandmarkRelationType ?lrt; addr:locatum ?l.\n",
    "        MINUS\n",
    "        {{\n",
    "            SELECT DISTINCT ?lr1 ?lr2 WHERE {{\n",
    "                ?lr1 addr:isLandmarkRelationType ?lrt; addr:locatum ?l.\n",
    "                ?lr2 addr:isLandmarkRelationType ?lrt; addr:locatum ?l.\n",
    "                ?lr1 addr:relatum ?r.\n",
    "                MINUS {{\n",
    "                    ?lr2 addr:relatum ?r.\n",
    "                }}\n",
    "            }}\n",
    "        }}\n",
    "        MINUS\n",
    "        {{\n",
    "            SELECT DISTINCT ?lr1 ?lr2 WHERE {{\n",
    "                ?lr1 addr:isLandmarkRelationType ?lrt; addr:locatum ?l.\n",
    "                ?lr2 addr:isLandmarkRelationType ?lrt; addr:locatum ?l.\n",
    "                ?lr2 addr:relatum ?r.\n",
    "                MINUS {{\n",
    "                    ?lr1 addr:relatum ?r.\n",
    "                }}\n",
    "            }}\n",
    "        }}  \n",
    "    }}\n",
    "    \"\"\"\n",
    "\n",
    "    gd.update_query(query, graphdb_url, repository_name)\n",
    "\n",
    "def store_interesting_implicit_triples(graphdb_url, repository_name, tmp_graph_uri:URIRef):\n",
    "    query = f\"\"\"\n",
    "    PREFIX rdfs: <http://www.w3.org/2000/01/rdf-schema#>\n",
    "    PREFIX skos: <http://www.w3.org/2004/02/skos/core#>\n",
    "    PREFIX addr: <http://rdf.geohistoricaldata.org/def/address#>\n",
    "    PREFIX facts: <http://rdf.geohistoricaldata.org/id/address/facts/>\n",
    "    PREFIX owl: <http://www.w3.org/2002/07/owl#>\n",
    "    PREFIX rdf: <http://www.w3.org/1999/02/22-rdf-syntax-ns#>\n",
    "    PREFIX rico: <https://www.ica.org/standards/RiC/ontology#>\n",
    "    PREFIX prov: <http://www.w3.org/ns/prov#>\n",
    "    \n",
    "    INSERT {{\n",
    "        GRAPH {tmp_graph_uri.n3()} {{\n",
    "            ?s ?p ?o.\n",
    "        }}\n",
    "    }}\n",
    "    WHERE {{\n",
    "        ?s ?p ?o.\n",
    "\n",
    "        MINUS {{\n",
    "            GRAPH ?g {{ ?s ?p ?o. }}\n",
    "        }}\n",
    "        FILTER(?p in (addr:isAttributeType,addr:isChangeType,addr:isLandmarkType,addr:isLandmarkRelationType,\n",
    "            addr:hasTime,addr:timeCalendar,addr:timePrecision,addr:timeStamp,\n",
    "            addr:hasAttribute,addr:hasAttributeVersion,addr:versionValue,addr:appliedTo,addr:dependsOn,addr:makesEffective,addr:outdates,\n",
    "            addr:targets,addr:locatum,addr:relatum,addr:firstStep,addr:nextStep,\n",
    "            rdfs:label,skos:hiddenLabel,skos:closeMatch,rico:isOrWasDescribedBy,prov:wasDerivedFrom\n",
    "        ))\n",
    "    }}\n",
    "    \"\"\"\n",
    "\n",
    "    gd.update_query(query, graphdb_url, repository_name)\n",
    "\n",
    "def get_facts_implicit_triples(graphdb_url, repository_name, factoids_graph_uri:URIRef, facts_graph_uri:URIRef, tmp_graph_uri:URIRef):\n",
    "    \"\"\"\n",
    "    Tous les triplets intéressants (selon la propriété du triplet) ont été stockés dans un graphe nommé temporaire.\n",
    "    Transférer les triplets dont :\n",
    "    - les sujets sont des ressources RS définies dans le graphe des faits (il existe <RS a ?rtype> dans le graphe des faits) \n",
    "    - les objets ne sont pas des ressources RO définies dans le graphe des factoïdes (celles tel qu'il n'existe pas <RO a ?rtype> dans le graphe des factoïdes)\n",
    "    \"\"\"\n",
    "    \n",
    "    query = f\"\"\"\n",
    "    PREFIX rdfs: <http://www.w3.org/2000/01/rdf-schema#>\n",
    "    PREFIX skos: <http://www.w3.org/2004/02/skos/core#>\n",
    "    PREFIX addr: <http://rdf.geohistoricaldata.org/def/address#>\n",
    "    PREFIX facts: <http://rdf.geohistoricaldata.org/id/address/facts/>\n",
    "    PREFIX owl: <http://www.w3.org/2002/07/owl#>\n",
    "    PREFIX rdf: <http://www.w3.org/1999/02/22-rdf-syntax-ns#>\n",
    "    PREFIX rico: <https://www.ica.org/standards/RiC/ontology#>\n",
    "    \n",
    "    DELETE {{\n",
    "        GRAPH ?gt {{\n",
    "            ?s ?p ?o.\n",
    "        }}\n",
    "    }}\n",
    "    INSERT {{\n",
    "        GRAPH ?gf {{\n",
    "            ?s ?p ?o.\n",
    "        }}\n",
    "    }}\n",
    "    WHERE {{\n",
    "        BIND ({facts_graph_uri.n3()} AS ?gf)\n",
    "        BIND ({factoids_graph_uri.n3()} AS ?gs)\n",
    "        BIND ({tmp_graph_uri.n3()} AS ?gt)\n",
    "\n",
    "        GRAPH ?gt {{\n",
    "            ?s ?p ?o.\n",
    "        }}\n",
    "\n",
    "        GRAPH ?gf {{\n",
    "            ?s a ?sType.\n",
    "        }}\n",
    "\n",
    "        OPTIONAL {{\n",
    "            GRAPH ?g {{?o a ?oType}}\n",
    "        }}\n",
    "\n",
    "        BIND(isIRI(?o) AS ?isIRI)\n",
    "        BIND(IF(BOUND(?g) && ?g != ?gs, \"true\"^^xsd:boolean, \"false\"^^xsd:boolean) AS ?iriInFacts)\n",
    "        FILTER(?isIRI = \"false\"^^xsd:boolean || ?iriInFacts = \"true\"^^xsd:boolean)\n",
    "    }}\n",
    "    \"\"\"\n",
    "\n",
    "    gd.update_query(query, graphdb_url, repository_name)\n",
    "\n",
    "def transfer_implicit_triples(graphdb_url, repository_name, factoids_graph_uri:URIRef, facts_graph_uri:URIRef):\n",
    "    tmp_graph_name = \"tmp_named_graph\"\n",
    "    tmp_graph_uri = URIRef(gd.get_graph_uri_from_name(graphdb_url, repository_name, tmp_graph_name))\n",
    "\n",
    "    # On stocke dans un graphe nommé temporaire les triplets implicites qui sont intéressants (selon la propriété du triplet)\n",
    "    store_interesting_implicit_triples(graphdb_url, repository_name, tmp_graph_uri)\n",
    "\n",
    "    # Suppression des liens owl:sameAs pour casser les liens implicites qui ont été stockés explicitement dans le graphe nommé\n",
    "    remove_all_same_as_triples(graphdb_url, repository_name)\n",
    "\n",
    "    # Refaire les inférences pour supprimer notamment les liens owl:sameAs implicites qui ne sont pas supprimés\n",
    "    gd.reinfer_repository(graphdb_url, repository_name)\n",
    "\n",
    "    # Transférer les triplets stockés dans le graphe nommé temporaire qui ne sont pas liés aux factoïdes\n",
    "    get_facts_implicit_triples(graphdb_url, repository_name, factoids_graph_uri, facts_graph_uri, tmp_graph_uri)\n",
    "    \n",
    "    # Supprimer tous les triples du graphe nommé temporaire\n",
    "    gd.remove_graph(graphdb_url, repository_name, tmp_graph_name)\n",
    "\n",
    "\n",
    "def remove_all_same_as_triples(graphdb_url, repository_name):\n",
    "    query = \"\"\"\n",
    "    PREFIX owl: <http://www.w3.org/2002/07/owl#>\n",
    "\n",
    "    DELETE {?s owl:sameAs ?o} WHERE {?s owl:sameAs ?o}\n",
    "    \"\"\"\n",
    "    \n",
    "    gd.update_query(query, graphdb_url, repository_name)"
   ]
  },
  {
   "cell_type": "markdown",
   "metadata": {},
   "source": [
    "### Création de ressoures à partir des différentes sources"
   ]
  },
  {
   "cell_type": "markdown",
   "metadata": {},
   "source": [
    "La création de voies se fait de la manière suivante :\n",
    "* création de liens (avec `owl:sameAs`) entre les voies du graphe des faits et celles du graphe des factoïdes\n",
    "* avec des règles d'inférence, des nouveaux liens `owl:sameAs` en sont déduits\n",
    "* pour chaque ressource définie dans les factoïdes, on regarde si elle existe dans le graphe des faits (si elle est liée avec un `owl:sameAs` avec une ressource du graphe des faits)\n",
    "* pour les ressources des factoïdes non liées, on créé son équivalent dans le graphe des faits"
   ]
  },
  {
   "cell_type": "code",
   "execution_count": null,
   "metadata": {},
   "outputs": [],
   "source": [
    "def links_factoids_with_facts(graphdb_url, repository_name, factoids_graph_uri:URIRef, facts_graph_uri:URIRef):\n",
    "    create_same_as_links_between_landmarks(graphdb_url, repository_name, factoids_graph_uri, facts_graph_uri)\n",
    "    # TODO : corriger la fonction pour éviter des problèmes de propagation non voulues\n",
    "    create_same_as_links_between_landmark_relations(graphdb_url, repository_name, factoids_graph_uri, facts_graph_uri)\n",
    "    addr_ns = Namespace(\"http://rdf.geohistoricaldata.org/def/address#\")\n",
    "    # rico_ns = Namespace(\"https://www.ica.org/standards/RiC/ontology#\")\n",
    "\n",
    "    resource_classes = {\"LM\": addr_ns[\"Landmark\"], \"LR\": addr_ns[\"LandmarkRelation\"], \"ADDR\": addr_ns[\"Address\"],\n",
    "                        \"ATTR\": addr_ns[\"Attribute\"], \"AV\":addr_ns[\"AttributeVersion\"], \"CG\": addr_ns[\"Change\"], \"EV\":addr_ns[\"Event\"], \"TE\": addr_ns[\"TemporalEntity\"]}\n",
    "    for prefix, class_name in resource_classes.items():\n",
    "        create_unlinked_resources(graphdb_url, repository_name, class_name, prefix, factoids_graph_uri, facts_graph_uri)"
   ]
  },
  {
   "cell_type": "markdown",
   "metadata": {},
   "source": [
    "### Réinitialisation du répertoire"
   ]
  },
  {
   "cell_type": "markdown",
   "metadata": {},
   "source": [
    "La réinitialisation du répertoire :\n",
    "* export du graphe des faits dans un fichier TTL\n",
    "* suppression de tous les triplets du répertoire (explicites comme implicites)\n",
    "* réimport des fichiers TTL de l'ontologie et du graphe des faits\n",
    "\n",
    ":TODO: voir si c'est possible de supprimer facilement les triplets implicites pour éviter de faire appel à cette fonction."
   ]
  },
  {
   "cell_type": "code",
   "execution_count": null,
   "metadata": {},
   "outputs": [],
   "source": [
    "def reload_repository(graphdb_url, repository_name, facts_ttl_file, facts_graph_name, ont_file, ontology_named_graph_name):\n",
    "    facts_graph_uri = URIRef(gd.get_graph_uri_from_name(graphdb_url, repository_name, facts_graph_name))\n",
    "\n",
    "    # Exporter le graphe des faits dans un fichier TTL\n",
    "    gd.export_data_from_repository(graphdb_url, repository_name, facts_ttl_file, facts_graph_uri)\n",
    "\n",
    "    # Réinitialiser le répertoire et le remplir une nouvelle fois avec l'ontologie et le graphe des faits\n",
    "    gd.clear_repository(graphdb_url, repository_name)\n",
    "    gd.import_ttl_file_in_graphdb(graphdb_url, repository_name, ont_file, ontology_named_graph_name)\n",
    "    gd.import_ttl_file_in_graphdb(graphdb_url, repository_name, facts_ttl_file, graph_name=facts_graph_name)"
   ]
  },
  {
   "cell_type": "markdown",
   "metadata": {},
   "source": [
    "### Import des factoïdes dans le graphe des faits"
   ]
  },
  {
   "cell_type": "markdown",
   "metadata": {},
   "source": [
    "L'import des factoïdes dans le graphe des faits se fait en trois étapes :\n",
    "* liaison des éléments du graphe des factoides avec celui des faits (`links_factoids_with_facts()`)\n",
    "* avec l'étape précédente, on a des inférences qui se font et `transfer_implicit_triples()` récupère les triplets implicites intéressants pour les expliciter en les mettant dans le graphe des faits\n",
    "* `reload_repository()` exporte le graphe des faits dans un fichier temporaire afin de nettoyer le répertoire (suppression de triplets implicites inutiles), le graphe des faits est rechargé dans le répertoire."
   ]
  },
  {
   "cell_type": "code",
   "execution_count": null,
   "metadata": {},
   "outputs": [],
   "source": [
    "def import_factoids_in_facts(graphdb_url, repository_name, factoids_graph_name, facts_graph_name, facts_ttl_file):\n",
    "    facts_graph_uri = URIRef(gd.get_graph_uri_from_name(graphdb_url, repository_name, facts_graph_name))\n",
    "    factoids_graph_uri = URIRef(gd.get_graph_uri_from_name(graphdb_url, repository_name, factoids_graph_name))\n",
    "\n",
    "    links_factoids_with_facts(graphdb_url, repository_name, factoids_graph_uri, facts_graph_uri)\n",
    "    transfer_implicit_triples(graphdb_url, repository_name, factoids_graph_uri, facts_graph_uri)\n",
    "    reload_repository(graphdb_url, repository_name, facts_ttl_file, facts_graph_name, ont_file, ontology_named_graph_name)"
   ]
  },
  {
   "cell_type": "markdown",
   "metadata": {},
   "source": [
    "## Processus final et itératif"
   ]
  },
  {
   "cell_type": "markdown",
   "metadata": {},
   "source": [
    "### Création des factoïdes dans des répertoires"
   ]
  },
  {
   "cell_type": "markdown",
   "metadata": {},
   "source": [
    "Pour chaque source, des factoïdes sont créés indépendamment dans des répertoires distincts"
   ]
  },
  {
   "cell_type": "markdown",
   "metadata": {},
   "source": [
    "#### Ville de Paris\n"
   ]
  },
  {
   "cell_type": "code",
   "execution_count": null,
   "metadata": {},
   "outputs": [],
   "source": [
    "# create_factoid_process_ville_paris(graphdb_url, vpt_repository_name, namespace_prefixes, tmp_folder,\n",
    "#                                    ontorefine_url, ontorefine_cmd, ont_file, ontology_named_graph_name, factoids_graph_name, permanent_graph_name,\n",
    "#                                    vpta_csv_file, vpta_mod_csv_file, vpta_csv_file_delimiter, vpta_csv_file_geom_col_name,\n",
    "#                                    vptc_csv_file, vpta_mapping_file, vptc_mapping_file, vpta_kg_file, vptc_kg_file)"
   ]
  },
  {
   "cell_type": "markdown",
   "metadata": {},
   "source": [
    "####  BAN\n"
   ]
  },
  {
   "cell_type": "code",
   "execution_count": null,
   "metadata": {},
   "outputs": [],
   "source": [
    "# create_factoid_process_ban(graphdb_url, bpa_repository_name, namespace_prefixes, tmp_folder,\n",
    "#                            ontorefine_url, ontorefine_cmd,\n",
    "#                            ont_file, ontology_named_graph_name, factoids_graph_name, permanent_graph_name,\n",
    "#                            bpa_csv_file, bpa_mapping_file, bpa_kg_file)"
   ]
  },
  {
   "cell_type": "markdown",
   "metadata": {},
   "source": [
    "#### Wikidata\n"
   ]
  },
  {
   "cell_type": "code",
   "execution_count": null,
   "metadata": {},
   "outputs": [],
   "source": [
    "# # get_data_from_wikidata(wdpt_csv_file, wdpa_csv_file, wdpl_csv_file)\n",
    "# create_factoid_process_wikidata(graphdb_url, wd_repository_name, namespace_prefixes, tmp_folder, \n",
    "#                                 ontorefine_url, ontorefine_cmd, \n",
    "#                                 ont_file, ontology_named_graph_name, factoids_graph_name, permanent_graph_name,\n",
    "#                                 wdpt_csv_file, wdpt_mapping_file, wdpt_kg_file, \n",
    "#                                 wdpa_csv_file, wdpa_mapping_file, wdpa_kg_file,\n",
    "#                                 wdpl_csv_file, wdpl_mapping_file, wdpl_kg_file)"
   ]
  },
  {
   "cell_type": "markdown",
   "metadata": {},
   "source": [
    "#### OSM"
   ]
  },
  {
   "cell_type": "code",
   "execution_count": null,
   "metadata": {},
   "outputs": [],
   "source": [
    "# create_factoid_process_osm(graphdb_url, osm_repository_name, namespace_prefixes, tmp_folder,\n",
    "#                         ontorefine_url, ontorefine_cmd, ont_file, ontology_named_graph_name, factoids_graph_name, permanent_graph_name,\n",
    "#                         osm_csv_file, osm_mapping_file, osm_kg_file,\n",
    "#                         osm_hn_csv_file, osm_hn_mapping_file, osm_hn_kg_file)"
   ]
  },
  {
   "cell_type": "markdown",
   "metadata": {},
   "source": [
    "### Insertion des factoïdes dans le graphe des faits"
   ]
  },
  {
   "cell_type": "markdown",
   "metadata": {},
   "source": [
    "#### Ville de Paris"
   ]
  },
  {
   "cell_type": "code",
   "execution_count": null,
   "metadata": {},
   "outputs": [],
   "source": [
    "transfert_factoids_to_facts_repository(graphdb_url, facts_repository_name, vpt_repository_name, vpt_factoids_kg_file, vpt_permanent_kg_file, factoids_graph_name, facts_graph_name, permanent_graph_name)\n",
    "import_factoids_in_facts(graphdb_url, facts_repository_name, factoids_graph_name, facts_graph_name, facts_ttl_file)"
   ]
  },
  {
   "cell_type": "markdown",
   "metadata": {},
   "source": [
    "#### Wikidata"
   ]
  },
  {
   "cell_type": "code",
   "execution_count": null,
   "metadata": {},
   "outputs": [],
   "source": [
    "transfert_factoids_to_facts_repository(graphdb_url, facts_repository_name, wd_repository_name, wd_factoids_kg_file, wd_permanent_kg_file, factoids_graph_name, facts_graph_name, permanent_graph_name)\n",
    "import_factoids_in_facts(graphdb_url, facts_repository_name, factoids_graph_name, facts_graph_name, facts_ttl_file)"
   ]
  },
  {
   "cell_type": "markdown",
   "metadata": {},
   "source": [
    "#### BAN"
   ]
  },
  {
   "cell_type": "code",
   "execution_count": null,
   "metadata": {},
   "outputs": [],
   "source": [
    "transfert_factoids_to_facts_repository(graphdb_url, facts_repository_name, bpa_repository_name, bpa_factoids_kg_file, bpa_permanent_kg_file, factoids_graph_name, facts_graph_name, permanent_graph_name)\n",
    "import_factoids_in_facts(graphdb_url, facts_repository_name, factoids_graph_name, facts_graph_name, facts_ttl_file)"
   ]
  },
  {
   "cell_type": "markdown",
   "metadata": {},
   "source": [
    "#### OSM"
   ]
  },
  {
   "cell_type": "code",
   "execution_count": null,
   "metadata": {},
   "outputs": [],
   "source": [
    "transfert_factoids_to_facts_repository(graphdb_url, facts_repository_name, osm_repository_name, osm_factoids_kg_file, osm_permanent_kg_file, factoids_graph_name, facts_graph_name, permanent_graph_name)\n",
    "import_factoids_in_facts(graphdb_url, facts_repository_name, factoids_graph_name, facts_graph_name, facts_ttl_file)"
   ]
  }
 ],
 "metadata": {
  "kernelspec": {
   "display_name": "Python 3",
   "language": "python",
   "name": "python3"
  },
  "language_info": {
   "codemirror_mode": {
    "name": "ipython",
    "version": 3
   },
   "file_extension": ".py",
   "mimetype": "text/x-python",
   "name": "python",
   "nbconvert_exporter": "python",
   "pygments_lexer": "ipython3",
   "version": "3.10.12"
  },
  "orig_nbformat": 4
 },
 "nbformat": 4,
 "nbformat_minor": 2
}
