{
 "cells": [
  {
   "cell_type": "markdown",
   "metadata": {},
   "source": [
    "# Variables"
   ]
  },
  {
   "cell_type": "markdown",
   "metadata": {},
   "source": [
    "## Import des librairies"
   ]
  },
  {
   "cell_type": "code",
   "execution_count": null,
   "metadata": {},
   "outputs": [],
   "source": [
    "import os\n",
    "import sys\n",
    "from rdflib import Namespace, URIRef"
   ]
  },
  {
   "cell_type": "markdown",
   "metadata": {},
   "source": [
    "## Définition des variables globales"
   ]
  },
  {
   "cell_type": "code",
   "execution_count": null,
   "metadata": {},
   "outputs": [],
   "source": [
    "# Fichiers existants\n",
    "ont_file_name = \"ontology.ttl\" # Fusion des deux fichiers précédents\n",
    "ruleset_file_name = \"rules.pie\"\n",
    "\n",
    "# Fichiers créés durant le processus\n",
    "export_file_name = \"addresses-temp.ttl\"\n",
    "out_file_name = \"addresses.ttl\"\n",
    "local_config_file_name = \"config_repo.ttl\"\n",
    "facts_ttl_file_name = \"facts_data.ttl\"\n",
    "implicit_to_facts_ttl_file_name = \"implicit_to_facts.ttl\"\n",
    "\n",
    "# Dossiers existants\n",
    "data_folder_name = \"data\"\n",
    "mapping_folder_name = \"mappings\"\n",
    "\n",
    "# Dossiers créés durant le traitement\n",
    "tmp_folder_name = \"tmp_files\"\n",
    "\n",
    "# Nom du répertoire GraphDB pour les faits\n",
    "facts_repository_name = \"addresses_from_factoids\"\n",
    "\n",
    "# Définition des graphes nommés\n",
    "ontology_named_graph_name = \"ontology\"\n",
    "facts_named_graph_name = \"facts\"\n",
    "factoids_named_graph_name = \"factoids\"\n",
    "time_named_graph_name = \"time\"\n",
    "permanent_named_graph_name = \"permanent\"\n",
    "tmp_named_graph_name = \"temporary\"\n",
    "\n",
    "# Définition de namespaces et de préfixes associés\n",
    "namespace_prefixes = {\"addr\":Namespace(\"http://rdf.geohistoricaldata.org/def/address#\"),\n",
    "                      \"atype\":Namespace(\"http://rdf.geohistoricaldata.org/id/codes/address/attributeType/\"),\n",
    "                      \"ltype\":Namespace(\"http://rdf.geohistoricaldata.org/id/codes/address/landmarkType/\"),\n",
    "                      \"lrtype\":Namespace(\"http://rdf.geohistoricaldata.org/id/codes/address/landmarkRelationType/\"),\n",
    "                      \"ctype\":Namespace(\"http://rdf.geohistoricaldata.org/id/codes/address/changeType/\"),\n",
    "                      \"facts\":Namespace(\"http://rdf.geohistoricaldata.org/id/address/facts/\"),\n",
    "                      \"factoids\":Namespace(\"http://rdf.geohistoricaldata.org/id/address/factoids/\"),\n",
    "                      \"time\": Namespace(\"http://www.w3.org/2006/time#\"),\n",
    "                      \"owl\": Namespace(\"http://www.w3.org/2002/07/owl#\"),\n",
    "                      \"prov\": Namespace(\"http://www.w3.org/ns/prov#\"),\n",
    "                      \"rico\": Namespace(\"https://www.ica.org/standards/RiC/ontology#\"),\n",
    "                      \"geo\": Namespace(\"http://www.opengis.net/ont/geosparql#\"),\n",
    "                      \"skos\": Namespace(\"http://www.w3.org/2004/02/skos/core#\"),\n",
    "                      \"rdf\": Namespace(\"http://www.w3.org/1999/02/22-rdf-syntax-ns#\"),\n",
    "                      \"rdfs\": Namespace(\"http://www.w3.org/2000/01/rdf-schema#\"),\n",
    "                      \"xsd\": Namespace(\"http://www.w3.org/2001/XMLSchema#\"),\n",
    "                      \"geofla\": Namespace(\"http://data.ign.fr/def/geofla#\"),\n",
    "                      }\n",
    "\n",
    "# URIs pour accéder ai logiciel GraphDB\n",
    "graphdb_url = \"http://localhost:7200\"\n",
    "\n",
    "py_code_folder_path = \"../code\""
   ]
  },
  {
   "cell_type": "markdown",
   "metadata": {},
   "source": [
    "## Traitement des variables globales\n",
    "\n",
    "* Obtention des chemins absolus des fichiers à partir des chemins relatifs donnés dans la section précédente\n",
    "* Création d'un dossier temporaire s'il n'existe pas encore pour stocker des fichiers à vocation d'être supprimés"
   ]
  },
  {
   "cell_type": "code",
   "execution_count": null,
   "metadata": {},
   "outputs": [],
   "source": [
    "tmp_folder = os.path.abspath(tmp_folder_name)\n",
    "mapping_folder = os.path.abspath(mapping_folder_name)\n",
    "data_folder = os.path.abspath(data_folder_name)\n",
    "\n",
    "python_code_folder = os.path.abspath(py_code_folder_path)\n",
    "\n",
    "local_config_file = os.path.join(tmp_folder, local_config_file_name)\n",
    "ont_file = os.path.abspath(ont_file_name)\n",
    "ruleset_file = os.path.abspath(ruleset_file_name)\n",
    "facts_ttl_file = os.path.join(tmp_folder, facts_ttl_file_name)\n",
    "implicit_to_facts_ttl_file = os.path.join(tmp_folder, implicit_to_facts_ttl_file_name)"
   ]
  },
  {
   "cell_type": "markdown",
   "metadata": {},
   "source": [
    "## Import des modules situés dans le dossier `code`"
   ]
  },
  {
   "cell_type": "code",
   "execution_count": null,
   "metadata": {},
   "outputs": [],
   "source": [
    "# Appel du dossier `code` comprend les codes python\n",
    "sys.path.insert(1, python_code_folder)\n",
    "\n",
    "import filemanagement as fm\n",
    "import graphdb as gd\n",
    "import attributeversioncomparisons as avc\n",
    "import multisourcesprocessing as msp\n",
    "import factoidscreation as fc\n",
    "import timeprocessing as tp"
   ]
  },
  {
   "cell_type": "markdown",
   "metadata": {},
   "source": [
    "## Création de dossiers s'ils n'existent pas"
   ]
  },
  {
   "cell_type": "code",
   "execution_count": null,
   "metadata": {},
   "outputs": [],
   "source": [
    "fm.create_folder_if_not_exists(tmp_folder)"
   ]
  },
  {
   "cell_type": "markdown",
   "metadata": {},
   "source": [
    "### Création du répertoire local dans GraphDB\n",
    "Pour que la création marche, il faut que GraphDB soit lancé et donc que l'URI donné par `graphdb_url` fonctionne. Si le répertoire existe déjà, rien n'est fait."
   ]
  },
  {
   "cell_type": "code",
   "execution_count": null,
   "metadata": {},
   "outputs": [],
   "source": [
    "# Il se peut que la suppression d'un répertoire ne fonctionne pas donc pour éviter la suppresion au moment de la réinitialisation (suppression + (re)création)\n",
    "# `allow_removal` doit valoir False et dans ce cas-là, le répertoire sera juste vidé.\n",
    "allow_removal = False\n",
    "disable_same_as = False\n",
    "\n",
    "# gd.reinitialize_repository(graphdb_url, facts_repository_name, local_config_file, ruleset_name=\"owl2-rl-optimized\", disable_same_as=disable_same_as, allow_removal=allow_removal)\n",
    "gd.reinitialize_repository(graphdb_url, facts_repository_name, local_config_file, ruleset_file=ruleset_file, disable_same_as=disable_same_as, allow_removal=allow_removal)"
   ]
  },
  {
   "cell_type": "markdown",
   "metadata": {},
   "source": [
    "## Gestion du répertoire local"
   ]
  },
  {
   "cell_type": "markdown",
   "metadata": {},
   "source": [
    "## Import des ontologies"
   ]
  },
  {
   "cell_type": "code",
   "execution_count": null,
   "metadata": {},
   "outputs": [],
   "source": [
    "gd.load_ontologies(graphdb_url, facts_repository_name, [ont_file], ontology_named_graph_name)"
   ]
  },
  {
   "cell_type": "markdown",
   "metadata": {},
   "source": [
    "## Définition de variables liées aux sources"
   ]
  },
  {
   "cell_type": "markdown",
   "metadata": {},
   "source": [
    "### Voies de Paris via Wikidata"
   ]
  },
  {
   "cell_type": "markdown",
   "metadata": {},
   "source": [
    "* `wd` pour \"wikidata\"\n",
    "* `wdp_land` pour \"wikidata paris landmarks\"\n",
    "* `wdp_loc` pour \"wikidata paris locations\""
   ]
  },
  {
   "cell_type": "code",
   "execution_count": null,
   "metadata": {},
   "outputs": [],
   "source": [
    "# Nom du répertoire où sont stockés et construits les triplets des factoïdes des données de Wikidata\n",
    "wd_repository_name = \"factoids_wikidata\"\n",
    "\n",
    "# Fichier CSV pour stocker le résultat de la requête de la sélection\n",
    "wdp_land_csv_file_name = \"wd_paris_landmarks.csv\"\n",
    "wdp_land_csv_file = os.path.join(data_folder, wdp_land_csv_file_name)\n",
    "\n",
    "# Fichier CSV pour stocker le résultat de la requête de la sélection\n",
    "wdp_loc_csv_file_name = \"wd_paris_locations.csv\"\n",
    "wdp_loc_csv_file = os.path.join(data_folder, wdp_loc_csv_file_name)\n",
    "\n",
    "# Fichier TTL pour structurer les connaissances des voies de Paris\n",
    "wdp_kg_file_name = \"wd_paris.ttl\"\n",
    "wdp_kg_file = os.path.join(tmp_folder, wdp_kg_file_name)\n",
    "\n",
    "# Fichier TTL final des factoïdes de Wikidata\n",
    "wdp_factoids_kg_file_name = \"wd_paris_factoids.ttl\"\n",
    "wdp_factoids_kg_file = os.path.join(tmp_folder, wdp_factoids_kg_file_name)\n",
    "wdp_permanent_kg_file_name = \"wd_paris_permanent.ttl\"\n",
    "wdp_permanent_kg_file = os.path.join(tmp_folder, wdp_permanent_kg_file_name)"
   ]
  },
  {
   "cell_type": "markdown",
   "metadata": {},
   "source": [
    "### Nomenclature des voies de la ville de Paris"
   ]
  },
  {
   "cell_type": "markdown",
   "metadata": {},
   "source": [
    "Les données de la ville de Paris sont composées de deux jeux :\n",
    "* [dénominations des emprises des voies actuelles](https://opendata.paris.fr/explore/dataset/denominations-emprises-voies-actuelles)\n",
    "* [dénominations caduques des voies](https://opendata.paris.fr/explore/dataset/denominations-des-voies-caduques)\n",
    "\n",
    "Les voies actuelles ont une emprise géométrique contrairement aux anciennes voies.\n",
    "\n",
    "* `vpt` pour \"ville paris thoroughfares\"\n",
    "* `vpta` pour \"ville paris thoroughfares actuelles\"\n",
    "* `vptc` pour \"ville paris thoroughfares caduques\""
   ]
  },
  {
   "cell_type": "code",
   "execution_count": null,
   "metadata": {},
   "outputs": [],
   "source": [
    "# Nom du répertoire où sont stockés et construits les triplets des factoïdes des données de la BAN\n",
    "vpt_repository_name = \"factoids_ville_de_paris\"\n",
    "\n",
    "# Fichier CSV pour stocker le résultat de la requête de la sélection\n",
    "vpta_csv_file_name = \"denominations-emprises-voies-actuelles.csv\"\n",
    "vpta_csv_file = os.path.join(data_folder, vpta_csv_file_name)\n",
    "vptc_csv_file_name = \"denominations-des-voies-caduques.csv\"\n",
    "vptc_csv_file = os.path.join(data_folder, vptc_csv_file_name)\n",
    "\n",
    "# Fichier TTL pour structurer les connaissances des voies de Paris\n",
    "vpt_kg_file_name = \"voies_paris.ttl\"\n",
    "vpt_kg_file = os.path.join(tmp_folder, vpt_kg_file_name)\n",
    "\n",
    "# Fichier TTL final des factoïdes de Ville de Paris\n",
    "vpt_factoids_kg_file_name = \"vpt_factoids.ttl\"\n",
    "vpt_factoids_kg_file = os.path.join(tmp_folder, vpt_factoids_kg_file_name)\n",
    "vpt_permanent_kg_file_name = \"vpt_permanent.ttl\"\n",
    "vpt_permanent_kg_file = os.path.join(tmp_folder, vpt_permanent_kg_file_name)\n",
    "\n",
    "vpt_time_description = {\n",
    "    \"start_time\" : {\"stamp\":\"2024-02-10T00:00:00Z\",\"precision\":\"day\",\"calendar\":\"gregorian\"}\n",
    "    }"
   ]
  },
  {
   "cell_type": "markdown",
   "metadata": {},
   "source": [
    "### Base Adresse Nationale (BAN)"
   ]
  },
  {
   "cell_type": "markdown",
   "metadata": {},
   "source": [
    "Données de la [Base Adresse Nationale (BAN)](https://adresse.data.gouv.fr/base-adresse-nationale), accessible [ici](https://adresse.data.gouv.fr/data/ban/adresses/latest/csv)\n",
    "\n",
    "`bpa` pour \"BAN paris addresses\""
   ]
  },
  {
   "cell_type": "code",
   "execution_count": null,
   "metadata": {},
   "outputs": [],
   "source": [
    "# Nom du répertoire où sont stockés et construits les triplets des factoïdes des données de la BAN\n",
    "bpa_repository_name = \"factoids_ban\"\n",
    "\n",
    "# Fichier CSV pour stocker le résultat de la requête de la sélection\n",
    "bpa_csv_file_name = \"ban_adresses.csv\"\n",
    "bpa_csv_file = os.path.join(data_folder, bpa_csv_file_name)\n",
    "\n",
    "# Fichier TTL pour structurer les connaissances des voies de Paris\n",
    "bpa_kg_file_name = \"ban_adresses.ttl\"\n",
    "bpa_kg_file = os.path.join(tmp_folder, bpa_kg_file_name)\n",
    "\n",
    "# Fichier TTL final des factoïdes de Ville de Paris\n",
    "bpa_factoids_kg_file_name = \"ban_factoids.ttl\"\n",
    "bpa_factoids_kg_file = os.path.join(tmp_folder, bpa_factoids_kg_file_name)\n",
    "bpa_permanent_kg_file_name = \"ban_permanent.ttl\"\n",
    "bpa_permanent_kg_file = os.path.join(tmp_folder, bpa_permanent_kg_file_name)\n",
    "\n",
    "bpa_time_description = {\n",
    "    \"start_time\" : {\"stamp\":\"2024-01-01T00:00:00Z\",\"precision\":\"day\",\"calendar\":\"gregorian\"}\n",
    "    }"
   ]
  },
  {
   "cell_type": "markdown",
   "metadata": {},
   "source": [
    "### OpenStreetMap (OSM)"
   ]
  },
  {
   "cell_type": "markdown",
   "metadata": {},
   "source": [
    "Extraction des données d'OpenStreetMap"
   ]
  },
  {
   "cell_type": "code",
   "execution_count": null,
   "metadata": {},
   "outputs": [],
   "source": [
    "# Nom du répertoire où sont stockés et construits les triplets des factoïdes des données d'OSM\n",
    "osm_repository_name = \"factoids_osm\"\n",
    "\n",
    "# Fichiers CSV pour stocker les résultats des requêtes de la sélection\n",
    "osm_csv_file_name = \"osm_adresses.csv\"\n",
    "osm_csv_file = os.path.join(data_folder, osm_csv_file_name)\n",
    "osm_hn_csv_file_name = \"osm_hn_adresses.csv\"\n",
    "osm_hn_csv_file = os.path.join(data_folder, osm_hn_csv_file_name)\n",
    "\n",
    "# Fichiers TTL pour structurer les connaissances venant d'OSM\n",
    "osm_kg_file_name = \"osm_adresses.ttl\"\n",
    "osm_kg_file = os.path.join(tmp_folder, osm_kg_file_name)\n",
    "\n",
    "# Fichier TTL final des factoïdes de Ville de Paris\n",
    "osm_factoids_kg_file_name = \"osm_factoids.ttl\"\n",
    "osm_factoids_kg_file = os.path.join(tmp_folder, osm_factoids_kg_file_name)\n",
    "osm_permanent_kg_file_name = \"osm_permanent.ttl\"\n",
    "osm_permanent_kg_file = os.path.join(tmp_folder, osm_permanent_kg_file_name)\n",
    "\n",
    "osm_time_description = {\n",
    "    \"start_time\" : {\"stamp\":\"2024-01-01T00:00:00Z\",\"precision\":\"day\",\"calendar\":\"gregorian\"}\n",
    "    }"
   ]
  },
  {
   "cell_type": "markdown",
   "metadata": {},
   "source": [
    "### Intégration de données issues de fichiers Geojson"
   ]
  },
  {
   "cell_type": "markdown",
   "metadata": {},
   "source": [
    "Ces fichiers sont issus de la vectorisation de plans de Paris\n",
    "* cadatre napoléonien révisé de 1847\n",
    "* plan \"Andriveau\" de 1849\n",
    "* plan parcellaire municipal de 1871\n",
    "* plan de l'Atlas Municipal de 1888"
   ]
  },
  {
   "cell_type": "markdown",
   "metadata": {},
   "source": [
    "#### Variables globales pour l'import des données venant des fichiers Geojson"
   ]
  },
  {
   "cell_type": "code",
   "execution_count": null,
   "metadata": {},
   "outputs": [],
   "source": [
    "lang = \"fr\"\n",
    "landmark_type = \"Thoroughfare\"\n",
    "geojson_join_property = \"name\""
   ]
  },
  {
   "cell_type": "markdown",
   "metadata": {},
   "source": [
    "#### Cadastre napoléonien de 1847"
   ]
  },
  {
   "cell_type": "code",
   "execution_count": null,
   "metadata": {},
   "outputs": [],
   "source": [
    "# Nom du répertoire où sont stockés et construits les triplets des factoïdes des données\n",
    "cn_1847_repository_name = \"factoids_1847_cadastre_nap\"\n",
    "\n",
    "cn_1847_geojson_file_name = \"1847_cadastre_nap.geojson\"\n",
    "cn_1847_geojson_file = os.path.join(data_folder, cn_1847_geojson_file_name)\n",
    "cn_1847_kg_file_name = \"cn_1847_kg.ttl\"\n",
    "cn_1847_kg_file = os.path.join(tmp_folder, cn_1847_kg_file_name)\n",
    "\n",
    "# Fichier TTL final des factoïdes du cadatre napoléonien révisé de 1847\n",
    "cn_1847_factoids_kg_file_name = \"cn_1847_factoids.ttl\"\n",
    "cn_1847_factoids_kg_file = os.path.join(tmp_folder, cn_1847_factoids_kg_file_name)\n",
    "cn_1847_permanent_kg_file_name = \"cn_1847_permanent.ttl\"\n",
    "cn_1847_permanent_kg_file = os.path.join(tmp_folder, cn_1847_permanent_kg_file_name)\n",
    "\n",
    "cn_1847_geojson = fm.read_json_file(cn_1847_geojson_file)\n",
    "\n",
    "cn_1847_source_desc = {\n",
    "    \"lang\" : \"fr\", \n",
    "    \"label\" : \"Cadastre napoléonien de Gentilly de 1847\",\n",
    "    \"publisher\" : {\n",
    "        \"label\": \"Empire français\"\n",
    "        }\n",
    "}\n",
    "\n",
    "cn_1847_time_interval = {\n",
    "    \"start_time\" : {\"stamp\":\"1845-01-01T00:00:00Z\",\"precision\":\"year\",\"calendar\":\"gregorian\"},\n",
    "    \"end_time\" : {\"stamp\":\"1850-01-01T00:00:00Z\",\"precision\":\"year\",\"calendar\":\"gregorian\"},\n",
    "}\n",
    "cn_1847_geojson[\"source\"] = cn_1847_source_desc\n",
    "cn_1847_geojson[\"time\"] = cn_1847_time_interval\n"
   ]
  },
  {
   "cell_type": "markdown",
   "metadata": {},
   "source": [
    "#### Plan d'Andriveau"
   ]
  },
  {
   "cell_type": "code",
   "execution_count": null,
   "metadata": {},
   "outputs": [],
   "source": [
    "# Nom du répertoire où sont stockés et construits les triplets des factoïdes des données\n",
    "an_1849_repository_name = \"factoids_1849_andriveau\"\n",
    "\n",
    "an_1849_geojson_file_name = \"1849_andriveau.geojson\"\n",
    "an_1849_geojson_file = os.path.join(data_folder, an_1849_geojson_file_name)\n",
    "an_1849_kg_file_name = \"an_1849_kg.ttl\"\n",
    "an_1849_kg_file = os.path.join(tmp_folder, an_1849_kg_file_name)\n",
    "\n",
    "# Fichier TTL final des factoïdes du plan \"Andriveau\" de 1849\n",
    "an_1849_factoids_kg_file_name = \"an_1849_factoids.ttl\"\n",
    "an_1849_factoids_kg_file = os.path.join(tmp_folder, an_1849_factoids_kg_file_name)\n",
    "an_1849_permanent_kg_file_name = \"an_1849_permanent.ttl\"\n",
    "an_1849_permanent_kg_file = os.path.join(tmp_folder, an_1849_permanent_kg_file_name)\n",
    "\n",
    "an_1849_geojson = fm.read_json_file(an_1849_geojson_file)\n",
    "\n",
    "an_1849_source_desc = {\n",
    "    \"lang\" : \"fr\", \n",
    "    \"label\" : \"Plan d'Andriveau de 1849\",\n",
    "    \"publisher\" : {\n",
    "        \"label\": \"Andriveau\"\n",
    "        }\n",
    "}\n",
    "\n",
    "an_1849_time_interval = {\n",
    "    \"start_time\" : {\"stamp\":\"1847-01-01T00:00:00Z\",\"precision\":\"year\",\"calendar\":\"gregorian\"},\n",
    "    \"end_time\" : {\"stamp\":\"1851-01-01T00:00:00Z\",\"precision\":\"year\",\"calendar\":\"gregorian\"},\n",
    "}\n",
    "an_1849_geojson[\"source\"] = an_1849_source_desc\n",
    "an_1849_geojson[\"time\"] = an_1849_time_interval"
   ]
  },
  {
   "cell_type": "markdown",
   "metadata": {},
   "source": [
    "#### Plan parcellaire municipal de 1871"
   ]
  },
  {
   "cell_type": "code",
   "execution_count": null,
   "metadata": {},
   "outputs": [],
   "source": [
    "# Nom du répertoire où sont stockés et construits les triplets des factoïdes des données\n",
    "pm_1871_repository_name = \"factoids_1871_plan_parcellaire_mun\"\n",
    "\n",
    "pm_1871_geojson_file_name = \"1871_plan_parcellaire_mun.geojson\"\n",
    "pm_1871_geojson_file = os.path.join(data_folder, pm_1871_geojson_file_name)\n",
    "pm_1871_kg_file_name = \"pm_1871_kg.ttl\"\n",
    "pm_1871_kg_file = os.path.join(tmp_folder, pm_1871_kg_file_name)\n",
    "\n",
    "# Fichier TTL final des factoïdes du plan parcellaire municipal de 1871\n",
    "pm_1871_factoids_kg_file_name = \"pm_1871_factoids.ttl\"\n",
    "pm_1871_factoids_kg_file = os.path.join(tmp_folder, pm_1871_factoids_kg_file_name)\n",
    "pm_1871_permanent_kg_file_name = \"pm_1871_permanent.ttl\"\n",
    "pm_1871_permanent_kg_file = os.path.join(tmp_folder, pm_1871_permanent_kg_file_name)\n",
    "\n",
    "pm_1871_geojson = fm.read_json_file(pm_1871_geojson_file)\n",
    "\n",
    "pm_1871_source_desc = {\n",
    "    \"lang\" : \"fr\",\n",
    "    \"label\" : \"Plan parcellaire municipal\",\n",
    "    \"publisher\" : {\n",
    "        \"label\": \"IIIe République\"\n",
    "        }\n",
    "}\n",
    "\n",
    "pm_1871_time_interval = {\n",
    "    \"start_time\" : {\"stamp\":\"1870-01-01T00:00:00Z\",\"precision\":\"year\",\"calendar\":\"gregorian\"},\n",
    "    \"end_time\" : {\"stamp\":\"1872-01-01T00:00:00Z\",\"precision\":\"year\",\"calendar\":\"gregorian\"},\n",
    "}\n",
    "pm_1871_geojson[\"source\"] = pm_1871_source_desc\n",
    "pm_1871_geojson[\"time\"] = pm_1871_time_interval"
   ]
  },
  {
   "cell_type": "markdown",
   "metadata": {},
   "source": [
    "#### Plan municipal de 1888"
   ]
  },
  {
   "cell_type": "code",
   "execution_count": null,
   "metadata": {},
   "outputs": [],
   "source": [
    "# Nom du répertoire où sont stockés et construits les triplets des factoïdes des données\n",
    "am_1888_repository_name = \"factoids_1888_atlas_municipal\"\n",
    "\n",
    "am_1888_geojson_file_name = \"1888_atlas_municipal.geojson\"\n",
    "am_1888_geojson_file = os.path.join(data_folder, am_1888_geojson_file_name)\n",
    "am_1888_kg_file_name = \"am_1888_kg.ttl\"\n",
    "am_1888_kg_file = os.path.join(tmp_folder, am_1888_kg_file_name)\n",
    "\n",
    "# Fichier TTL final des factoïdes du plan de l'Atlas Municipal de 1888\n",
    "am_1888_factoids_kg_file_name = \"am_1888_factoids.ttl\"\n",
    "am_1888_factoids_kg_file = os.path.join(tmp_folder, am_1888_factoids_kg_file_name)\n",
    "am_1888_permanent_kg_file_name = \"am_1888_permanent.ttl\"\n",
    "am_1888_permanent_kg_file = os.path.join(tmp_folder, am_1888_permanent_kg_file_name)\n",
    "\n",
    "am_1888_geojson = fm.read_json_file(am_1888_geojson_file)\n",
    "\n",
    "am_1888_source_desc = {\n",
    "    \"lang\" : \"fr\", \n",
    "    \"label\" : \"Plan de l'atlas municipal de 1888\",\n",
    "    \"publisher\" : {\n",
    "        \"label\": \"Ville de Paris\"\n",
    "        }\n",
    "}\n",
    "\n",
    "am_1888_time_interval = {\n",
    "    \"start_time\" : {\"stamp\":\"1887-01-01T00:00:00Z\",\"precision\":\"year\",\"calendar\":\"gregorian\"},\n",
    "    \"end_time\" : {\"stamp\":\"1889-01-01T00:00:00Z\",\"precision\":\"year\",\"calendar\":\"gregorian\"},\n",
    "}\n",
    "am_1888_geojson[\"source\"] = am_1888_source_desc\n",
    "am_1888_geojson[\"time\"] = am_1888_time_interval"
   ]
  },
  {
   "cell_type": "markdown",
   "metadata": {},
   "source": [
    "## Processus final et itératif"
   ]
  },
  {
   "cell_type": "markdown",
   "metadata": {},
   "source": [
    "### Création des factoïdes dans des répertoires"
   ]
  },
  {
   "cell_type": "markdown",
   "metadata": {},
   "source": [
    "Pour chaque source, des factoïdes sont créés indépendamment dans des répertoires distincts"
   ]
  },
  {
   "cell_type": "markdown",
   "metadata": {},
   "source": [
    "#### Ville de Paris\n"
   ]
  },
  {
   "cell_type": "code",
   "execution_count": null,
   "metadata": {},
   "outputs": [],
   "source": [
    "fc.create_factoids_repository_ville_paris(graphdb_url, vpt_repository_name, namespace_prefixes, tmp_folder,\n",
    "                                          ont_file, ontology_named_graph_name,\n",
    "                                          factoids_named_graph_name, permanent_named_graph_name,\n",
    "                                          vpta_csv_file, vptc_csv_file, vpt_kg_file, vpt_time_description, lang=lang)"
   ]
  },
  {
   "cell_type": "markdown",
   "metadata": {},
   "source": [
    "####  BAN\n"
   ]
  },
  {
   "cell_type": "code",
   "execution_count": null,
   "metadata": {},
   "outputs": [],
   "source": [
    "fc.create_factoids_repository_ban(graphdb_url, bpa_repository_name, namespace_prefixes, tmp_folder,\n",
    "                                  ont_file, ontology_named_graph_name,\n",
    "                                  factoids_named_graph_name, permanent_named_graph_name,\n",
    "                                  bpa_csv_file, bpa_kg_file, bpa_time_description, lang=lang)"
   ]
  },
  {
   "cell_type": "markdown",
   "metadata": {},
   "source": [
    "#### Wikidata\n"
   ]
  },
  {
   "cell_type": "code",
   "execution_count": null,
   "metadata": {},
   "outputs": [],
   "source": [
    "fc.create_factoids_repository_wikidata_paris(graphdb_url, wd_repository_name, namespace_prefixes, tmp_folder,\n",
    "                                             ont_file, ontology_named_graph_name,\n",
    "                                             factoids_named_graph_name, permanent_named_graph_name,\n",
    "                                             wdp_land_csv_file, wdp_loc_csv_file, wdp_kg_file, wdp_time_description={}, lang=lang)"
   ]
  },
  {
   "cell_type": "markdown",
   "metadata": {},
   "source": [
    "#### OSM"
   ]
  },
  {
   "cell_type": "code",
   "execution_count": null,
   "metadata": {},
   "outputs": [],
   "source": [
    "fc.create_factoids_repository_osm(graphdb_url, osm_repository_name, namespace_prefixes, tmp_folder,\n",
    "                                  ont_file, ontology_named_graph_name,\n",
    "                                  factoids_named_graph_name, permanent_named_graph_name,\n",
    "                                  osm_csv_file, osm_hn_csv_file, osm_kg_file, osm_time_description=osm_time_description, lang=None)"
   ]
  },
  {
   "cell_type": "markdown",
   "metadata": {},
   "source": [
    "#### Données issues des fichiers Geojson"
   ]
  },
  {
   "cell_type": "markdown",
   "metadata": {},
   "source": [
    "* cadastre napoléonien de Gentilly (1847)\n",
    "* plan d'Andriveau (1849)\n",
    "* plan parcellaire municipal de Paris (1871)\n",
    "* plan municipal de Paris (1888)"
   ]
  },
  {
   "cell_type": "code",
   "execution_count": null,
   "metadata": {},
   "outputs": [],
   "source": [
    "fc.create_factoids_repository_geojson_states(graphdb_url, cn_1847_repository_name, namespace_prefixes, tmp_folder, ont_file, ontology_named_graph_name,\n",
    "                               factoids_named_graph_name, permanent_named_graph_name, cn_1847_geojson, geojson_join_property, cn_1847_kg_file, landmark_type, lang)\n",
    "fc.create_factoids_repository_geojson_states(graphdb_url, an_1849_repository_name, namespace_prefixes, tmp_folder, ont_file, ontology_named_graph_name,\n",
    "                               factoids_named_graph_name, permanent_named_graph_name, an_1849_geojson, geojson_join_property, an_1849_kg_file, landmark_type, lang)\n",
    "fc.create_factoids_repository_geojson_states(graphdb_url, pm_1871_repository_name, namespace_prefixes, tmp_folder, ont_file, ontology_named_graph_name,\n",
    "                               factoids_named_graph_name, permanent_named_graph_name, pm_1871_geojson, geojson_join_property, pm_1871_kg_file, landmark_type, lang)\n",
    "fc.create_factoids_repository_geojson_states(graphdb_url, am_1888_repository_name, namespace_prefixes, tmp_folder, ont_file, ontology_named_graph_name,\n",
    "                               factoids_named_graph_name, permanent_named_graph_name, am_1888_geojson, geojson_join_property, am_1888_kg_file, landmark_type, lang)"
   ]
  },
  {
   "cell_type": "markdown",
   "metadata": {},
   "source": [
    "### Insertion des factoïdes dans le graphe des faits"
   ]
  },
  {
   "cell_type": "markdown",
   "metadata": {},
   "source": [
    "#### Ville de Paris"
   ]
  },
  {
   "cell_type": "code",
   "execution_count": null,
   "metadata": {},
   "outputs": [],
   "source": [
    "msp.transfert_factoids_to_facts_repository(graphdb_url, facts_repository_name, vpt_repository_name, vpt_factoids_kg_file, vpt_permanent_kg_file, factoids_named_graph_name, facts_named_graph_name, permanent_named_graph_name)\n",
    "msp.import_factoids_in_facts(graphdb_url, facts_repository_name, namespace_prefixes, factoids_named_graph_name, facts_named_graph_name)"
   ]
  },
  {
   "cell_type": "markdown",
   "metadata": {},
   "source": [
    "#### Wikidata"
   ]
  },
  {
   "cell_type": "code",
   "execution_count": null,
   "metadata": {},
   "outputs": [],
   "source": [
    "msp.transfert_factoids_to_facts_repository(graphdb_url, facts_repository_name, wd_repository_name, wdp_factoids_kg_file, wdp_permanent_kg_file, factoids_named_graph_name, facts_named_graph_name, permanent_named_graph_name)\n",
    "msp.import_factoids_in_facts(graphdb_url, facts_repository_name, namespace_prefixes, factoids_named_graph_name, facts_named_graph_name)"
   ]
  },
  {
   "cell_type": "markdown",
   "metadata": {},
   "source": [
    "#### BAN"
   ]
  },
  {
   "cell_type": "code",
   "execution_count": null,
   "metadata": {},
   "outputs": [],
   "source": [
    "msp.transfert_factoids_to_facts_repository(graphdb_url, facts_repository_name, bpa_repository_name, bpa_factoids_kg_file, bpa_permanent_kg_file, factoids_named_graph_name, facts_named_graph_name, permanent_named_graph_name)\n",
    "msp.import_factoids_in_facts(graphdb_url, facts_repository_name, namespace_prefixes, factoids_named_graph_name, facts_named_graph_name)"
   ]
  },
  {
   "cell_type": "markdown",
   "metadata": {},
   "source": [
    "#### OSM"
   ]
  },
  {
   "cell_type": "code",
   "execution_count": null,
   "metadata": {},
   "outputs": [],
   "source": [
    "msp.transfert_factoids_to_facts_repository(graphdb_url, facts_repository_name, osm_repository_name, osm_factoids_kg_file, osm_permanent_kg_file, factoids_named_graph_name, facts_named_graph_name, permanent_named_graph_name)\n",
    "msp.import_factoids_in_facts(graphdb_url, facts_repository_name, namespace_prefixes, factoids_named_graph_name, facts_named_graph_name)"
   ]
  },
  {
   "cell_type": "markdown",
   "metadata": {},
   "source": [
    "#### Données issues des fichiers Geojson"
   ]
  },
  {
   "cell_type": "markdown",
   "metadata": {},
   "source": [
    "* cadastre napoléonien de Gentilly (1847)\n",
    "* plan d'Andriveau (1849)\n",
    "* plan parcellaire municipal de Paris (1871)\n",
    "* plan municipal de Paris (1888)"
   ]
  },
  {
   "cell_type": "code",
   "execution_count": null,
   "metadata": {},
   "outputs": [],
   "source": [
    "msp.transfert_factoids_to_facts_repository(graphdb_url, facts_repository_name, cn_1847_repository_name,\n",
    "                                       cn_1847_factoids_kg_file, cn_1847_permanent_kg_file, factoids_named_graph_name, facts_named_graph_name, permanent_named_graph_name)\n",
    "msp.import_factoids_in_facts(graphdb_url, facts_repository_name, namespace_prefixes, factoids_named_graph_name, facts_named_graph_name)\n",
    "\n",
    "msp.transfert_factoids_to_facts_repository(graphdb_url, facts_repository_name, an_1849_repository_name,\n",
    "                                       an_1849_factoids_kg_file, an_1849_permanent_kg_file, factoids_named_graph_name, facts_named_graph_name, permanent_named_graph_name)\n",
    "msp.import_factoids_in_facts(graphdb_url, facts_repository_name, namespace_prefixes, factoids_named_graph_name, facts_named_graph_name)\n",
    "\n",
    "msp.transfert_factoids_to_facts_repository(graphdb_url, facts_repository_name, pm_1871_repository_name,\n",
    "                                       pm_1871_factoids_kg_file, pm_1871_permanent_kg_file, factoids_named_graph_name, facts_named_graph_name, permanent_named_graph_name)\n",
    "msp.import_factoids_in_facts(graphdb_url, facts_repository_name, namespace_prefixes, factoids_named_graph_name, facts_named_graph_name)\n",
    "\n",
    "msp.transfert_factoids_to_facts_repository(graphdb_url, facts_repository_name, am_1888_repository_name,\n",
    "                                       am_1888_factoids_kg_file, am_1888_permanent_kg_file, factoids_named_graph_name, facts_named_graph_name, permanent_named_graph_name)\n",
    "msp.import_factoids_in_facts(graphdb_url, facts_repository_name, namespace_prefixes, factoids_named_graph_name, facts_named_graph_name)"
   ]
  },
  {
   "cell_type": "markdown",
   "metadata": {},
   "source": [
    "### Traitement des données temporelles"
   ]
  },
  {
   "cell_type": "markdown",
   "metadata": {},
   "source": [
    "Ordonner les valeurs temporelles pour pouvoir \"fusionner\" (ajout d'un lien `owl:sameAs`) les versions d'attributs qui sont les mêmes. "
   ]
  },
  {
   "cell_type": "code",
   "execution_count": null,
   "metadata": {},
   "outputs": [],
   "source": [
    "# Ajout de relations temporelles\n",
    "# tp.compare_events(graphdb_url, facts_repository_name, namespace_prefixes, time_named_graph_name)\n",
    "tp.add_time_relations(graphdb_url, facts_repository_name, namespace_prefixes, time_named_graph_name)\n",
    "\n",
    "\n",
    "time_named_graph_uri = URIRef(gd.get_named_graph_uri_from_name(graphdb_url, facts_repository_name, time_named_graph_name))\n",
    "prefixes = gd.get_query_prefixes_from_namespaces(namespace_prefixes)\n",
    "# time_instant_select_conditions = \"?ev a addr:Event ; ?tpred1 ?ti1 ; ?tpred2 ?ti2 .\"\n",
    "# time_instant_select_conditions = \"\"\"\n",
    "#         ?attr a addr:Attribute ; addr:changedBy ?cg1, ?cg2.\n",
    "#         ?cg1 a addr:AttributeChange ; addr:dependsOn [?tpred1 ?ti1] .\n",
    "#         ?cg2 a addr:AttributeChange ; addr:dependsOn [?tpred2 ?ti2] .\n",
    "#         \"\"\"\n",
    "# query = tp.get_query_to_compare_time_instants(time_named_graph_uri, prefixes, time_instant_select_conditions)\n",
    "\n",
    "# time_interval_select_conditions = \"\"\"\n",
    "#         ?attr a addr:Attribute ; addr:hasAttributeVersion ?av1, ?av2 .\n",
    "#         FILTER (?av1 != ?av2)\n",
    "#         \"\"\"\n",
    "# query = tp.get_query_to_compare_time_intervals(time_named_graph_uri, prefixes, time_interval_select_conditions)\n",
    "# print(query)\n",
    "\n",
    "# tp.get_earliest_and_latest_time_instants_for_events(graphdb_url, facts_repository_name, prefixes, time_named_graph_uri)"
   ]
  },
  {
   "cell_type": "markdown",
   "metadata": {},
   "source": [
    "Comparaison des versions d'attribut décrivant des géométries"
   ]
  },
  {
   "cell_type": "code",
   "execution_count": null,
   "metadata": {},
   "outputs": [],
   "source": [
    "crs_uri = URIRef('http://www.opengis.net/def/crs/EPSG/0/2154')\n",
    "comp_named_graph_name = \"version_comparisons\"\n",
    "avc.compare_geometry_versions(graphdb_url, facts_repository_name, namespace_prefixes, facts_named_graph_name, comp_named_graph_name, crs_uri, buffer_radius=5)\n",
    "avc.compare_name_versions(graphdb_url, facts_repository_name, namespace_prefixes, facts_named_graph_name, comp_named_graph_name, similarity_coef=0.85)"
   ]
  },
  {
   "cell_type": "markdown",
   "metadata": {},
   "source": [
    "Fusion de versions"
   ]
  },
  {
   "cell_type": "code",
   "execution_count": null,
   "metadata": {},
   "outputs": [],
   "source": [
    "query1 = \"\"\"\n",
    "    PREFIX owl: <http://www.w3.org/2002/07/owl#>\n",
    "    PREFIX addr: <http://rdf.geohistoricaldata.org/def/address#>\n",
    "    PREFIX time: <http://www.w3.org/2006/time#>\n",
    "    INSERT {\n",
    "        GRAPH ?g {\n",
    "            ?s owl:sameAs ?o\n",
    "        }\n",
    "    }\n",
    "    WHERE {\n",
    "        BIND (<http://www.example.org/test> AS ?g)\n",
    "        ?av1 a addr:AttributeVersion ; addr:hasTime ?i1 ; addr:isOutdatedBy ?cg1.\n",
    "        ?av2 a addr:AttributeVersion ; addr:hasTime ?i2 ; addr:isMadeEffectiveBy ?cg2.\n",
    "        ?av1 ?pred ?av2 .\n",
    "        FILTER(?av1 != ?av2 && ?pred in (addr:sameVersionValueAs, addr:differentVersionValueFrom))\n",
    "        ?i1 time:intervalBefore ?i2 .\n",
    "\n",
    "        BIND(IF(?pred = addr:sameVersionValueAs, ?av1, ?cg1) AS ?s)\n",
    "        BIND(IF(?pred = addr:sameVersionValueAs, ?av2, ?cg2) AS ?o)\n",
    "        MINUS {\n",
    "            ?av3 a addr:AttributeVersion ; addr:hasTime ?i3 .\n",
    "            FILTER(?av1 != ?av3)\n",
    "            FILTER(?av2 != ?av3)\n",
    "            {\n",
    "                ?i1 (time:intervalMeets|time:intervalOverlaps|time:intervalIn) ?i3 .\n",
    "            } UNION {\n",
    "                ?i1 (time:intervalMeets|time:intervalOverlaps|time:intervalIn) ?i2 .\n",
    "            } UNION {\n",
    "                ?i1 time:intervalBefore ?i3 .\n",
    "                ?i2 time:intervalAfter ?i3 .\n",
    "            }\n",
    "        }\n",
    "    }\n",
    "\"\"\"\n",
    "\n",
    "query2 = \"\"\"\n",
    "    PREFIX owl: <http://www.w3.org/2002/07/owl#>\n",
    "    PREFIX addr: <http://rdf.geohistoricaldata.org/def/address#>\n",
    "    PREFIX time: <http://www.w3.org/2006/time#>\n",
    "    INSERT {\n",
    "        GRAPH ?g {\n",
    "            ?cg1end owl:sameAs ?cg2beg .\n",
    "        }\n",
    "    } WHERE {\n",
    "        BIND (<http://www.example.org/test> AS ?g)\n",
    "        ?av1 a addr:AttributeVersion ; addr:hasTime ?i1 .\n",
    "        ?av2 a addr:AttributeVersion ; addr:hasTime ?i2 .\n",
    "        ?av1 addr:differentVersionValueFrom ?av2 .\n",
    "        ?i1 ?p ?i2 .\n",
    "        FILTER(?p in (time:intervalOverlaps, time:intervalMeets))\n",
    "        ?cg1end addr:outdates ?av1 .\n",
    "        ?cg2beg addr:makesEffective ?av2 .\n",
    "    } ; \n",
    "\n",
    "    INSERT {\n",
    "        GRAPH ?g {\n",
    "            ?av1 owl:sameAs ?av2 .\n",
    "        }\n",
    "    } WHERE {\n",
    "        BIND (<http://www.example.org/test> AS ?g)\n",
    "        ?av1 a addr:AttributeVersion ; addr:hasTime ?i1 .\n",
    "        ?av2 a addr:AttributeVersion ; addr:hasTime ?i2 .\n",
    "        ?av1 addr:sameVersionValueAs ?av2 .\n",
    "        ?i1 ?p ?i2 .\n",
    "        FILTER(?p in (time:intervalOverlaps, time:intervalMeets, time:intervalIn, time:intervalEquals))\n",
    "    }\n",
    "    \"\"\"\n",
    "\n",
    "gd.update_query(query1, graphdb_url, facts_repository_name)\n",
    "gd.update_query(query2, graphdb_url, facts_repository_name)"
   ]
  }
 ],
 "metadata": {
  "kernelspec": {
   "display_name": "Python 3",
   "language": "python",
   "name": "python3"
  },
  "language_info": {
   "codemirror_mode": {
    "name": "ipython",
    "version": 3
   },
   "file_extension": ".py",
   "mimetype": "text/x-python",
   "name": "python",
   "nbconvert_exporter": "python",
   "pygments_lexer": "ipython3",
   "version": "3.9.0"
  },
  "orig_nbformat": 4
 },
 "nbformat": 4,
 "nbformat_minor": 2
}
