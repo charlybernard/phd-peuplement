{
 "cells": [
  {
   "cell_type": "markdown",
   "metadata": {},
   "source": [
    "# Variables"
   ]
  },
  {
   "cell_type": "markdown",
   "metadata": {},
   "source": [
    "## Import des librairies"
   ]
  },
  {
   "cell_type": "code",
   "execution_count": 1,
   "metadata": {},
   "outputs": [],
   "source": [
    "import os\n",
    "import sys\n",
    "from rdflib import Graph, Namespace, URIRef, Literal, BNode, XSD"
   ]
  },
  {
   "cell_type": "markdown",
   "metadata": {},
   "source": [
    "## Définition des variables globales"
   ]
  },
  {
   "cell_type": "code",
   "execution_count": 2,
   "metadata": {},
   "outputs": [],
   "source": [
    "# Fichiers existants\n",
    "addr_ont_file_name = \"address_ont.ttl\"\n",
    "ev_ont_file_name = \"events_ont.ttl\"\n",
    "# ruleset_file_name = \"rules.pie\"\n",
    "\n",
    "# Fichiers créés durant le processus\n",
    "export_file_name = \"addresses-temp.ttl\"\n",
    "out_file_name = \"addresses.ttl\"\n",
    "local_config_file_name = \"config_repo.ttl\"\n",
    "\n",
    "# Dossiers existants\n",
    "data_folder_name = \"data\"\n",
    "mapping_folder_name = \"mappings\"\n",
    "\n",
    "# Dossiers créés durant le traitement\n",
    "tmp_folder_name = \"tmp_files\"\n",
    "\n",
    "project_name = \"addresses_from_factoids\"\n",
    "graphdb_url = \"http://localhost:7200\"\n",
    "ontorefine_url = \"http://localhost:7333\"\n",
    "local_uri = \"http://rdf.geohistoricaldata.org/address#\"\n",
    "\n",
    "# Commande pour lancer `Ontorefine`, dépend de l'OS et d'où il se situe\n",
    "# ontorefine_cmd = \"ontorefine-cli\" # Nom sans chemin\n",
    "ontorefine_cmd = \"/opt/ontotext-refine/lib/app/bin/ontorefine-cli\" #Ubuntu\n",
    "# ontorefine_cmd = \"/Applications/Ontotext\\ Refine.app/Contents/app/bin/ontorefine-cli\" #MacOS\n",
    "\n",
    "wd_graph_name = \"wikidata\"\n",
    "addr_graph_name = \"addresses_from_factoids\"\n",
    "\n",
    "py_code_folder_path = \"../code\""
   ]
  },
  {
   "cell_type": "markdown",
   "metadata": {},
   "source": [
    "## Traitement des variables globales\n",
    "\n",
    "* Obtention des chemins absolus des fichiers à partir des chemins relatifs donnés dans la section précédente\n",
    "* Création d'un dossier temporaire s'il n'existe pas encore pour stocker des fichiers à vocation d'être supprimés"
   ]
  },
  {
   "cell_type": "code",
   "execution_count": 3,
   "metadata": {},
   "outputs": [],
   "source": [
    "tmp_folder = os.path.abspath(tmp_folder_name)\n",
    "mapping_folder = os.path.abspath(mapping_folder_name)\n",
    "data_folder = os.path.abspath(data_folder_name)\n",
    "\n",
    "python_code_folder = os.path.abspath(py_code_folder_path)\n",
    "\n",
    "local_config_file = os.path.join(tmp_folder, local_config_file_name)\n",
    "addr_ont_file = os.path.abspath(addr_ont_file_name)\n",
    "ev_ont_file = os.path.abspath(ev_ont_file_name)"
   ]
  },
  {
   "cell_type": "markdown",
   "metadata": {},
   "source": [
    "## Import des modules situés dans le dossier `code`"
   ]
  },
  {
   "cell_type": "code",
   "execution_count": 4,
   "metadata": {},
   "outputs": [],
   "source": [
    "# Appel du dossier `code` comprend les codes python\n",
    "sys.path.insert(1, python_code_folder)\n",
    "\n",
    "import filemanagement as fm\n",
    "import wikidata as wd\n",
    "import ontorefine as otr\n",
    "import graphdb as gd\n",
    "import graphrdf as gr\n",
    "import strprocessing as sp"
   ]
  },
  {
   "cell_type": "markdown",
   "metadata": {},
   "source": [
    "## Création de dossiers s'ils n'existent pas"
   ]
  },
  {
   "cell_type": "code",
   "execution_count": 5,
   "metadata": {},
   "outputs": [],
   "source": [
    "fm.create_folder_if_not_exists(tmp_folder)"
   ]
  },
  {
   "cell_type": "markdown",
   "metadata": {},
   "source": [
    "## Gestion du répertoire local"
   ]
  },
  {
   "cell_type": "markdown",
   "metadata": {},
   "source": [
    "### Création du répertoire local dans GraphDB\n",
    "Pour que la création marche, il faut que GraphDB soit lancé et donc que l'URI donné par `graphdb_url` fonctionne. Si le répertoire existe déjà, rien n'est fait"
   ]
  },
  {
   "cell_type": "code",
   "execution_count": null,
   "metadata": {},
   "outputs": [],
   "source": [
    "# gd.remove_repository(graphdb_url, project_name)\n",
    "gd.create_config_local_repository_file(local_config_file, project_name)\n",
    "gd.create_repository_from_config_file(graphdb_url, local_config_file)"
   ]
  },
  {
   "cell_type": "markdown",
   "metadata": {},
   "source": [
    "### Vidage du répertoire local\n",
    "Le répertoire dont l'id est `project_name` pour y stocker les données récupérées, cela est utile si le répertoire existait déjà."
   ]
  },
  {
   "cell_type": "code",
   "execution_count": null,
   "metadata": {},
   "outputs": [],
   "source": [
    "gd.clear_repository(graphdb_url, project_name)"
   ]
  },
  {
   "cell_type": "markdown",
   "metadata": {},
   "source": [
    "## Import des ontologies"
   ]
  },
  {
   "cell_type": "code",
   "execution_count": null,
   "metadata": {},
   "outputs": [],
   "source": [
    "gd.import_ttl_file_in_graphdb(graphdb_url, project_name, addr_ont_file)\n",
    "gd.import_ttl_file_in_graphdb(graphdb_url, project_name, ev_ont_file)"
   ]
  },
  {
   "cell_type": "markdown",
   "metadata": {},
   "source": [
    "# Import des sources"
   ]
  },
  {
   "cell_type": "markdown",
   "metadata": {},
   "source": [
    "## Voies de Paris via Wikidata"
   ]
  },
  {
   "cell_type": "markdown",
   "metadata": {},
   "source": [
    "### Variables liées à la source Wikidata"
   ]
  },
  {
   "cell_type": "code",
   "execution_count": 6,
   "metadata": {},
   "outputs": [],
   "source": [
    "# `wdpt` pour \"wikidata paris thoroughfares\"\n",
    "\n",
    "# Fichier CSV pour stocker le résultat de la requête de la sélection\n",
    "wdpt_csv_file_name = \"wd_paris_thoroughfares.csv\"\n",
    "wdpt_csv_file = os.path.join(tmp_folder, wdpt_csv_file_name)\n",
    "\n",
    "# Fichier de mapping pour transformer le fichier CSV en fichier TTL\n",
    "wdpt_mapping_file_name = \"mapping_wikidata.json\"\n",
    "wdpt_mapping_file = os.path.join(mapping_folder, wdpt_mapping_file_name)\n",
    "\n",
    "# Fichier TTL pour structurer les connaissances des voies de Paris\n",
    "wdpt_kg_file_name = \"wd_paris_thoroughfares.ttl\"\n",
    "wdpt_kg_file = os.path.join(tmp_folder, wdpt_kg_file_name)\n",
    "\n",
    "# Définition des graphes nommés\n",
    "wdpt_graph_name = \"wikidata\"\n",
    "wdpt_ids_graph_name = \"wikidata_ids\"\n",
    "wdpt_graph_uri = gd.get_graph_uri_from_name(graphdb_url, project_name, wdpt_graph_name)\n",
    "wdpt_ids_graph_uri = gd.get_graph_uri_from_name(graphdb_url, project_name, wdpt_ids_graph_name)"
   ]
  },
  {
   "cell_type": "markdown",
   "metadata": {},
   "source": [
    "### Sélection des voies de Paris sur Wikidata via une requête de sélection\n",
    "\n",
    "Via une requête SPARQL de sélection, on récupère une liste de ressources à créér :\n",
    "* pour chaque ressource décrivant une voie dans Paris, on créé autant de ressources qu'elle a de nom officiel. La place de la Nation ([wd:Q1573359](https://www.wikidata.org/entity/Q1573359)) a quatre noms officiels donc on aura 4 ressources. Pour celles qui n'ont pas de nom officiel, on créé une seule ressource dont le nom est le label en français\n",
    "* ces ressources créées seront liées à celle de Wikidata dont elle provient via `owl:sameAs`\n",
    "* chaque ressource créée suit la structure définie par l'ontologie\n",
    "* le résultat de la requête est stocké dans un fichier csv qui sera converti en graphe de connaissance via Ontotext Refine et un fichier de mapping "
   ]
  },
  {
   "cell_type": "code",
   "execution_count": null,
   "metadata": {},
   "outputs": [],
   "source": [
    "query = f\"\"\"\n",
    "PREFIX addr: <http://rdf.geohistoricaldata.org/address#> \n",
    "PREFIX rdfs: <http://www.w3.org/2000/01/rdf-schema#>\n",
    "PREFIX owl: <http://www.w3.org/2002/07/owl#>\n",
    "PREFIX wd: <http://www.wikidata.org/entity/>\n",
    "PREFIX wdt: <http://www.wikidata.org/prop/direct/>\n",
    "PREFIX pq: <http://www.wikidata.org/prop/qualifier/>\n",
    "PREFIX ps: <http://www.wikidata.org/prop/statement/>\n",
    "PREFIX p: <http://www.wikidata.org/prop/>\n",
    "PREFIX pqv: <http://www.wikidata.org/prop/qualifier/value/>\n",
    "PREFIX wb: <http://wikiba.se/ontology#>\n",
    "PREFIX time: <http://www.w3.org/2006/time#>\n",
    "\n",
    "SELECT *\n",
    "WHERE {{\n",
    "    {{\n",
    "        SELECT DISTINCT * WHERE {{\n",
    "            {{?voie p:P361 [ps:P361 wd:Q16024163].}}UNION{{?voie p:P361 [ps:P361 wd:Q107311481].}}\n",
    "            {{?voie p:P1448 ?nomOffSt.\n",
    "                ?nomOffSt ps:P1448 ?nomOff.\n",
    "                OPTIONAL {{?nomOffSt pq:P580 ?dateStartStamp; pqv:P580 [wb:timePrecision ?dateStartPrec; wb:timeCalendarModel ?dateStartCal]}}\n",
    "                OPTIONAL {{?nomOffSt pq:P582 ?dateEndStamp; pqv:P582 [wb:timePrecision ?dateEndPrec; wb:timeCalendarModel ?dateEndCal]}}\n",
    "            }}UNION{{\n",
    "                ?voie rdfs:label ?nomOff.\n",
    "                FILTER (LANG(?nomOff) = \"fr\")\n",
    "                MINUS {{?voie p:P1448 ?nomOffSt}}\n",
    "            }}\n",
    "        }}\n",
    "    }}\n",
    "    BIND(URI(CONCAT(STR(URI(addr:)), \"LM_\", STRUUID())) AS ?landmark)\n",
    "    BIND(URI(CONCAT(STR(URI(addr:)), \"AN_\", STRUUID())) AS ?nameAttribute)\n",
    "    BIND(URI(CONCAT(STR(URI(addr:)), \"ANV_\", STRUUID())) AS ?nameAttributeVersion)\n",
    "    BIND(URI(CONCAT(STR(URI(addr:)), \"CH_\", STRUUID())) AS ?changeAppearance)\n",
    "    BIND(URI(CONCAT(STR(URI(addr:)), \"EV_\", STRUUID())) AS ?eventAppearance)\n",
    "    BIND(URI(CONCAT(STR(URI(addr:)), \"CH_\", STRUUID())) AS ?changeDisappearance)\n",
    "    BIND(URI(CONCAT(STR(URI(addr:)), \"EV_\", STRUUID())) AS ?eventDisappearance)\n",
    "    BIND(IF(BOUND(?dateStartStamp), URI(CONCAT(STR(URI(addr:)), \"TI\", STRUUID())), ?x) AS ?timeInstantAppearance)\n",
    "    BIND(IF(BOUND(?dateEndStamp), URI(CONCAT(STR(URI(addr:)), \"TI\", STRUUID())), ?x) AS ?timeInstantDisappearance)\n",
    "    BIND(IF(?dateStartPrec = 11, time:unitDay, \n",
    "                    IF(?dateStartPrec = 10, time:unitMonth,\n",
    "                        IF(?dateStartPrec = 9, time:unitYear,\n",
    "                            IF(?dateStartPrec = 8, time:unitDecade,\n",
    "                                IF(?dateStartPrec = 7, time:unitCentury,\n",
    "                                    IF(?dateStartPrec = 6, time:unitMillenium, ?x\n",
    "                                )))))) AS ?dateStartPrecUnit)\n",
    "    BIND(IF(?dateEndPrec = 11, time:unitDay, \n",
    "                    IF(?dateEndPrec = 10, time:unitMonth,\n",
    "                        IF(?dateEndPrec = 9, time:unitYear,\n",
    "                            IF(?dateEndPrec = 8, time:unitDecade,\n",
    "                                IF(?dateEndPrec = 7, time:unitCentury,\n",
    "                                    IF(?dateEndPrec = 6, time:unitMillenium, ?x\n",
    "                                )))))) AS ?dateEndPrecUnit)\n",
    "}}\n",
    "\"\"\"\n",
    "\n",
    "wd.save_select_query_as_csv_file(query, wdpt_csv_file)"
   ]
  },
  {
   "cell_type": "markdown",
   "metadata": {},
   "source": [
    "### Structuration des résultats en graphe de connaissances"
   ]
  },
  {
   "cell_type": "code",
   "execution_count": null,
   "metadata": {},
   "outputs": [],
   "source": [
    "# Si ça ne marche pas ici, c'est sûrement qu'Ontotext Refine n'est pas lancé\n",
    "otr.get_export_file_from_ontorefine(wdpt_csv_file, wdpt_mapping_file, wdpt_kg_file, ontorefine_cmd, ontorefine_url, project_name)\n",
    "\n",
    "# Importer le fichier `wdpt_kg_file` qui a été créé lors de la ligne précédente dans le répertoire `project_name`, dans le graphe nommé `wdpt_graph_name` \n",
    "gd.import_ttl_file_in_graphdb(graphdb_url, project_name, wdpt_kg_file, wdpt_graph_name)"
   ]
  },
  {
   "cell_type": "markdown",
   "metadata": {},
   "source": [
    "### Transfert des liens `owl:sameAs` vers un autre graphe nommé"
   ]
  },
  {
   "cell_type": "code",
   "execution_count": null,
   "metadata": {},
   "outputs": [],
   "source": [
    "query = f\"\"\"\n",
    "PREFIX owl: <http://www.w3.org/2002/07/owl#>\n",
    "DELETE {{\n",
    "    GRAPH <{wdpt_graph_uri}> {{?s owl:sameAs ?o}}\n",
    "}}\n",
    "INSERT {{\n",
    "    GRAPH <{wdpt_ids_graph_uri}> {{?s owl:sameAs ?o}}\n",
    "}}\n",
    "WHERE {{\n",
    "    GRAPH <{wdpt_graph_uri}> {{?s owl:sameAs ?o}}\n",
    "}}\n",
    "\"\"\"\n",
    "\n",
    "gd.update_query(query, graphdb_url, project_name)"
   ]
  },
  {
   "cell_type": "markdown",
   "metadata": {},
   "source": [
    "### Ajout du lien repère / source"
   ]
  },
  {
   "cell_type": "code",
   "execution_count": null,
   "metadata": {},
   "outputs": [],
   "source": [
    "query = f\"\"\"\n",
    "PREFIX addr: <http://rdf.geohistoricaldata.org/address#>\n",
    "PREFIX rico: <https://www.ica.org/standards/RiC/ontology#>\n",
    "\n",
    "INSERT DATA {{\n",
    "    GRAPH <{wdpt_graph_uri}> {{\n",
    "        addr:WD_Source a rico:Record;\n",
    "            rdfs:label \"Wikidata\"@fr.\n",
    "    }}\n",
    "}} ;\n",
    "INSERT {{\n",
    "    GRAPH <{wdpt_graph_uri}> {{\n",
    "        ?landmark rico:isOrWasDescribedBy addr:WD_Source.\n",
    "    }}\n",
    "}}WHERE {{\n",
    "    GRAPH <{wdpt_graph_uri}> {{\n",
    "        ?landmark a addr:Landmark.\n",
    "        BIND(addr:WD_Source AS ?source)\n",
    "    }}\n",
    "}}\n",
    "\"\"\"\n",
    "\n",
    "gd.update_query(query, graphdb_url, project_name)"
   ]
  },
  {
   "cell_type": "markdown",
   "metadata": {},
   "source": [
    "## Voies de Paris via les données de la ville de Paris"
   ]
  },
  {
   "cell_type": "markdown",
   "metadata": {},
   "source": [
    "Import des données de Paris via les données de la ville de Paris :\n",
    "* [dénominations des emprises des voies actuelles](https://opendata.paris.fr/explore/dataset/denominations-emprises-voies-actuelles)\n",
    "* [dénominations caduques des voies](https://opendata.paris.fr/explore/dataset/denominations-des-voies-caduques)\n",
    "\n",
    "Le travail se fait sur deux fichiers csv issus des deux jeux de données.\n",
    "\n",
    "Chaque ligne des deux fichiers constitue une ressource dans le répertoire. Les voies actuelles ont une emprise géométrique contrairement aux anciennes voies."
   ]
  },
  {
   "cell_type": "markdown",
   "metadata": {},
   "source": [
    "### Variables liées aux données de la ville de Paris"
   ]
  },
  {
   "cell_type": "code",
   "execution_count": 7,
   "metadata": {},
   "outputs": [],
   "source": [
    "# `vpt` pour \"ville paris thoroughfares\"\n",
    "\n",
    "# Fichier CSV pour stocker le résultat de la requête de la sélection\n",
    "vpta_csv_file_name = \"denominations-emprises-voies-actuelles.csv\"\n",
    "vpta_csv_file = os.path.join(data_folder, vpta_csv_file_name)\n",
    "vptc_csv_file_name = \"denominations-des-voies-caduques.csv\"\n",
    "vptc_csv_file = os.path.join(data_folder, vptc_csv_file_name)\n",
    "\n",
    "# Fichier de mapping pour transformer le fichier CSV en fichier TTL\n",
    "vpta_mapping_file_name = \"mapping_voies_paris_actuelles.json\"\n",
    "vpta_mapping_file = os.path.join(mapping_folder, vpta_mapping_file_name)\n",
    "vptc_mapping_file_name = \"mapping_voies_paris_caduques.json\"\n",
    "vptc_mapping_file = os.path.join(mapping_folder, vptc_mapping_file_name)\n",
    "\n",
    "# Fichier TTL pour structurer les connaissances des voies de Paris\n",
    "vpta_kg_file_name = \"voies_paris_actuelles.ttl\"\n",
    "vpta_kg_file = os.path.join(tmp_folder, vpta_kg_file_name)\n",
    "vptc_kg_file_name = \"voies_paris_caduques.ttl\"\n",
    "vptc_kg_file = os.path.join(tmp_folder, vptc_kg_file_name)\n",
    "\n",
    "# Définition des graphes nommés\n",
    "vpt_graph_name = \"ville_de_paris\"\n",
    "vpt_graph_uri = gd.get_graph_uri_from_name(graphdb_url, project_name, vpt_graph_name)"
   ]
  },
  {
   "cell_type": "markdown",
   "metadata": {},
   "source": [
    "### Structuration des résultats en graphe de connaissances"
   ]
  },
  {
   "cell_type": "code",
   "execution_count": null,
   "metadata": {},
   "outputs": [],
   "source": [
    "# Si ça ne marche pas ici, c'est sûrement qu'Ontotext Refine n'est pas lancé\n",
    "otr.get_export_file_from_ontorefine(vpta_csv_file, vpta_mapping_file, vpta_kg_file, ontorefine_cmd, ontorefine_url, project_name)\n",
    "otr.get_export_file_from_ontorefine(vptc_csv_file, vptc_mapping_file, vptc_kg_file, ontorefine_cmd, ontorefine_url, project_name)\n",
    "\n",
    "# Importer le fichier `wdpt_kg_file` qui a été créé lors de la ligne précédente dans le répertoire `project_name`, dans le graphe nommé `wdpt_graph_name` \n",
    "gd.import_ttl_file_in_graphdb(graphdb_url, project_name, vpta_kg_file, vpt_graph_name)\n",
    "gd.import_ttl_file_in_graphdb(graphdb_url, project_name, vptc_kg_file, vpt_graph_name)"
   ]
  },
  {
   "cell_type": "markdown",
   "metadata": {},
   "source": [
    "### Suppresion des instants temporels sans timeStamp"
   ]
  },
  {
   "cell_type": "code",
   "execution_count": null,
   "metadata": {},
   "outputs": [],
   "source": [
    "query = f\"\"\"\n",
    "PREFIX addr: <http://rdf.geohistoricaldata.org/address#>\n",
    "DELETE {{\n",
    "    ?timeInstant ?p ?o.\n",
    "    ?s ?p ?timeInstant.\n",
    "}}WHERE {{\n",
    "    GRAPH <{vpt_graph_uri}> {{\n",
    "        ?timeInstant a addr:TimeInstant.\n",
    "        MINUS {{?timeInstant addr:timeStamp ?timeStamp}}\n",
    "        {{?timeInstant ?p ?o}}UNION{{?s ?p ?timeInstant}}\n",
    "    }}\n",
    "}}\n",
    "\"\"\"\n",
    "\n",
    "gd.update_query(query, graphdb_url, project_name)"
   ]
  },
  {
   "cell_type": "markdown",
   "metadata": {},
   "source": [
    "### Ajout du lien repère / source"
   ]
  },
  {
   "cell_type": "code",
   "execution_count": null,
   "metadata": {},
   "outputs": [],
   "source": [
    "query = f\"\"\"\n",
    "PREFIX addr: <http://rdf.geohistoricaldata.org/address#>\n",
    "PREFIX rico: <https://www.ica.org/standards/RiC/ontology#>\n",
    "\n",
    "INSERT DATA {{\n",
    "    GRAPH <{vpt_graph_uri}> {{\n",
    "        addr:DVP_Source a rico:Record;\n",
    "            rdfs:label \"dénomination des voies de Paris (actuelles et caduques)\"@fr;\n",
    "            rico:hasPublisher addr:DirTopoDocFoncVP .\n",
    "        addr:DirTopoDocFoncVP a rico:CorporateBody;\n",
    "            rdfs:label \"Département de la Topographie et de la Documentation Foncière de la Ville de Paris\"@fr.    \n",
    "    }}\n",
    "}} ;\n",
    "INSERT {{\n",
    "    GRAPH <{vpt_graph_uri}> {{\n",
    "        ?landmark rico:isOrWasDescribedBy addr:DVP_Source.\n",
    "    }}\n",
    "}}WHERE {{\n",
    "    GRAPH <{vpt_graph_uri}> {{\n",
    "        ?landmark a addr:Landmark.\n",
    "        BIND(addr:DVP_Source AS ?source)\n",
    "    }}\n",
    "}}\n",
    "\"\"\"\n",
    "\n",
    "gd.update_query(query, graphdb_url, project_name)"
   ]
  },
  {
   "cell_type": "markdown",
   "metadata": {},
   "source": [
    "## Adresses de Paris à partir de la BAN"
   ]
  },
  {
   "cell_type": "markdown",
   "metadata": {},
   "source": [
    "Import des adresses de Paris venant de la [Base Adresse Nationale (BAN)](https://adresse.data.gouv.fr/base-adresse-nationale), accessible [ici](https://adresse.data.gouv.fr/data/ban/adresses/latest/csv)"
   ]
  },
  {
   "cell_type": "markdown",
   "metadata": {},
   "source": [
    "### Variables liées aux données de la BAN"
   ]
  },
  {
   "cell_type": "code",
   "execution_count": 8,
   "metadata": {},
   "outputs": [],
   "source": [
    "# `bpa` pour \"BAN paris addresses\"\n",
    "\n",
    "# Fichier CSV pour stocker le résultat de la requête de la sélection\n",
    "bpa_csv_file_name = \"ban_adresses.csv\"\n",
    "bpa_csv_file = os.path.join(data_folder, bpa_csv_file_name)\n",
    "\n",
    "# Fichier de mapping pour transformer le fichier CSV en fichier TTL\n",
    "bpa_mapping_file_name = \"mapping_ban_adresses.json\"\n",
    "bpa_mapping_file = os.path.join(mapping_folder, bpa_mapping_file_name)\n",
    "\n",
    "# Fichier TTL pour structurer les connaissances des voies de Paris\n",
    "bpa_kg_file_name = \"ban_adresses.ttl\"\n",
    "bpa_kg_file = os.path.join(tmp_folder, bpa_kg_file_name)\n",
    "\n",
    "# Définition des graphes nommés\n",
    "ban_graph_name = \"ban\"\n",
    "ban_graph_uri = gd.get_graph_uri_from_name(graphdb_url, project_name, ban_graph_name)"
   ]
  },
  {
   "cell_type": "markdown",
   "metadata": {},
   "source": [
    "### Structuration des résultats en graphe de connaissances"
   ]
  },
  {
   "cell_type": "code",
   "execution_count": null,
   "metadata": {},
   "outputs": [],
   "source": [
    "# Si ça ne marche pas ici, c'est sûrement qu'Ontotext Refine n'est pas lancé\n",
    "otr.get_export_file_from_ontorefine(bpa_csv_file, bpa_mapping_file, bpa_kg_file, ontorefine_cmd, ontorefine_url, project_name)\n",
    "\n",
    "# Importer le fichier `wdpt_kg_file` qui a été créé lors de la ligne précédente dans le répertoire `project_name`, dans le graphe nommé `bpa_graph_name` \n",
    "gd.import_ttl_file_in_graphdb(graphdb_url, project_name, bpa_kg_file, ban_graph_name)"
   ]
  },
  {
   "cell_type": "markdown",
   "metadata": {},
   "source": [
    "### Ajout d'événéments / de changements ainsi que des attributs à tous les repères"
   ]
  },
  {
   "cell_type": "code",
   "execution_count": null,
   "metadata": {},
   "outputs": [],
   "source": [
    "query = f\"\"\"\n",
    "PREFIX addr: <http://rdf.geohistoricaldata.org/address#>\n",
    "INSERT {{\n",
    "    GRAPH <{ban_graph_uri}> {{\n",
    "        ?changeAppearance a addr:LandmarkChange; addr:isChangeType addr:LandmarkAppearance; addr:dependsOn ?eventAppearance; addr:appliedTo ?s.\n",
    "        ?changeDisappearance a addr:LandmarkChange; addr:isChangeType addr:LandmarkDisappearance; addr:dependsOn ?eventDisappearance; addr:appliedTo ?s.\n",
    "        ?eventAppearance a addr:Event.\n",
    "        ?eventDisappearance a addr:Event.\n",
    "        ?s addr:hasAttribute ?nameAttribute.\n",
    "        ?nameAttribute a addr:Attribute; addr:isAttributeType addr:NameAttribute; addr:version ?versionNameAttribute.\n",
    "        ?versionNameAttribute a addr:AttributeVersion; addr:value ?label.\n",
    "    }}  \n",
    "}}\n",
    "WHERE {{\n",
    "    GRAPH <{ban_graph_uri}> {{\n",
    "        {{\n",
    "            SELECT * {{\n",
    "                ?s a addr:Landmark; rdfs:label ?label.\n",
    "            }}\n",
    "        }}\n",
    "        BIND(URI(CONCAT(STR(URI(addr:)), \"CH_\", STRUUID())) AS ?changeAppearance)\n",
    "        BIND(URI(CONCAT(STR(URI(addr:)), \"EV_\", STRUUID())) AS ?eventAppearance)\n",
    "        BIND(URI(CONCAT(STR(URI(addr:)), \"CH_\", STRUUID())) AS ?changeDisappearance)\n",
    "        BIND(URI(CONCAT(STR(URI(addr:)), \"EV_\", STRUUID())) AS ?eventDisappearance)\n",
    "        BIND(URI(CONCAT(STR(URI(addr:)), \"AN_\", STRUUID())) AS ?nameAttribute)\n",
    "        BIND(URI(CONCAT(STR(URI(addr:)), \"ANV_\", STRUUID())) AS ?versionNameAttribute)\n",
    "    }}\n",
    "}}\n",
    "\"\"\"\n",
    "\n",
    "gd.update_query(query, graphdb_url, project_name)"
   ]
  },
  {
   "cell_type": "markdown",
   "metadata": {},
   "source": [
    "# Création des faits"
   ]
  },
  {
   "cell_type": "markdown",
   "metadata": {},
   "source": [
    "## Variables liées au graphe des faits"
   ]
  },
  {
   "cell_type": "code",
   "execution_count": 9,
   "metadata": {},
   "outputs": [],
   "source": [
    "# Définition du graphe nommé\n",
    "facts_graph_name = \"facts\"\n",
    "facts_graph_uri = gd.get_graph_uri_from_name(graphdb_url, project_name, facts_graph_name)\n",
    "\n",
    "# Définition du graphe nommé\n",
    "source_facts_graph_name = \"source_facts\"\n",
    "source_facts_graph_uri = gd.get_graph_uri_from_name(graphdb_url, project_name, source_facts_graph_name)"
   ]
  },
  {
   "cell_type": "markdown",
   "metadata": {},
   "source": [
    "## Import des données de la ville de Paris comme étant des faits pour les voies"
   ]
  },
  {
   "cell_type": "code",
   "execution_count": null,
   "metadata": {},
   "outputs": [],
   "source": [
    "query = f\"\"\"\n",
    "PREFIX addr: <http://rdf.geohistoricaldata.org/address#>\n",
    "\n",
    "INSERT {{\n",
    "    GRAPH <{facts_graph_uri}> {{\n",
    "        ?landmark a addr:Landmark; addr:isLandmarkType addr:Thoroughfare; rdfs:label ?label.\n",
    "\n",
    "    }}\n",
    "    GRAPH <{source_facts_graph_uri}> {{\n",
    "        ?landmark addr:createdBy ?sourceLandmark; addr:referencedBy ?sourceLandmark.\n",
    "\n",
    "    }}\n",
    "}}\n",
    "WHERE {{\n",
    "    GRAPH <{vpt_graph_uri}> {{\n",
    "        {{\n",
    "            SELECT * {{\n",
    "                ?sourceLandmark a addr:Landmark; rdfs:label ?label.\n",
    "            }}\n",
    "        }}\n",
    "        BIND(URI(CONCAT(STR(URI(addr:)), \"LM_\", STRUUID())) AS ?landmark)\n",
    "    }}\n",
    "}}\n",
    "\"\"\"\n",
    "\n",
    "gd.update_query(query, graphdb_url, project_name)"
   ]
  },
  {
   "cell_type": "markdown",
   "metadata": {},
   "source": [
    "## Liage des voies présentes dans les sources (BAN et Wikidata) avec celles présentes dans le graphe des faits"
   ]
  },
  {
   "cell_type": "code",
   "execution_count": 11,
   "metadata": {},
   "outputs": [
    {
     "name": "stderr",
     "output_type": "stream",
     "text": [
      "  % Total    % Received % Xferd  Average Speed   Time    Time     Time  Current\n",
      "                                 Dload  Upload   Total   Spent    Left  Speed\n",
      "100  2617    0     0  100  2617      0    685  0:00:03  0:00:03 --:--:--   685\n"
     ]
    }
   ],
   "source": [
    "# Définition de graphes nommés temporaires\n",
    "tmp_graph_name = \"tmp\"\n",
    "tmp_graph_uri = gd.get_graph_uri_from_name(graphdb_url, project_name, tmp_graph_name)\n",
    "\n",
    "label_var = \"?label\"\n",
    "norm_label_var = \"?normLabel\"\n",
    "norm_label_function = sp.get_lower_simplified_french_street_name_function(label_var)\n",
    "\n",
    "# Trois étapes :\n",
    "# - créer un label normalisé pour les voies du graphe des faits dans un graphe temporaire ;\n",
    "# - créer un label normalisé pour les voies du graphe de la BAN et de Wikidata dans ce même graphe temporaire ;\n",
    "# - création d'un lien entre les voies ayant un label normalisé similaire dans le graphe des faits.\n",
    "\n",
    "query = f\"\"\"\n",
    "PREFIX addr: <http://rdf.geohistoricaldata.org/address#>\n",
    "PREFIX skos: <http://www.w3.org/2004/02/skos/core#>\n",
    "\n",
    "INSERT {{\n",
    "    GRAPH <{tmp_graph_uri}> {{\n",
    "        ?s skos:hiddenLabel {norm_label_var}.\n",
    "    }}\n",
    "}}\n",
    "WHERE {{\n",
    "    ?s a addr:Landmark; addr:isLandmarkType addr:Thoroughfare; rdfs:label {label_var}.\n",
    "    BIND({norm_label_function} AS {norm_label_var})\n",
    "}} ;\n",
    "\n",
    "INSERT {{\n",
    "    GRAPH <{source_facts_graph_uri}> {{\n",
    "        ?factsLandmark addr:referencedBy ?sourceLandmark.\n",
    "    }}\n",
    "}}\n",
    "WHERE {{\n",
    "    FILTER (?g in (<{ban_graph_uri}>, <{wdpt_graph_uri}>))\n",
    "    \n",
    "    GRAPH ?g {{\n",
    "        ?sourceLandmark a addr:Landmark; addr:isLandmarkType addr:Thoroughfare.\n",
    "    }}\n",
    "\n",
    "    GRAPH <{facts_graph_uri}> {{\n",
    "        ?factsLandmark a addr:Landmark; addr:isLandmarkType addr:Thoroughfare.\n",
    "    }}\n",
    "    GRAPH <{tmp_graph_uri}> {{\n",
    "        ?sourceLandmark skos:hiddenLabel ?label.\n",
    "        ?factsLandmark skos:hiddenLabel ?label.\n",
    "    }}\n",
    "}}\n",
    "\"\"\"\n",
    "\n",
    "gd.update_query(query, graphdb_url, project_name)"
   ]
  },
  {
   "cell_type": "markdown",
   "metadata": {},
   "source": [
    "## Import des données de la BAN comme étant des faits pour les adresses"
   ]
  },
  {
   "cell_type": "markdown",
   "metadata": {},
   "source": [
    "### "
   ]
  },
  {
   "cell_type": "code",
   "execution_count": null,
   "metadata": {},
   "outputs": [],
   "source": [
    "query = f\"\"\"\n",
    "PREFIX addr: <http://rdf.geohistoricaldata.org/address#>\n",
    "PREFIX skos: <http://www.w3.org/2004/02/skos/core#>\n",
    "\n",
    "INSERT {{\n",
    "    GRAPH <{facts_graph_uri}> {{\n",
    "        ?address a addr:Address; skos:hiddenLabel ?label.\n",
    "\n",
    "    }}\n",
    "    GRAPH <{source_facts_graph_uri}> {{\n",
    "        ?address addr:createdBy ?sourceAddress.\n",
    "\n",
    "    }}\n",
    "}}\n",
    "WHERE {{\n",
    "    GRAPH <{ban_graph_uri}> {{\n",
    "        {{\n",
    "            SELECT * {{\n",
    "                ?sourceAddress a addr:Address; skos:hiddenLabel ?label.\n",
    "            }}\n",
    "        }}\n",
    "        BIND(URI(CONCAT(STR(URI(addr:)), \"ADDR_\", STRUUID())) AS ?address)\n",
    "    }}\n",
    "}}\n",
    "\"\"\"\n",
    "\n",
    "gd.update_query(query, graphdb_url, project_name)"
   ]
  }
 ],
 "metadata": {
  "kernelspec": {
   "display_name": "Python 3",
   "language": "python",
   "name": "python3"
  },
  "language_info": {
   "codemirror_mode": {
    "name": "ipython",
    "version": 3
   },
   "file_extension": ".py",
   "mimetype": "text/x-python",
   "name": "python",
   "nbconvert_exporter": "python",
   "pygments_lexer": "ipython3",
   "version": "3.10.12"
  },
  "orig_nbformat": 4
 },
 "nbformat": 4,
 "nbformat_minor": 2
}
