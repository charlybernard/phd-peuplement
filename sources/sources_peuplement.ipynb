{
 "cells": [
  {
   "cell_type": "markdown",
   "metadata": {},
   "source": [
    "# Variables"
   ]
  },
  {
   "cell_type": "markdown",
   "metadata": {},
   "source": [
    "## Import des librairies"
   ]
  },
  {
   "cell_type": "code",
   "execution_count": null,
   "metadata": {},
   "outputs": [],
   "source": [
    "import os\n",
    "import sys\n",
    "from rdflib import Graph, Namespace, URIRef, Literal, BNode, XSD"
   ]
  },
  {
   "cell_type": "markdown",
   "metadata": {},
   "source": [
    "## Définition des variables globales"
   ]
  },
  {
   "cell_type": "code",
   "execution_count": null,
   "metadata": {},
   "outputs": [],
   "source": [
    "# Fichiers existants\n",
    "addr_ont_file_name = \"address_ont.ttl\"\n",
    "ev_ont_file_name = \"events_ont.ttl\"\n",
    "ont_file_name = \"merge_addr_ont.ttl\" # Fusion des deux fichiers précédents\n",
    "ruleset_file_name = \"rules.pie\"\n",
    "\n",
    "# Fichiers créés durant le processus\n",
    "export_file_name = \"addresses-temp.ttl\"\n",
    "out_file_name = \"addresses.ttl\"\n",
    "local_config_file_name = \"config_repo.ttl\"\n",
    "\n",
    "# Dossiers existants\n",
    "data_folder_name = \"data\"\n",
    "mapping_folder_name = \"mappings\"\n",
    "\n",
    "# Dossiers créés durant le traitement\n",
    "tmp_folder_name = \"tmp_files\"\n",
    "\n",
    "project_name = \"addresses_from_factoids_4\"\n",
    "graphdb_url = \"http://localhost:7200\"\n",
    "ontorefine_url = \"http://localhost:7333\"\n",
    "local_uri = \"http://rdf.geohistoricaldata.org/id/address/\"\n",
    "\n",
    "# Commande pour lancer `Ontorefine`, dépend de l'OS et d'où il se situe\n",
    "# ontorefine_cmd = \"ontorefine-cli\" # Nom sans chemin\n",
    "ontorefine_cmd = \"/opt/ontotext-refine/lib/app/bin/ontorefine-cli\" #Ubuntu\n",
    "# ontorefine_cmd = \"/Applications/Ontotext\\ Refine.app/Contents/app/bin/ontorefine-cli\" #MacOS\n",
    "\n",
    "wd_graph_name = \"wikidata\"\n",
    "addr_graph_name = \"addresses_from_factoids\"\n",
    "\n",
    "py_code_folder_path = \"../code\""
   ]
  },
  {
   "cell_type": "markdown",
   "metadata": {},
   "source": [
    "## Traitement des variables globales\n",
    "\n",
    "* Obtention des chemins absolus des fichiers à partir des chemins relatifs donnés dans la section précédente\n",
    "* Création d'un dossier temporaire s'il n'existe pas encore pour stocker des fichiers à vocation d'être supprimés"
   ]
  },
  {
   "cell_type": "code",
   "execution_count": null,
   "metadata": {},
   "outputs": [],
   "source": [
    "tmp_folder = os.path.abspath(tmp_folder_name)\n",
    "mapping_folder = os.path.abspath(mapping_folder_name)\n",
    "data_folder = os.path.abspath(data_folder_name)\n",
    "\n",
    "python_code_folder = os.path.abspath(py_code_folder_path)\n",
    "\n",
    "local_config_file = os.path.join(tmp_folder, local_config_file_name)\n",
    "addr_ont_file = os.path.abspath(addr_ont_file_name)\n",
    "ev_ont_file = os.path.abspath(ev_ont_file_name)\n",
    "ont_file = os.path.abspath(ont_file_name)\n",
    "ruleset_file = os.path.abspath(ruleset_file_name)"
   ]
  },
  {
   "cell_type": "markdown",
   "metadata": {},
   "source": [
    "## Import des modules situés dans le dossier `code`"
   ]
  },
  {
   "cell_type": "code",
   "execution_count": null,
   "metadata": {},
   "outputs": [],
   "source": [
    "# Appel du dossier `code` comprend les codes python\n",
    "sys.path.insert(1, python_code_folder)\n",
    "\n",
    "import filemanagement as fm\n",
    "import wikidata as wd\n",
    "import ontorefine as otr\n",
    "import graphdb as gd\n",
    "import graphrdf as gr\n",
    "import strprocessing as sp"
   ]
  },
  {
   "cell_type": "markdown",
   "metadata": {},
   "source": [
    "## Création de dossiers s'ils n'existent pas"
   ]
  },
  {
   "cell_type": "code",
   "execution_count": null,
   "metadata": {},
   "outputs": [],
   "source": [
    "fm.create_folder_if_not_exists(tmp_folder)"
   ]
  },
  {
   "cell_type": "markdown",
   "metadata": {},
   "source": [
    "## Gestion du répertoire local"
   ]
  },
  {
   "cell_type": "markdown",
   "metadata": {},
   "source": [
    "### Création du répertoire local dans GraphDB\n",
    "Pour que la création marche, il faut que GraphDB soit lancé et donc que l'URI donné par `graphdb_url` fonctionne. Si le répertoire existe déjà, rien n'est fait"
   ]
  },
  {
   "cell_type": "code",
   "execution_count": null,
   "metadata": {},
   "outputs": [],
   "source": [
    "# gd.remove_repository(graphdb_url, project_name)\n",
    "gd.create_config_local_repository_file(local_config_file, project_name, ruleset_file=ruleset_file)\n",
    "# gd.create_config_local_repository_file(local_config_file, project_name)\n",
    "gd.create_repository_from_config_file(graphdb_url, local_config_file)"
   ]
  },
  {
   "cell_type": "markdown",
   "metadata": {},
   "source": [
    "### Vidage du répertoire local\n",
    "Le répertoire dont l'id est `project_name` pour y stocker les données récupérées, cela est utile si le répertoire existait déjà."
   ]
  },
  {
   "cell_type": "code",
   "execution_count": null,
   "metadata": {},
   "outputs": [],
   "source": [
    "gd.clear_repository(graphdb_url, project_name)"
   ]
  },
  {
   "cell_type": "markdown",
   "metadata": {},
   "source": [
    "## Import des ontologies"
   ]
  },
  {
   "cell_type": "code",
   "execution_count": null,
   "metadata": {},
   "outputs": [],
   "source": [
    "# gd.import_ttl_file_in_graphdb(graphdb_url, project_name, addr_ont_file)\n",
    "# gd.import_ttl_file_in_graphdb(graphdb_url, project_name, ev_ont_file)\n",
    "gd.import_ttl_file_in_graphdb(graphdb_url, project_name, ont_file)"
   ]
  },
  {
   "cell_type": "markdown",
   "metadata": {},
   "source": [
    "## Graphe nommé temporaire"
   ]
  },
  {
   "cell_type": "markdown",
   "metadata": {},
   "source": [
    "* Définition des paramètres liés au graphe nommé temporaire. Ce dernier stocke des `skos:altLabel` qui seront ici des normalisations de noms : \n",
    "    * mise en minuscule\n",
    "    * suppression des signes diacritiques (accents, cédille...)\n",
    "    * suppression de termes \"inutiles\" : déterminants, prépositions...\n",
    "* `norm_label_function` est une fonction SPARQL afin de procéder à la normalisation"
   ]
  },
  {
   "cell_type": "code",
   "execution_count": null,
   "metadata": {},
   "outputs": [],
   "source": [
    "# Définition de graphes nommés temporaires\n",
    "tmp_graph_name = \"tmp\"\n",
    "tmp_graph_uri = gd.get_graph_uri_from_name(graphdb_url, project_name, tmp_graph_name)\n",
    "\n",
    "label_var = \"?label\"\n",
    "norm_label_var = \"?normLabel\"\n",
    "norm_label_function = sp.get_lower_simplified_french_street_name_function(label_var)"
   ]
  },
  {
   "cell_type": "markdown",
   "metadata": {},
   "source": [
    "# Import des sources"
   ]
  },
  {
   "cell_type": "markdown",
   "metadata": {},
   "source": [
    "## Voies de Paris via Wikidata"
   ]
  },
  {
   "cell_type": "markdown",
   "metadata": {},
   "source": [
    "### Variables liées à la source Wikidata"
   ]
  },
  {
   "cell_type": "code",
   "execution_count": null,
   "metadata": {},
   "outputs": [],
   "source": [
    "# `wdpt` pour \"wikidata paris thoroughfares\"\n",
    "\n",
    "# Fichier CSV pour stocker le résultat de la requête de la sélection\n",
    "wdpt_csv_file_name = \"wd_paris_thoroughfares.csv\"\n",
    "wdpt_csv_file = os.path.join(tmp_folder, wdpt_csv_file_name)\n",
    "\n",
    "# Fichier de mapping pour transformer le fichier CSV en fichier TTL\n",
    "wdpt_mapping_file_name = \"mapping_voies_wikidata.json\"\n",
    "wdpt_mapping_file = os.path.join(mapping_folder, wdpt_mapping_file_name)\n",
    "\n",
    "# Fichier TTL pour structurer les connaissances des voies de Paris\n",
    "wdpt_kg_file_name = \"wd_paris_thoroughfares.ttl\"\n",
    "wdpt_kg_file = os.path.join(tmp_folder, wdpt_kg_file_name)\n",
    "\n",
    "# Définition des graphes nommés\n",
    "wdpt_graph_name = \"wikidata\"\n",
    "wdpt_ids_graph_name = \"wikidata_ids\"\n",
    "wdpt_graph_uri = gd.get_graph_uri_from_name(graphdb_url, project_name, wdpt_graph_name)\n",
    "wdpt_ids_graph_uri = gd.get_graph_uri_from_name(graphdb_url, project_name, wdpt_ids_graph_name)"
   ]
  },
  {
   "cell_type": "markdown",
   "metadata": {},
   "source": [
    "### Sélection des voies de Paris sur Wikidata via une requête de sélection\n",
    "\n",
    "Via une requête SPARQL de sélection, on récupère une liste de ressources à créér :\n",
    "* pour chaque ressource décrivant une voie dans Paris, on créé autant de ressources qu'elle a de nom officiel. La place de la Nation ([wd:Q1573359](https://www.wikidata.org/entity/Q1573359)) a quatre noms officiels donc on aura 4 ressources. Pour celles qui n'ont pas de nom officiel, on créé une seule ressource dont le nom est le label en français\n",
    "* ces ressources créées seront liées à celle de Wikidata dont elle provient via `skos:closeMatch`\n",
    "* chaque ressource créée suit la structure définie par l'ontologie\n",
    "* le résultat de la requête est stocké dans un fichier csv qui sera converti en graphe de connaissance via Ontotext Refine et un fichier de mapping "
   ]
  },
  {
   "cell_type": "code",
   "execution_count": null,
   "metadata": {},
   "outputs": [],
   "source": [
    "query = f\"\"\"\n",
    "PREFIX addr: <http://rdf.geohistoricaldata.org/def/address#> \n",
    "PREFIX source: <http://rdf.geohistoricaldata.org/id/address/sources/wikidata/> \n",
    "PREFIX rdfs: <http://www.w3.org/2000/01/rdf-schema#>\n",
    "PREFIX owl: <http://www.w3.org/2002/07/owl#>\n",
    "PREFIX wd: <http://www.wikidata.org/entity/>\n",
    "PREFIX wdt: <http://www.wikidata.org/prop/direct/>\n",
    "PREFIX pq: <http://www.wikidata.org/prop/qualifier/>\n",
    "PREFIX ps: <http://www.wikidata.org/prop/statement/>\n",
    "PREFIX p: <http://www.wikidata.org/prop/>\n",
    "PREFIX pqv: <http://www.wikidata.org/prop/qualifier/value/>\n",
    "PREFIX wb: <http://wikiba.se/ontology#>\n",
    "PREFIX time: <http://www.w3.org/2006/time#>\n",
    "\n",
    "SELECT ?landmarkId ?voie ?nomOff ?dateStartStamp ?dateStartPrec ?dateStartCal ?dateEndStamp ?dateEndPrec ?dateEndCal\n",
    "WHERE {{\n",
    "\n",
    "    BIND(CONCAT(\"LM_\", STRUUID()) AS ?landmarkId)\n",
    "    {{\n",
    "        SELECT DISTINCT * WHERE {{\n",
    "            {{?voie p:P361 [ps:P361 wd:Q16024163].}}UNION{{?voie p:P361 [ps:P361 wd:Q107311481].}}\n",
    "            {{?voie p:P1448 ?nomOffSt.\n",
    "                ?nomOffSt ps:P1448 ?nomOff.\n",
    "                OPTIONAL {{?nomOffSt pq:P580 ?dateStartStamp; pqv:P580 [wb:timePrecision ?dateStartPrecRaw; wb:timeCalendarModel ?dateStartCal]}}\n",
    "                OPTIONAL {{?nomOffSt pq:P582 ?dateEndStamp; pqv:P582 [wb:timePrecision ?dateEndPrecRaw; wb:timeCalendarModel ?dateEndCal]}}\n",
    "            }}UNION{{\n",
    "                ?voie rdfs:label ?nomOff.\n",
    "                FILTER (LANG(?nomOff) = \"fr\")\n",
    "                MINUS {{?voie p:P1448 ?nomOffSt}}\n",
    "            }}\n",
    "        }}\n",
    "    }}\n",
    "    \n",
    "    BIND(IF(?dateStartPrecRaw = 11, time:unitDay, \n",
    "                     IF(?dateStartPrecRaw = 10, time:unitMonth,\n",
    "                         IF(?dateStartPrecRaw = 9, time:unitYear,\n",
    "                             IF(?dateStartPrecRaw = 8, time:unitDecade,\n",
    "                                 IF(?dateStartPrecRaw = 7, time:unitCentury,\n",
    "                                     IF(?dateStartPrecRaw = 6, time:unitMillenium, ?x\n",
    "                                 )))))) AS ?dateStartPrec)\n",
    "     BIND(IF(?dateEndPrecRaw = 11, time:unitDay, \n",
    "                     IF(?dateEndPrecRaw = 10, time:unitMonth,\n",
    "                         IF(?dateEndPrecRaw = 9, time:unitYear,\n",
    "                             IF(?dateEndPrecRaw = 8, time:unitDecade,\n",
    "                                 IF(?dateEndPrecRaw = 7, time:unitCentury,\n",
    "                                     IF(?dateEndPrecRaw = 6, time:unitMillenium, ?x\n",
    "                                 )))))) AS ?dateEndPrec)\n",
    "}}\n",
    "\"\"\"\n",
    "\n",
    "# wd.save_select_query_as_csv_file(query, wdpt_csv_file)"
   ]
  },
  {
   "cell_type": "markdown",
   "metadata": {},
   "source": [
    "### Structuration des résultats en graphe de connaissances"
   ]
  },
  {
   "cell_type": "code",
   "execution_count": null,
   "metadata": {},
   "outputs": [],
   "source": [
    "# Si ça ne marche pas ici, c'est sûrement qu'Ontotext Refine n'est pas lancé\n",
    "otr.get_export_file_from_ontorefine(wdpt_csv_file, wdpt_mapping_file, wdpt_kg_file, ontorefine_cmd, ontorefine_url, project_name)\n",
    "\n",
    "# Importer le fichier `wdpt_kg_file` qui a été créé lors de la ligne précédente dans le répertoire `project_name`, dans le graphe nommé `wdpt_graph_name` \n",
    "gd.import_ttl_file_in_graphdb(graphdb_url, project_name, wdpt_kg_file, wdpt_graph_name)"
   ]
  },
  {
   "cell_type": "markdown",
   "metadata": {},
   "source": [
    "### Transfert des liens `skos:closMatch` vers un autre graphe nommé"
   ]
  },
  {
   "cell_type": "code",
   "execution_count": null,
   "metadata": {},
   "outputs": [],
   "source": [
    "query = f\"\"\"\n",
    "PREFIX skos: <http://www.w3.org/2004/02/skos/core#>\n",
    "DELETE {{\n",
    "    GRAPH <{wdpt_graph_uri}> {{?s skos:closeMatch ?o}}\n",
    "}}\n",
    "INSERT {{\n",
    "    GRAPH <{wdpt_ids_graph_uri}> {{?s skos:closeMatch ?o}}\n",
    "}}\n",
    "WHERE {{\n",
    "    GRAPH <{wdpt_graph_uri}> {{?s skos:closeMatch ?o}}\n",
    "}}\n",
    "\"\"\"\n",
    "\n",
    "gd.update_query(query, graphdb_url, project_name)"
   ]
  },
  {
   "cell_type": "markdown",
   "metadata": {},
   "source": [
    "### Ajout du lien repère / source"
   ]
  },
  {
   "cell_type": "code",
   "execution_count": null,
   "metadata": {},
   "outputs": [],
   "source": [
    "query = f\"\"\"\n",
    "PREFIX addr: <http://rdf.geohistoricaldata.org/def/address#> \n",
    "PREFIX facts: <http://rdf.geohistoricaldata.org/id/address/facts/>\n",
    "PREFIX rico: <https://www.ica.org/standards/RiC/ontology#>\n",
    "\n",
    "INSERT DATA {{\n",
    "    GRAPH <{wdpt_graph_uri}> {{\n",
    "        facts:WD_Source a rico:Record;\n",
    "            rdfs:label \"Wikidata\"@fr.\n",
    "    }}\n",
    "}} ;\n",
    "INSERT {{\n",
    "    GRAPH <{wdpt_graph_uri}> {{\n",
    "        ?landmark rico:isOrWasDescribedBy facts:WD_Source.\n",
    "    }}\n",
    "}}WHERE {{\n",
    "    GRAPH <{wdpt_graph_uri}> {{\n",
    "        ?landmark a addr:Landmark.\n",
    "        BIND(facts:WD_Source AS ?source)\n",
    "    }}\n",
    "}}\n",
    "\"\"\"\n",
    "\n",
    "gd.update_query(query, graphdb_url, project_name)"
   ]
  },
  {
   "cell_type": "markdown",
   "metadata": {},
   "source": [
    "## Voies de Paris via les données de la ville de Paris"
   ]
  },
  {
   "cell_type": "markdown",
   "metadata": {},
   "source": [
    "Import des données de Paris via les données de la ville de Paris :\n",
    "* [dénominations des emprises des voies actuelles](https://opendata.paris.fr/explore/dataset/denominations-emprises-voies-actuelles)\n",
    "* [dénominations caduques des voies](https://opendata.paris.fr/explore/dataset/denominations-des-voies-caduques)\n",
    "\n",
    "Le travail se fait sur deux fichiers csv issus des deux jeux de données.\n",
    "\n",
    "Chaque ligne des deux fichiers constitue une ressource dans le répertoire. Les voies actuelles ont une emprise géométrique contrairement aux anciennes voies."
   ]
  },
  {
   "cell_type": "markdown",
   "metadata": {},
   "source": [
    "### Variables liées aux données de la ville de Paris"
   ]
  },
  {
   "cell_type": "code",
   "execution_count": null,
   "metadata": {},
   "outputs": [],
   "source": [
    "# `vpt` pour \"ville paris thoroughfares\"\n",
    "\n",
    "# Fichier CSV pour stocker le résultat de la requête de la sélection\n",
    "vpta_csv_file_name = \"denominations-emprises-voies-actuelles.csv\"\n",
    "vpta_csv_file = os.path.join(data_folder, vpta_csv_file_name)\n",
    "vptc_csv_file_name = \"denominations-des-voies-caduques.csv\"\n",
    "vptc_csv_file = os.path.join(data_folder, vptc_csv_file_name)\n",
    "\n",
    "# Fichier de mapping pour transformer le fichier CSV en fichier TTL\n",
    "vpta_mapping_file_name = \"mapping_voies_paris_actuelles.json\"\n",
    "vpta_mapping_file = os.path.join(mapping_folder, vpta_mapping_file_name)\n",
    "vptc_mapping_file_name = \"mapping_voies_paris_caduques.json\"\n",
    "vptc_mapping_file = os.path.join(mapping_folder, vptc_mapping_file_name)\n",
    "\n",
    "# Fichier TTL pour structurer les connaissances des voies de Paris\n",
    "vpta_kg_file_name = \"voies_paris_actuelles.ttl\"\n",
    "vpta_kg_file = os.path.join(tmp_folder, vpta_kg_file_name)\n",
    "vptc_kg_file_name = \"voies_paris_caduques.ttl\"\n",
    "vptc_kg_file = os.path.join(tmp_folder, vptc_kg_file_name)\n",
    "\n",
    "# Définition des graphes nommés\n",
    "vpt_graph_name = \"ville_de_paris\"\n",
    "vpt_graph_uri = gd.get_graph_uri_from_name(graphdb_url, project_name, vpt_graph_name)"
   ]
  },
  {
   "cell_type": "markdown",
   "metadata": {},
   "source": [
    "### Structuration des résultats en graphe de connaissances"
   ]
  },
  {
   "cell_type": "code",
   "execution_count": null,
   "metadata": {},
   "outputs": [],
   "source": [
    "# Si ça ne marche pas ici, c'est sûrement qu'Ontotext Refine n'est pas lancé\n",
    "otr.get_export_file_from_ontorefine(vpta_csv_file, vpta_mapping_file, vpta_kg_file, ontorefine_cmd, ontorefine_url, project_name)\n",
    "otr.get_export_file_from_ontorefine(vptc_csv_file, vptc_mapping_file, vptc_kg_file, ontorefine_cmd, ontorefine_url, project_name)\n",
    "\n",
    "# Importer le fichier `wdpt_kg_file` qui a été créé lors de la ligne précédente dans le répertoire `project_name`, dans le graphe nommé `wdpt_graph_name` \n",
    "gd.import_ttl_file_in_graphdb(graphdb_url, project_name, vpta_kg_file, vpt_graph_name)\n",
    "gd.import_ttl_file_in_graphdb(graphdb_url, project_name, vptc_kg_file, vpt_graph_name)"
   ]
  },
  {
   "cell_type": "markdown",
   "metadata": {},
   "source": [
    "### Suppresion des instants temporels sans timeStamp"
   ]
  },
  {
   "cell_type": "code",
   "execution_count": null,
   "metadata": {},
   "outputs": [],
   "source": [
    "query = f\"\"\"\n",
    "PREFIX addr: <http://rdf.geohistoricaldata.org/def/address#> \n",
    "DELETE {{\n",
    "    ?timeInstant ?p ?o.\n",
    "    ?s ?p ?timeInstant.\n",
    "}}WHERE {{\n",
    "    GRAPH <{vpt_graph_uri}> {{\n",
    "        ?timeInstant a addr:TimeInstant.\n",
    "        MINUS {{?timeInstant addr:timeStamp ?timeStamp}}\n",
    "        {{?timeInstant ?p ?o}}UNION{{?s ?p ?timeInstant}}\n",
    "    }}\n",
    "}}\n",
    "\"\"\"\n",
    "\n",
    "gd.update_query(query, graphdb_url, project_name)"
   ]
  },
  {
   "cell_type": "markdown",
   "metadata": {},
   "source": [
    "### Ajout du lien repère / source"
   ]
  },
  {
   "cell_type": "code",
   "execution_count": null,
   "metadata": {},
   "outputs": [],
   "source": [
    "query = f\"\"\"\n",
    "PREFIX addr: <http://rdf.geohistoricaldata.org/def/address#> \n",
    "PREFIX facts: <http://rdf.geohistoricaldata.org/id/address/facts/>\n",
    "PREFIX rico: <https://www.ica.org/standards/RiC/ontology#>\n",
    "\n",
    "INSERT DATA {{\n",
    "    GRAPH <{vpt_graph_uri}> {{\n",
    "        facts:DVP_Source a rico:Record;\n",
    "            rdfs:label \"dénomination des voies de Paris (actuelles et caduques)\"@fr;\n",
    "            rico:hasPublisher addr:DirTopoDocFoncVP .\n",
    "        facts:DirTopoDocFoncVP a rico:CorporateBody;\n",
    "            rdfs:label \"Département de la Topographie et de la Documentation Foncière de la Ville de Paris\"@fr.    \n",
    "    }}\n",
    "}} ;\n",
    "INSERT {{\n",
    "    GRAPH <{vpt_graph_uri}> {{\n",
    "        ?landmark rico:isOrWasDescribedBy facts:DVP_Source.\n",
    "    }}\n",
    "}}WHERE {{\n",
    "    GRAPH <{vpt_graph_uri}> {{\n",
    "        ?landmark a addr:Landmark.\n",
    "        BIND(facts:DVP_Source AS ?source)\n",
    "    }}\n",
    "}}\n",
    "\"\"\"\n",
    "\n",
    "gd.update_query(query, graphdb_url, project_name)"
   ]
  },
  {
   "cell_type": "markdown",
   "metadata": {},
   "source": [
    "## Adresses de Paris à partir de la BAN"
   ]
  },
  {
   "cell_type": "markdown",
   "metadata": {},
   "source": [
    "Import des adresses de Paris venant de la [Base Adresse Nationale (BAN)](https://adresse.data.gouv.fr/base-adresse-nationale), accessible [ici](https://adresse.data.gouv.fr/data/ban/adresses/latest/csv)"
   ]
  },
  {
   "cell_type": "markdown",
   "metadata": {},
   "source": [
    "### Variables liées aux données de la BAN"
   ]
  },
  {
   "cell_type": "code",
   "execution_count": null,
   "metadata": {},
   "outputs": [],
   "source": [
    "# `bpa` pour \"BAN paris addresses\"\n",
    "\n",
    "# Fichier CSV pour stocker le résultat de la requête de la sélection\n",
    "bpa_csv_file_name = \"ban_adresses.csv\"\n",
    "bpa_csv_file = os.path.join(data_folder, bpa_csv_file_name)\n",
    "\n",
    "# Fichier de mapping pour transformer le fichier CSV en fichier TTL\n",
    "bpa_mapping_file_name = \"mapping_ban_adresses.json\"\n",
    "bpa_mapping_file = os.path.join(mapping_folder, bpa_mapping_file_name)\n",
    "\n",
    "# Fichier TTL pour structurer les connaissances des voies de Paris\n",
    "bpa_kg_file_name = \"ban_adresses.ttl\"\n",
    "bpa_kg_file = os.path.join(tmp_folder, bpa_kg_file_name)\n",
    "\n",
    "# Définition des graphes nommés\n",
    "ban_graph_name = \"ban\"\n",
    "ban_graph_uri = gd.get_graph_uri_from_name(graphdb_url, project_name, ban_graph_name)"
   ]
  },
  {
   "cell_type": "markdown",
   "metadata": {},
   "source": [
    "### Structuration des résultats en graphe de connaissances"
   ]
  },
  {
   "cell_type": "code",
   "execution_count": null,
   "metadata": {},
   "outputs": [],
   "source": [
    "# Si ça ne marche pas ici, c'est sûrement qu'Ontotext Refine n'est pas lancé\n",
    "otr.get_export_file_from_ontorefine(bpa_csv_file, bpa_mapping_file, bpa_kg_file, ontorefine_cmd, ontorefine_url, project_name)\n",
    "\n",
    "# Importer le fichier `wdpt_kg_file` qui a été créé lors de la ligne précédente dans le répertoire `project_name`, dans le graphe nommé `bpa_graph_name` \n",
    "gd.import_ttl_file_in_graphdb(graphdb_url, project_name, bpa_kg_file, ban_graph_name)"
   ]
  },
  {
   "cell_type": "markdown",
   "metadata": {},
   "source": [
    "### Nettoyage du graphe"
   ]
  },
  {
   "cell_type": "markdown",
   "metadata": {},
   "source": [
    "Détection de repères décrits via plusieurs ressources et création d'une unique ressource pour chaque."
   ]
  },
  {
   "cell_type": "code",
   "execution_count": null,
   "metadata": {},
   "outputs": [],
   "source": [
    "# Détection des communes et arrondissements dupliqués et création d'une source centrale (?newLandmark) selon le code INSEE.\n",
    "\n",
    "prefixes = \"\"\"\n",
    "PREFIX owl: <http://www.w3.org/2002/07/owl#>\n",
    "PREFIX skos: <http://www.w3.org/2004/02/skos/core#>\n",
    "PREFIX rdfs: <http://www.w3.org/2000/01/rdf-schema#>\n",
    "PREFIX geofla: <http://data.ign.fr/def/geofla#>\n",
    "PREFIX addr: <http://rdf.geohistoricaldata.org/def/address#>\n",
    "PREFIX ltype: <http://rdf.geohistoricaldata.org/id/codes/address/landmarkType/>\n",
    "PREFIX ban: <http://rdf.geohistoricaldata.org/id/address/sources/ban/>\n",
    "\"\"\"\n",
    "\n",
    "query1 = prefixes + f\"\"\"\n",
    "INSERT {{\n",
    "    GRAPH <{tmp_graph_uri}> {{\n",
    "        ?landmark skos:hiddenLabel {norm_label_var}.\n",
    "    }}\n",
    "}}\n",
    "WHERE {{\n",
    "    GRAPH <{ban_graph_uri}> {{\n",
    "        ?landmark a addr:Landmark; rdfs:label {label_var}.\n",
    "        BIND({norm_label_function} AS {norm_label_var})\n",
    "    }}\n",
    "}}\n",
    "\"\"\"\n",
    "\n",
    "query2 = prefixes + f\"\"\"\n",
    "INSERT {{\n",
    "    GRAPH ?g {{\n",
    "        ?landmark skos:exactMatch ?tmpLandmark.\n",
    "    }}\n",
    "}}\n",
    "WHERE\n",
    "{{\n",
    "    BIND(<{ban_graph_uri}> AS ?g)\n",
    "    {{\n",
    "        SELECT DISTINCT ?insee {{\n",
    "            GRAPH ?g {{\n",
    "                ?tmpLandmark a addr:Landmark; geofla:numInsee ?insee.\n",
    "            }}\n",
    "        }}\n",
    "    }}\n",
    "    BIND(URI(CONCAT(STR(URI(ban:)), \"LM_\", STRUUID())) AS ?landmark)\n",
    "\n",
    "    GRAPH ?g {{\n",
    "        ?tmpLandmark a addr:Landmark; addr:isLandmarkType ?landmarkType; geofla:numInsee ?insee.\n",
    "    }}\n",
    "}}\n",
    "\"\"\"\n",
    "\n",
    "# Détection des doublons sur les codes postaux\n",
    "\n",
    "query3 = prefixes + f\"\"\"\n",
    "INSERT {{\n",
    "    GRAPH ?g {{\n",
    "        ?landmark skos:exactMatch ?tmpLandmark.\n",
    "    }}\n",
    "}}\n",
    "WHERE\n",
    "{{\n",
    "    BIND(<{ban_graph_uri}> AS ?g)\n",
    "    {{\n",
    "        SELECT DISTINCT ?postalCode {{\n",
    "            GRAPH ?g {{\n",
    "                ?tmpLandmark a addr:Landmark; addr:isLandmarkType ltype:PostalCode; rdfs:label ?postalCode.\n",
    "            }}\n",
    "        }}\n",
    "    }}\n",
    "    BIND(URI(CONCAT(STR(URI(ban:)), \"LM_\", STRUUID())) AS ?landmark)\n",
    "\n",
    "    GRAPH ?g {{\n",
    "        ?tmpLandmark a addr:Landmark; addr:isLandmarkType ltype:PostalCode; rdfs:label ?postalCode.\n",
    "    }}\n",
    "}}\n",
    "\"\"\"\n",
    "\n",
    "# Détection des doublons sur les voies (même nom et appartient à la même commune ou au même arrondissement)\n",
    "\n",
    "query4 = prefixes + f\"\"\"\n",
    "INSERT {{\n",
    "    GRAPH ?g {{\n",
    "        ?landmark skos:exactMatch ?tmpLandmark.\n",
    "    }}\n",
    "}}\n",
    "WHERE\n",
    "{{\n",
    "    BIND(<{ban_graph_uri}> AS ?g)\n",
    "    BIND(<{tmp_graph_uri}> AS ?gTmp)\n",
    "    {{\n",
    "        SELECT DISTINCT ?label ?district WHERE {{\n",
    "            GRAPH ?g {{\n",
    "                ?tmpLandmark a addr:Landmark; addr:isLandmarkType ltype:Thoroughfare.\n",
    "                ?addrSeg a addr:AddressSegment; addr:relatum ?tmpLandmark; addr:nextStep [a addr:AddressSegment; addr:relatum ?tmpDistrict].\n",
    "                ?tmpDistrict a addr:Landmark; addr:isLandmarkType ltype:District.\n",
    "                ?district skos:exactMatch ?tmpDistrict.\n",
    "            }}\n",
    "            GRAPH ?gTmp {{\n",
    "                ?tmpLandmark skos:hiddenLabel ?normLabel.\n",
    "            }}\n",
    "        }}\n",
    "    }}\n",
    "    BIND(URI(CONCAT(STR(URI(ban:)), \"LM_\", STRUUID())) AS ?landmark)\n",
    "\n",
    "    GRAPH ?g {{\n",
    "        ?tmpLandmark a addr:Landmark; addr:isLandmarkType ltype:Thoroughfare.\n",
    "                ?addrSeg a addr:AddressSegment; addr:relatum ?tmpLandmark; addr:nextStep [a addr:AddressSegment; addr:relatum ?tmpDistrict].\n",
    "                ?tmpDistrict a addr:Landmark; addr:isLandmarkType ltype:District.\n",
    "                ?district skos:exactMatch ?tmpDistrict.\n",
    "    }}\n",
    "    GRAPH ?gTmp {{\n",
    "        ?tmpLandmark skos:hiddenLabel ?normLabel.\n",
    "    }}\n",
    "}}\n",
    "\"\"\"\n",
    "\n",
    "# Transfert des données des ressources temporaires vers les permanentes.\n",
    "\n",
    "query5 = prefixes + f\"\"\"\n",
    "DELETE {{\n",
    "    GRAPH ?g {{\n",
    "        ?s ?p ?tmpLandmark.\n",
    "        ?tmpLandmark ?p ?o.\n",
    "    }}\n",
    "}}\n",
    "INSERT {{\n",
    "    GRAPH ?g {{\n",
    "        ?s ?p ?landmark.\n",
    "        ?landmark ?p ?o.\n",
    "    }}\n",
    "}}\n",
    "WHERE {{\n",
    "    ?landmark skos:exactMatch ?tmpLandmark.\n",
    "    GRAPH ?g {{\n",
    "        {{?tmpLandmark ?p ?o}} UNION {{?s ?p ?tmpLandmark}}\n",
    "        FILTER (?p != skos:exactMatch)\n",
    "    }}\n",
    "}} ; \n",
    "\n",
    "DELETE {{\n",
    "    ?landmark skos:exactMatch ?tmpLandmark.\n",
    "}}\n",
    "WHERE {{\n",
    "    BIND(<{ban_graph_uri}> AS ?g)\n",
    "    GRAPH ?g {{\n",
    "        ?landmark skos:exactMatch ?tmpLandmark.\n",
    "    }}\n",
    "}}\n",
    "\"\"\"\n",
    "\n",
    "queries = [query1, query2, query3, query4, query5]\n",
    "for query in queries:\n",
    "    gd.update_query(query, graphdb_url, project_name)"
   ]
  },
  {
   "cell_type": "markdown",
   "metadata": {},
   "source": [
    "### Ajout d'événéments / de changements ainsi que des attributs à tous les repères"
   ]
  },
  {
   "cell_type": "code",
   "execution_count": null,
   "metadata": {},
   "outputs": [],
   "source": [
    "query = f\"\"\"\n",
    "PREFIX geo: <http://www.opengis.net/ont/geosparql#>\n",
    "PREFIX geofla: <http://data.ign.fr/def/geofla#>\n",
    "PREFIX addr: <http://rdf.geohistoricaldata.org/def/address#> \n",
    "PREFIX ban: <http://rdf.geohistoricaldata.org/id/address/sources/ban/>\n",
    "PREFIX ctype: <http://rdf.geohistoricaldata.org/id/codes/address/changeType/>\n",
    "PREFIX atype: <http://rdf.geohistoricaldata.org/id/codes/address/attributeType/>\n",
    "DELETE {{\n",
    "    GRAPH ?g {{ \n",
    "        ?landmark geo:asWKT ?geom; geofla:numInsee ?inseeCode.\n",
    "    }}\n",
    "}}\n",
    "INSERT {{\n",
    "    GRAPH <{ban_graph_uri}> {{\n",
    "        ?landmark addr:hasAttribute ?nameAttribute, ?geomAttribute.\n",
    "        ?nameAttribute a addr:Attribute; addr:isAttributeType atype:NameAttribute; addr:version ?versionNameAttribute1, ?versionNameAttribute2.\n",
    "        ?geomAttribute a addr:Attribute; addr:isAttributeType atype:GeometryAttribute; addr:version ?versionGeomAttribute.\n",
    "        ?versionNameAttribute1 a addr:AttributeVersion; addr:versionValue ?label.\n",
    "        ?versionNameAttribute2 a addr:AttributeVersion; addr:versionValue ?inseeCode.\n",
    "        ?versionGeomAttribute a addr:AttributeVersion; addr:versionValue ?geom.\n",
    "    }}  \n",
    "}}\n",
    "WHERE {{\n",
    "    GRAPH <{ban_graph_uri}> {{\n",
    "        {{\n",
    "            SELECT * {{\n",
    "                ?landmark a addr:Landmark; rdfs:label ?label.\n",
    "                OPTIONAL {{?landmark geo:asWKT ?geom}}\n",
    "                OPTIONAL {{?landmark geofla:numInsee ?inseeCode}}\n",
    "            }}\n",
    "        }}\n",
    "        BIND(URI(CONCAT(STR(URI(ban:)), \"AN_\", STRUUID())) AS ?nameAttribute)\n",
    "        BIND(URI(CONCAT(STR(URI(ban:)), \"ANV_\", STRUUID())) AS ?versionNameAttribute1)\n",
    "        BIND(IF(BOUND(?inseeCode), URI(CONCAT(STR(URI(ban:)), \"ANV_\", STRUUID())), ?x) AS ?versionNameAttribute2)\n",
    "        BIND(IF(BOUND(?geom), URI(CONCAT(STR(URI(ban:)), \"AG_\", STRUUID())), ?x) AS ?geomAttribute)\n",
    "        BIND(IF(BOUND(?geom), URI(CONCAT(STR(URI(ban:)), \"AGV_\", STRUUID())), ?x) AS ?versionGeomAttribute)\n",
    "    }}\n",
    "}}\n",
    "\"\"\"\n",
    "\n",
    "gd.update_query(query, graphdb_url, project_name)"
   ]
  },
  {
   "cell_type": "markdown",
   "metadata": {},
   "source": [
    "# Création des faits"
   ]
  },
  {
   "cell_type": "markdown",
   "metadata": {},
   "source": [
    "## Variables liées au graphe des faits"
   ]
  },
  {
   "cell_type": "code",
   "execution_count": null,
   "metadata": {},
   "outputs": [],
   "source": [
    "# Définition du graphe nommé\n",
    "facts_graph_name = \"facts\"\n",
    "facts_graph_uri = gd.get_graph_uri_from_name(graphdb_url, project_name, facts_graph_name)\n",
    "\n",
    "# Définition du graphe nommé\n",
    "source_facts_graph_name = \"source_facts\"\n",
    "source_facts_graph_uri = gd.get_graph_uri_from_name(graphdb_url, project_name, source_facts_graph_name)"
   ]
  },
  {
   "cell_type": "markdown",
   "metadata": {},
   "source": [
    "## Création de données dans le graphe des faits"
   ]
  },
  {
   "cell_type": "markdown",
   "metadata": {},
   "source": [
    "### Définition de fonctions pour peupler le graphe des faits"
   ]
  },
  {
   "cell_type": "code",
   "execution_count": null,
   "metadata": {},
   "outputs": [],
   "source": [
    "def add_normalized_label_for_landmarks(graphdb_url, project_name, tmp_graph_uri):\n",
    "    \"\"\"\n",
    "    Ajout de labels normalisés pour les repères via `skos:hiddenLabel` dans le graphe nommé temporaire `tmp_graph_uri`\n",
    "    \"\"\"\n",
    "\n",
    "    label_var = \"?label\"\n",
    "    norm_label_var = \"?normLabel\"\n",
    "    norm_label_function = sp.get_lower_simplified_french_street_name_function(label_var)\n",
    "\n",
    "    prefixes = \"\"\"\n",
    "    PREFIX addr: <http://rdf.geohistoricaldata.org/def/address#>\n",
    "    PREFIX skos: <http://www.w3.org/2004/02/skos/core#>\n",
    "    PREFIX ltype: <http://rdf.geohistoricaldata.org/id/codes/address/landmarkType/>\n",
    "    PREFIX atype: <http://rdf.geohistoricaldata.org/id/codes/address/attributeType/>\n",
    "    \"\"\"\n",
    "\n",
    "    query = prefixes + f\"\"\"\n",
    "    INSERT {{\n",
    "        GRAPH <{tmp_graph_uri}> {{\n",
    "            ?s skos:hiddenLabel {norm_label_var}.\n",
    "        }}\n",
    "    }}\n",
    "    WHERE {{\n",
    "        ?s a addr:Landmark; addr:hasAttribute [a addr:Attribute; addr:isAttributeType atype:NameAttribute; addr:version [a addr:AttributeVersion; addr:versionValue {label_var}]].\n",
    "        BIND({norm_label_function} AS {norm_label_var})\n",
    "    }}\n",
    "    \"\"\"\n",
    "\n",
    "    gd.update_query(query, graphdb_url, project_name)\n",
    "\n",
    "def create_unlinked_landmarks(graphdb_url, project_name, source_graph_uri, facts_graph_uri, source_facts_graph_uri, tmp_graph_uri):\n",
    "    \"\"\"\n",
    "    Créer des repères en tant que faits à partir des repères dans `source_graph_uri` qui ont été liés à aucun repère existant déjà dans le graphe des faits\n",
    "    `source_facts_graph_uri` est le graphe qui fait les liens entre les deux graphes précédemment cités.\n",
    "    `tmp_graph_uri` est un graphe où est ajouté le nom normalisé.\n",
    "    \"\"\"\n",
    "\n",
    "    query = f\"\"\"\n",
    "    PREFIX addr: <http://rdf.geohistoricaldata.org/def/address#> \n",
    "    PREFIX facts: <http://rdf.geohistoricaldata.org/id/address/facts/>\n",
    "    PREFIX ltype: <http://rdf.geohistoricaldata.org/id/codes/address/landmarkType/>\n",
    "    PREFIX skos: <http://www.w3.org/2004/02/skos/core#>\n",
    "\n",
    "    INSERT {{\n",
    "        GRAPH <{source_facts_graph_uri}> {{\n",
    "            ?landmark addr:isCreatedBy ?sLandmark.\n",
    "        }}\n",
    "        GRAPH <{facts_graph_uri}> {{\n",
    "            ?landmark a addr:Landmark.\n",
    "        }}\n",
    "    }}\n",
    "    WHERE {{\n",
    "        GRAPH <{source_graph_uri}> {{\n",
    "            ?sLandmark a addr:Landmark; addr:isLandmarkType ?sLandmarkType.\n",
    "        }}\n",
    "        GRAPH <{tmp_graph_uri}> {{\n",
    "            ?sLandmark skos:hiddenLabel ?hiddenLabel.\n",
    "        }}\n",
    "        MINUS {{\n",
    "            ?sLandmark addr:references [a addr:Landmark].\n",
    "        }}\n",
    "        BIND(URI(CONCAT(STR(URI(facts:)), \"LM_\", STRUUID())) AS ?landmark)\n",
    "    }}\n",
    "    \"\"\"\n",
    "    gd.update_query(query, graphdb_url, project_name)\n",
    "\n",
    "\n",
    "def create_linked_between_similar_thoroughfares(graphdb_url, project_name, source_graph_uri, facts_graph_uri, source_facts_graph_uri):\n",
    "    \"\"\"\n",
    "    Pour les repères de type VOIE définis dans le graphe nommé `source_graph_uri`, les lier avec un repère de même type défini dans `facts_graph_uri` s'ils ont un nom similaire.\n",
    "    Le lien créé est mis dans `source_facts_graph_uri`.\n",
    "    \"\"\"\n",
    "    prefixes = \"\"\"\n",
    "    PREFIX addr: <http://rdf.geohistoricaldata.org/def/address#>\n",
    "    PREFIX skos: <http://www.w3.org/2004/02/skos/core#>\n",
    "    PREFIX ltype: <http://rdf.geohistoricaldata.org/id/codes/address/landmarkType/>\n",
    "    \"\"\"\n",
    "\n",
    "    query = prefixes + f\"\"\"\n",
    "    INSERT {{\n",
    "        GRAPH <{source_facts_graph_uri}> {{\n",
    "            ?factsLandmark addr:isReferencedBy ?sourceLandmark.\n",
    "        }}\n",
    "    }}\n",
    "    WHERE {{\n",
    "        GRAPH <{source_graph_uri}> {{\n",
    "            ?sourceLandmark a addr:Landmark; addr:isLandmarkType ltype:Thoroughfare.\n",
    "        }}\n",
    "        GRAPH <{facts_graph_uri}> {{\n",
    "            ?factsLandmark a addr:Landmark.\n",
    "           }}\n",
    "        ?sourceLandmark skos:hiddenLabel ?label.\n",
    "        ?factsLandmark skos:hiddenLabel ?label.\n",
    "    }}\n",
    "    \"\"\"\n",
    "\n",
    "    gd.update_query(query, graphdb_url, project_name)\n",
    "\n",
    "def create_unlinked_addresses(graphdb_url, project_name, source_graph_uri, facts_graph_uri, source_facts_graph_uri):\n",
    "    # Créer des ressources de type Address en tant que fait et créer un lien de provenance\n",
    "    query = f\"\"\"\n",
    "    PREFIX addr: <http://rdf.geohistoricaldata.org/def/address#>\n",
    "    PREFIX facts: <http://rdf.geohistoricaldata.org/id/address/facts/>\n",
    "    PREFIX rdfs: <http://www.w3.org/2000/01/rdf-schema#>\n",
    "    INSERT {{\n",
    "        GRAPH ?gsf {{\n",
    "            ?factAddress addr:isCreatedBy ?address.\n",
    "        }}\n",
    "        GRAPH <{facts_graph_uri}> {{\n",
    "            ?factAddress a addr:Address.\n",
    "        }}\n",
    "    }}\n",
    "    WHERE {{\n",
    "        BIND(<{source_graph_uri}> AS ?gs)\n",
    "        BIND(<{source_facts_graph_uri}> AS ?gsf)\n",
    "        GRAPH ?gs {{\n",
    "            ?address a addr:Address.\n",
    "        }}\n",
    "        MINUS {{?address addr:references [a addr:Address]}}\n",
    "        BIND(URI(CONCAT(STR(URI(facts:)), \"ADDR_\", STRUUID()))AS ?factAddress)\n",
    "    }}\n",
    "    \"\"\"\n",
    "\n",
    "    gd.update_query(query, graphdb_url, project_name)\n",
    "\n",
    "def create_unlinked_landmark_relations(graphdb_url, project_name, source_graph_uri, facts_graph_uri, source_facts_graph_uri):\n",
    "    # Créer des ressources de type LandmarkRelation (ou AddressSegment ou FinalAddressSegment) en tant que fait et créer un lien de provenance\n",
    "    query = f\"\"\"\n",
    "    PREFIX addr: <http://rdf.geohistoricaldata.org/def/address#>\n",
    "    PREFIX facts: <http://rdf.geohistoricaldata.org/id/address/facts/>\n",
    "    PREFIX rdfs: <http://www.w3.org/2000/01/rdf-schema#>\n",
    "    INSERT {{\n",
    "        GRAPH ?gsf {{\n",
    "            ?factLandmarkRelation addr:isCreatedBy ?landmarkRelation.\n",
    "        }}\n",
    "        GRAPH <{facts_graph_uri}> {{\n",
    "            ?landmarkRelation a ?type.\n",
    "        }}\n",
    "    }}\n",
    "    WHERE {{\n",
    "        BIND(<{source_graph_uri}> AS ?gs)\n",
    "        BIND(<{source_facts_graph_uri}> AS ?gsf)\n",
    "        ?type rdfs:subClassOf* addr:LandmarkRelation.\n",
    "        GRAPH ?gs {{\n",
    "            ?addrSeg a ?type.\n",
    "        }}\n",
    "        MINUS {{?landmarkRelation addr:references [a addr:LandmarkRelation]}}\n",
    "        BIND(URI(CONCAT(STR(URI(facts:)), \"LR_\", STRUUID()))AS ?factLandmarkRelation)\n",
    "    }}\n",
    "    \"\"\"\n",
    "\n",
    "    gd.update_query(query, graphdb_url, project_name)"
   ]
  },
  {
   "cell_type": "markdown",
   "metadata": {},
   "source": [
    "### Création de voies à partir des différentes sources"
   ]
  },
  {
   "cell_type": "markdown",
   "metadata": {},
   "source": [
    "La création de voies se fait de la manière suivante :\n",
    "* on normalise les labels des repères, qui sont stockés dans un graphe nommé temporaire\n",
    "* on sélectionne une source\n",
    "* pour chaque ressource définie dans la source, on regarde si elle existe dans le graphe des faits (via des critères pré-définis comme le nom)\n",
    "    * si la ressource existe, on crée un lien `?a addr:isReferencedBy ?b` décrivant le fait que la ressource existe\n",
    "    * sinon, on la crée et on ajoute un lien `?a addr:isCreatedBy ?b`\n",
    "* on refait le processus suivant pour une autre source jusqu'à les avoir toutes faites"
   ]
  },
  {
   "cell_type": "code",
   "execution_count": null,
   "metadata": {},
   "outputs": [],
   "source": [
    "# L'ensemble des URI des graphes nommés des sources\n",
    "sources_graph_uris = [vpt_graph_uri, ban_graph_uri, wdpt_graph_uri]\n",
    "# sources_graph_uris = [vpt_graph_uri]\n",
    "# sources_graph_uris = [ban_graph_uri]\n",
    "# sources_graph_uris = [wdpt_graph_uri]\n",
    "\n",
    "# Normalisation des noms des repères\n",
    "add_normalized_label_for_landmarks(graphdb_url, project_name, tmp_graph_uri)\n",
    "\n",
    "# # Liages des ressources et/ou création de nouvelles pour celles qui n'existent pas\n",
    "for source_graph_uri in sources_graph_uris:\n",
    "    create_linked_between_similar_thoroughfares(graphdb_url, project_name, source_graph_uri, facts_graph_uri, source_facts_graph_uri)\n",
    "    create_unlinked_landmarks(graphdb_url, project_name, source_graph_uri, facts_graph_uri, source_facts_graph_uri, tmp_graph_uri)\n",
    "    create_unlinked_addresses(graphdb_url, project_name, source_graph_uri, facts_graph_uri, source_facts_graph_uri)\n",
    "    create_unlinked_landmark_relations(graphdb_url, project_name, source_graph_uri, facts_graph_uri, source_facts_graph_uri)"
   ]
  },
  {
   "cell_type": "markdown",
   "metadata": {},
   "source": []
  },
  {
   "cell_type": "markdown",
   "metadata": {},
   "source": []
  },
  {
   "cell_type": "code",
   "execution_count": null,
   "metadata": {},
   "outputs": [],
   "source": [
    "# Propagation des liens (firstStep, nextStep, targets, locatum, relatum) entre éléments de la BAN (Address, AddressSegment, Landmark)\n",
    "# Dans le fichier des règles `ruleset_file`, une règle indique que :\n",
    "\"\"\"\n",
    "\tId: perso_rule_1\n",
    "\t\tse1 p se2\n",
    "\t\tfe1 <addr:isReferencedBy> se1\n",
    "\t\tfe2 <addr:isReferencedBy> se2\n",
    "\t\t-----------------------\n",
    "\t\tfe1 p fe2\n",
    "\"\"\"\n",
    "\n",
    "\n",
    "query = f\"\"\"\n",
    "PREFIX addr: <http://rdf.geohistoricaldata.org/def/address#>\n",
    "PREFIX rdfs: <http://www.w3.org/2000/01/rdf-schema#>\n",
    "\n",
    "INSERT {{\n",
    "    GRAPH ?gf {{\n",
    "        ?factsElem1 ?p ?factsElem2.\n",
    "    }}\n",
    "}}\n",
    "WHERE {{\n",
    "    BIND(<{ban_graph_uri}> AS ?gs)\n",
    "    BIND(<{facts_graph_uri}> AS ?gf)\n",
    "    BIND(<{source_facts_graph_uri}> AS ?gsf)\n",
    "\n",
    "    GRAPH ?gs {{\n",
    "        ?sourceElem1 ?p ?sourceElem2.\n",
    "    }}\n",
    "    ?factsElem1 addr:isReferencedBy ?sourceElem1.\n",
    "    ?factsElem2 addr:isReferencedBy ?sourceElem2.\n",
    "}}\n",
    "\"\"\""
   ]
  }
 ],
 "metadata": {
  "kernelspec": {
   "display_name": "Python 3",
   "language": "python",
   "name": "python3"
  },
  "language_info": {
   "codemirror_mode": {
    "name": "ipython",
    "version": 3
   },
   "file_extension": ".py",
   "mimetype": "text/x-python",
   "name": "python",
   "nbconvert_exporter": "python",
   "pygments_lexer": "ipython3",
   "version": "3.10.12"
  },
  "orig_nbformat": 4
 },
 "nbformat": 4,
 "nbformat_minor": 2
}
