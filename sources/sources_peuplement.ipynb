{
 "cells": [
  {
   "cell_type": "markdown",
   "metadata": {},
   "source": [
    "# Variables"
   ]
  },
  {
   "cell_type": "markdown",
   "metadata": {},
   "source": [
    "## Import des librairies"
   ]
  },
  {
   "cell_type": "code",
   "execution_count": null,
   "metadata": {},
   "outputs": [],
   "source": [
    "import os\n",
    "import sys\n",
    "from rdflib import Graph, Namespace, URIRef, Literal, BNode, XSD"
   ]
  },
  {
   "cell_type": "markdown",
   "metadata": {},
   "source": [
    "## Définition des variables globales"
   ]
  },
  {
   "cell_type": "code",
   "execution_count": null,
   "metadata": {},
   "outputs": [],
   "source": [
    "# Fichiers existants\n",
    "ont_file_name = \"ontology.ttl\" # Fusion des deux fichiers précédents\n",
    "ruleset_file_name = \"rules.pie\"\n",
    "\n",
    "# Fichiers créés durant le processus\n",
    "export_file_name = \"addresses-temp.ttl\"\n",
    "out_file_name = \"addresses.ttl\"\n",
    "local_config_file_name = \"config_repo.ttl\"\n",
    "facts_ttl_file_name = \"facts_data.ttl\"\n",
    "implicit_to_facts_ttl_file_name = \"implicit_to_facts.ttl\"\n",
    "\n",
    "# Dossiers existants\n",
    "data_folder_name = \"data\"\n",
    "mapping_folder_name = \"mappings\"\n",
    "\n",
    "# Dossiers créés durant le traitement\n",
    "tmp_folder_name = \"tmp_files\"\n",
    "\n",
    "# Nom du répertoire GraphDB pour les faits\n",
    "facts_repository_name = \"addresses_from_factoids_2\"\n",
    "\n",
    "# Définition des graphes nommés\n",
    "ontology_named_graph_name = \"ontology\"\n",
    "facts_named_graph_name = \"facts\"\n",
    "factoids_named_graph_name = \"factoids\"\n",
    "time_named_graph_name = \"time\"\n",
    "permanent_named_graph_name = \"permanent\"\n",
    "tmp_named_graph_name = \"temporary\"\n",
    "\n",
    "# Définition de namespaces et de préfixes associés\n",
    "namespace_prefixes = {\"addr\":Namespace(\"http://rdf.geohistoricaldata.org/def/address#\"),\n",
    "                      \"atype\":Namespace(\"http://rdf.geohistoricaldata.org/id/codes/address/attributeType/\"),\n",
    "                      \"ltype\":Namespace(\"http://rdf.geohistoricaldata.org/id/codes/address/landmarkType/\"),\n",
    "                      \"lrtype\":Namespace(\"http://rdf.geohistoricaldata.org/id/codes/address/landmarkRelationType/\"),\n",
    "                      \"ctype\":Namespace(\"http://rdf.geohistoricaldata.org/id/codes/address/changeType/\"),\n",
    "                      \"facts\":Namespace(\"http://rdf.geohistoricaldata.org/id/address/facts/\"),\n",
    "                      \"factoids\":Namespace(\"http://rdf.geohistoricaldata.org/id/address/factoids/\"),\n",
    "                      \"geo\": Namespace(\"http://www.opengis.net/ont/geosparql#\"),\n",
    "                      \"skos\": Namespace(\"http://www.w3.org/2004/02/skos/core#\"),\n",
    "                      \"rdf\": Namespace(\"http://www.w3.org/1999/02/22-rdf-syntax-ns#\"),\n",
    "                      \"rdfs\": Namespace(\"http://www.w3.org/2000/01/rdf-schema#\"),\n",
    "                      }\n",
    "\n",
    "# URIs pour accéder aux logiciels GraphDB et Ontotext-Refine\n",
    "graphdb_url = \"http://localhost:7200\"\n",
    "ontorefine_url = \"http://localhost:7333\"\n",
    "\n",
    "# Commande pour lancer `Ontorefine`, dépend de l'OS et d'où il se situe\n",
    "# ontorefine_cmd = \"ontorefine-cli\" # Nom sans chemin\n",
    "ontorefine_cmd = \"/opt/ontotext-refine/lib/app/bin/ontorefine-cli\" #Ubuntu\n",
    "# ontorefine_cmd = \"/Applications/Ontotext\\\\ Refine.app/Contents/app/bin/ontorefine-cli\" #MacOS\n",
    "\n",
    "py_code_folder_path = \"../code\""
   ]
  },
  {
   "cell_type": "markdown",
   "metadata": {},
   "source": [
    "## Traitement des variables globales\n",
    "\n",
    "* Obtention des chemins absolus des fichiers à partir des chemins relatifs donnés dans la section précédente\n",
    "* Création d'un dossier temporaire s'il n'existe pas encore pour stocker des fichiers à vocation d'être supprimés"
   ]
  },
  {
   "cell_type": "code",
   "execution_count": null,
   "metadata": {},
   "outputs": [],
   "source": [
    "tmp_folder = os.path.abspath(tmp_folder_name)\n",
    "mapping_folder = os.path.abspath(mapping_folder_name)\n",
    "data_folder = os.path.abspath(data_folder_name)\n",
    "\n",
    "python_code_folder = os.path.abspath(py_code_folder_path)\n",
    "\n",
    "local_config_file = os.path.join(tmp_folder, local_config_file_name)\n",
    "ont_file = os.path.abspath(ont_file_name)\n",
    "ruleset_file = os.path.abspath(ruleset_file_name)\n",
    "facts_ttl_file = os.path.join(tmp_folder, facts_ttl_file_name)\n",
    "implicit_to_facts_ttl_file = os.path.join(tmp_folder, implicit_to_facts_ttl_file_name)"
   ]
  },
  {
   "cell_type": "markdown",
   "metadata": {},
   "source": [
    "## Import des modules situés dans le dossier `code`"
   ]
  },
  {
   "cell_type": "code",
   "execution_count": null,
   "metadata": {},
   "outputs": [],
   "source": [
    "# Appel du dossier `code` comprend les codes python\n",
    "sys.path.insert(1, python_code_folder)\n",
    "\n",
    "import filemanagement as fm\n",
    "import wikidata as wd\n",
    "import ontorefine as otr\n",
    "import graphdb as gd\n",
    "import graphrdf as gr\n",
    "import strprocessing as sp\n",
    "import geomprocessing as gp\n",
    "import multisourcesprocessing as msp\n",
    "import factoidscreation as fc\n",
    "import timemanagement as tm"
   ]
  },
  {
   "cell_type": "markdown",
   "metadata": {},
   "source": [
    "## Création de dossiers s'ils n'existent pas"
   ]
  },
  {
   "cell_type": "code",
   "execution_count": null,
   "metadata": {},
   "outputs": [],
   "source": [
    "fm.create_folder_if_not_exists(tmp_folder)"
   ]
  },
  {
   "cell_type": "markdown",
   "metadata": {},
   "source": [
    "## Gestion du répertoire local"
   ]
  },
  {
   "cell_type": "markdown",
   "metadata": {},
   "source": [
    "### Création du répertoire local dans GraphDB\n",
    "Pour que la création marche, il faut que GraphDB soit lancé et donc que l'URI donné par `graphdb_url` fonctionne. Si le répertoire existe déjà, rien n'est fait."
   ]
  },
  {
   "cell_type": "code",
   "execution_count": null,
   "metadata": {},
   "outputs": [],
   "source": [
    "# Il se peut que la suppression d'un répertoire ne fonctionne pas donc pour éviter la suppresion au moment de la réinitialisation (suppression + (re)création)\n",
    "# `allow_removal` doit valoir False et dans ce cas-là, le répertoire sera juste vidé.\n",
    "allow_removal = False\n",
    "disable_same_as = False\n",
    "\n",
    "# gd.reinitialize_repository(graphdb_url, facts_repository_name, local_config_file, ruleset_file=\"owl2-rl-optimized\", disable_same_as=disable_same_as, allow_removal=allow_removal)\n",
    "gd.reinitialize_repository(graphdb_url, facts_repository_name, local_config_file, ruleset_file=ruleset_file, disable_same_as=disable_same_as, allow_removal=allow_removal)"
   ]
  },
  {
   "cell_type": "markdown",
   "metadata": {},
   "source": [
    "## Import des ontologies"
   ]
  },
  {
   "cell_type": "code",
   "execution_count": null,
   "metadata": {},
   "outputs": [],
   "source": [
    "gd.load_ontologies(graphdb_url, facts_repository_name, [ont_file], ontology_named_graph_name)"
   ]
  },
  {
   "cell_type": "markdown",
   "metadata": {},
   "source": [
    "## Définition de variables liées aux sources"
   ]
  },
  {
   "cell_type": "markdown",
   "metadata": {},
   "source": [
    "### Voies de Paris via Wikidata"
   ]
  },
  {
   "cell_type": "markdown",
   "metadata": {},
   "source": [
    "* `wd` pour \"wikidata\"\n",
    "* `wdpt` pour \"wikidata paris thoroughfares\"\n",
    "* `wdpa` pour \"wikidata paris areas\"\n",
    "* `wdpl` pour \"wikidata paris thoroughfare locations\""
   ]
  },
  {
   "cell_type": "code",
   "execution_count": null,
   "metadata": {},
   "outputs": [],
   "source": [
    "# Nom du répertoire où sont stockés et construits les triplets des factoïdes des données de Wikidata\n",
    "wd_repository_name = \"factoids_wikidata\"\n",
    "\n",
    "# Fichier CSV pour stocker le résultat de la requête de la sélection\n",
    "wdpt_csv_file_name = \"wd_paris_thoroughfares.csv\"\n",
    "wdpt_csv_file = os.path.join(data_folder, wdpt_csv_file_name)\n",
    "\n",
    "# Fichier de mapping pour transformer le fichier CSV en fichier TTL\n",
    "wdpt_mapping_file_name = \"mapping_wikidata_landmarks_thoroughfares.json\"\n",
    "wdpt_mapping_file = os.path.join(mapping_folder, wdpt_mapping_file_name)\n",
    "\n",
    "# Fichier TTL pour structurer les connaissances des voies de Paris\n",
    "wdpt_kg_file_name = \"wd_paris_thoroughfares.ttl\"\n",
    "wdpt_kg_file = os.path.join(tmp_folder, wdpt_kg_file_name)\n",
    "\n",
    "# Fichier CSV pour stocker le résultat de la requête de la sélection\n",
    "wdpa_csv_file_name = \"wd_paris_areas.csv\"\n",
    "wdpa_csv_file = os.path.join(data_folder, wdpa_csv_file_name)\n",
    "\n",
    "# Fichier de mapping pour transformer le fichier CSV en fichier TTL\n",
    "wdpa_mapping_file_name = \"mapping_wikidata_landmarks_areas.json\"\n",
    "wdpa_mapping_file = os.path.join(mapping_folder, wdpa_mapping_file_name)\n",
    "\n",
    "# Fichier TTL pour structurer les connaissances des zones de Paris\n",
    "wdpa_kg_file_name = \"wd_paris_areas.ttl\"\n",
    "wdpa_kg_file = os.path.join(tmp_folder, wdpa_kg_file_name)\n",
    "\n",
    "# Fichier CSV pour stocker le résultat de la requête de la sélection\n",
    "wdpl_csv_file_name = \"wd_paris_locations.csv\"\n",
    "wdpl_csv_file = os.path.join(data_folder, wdpl_csv_file_name)\n",
    "\n",
    "# Fichier de mapping pour transformer le fichier CSV en fichier TTL\n",
    "wdpl_mapping_file_name = \"mapping_wikidata_landmark_relations.json\"\n",
    "wdpl_mapping_file = os.path.join(mapping_folder, wdpl_mapping_file_name)\n",
    "\n",
    "# Fichier TTL pour structurer les connaissances des zones de Paris\n",
    "wdpl_kg_file_name = \"wd_paris_thoroughfare_locations.ttl\"\n",
    "wdpl_kg_file = os.path.join(tmp_folder, wdpl_kg_file_name)\n",
    "\n",
    "# Fichier TTL final des factoïdes de Wikidata\n",
    "wd_factoids_kg_file_name = \"wd_factoids.ttl\"\n",
    "wd_factoids_kg_file = os.path.join(tmp_folder, wd_factoids_kg_file_name)\n",
    "wd_permanent_kg_file_name = \"wd_permanent.ttl\"\n",
    "wd_permanent_kg_file = os.path.join(tmp_folder, wd_permanent_kg_file_name)"
   ]
  },
  {
   "cell_type": "markdown",
   "metadata": {},
   "source": [
    "### Nomenclature des voies de la ville de Paris"
   ]
  },
  {
   "cell_type": "markdown",
   "metadata": {},
   "source": [
    "Les données de la ville de Paris sont composées de deux jeux :\n",
    "* [dénominations des emprises des voies actuelles](https://opendata.paris.fr/explore/dataset/denominations-emprises-voies-actuelles)\n",
    "* [dénominations caduques des voies](https://opendata.paris.fr/explore/dataset/denominations-des-voies-caduques)\n",
    "\n",
    "Les voies actuelles ont une emprise géométrique contrairement aux anciennes voies.\n",
    "\n",
    "* `vpt` pour \"ville paris thoroughfares\"\n",
    "* `vpta` pour \"ville paris thoroughfares actuelles\"\n",
    "* `vptc` pour \"ville paris thoroughfares caduques\""
   ]
  },
  {
   "cell_type": "code",
   "execution_count": null,
   "metadata": {},
   "outputs": [],
   "source": [
    "# Nom du répertoire où sont stockés et construits les triplets des factoïdes des données de la BAN\n",
    "vpt_repository_name = \"factoids_ville_de_paris\"\n",
    "\n",
    "# Fichier CSV pour stocker le résultat de la requête de la sélection\n",
    "vpta_csv_file_name = \"denominations-emprises-voies-actuelles.csv\"\n",
    "vpta_csv_file = os.path.join(data_folder, vpta_csv_file_name)\n",
    "vptc_csv_file_name = \"denominations-des-voies-caduques.csv\"\n",
    "vptc_csv_file = os.path.join(data_folder, vptc_csv_file_name)\n",
    "\n",
    "# Propriétés liées au fichier `vpta_csv_file` (colonne décrivant la géométrie, séparateur de colonnes...)\n",
    "vpta_csv_file_delimiter = \";\"\n",
    "vpta_csv_file_geom_col_name = \"geo_shape\"\n",
    "\n",
    "# Le fichier `vpta_csv_file_name` sera modifié durant le traitement. Le fichier ci-dessous sera la version modifiée.\n",
    "vpta_mod_csv_file_name = \"denominations-emprises-voies-actuelles_wkt.csv\"\n",
    "vpta_mod_csv_file = os.path.join(tmp_folder, vpta_mod_csv_file_name)\n",
    "\n",
    "# Fichier de mapping pour transformer le fichier CSV en fichier TTL\n",
    "vpta_mapping_file_name = \"mapping_voies_paris_actuelles.json\"\n",
    "vpta_mapping_file = os.path.join(mapping_folder, vpta_mapping_file_name)\n",
    "vptc_mapping_file_name = \"mapping_voies_paris_caduques.json\"\n",
    "vptc_mapping_file = os.path.join(mapping_folder, vptc_mapping_file_name)\n",
    "\n",
    "# Fichier TTL pour structurer les connaissances des voies de Paris\n",
    "vpta_kg_file_name = \"voies_paris_actuelles.ttl\"\n",
    "vpta_kg_file = os.path.join(tmp_folder, vpta_kg_file_name)\n",
    "vptc_kg_file_name = \"voies_paris_caduques.ttl\"\n",
    "vptc_kg_file = os.path.join(tmp_folder, vptc_kg_file_name)\n",
    "\n",
    "# Fichier TTL final des factoïdes de Ville de Paris\n",
    "vpt_factoids_kg_file_name = \"vpt_factoids.ttl\"\n",
    "vpt_factoids_kg_file = os.path.join(tmp_folder, vpt_factoids_kg_file_name)\n",
    "vpt_permanent_kg_file_name = \"vpt_permanent.ttl\"\n",
    "vpt_permanent_kg_file = os.path.join(tmp_folder, vpt_permanent_kg_file_name)\n",
    "\n",
    "vpta_time_description = {\n",
    "    \"start_time\" : {\"stamp\":\"2024-02-10T00:00:00Z\",\"precision\":\"day\",\"calendar\":\"gregorian\"}\n",
    "    }"
   ]
  },
  {
   "cell_type": "markdown",
   "metadata": {},
   "source": [
    "### Base Adresse Nationale (BAN)"
   ]
  },
  {
   "cell_type": "markdown",
   "metadata": {},
   "source": [
    "Données de la [Base Adresse Nationale (BAN)](https://adresse.data.gouv.fr/base-adresse-nationale), accessible [ici](https://adresse.data.gouv.fr/data/ban/adresses/latest/csv)\n",
    "\n",
    "`bpa` pour \"BAN paris addresses\""
   ]
  },
  {
   "cell_type": "code",
   "execution_count": null,
   "metadata": {},
   "outputs": [],
   "source": [
    "# Nom du répertoire où sont stockés et construits les triplets des factoïdes des données de la BAN\n",
    "bpa_repository_name = \"factoids_ban\"\n",
    "\n",
    "# Fichier CSV pour stocker le résultat de la requête de la sélection\n",
    "bpa_csv_file_name = \"ban_adresses.csv\"\n",
    "bpa_csv_file = os.path.join(data_folder, bpa_csv_file_name)\n",
    "\n",
    "# Fichier de mapping pour transformer le fichier CSV en fichier TTL\n",
    "bpa_mapping_file_name = \"mapping_ban_adresses.json\"\n",
    "bpa_mapping_file = os.path.join(mapping_folder, bpa_mapping_file_name)\n",
    "\n",
    "# Fichier TTL pour structurer les connaissances des voies de Paris\n",
    "bpa_kg_file_name = \"ban_adresses.ttl\"\n",
    "bpa_kg_file = os.path.join(tmp_folder, bpa_kg_file_name)\n",
    "\n",
    "# Fichier TTL final des factoïdes de Ville de Paris\n",
    "bpa_factoids_kg_file_name = \"ban_factoids.ttl\"\n",
    "bpa_factoids_kg_file = os.path.join(tmp_folder, bpa_factoids_kg_file_name)\n",
    "bpa_permanent_kg_file_name = \"ban_permanent.ttl\"\n",
    "bpa_permanent_kg_file = os.path.join(tmp_folder, bpa_permanent_kg_file_name)\n",
    "\n",
    "bpa_time_description = {\n",
    "    \"start_time\" : {\"stamp\":\"2024-01-01T00:00:00Z\",\"precision\":\"day\",\"calendar\":\"gregorian\"}\n",
    "    }"
   ]
  },
  {
   "cell_type": "markdown",
   "metadata": {},
   "source": [
    "### OpenStreetMap (OSM)"
   ]
  },
  {
   "cell_type": "markdown",
   "metadata": {},
   "source": [
    "Extraction des données d'OpenStreetMap"
   ]
  },
  {
   "cell_type": "code",
   "execution_count": null,
   "metadata": {},
   "outputs": [],
   "source": [
    "# Nom du répertoire où sont stockés et construits les triplets des factoïdes des données d'OSM\n",
    "osm_repository_name = \"factoids_osm\"\n",
    "\n",
    "# Fichiers CSV pour stocker les résultats des requêtes de la sélection\n",
    "osm_csv_file_name = \"osm_adresses.csv\"\n",
    "osm_csv_file = os.path.join(data_folder, osm_csv_file_name)\n",
    "osm_hn_csv_file_name = \"osm_hn_adresses.csv\"\n",
    "osm_hn_csv_file = os.path.join(data_folder, osm_hn_csv_file_name)\n",
    "\n",
    "# Fichiers de mapping pour transformer les fichier CSV en fichier TTL\n",
    "osm_mapping_file_name = \"mapping_osm_adresses.json\"\n",
    "osm_mapping_file = os.path.join(mapping_folder, osm_mapping_file_name)\n",
    "osm_hn_mapping_file_name = \"mapping_osm_hn_adresses.json\"\n",
    "osm_hn_mapping_file = os.path.join(mapping_folder, osm_hn_mapping_file_name)\n",
    "\n",
    "# Fichiers TTL pour structurer les connaissances venant d'OSM\n",
    "osm_kg_file_name = \"osm_adresses.ttl\"\n",
    "osm_kg_file = os.path.join(tmp_folder, osm_kg_file_name)\n",
    "osm_hn_kg_file_name = \"osm_adresses_hn.ttl\"\n",
    "osm_hn_kg_file = os.path.join(tmp_folder, osm_hn_kg_file_name)\n",
    "\n",
    "# Fichier TTL final des factoïdes de Ville de Paris\n",
    "osm_factoids_kg_file_name = \"osm_factoids.ttl\"\n",
    "osm_factoids_kg_file = os.path.join(tmp_folder, osm_factoids_kg_file_name)\n",
    "osm_permanent_kg_file_name = \"osm_permanent.ttl\"\n",
    "osm_permanent_kg_file = os.path.join(tmp_folder, osm_permanent_kg_file_name)\n",
    "\n",
    "osm_time_description = {\n",
    "    \"start_time\" : {\"stamp\":\"2024-01-01T00:00:00Z\",\"precision\":\"day\",\"calendar\":\"gregorian\"}\n",
    "    }"
   ]
  },
  {
   "cell_type": "markdown",
   "metadata": {},
   "source": [
    "## Processus final et itératif"
   ]
  },
  {
   "cell_type": "markdown",
   "metadata": {},
   "source": [
    "### Création des factoïdes dans des répertoires"
   ]
  },
  {
   "cell_type": "markdown",
   "metadata": {},
   "source": [
    "Pour chaque source, des factoïdes sont créés indépendamment dans des répertoires distincts"
   ]
  },
  {
   "cell_type": "markdown",
   "metadata": {},
   "source": [
    "#### Ville de Paris\n"
   ]
  },
  {
   "cell_type": "code",
   "execution_count": null,
   "metadata": {},
   "outputs": [],
   "source": [
    "# fc.create_factoid_process_ville_paris(graphdb_url, vpt_repository_name, namespace_prefixes, tmp_folder,\n",
    "#                                       ontorefine_url, ontorefine_cmd, ont_file, ontology_named_graph_name, factoids_named_graph_name, permanent_named_graph_name,\n",
    "#                                       vpta_csv_file, vpta_mod_csv_file, vpta_csv_file_delimiter, vpta_csv_file_geom_col_name,\n",
    "#                                       vptc_csv_file, vpta_mapping_file, vptc_mapping_file, vpta_kg_file, vptc_kg_file,\n",
    "#                                       vpta_time_description)"
   ]
  },
  {
   "cell_type": "markdown",
   "metadata": {},
   "source": [
    "####  BAN\n"
   ]
  },
  {
   "cell_type": "code",
   "execution_count": null,
   "metadata": {},
   "outputs": [],
   "source": [
    "# fc.create_factoid_process_ban(graphdb_url, bpa_repository_name, namespace_prefixes, tmp_folder,\n",
    "#                               ontorefine_url, ontorefine_cmd,\n",
    "#                               ont_file, ontology_named_graph_name, factoids_named_graph_name, permanent_named_graph_name,\n",
    "#                               bpa_csv_file, bpa_mapping_file, bpa_kg_file,\n",
    "#                               bpa_time_description)"
   ]
  },
  {
   "cell_type": "markdown",
   "metadata": {},
   "source": [
    "#### Wikidata\n"
   ]
  },
  {
   "cell_type": "code",
   "execution_count": null,
   "metadata": {},
   "outputs": [],
   "source": [
    "# # fc.get_data_from_wikidata(wdpt_csv_file, wdpa_csv_file, wdpl_csv_file)\n",
    "# fc.create_factoid_process_wikidata(graphdb_url, wd_repository_name, namespace_prefixes, tmp_folder,\n",
    "#                                    ontorefine_url, ontorefine_cmd,\n",
    "#                                    ont_file, ontology_named_graph_name, factoids_named_graph_name, permanent_named_graph_name,\n",
    "#                                    wdpt_csv_file, wdpt_mapping_file, wdpt_kg_file,\n",
    "#                                    wdpa_csv_file, wdpa_mapping_file, wdpa_kg_file,\n",
    "#                                    wdpl_csv_file, wdpl_mapping_file, wdpl_kg_file)"
   ]
  },
  {
   "cell_type": "markdown",
   "metadata": {},
   "source": [
    "#### OSM"
   ]
  },
  {
   "cell_type": "code",
   "execution_count": null,
   "metadata": {},
   "outputs": [],
   "source": [
    "# fc.create_factoid_process_osm(graphdb_url, osm_repository_name, namespace_prefixes, tmp_folder,\n",
    "#                               ontorefine_url, ontorefine_cmd, ont_file, ontology_named_graph_name, factoids_named_graph_name, permanent_named_graph_name,\n",
    "#                               osm_csv_file, osm_mapping_file, osm_kg_file,\n",
    "#                               osm_hn_csv_file, osm_hn_mapping_file, osm_hn_kg_file,\n",
    "#                               osm_time_description)"
   ]
  },
  {
   "cell_type": "markdown",
   "metadata": {},
   "source": [
    "### Insertion des factoïdes dans le graphe des faits"
   ]
  },
  {
   "cell_type": "markdown",
   "metadata": {},
   "source": [
    "#### Ville de Paris"
   ]
  },
  {
   "cell_type": "code",
   "execution_count": null,
   "metadata": {},
   "outputs": [],
   "source": [
    "msp.transfert_factoids_to_facts_repository(graphdb_url, facts_repository_name, vpt_repository_name, vpt_factoids_kg_file, vpt_permanent_kg_file, factoids_named_graph_name, facts_named_graph_name, permanent_named_graph_name)\n",
    "msp.import_factoids_in_facts(graphdb_url, facts_repository_name, factoids_named_graph_name, facts_named_graph_name, tmp_named_graph_name, facts_ttl_file, implicit_to_facts_ttl_file, ont_file, ontology_named_graph_name)"
   ]
  },
  {
   "cell_type": "markdown",
   "metadata": {},
   "source": [
    "#### Wikidata"
   ]
  },
  {
   "cell_type": "code",
   "execution_count": null,
   "metadata": {},
   "outputs": [],
   "source": [
    "msp.transfert_factoids_to_facts_repository(graphdb_url, facts_repository_name, wd_repository_name, wd_factoids_kg_file, wd_permanent_kg_file, factoids_named_graph_name, facts_named_graph_name, permanent_named_graph_name)\n",
    "msp.import_factoids_in_facts(graphdb_url, facts_repository_name, factoids_named_graph_name, facts_named_graph_name, tmp_named_graph_name, facts_ttl_file, implicit_to_facts_ttl_file, ont_file, ontology_named_graph_name)"
   ]
  },
  {
   "cell_type": "markdown",
   "metadata": {},
   "source": [
    "#### BAN"
   ]
  },
  {
   "cell_type": "code",
   "execution_count": null,
   "metadata": {},
   "outputs": [],
   "source": [
    "# msp.transfert_factoids_to_facts_repository(graphdb_url, facts_repository_name, bpa_repository_name, bpa_factoids_kg_file, bpa_permanent_kg_file, factoids_named_graph_name, facts_named_graph_name, permanent_named_graph_name)\n",
    "# msp.import_factoids_in_facts(graphdb_url, facts_repository_name, factoids_named_graph_name, facts_named_graph_name, tmp_named_graph_name, facts_ttl_file, implicit_to_facts_ttl_file, ont_file, ontology_named_graph_name)"
   ]
  },
  {
   "cell_type": "markdown",
   "metadata": {},
   "source": [
    "#### OSM"
   ]
  },
  {
   "cell_type": "code",
   "execution_count": null,
   "metadata": {},
   "outputs": [],
   "source": [
    "# msp.transfert_factoids_to_facts_repository(graphdb_url, facts_repository_name, osm_repository_name, osm_factoids_kg_file, osm_permanent_kg_file, factoids_named_graph_name, facts_named_graph_name, permanent_named_graph_name)\n",
    "# msp.import_factoids_in_facts(graphdb_url, facts_repository_name, factoids_named_graph_name, facts_named_graph_name, tmp_named_graph_name, facts_ttl_file, implicit_to_facts_ttl_file, ont_file, ontology_named_graph_name)"
   ]
  },
  {
   "cell_type": "markdown",
   "metadata": {},
   "source": [
    "## Intégration de données issues de fichiers Geojson"
   ]
  },
  {
   "cell_type": "markdown",
   "metadata": {},
   "source": [
    "Ces fichiers sont issus de la vectorisation de plans de Paris\n",
    "* cadatre napoléonien révisé de 1847\n",
    "* plan \"Andriveau\" de 1849\n",
    "* plan parcellaire municipal de 1871\n",
    "* plan de l'Atlas Municipal de 1888"
   ]
  },
  {
   "cell_type": "markdown",
   "metadata": {},
   "source": [
    "### Variables globale pour l'import des données venant des fichiers Geojson"
   ]
  },
  {
   "cell_type": "code",
   "execution_count": null,
   "metadata": {},
   "outputs": [],
   "source": [
    "lang = \"fr\"\n",
    "landmark_type = \"Thoroughfare\"\n",
    "geojson_join_property = \"name\""
   ]
  },
  {
   "cell_type": "markdown",
   "metadata": {},
   "source": [
    "### Variables liées au cadastre napoléonien de 1847"
   ]
  },
  {
   "cell_type": "code",
   "execution_count": null,
   "metadata": {},
   "outputs": [],
   "source": [
    "# Nom du répertoire où sont stockés et construits les triplets des factoïdes des données\n",
    "cn_1847_repository_name = \"factoids_1847_cadastre_nap\"\n",
    "\n",
    "cn_1847_geojson_file_name = \"1847_cadastre_nap.geojson\"\n",
    "cn_1847_geojson_file = os.path.join(data_folder, cn_1847_geojson_file_name)\n",
    "cn_1847_kg_file_name = \"cn_1847_kg.ttl\"\n",
    "cn_1847_kg_file = os.path.join(tmp_folder, cn_1847_kg_file_name)\n",
    "\n",
    "# Fichier TTL final des factoïdes du cadatre napoléonien révisé de 1847\n",
    "cn_1847_factoids_kg_file_name = \"cn_1847_factoids.ttl\"\n",
    "cn_1847_factoids_kg_file = os.path.join(tmp_folder, cn_1847_factoids_kg_file_name)\n",
    "cn_1847_permanent_kg_file_name = \"cn_1847_permanent.ttl\"\n",
    "cn_1847_permanent_kg_file = os.path.join(tmp_folder, cn_1847_permanent_kg_file_name)\n",
    "\n",
    "cn_1847_geojson = fm.read_json_file(cn_1847_geojson_file)\n",
    "\n",
    "cn_1847_source_desc = {\n",
    "    \"lang\" : \"fr\", \n",
    "    \"label\" : \"Cadastre napoléonien de Gentilly de 1847\",\n",
    "    \"publisher\" : {\n",
    "        \"label\": \"Empire français\"\n",
    "        }\n",
    "}\n",
    "\n",
    "cn_1847_time_interval = {\n",
    "    \"start_time\" : {\"stamp\":\"1845-01-01T00:00:00Z\",\"precision\":\"year\",\"calendar\":\"gregorian\"},\n",
    "    \"end_time\" : {\"stamp\":\"1850-01-01T00:00:00Z\",\"precision\":\"year\",\"calendar\":\"gregorian\"},\n",
    "}\n",
    "cn_1847_geojson[\"source\"] = cn_1847_source_desc\n",
    "cn_1847_geojson[\"time\"] = cn_1847_time_interval\n"
   ]
  },
  {
   "cell_type": "markdown",
   "metadata": {},
   "source": [
    "### Variables liées au plan d'Andriveau"
   ]
  },
  {
   "cell_type": "code",
   "execution_count": null,
   "metadata": {},
   "outputs": [],
   "source": [
    "# Nom du répertoire où sont stockés et construits les triplets des factoïdes des données\n",
    "an_1849_repository_name = \"factoids_1849_andriveau\"\n",
    "\n",
    "an_1849_geojson_file_name = \"1849_andriveau.geojson\"\n",
    "an_1849_geojson_file = os.path.join(data_folder, an_1849_geojson_file_name)\n",
    "an_1849_kg_file_name = \"an_1849_kg.ttl\"\n",
    "an_1849_kg_file = os.path.join(tmp_folder, an_1849_kg_file_name)\n",
    "\n",
    "# Fichier TTL final des factoïdes du plan \"Andriveau\" de 1849\n",
    "an_1849_factoids_kg_file_name = \"an_1849_factoids.ttl\"\n",
    "an_1849_factoids_kg_file = os.path.join(tmp_folder, an_1849_factoids_kg_file_name)\n",
    "an_1849_permanent_kg_file_name = \"an_1849_permanent.ttl\"\n",
    "an_1849_permanent_kg_file = os.path.join(tmp_folder, an_1849_permanent_kg_file_name)\n",
    "\n",
    "an_1849_geojson = fm.read_json_file(an_1849_geojson_file)\n",
    "\n",
    "an_1849_source_desc = {\n",
    "    \"lang\" : \"fr\", \n",
    "    \"label\" : \"Plan d'Andriveau de 1849\",\n",
    "    \"publisher\" : {\n",
    "        \"label\": \"Andriveau\"\n",
    "        }\n",
    "}\n",
    "\n",
    "an_1849_time_interval = {\n",
    "    \"start_time\" : {\"stamp\":\"1847-01-01T00:00:00Z\",\"precision\":\"year\",\"calendar\":\"gregorian\"},\n",
    "    \"end_time\" : {\"stamp\":\"1851-01-01T00:00:00Z\",\"precision\":\"year\",\"calendar\":\"gregorian\"},\n",
    "}\n",
    "an_1849_geojson[\"source\"] = an_1849_source_desc\n",
    "an_1849_geojson[\"time\"] = an_1849_time_interval"
   ]
  },
  {
   "cell_type": "markdown",
   "metadata": {},
   "source": [
    "### Variables liées au plan parcellaire municipal de 1871"
   ]
  },
  {
   "cell_type": "code",
   "execution_count": null,
   "metadata": {},
   "outputs": [],
   "source": [
    "# Nom du répertoire où sont stockés et construits les triplets des factoïdes des données\n",
    "pm_1871_repository_name = \"factoids_1871_plan_parcellaire_mun\"\n",
    "\n",
    "pm_1871_geojson_file_name = \"1871_plan_parcellaire_mun.geojson\"\n",
    "pm_1871_geojson_file = os.path.join(data_folder, pm_1871_geojson_file_name)\n",
    "pm_1871_kg_file_name = \"pm_1871_kg.ttl\"\n",
    "pm_1871_kg_file = os.path.join(tmp_folder, pm_1871_kg_file_name)\n",
    "\n",
    "# Fichier TTL final des factoïdes du plan parcellaire municipal de 1871\n",
    "pm_1871_factoids_kg_file_name = \"pm_1871_factoids.ttl\"\n",
    "pm_1871_factoids_kg_file = os.path.join(tmp_folder, pm_1871_factoids_kg_file_name)\n",
    "pm_1871_permanent_kg_file_name = \"pm_1871_permanent.ttl\"\n",
    "pm_1871_permanent_kg_file = os.path.join(tmp_folder, pm_1871_permanent_kg_file_name)\n",
    "\n",
    "pm_1871_geojson = fm.read_json_file(pm_1871_geojson_file)\n",
    "\n",
    "pm_1871_source_desc = {\n",
    "    \"lang\" : \"fr\",\n",
    "    \"label\" : \"Plan parcellaire municipal\",\n",
    "    \"publisher\" : {\n",
    "        \"label\": \"IIIe République\"\n",
    "        }\n",
    "}\n",
    "\n",
    "pm_1871_time_interval = {\n",
    "    \"start_time\" : {\"stamp\":\"1870-01-01T00:00:00Z\",\"precision\":\"year\",\"calendar\":\"gregorian\"},\n",
    "    \"end_time\" : {\"stamp\":\"1872-01-01T00:00:00Z\",\"precision\":\"year\",\"calendar\":\"gregorian\"},\n",
    "}\n",
    "pm_1871_geojson[\"source\"] = pm_1871_source_desc\n",
    "pm_1871_geojson[\"time\"] = pm_1871_time_interval"
   ]
  },
  {
   "cell_type": "markdown",
   "metadata": {},
   "source": [
    "### Variables liées au plan municipal de 1888"
   ]
  },
  {
   "cell_type": "code",
   "execution_count": null,
   "metadata": {},
   "outputs": [],
   "source": [
    "# Nom du répertoire où sont stockés et construits les triplets des factoïdes des données\n",
    "am_1888_repository_name = \"factoids_1888_atlas_municipal\"\n",
    "\n",
    "am_1888_geojson_file_name = \"1888_atlas_municipal.geojson\"\n",
    "am_1888_geojson_file = os.path.join(data_folder, am_1888_geojson_file_name)\n",
    "am_1888_kg_file_name = \"am_1888_kg.ttl\"\n",
    "am_1888_kg_file = os.path.join(tmp_folder, am_1888_kg_file_name)\n",
    "\n",
    "# Fichier TTL final des factoïdes du plan de l'Atlas Municipal de 1888\n",
    "am_1888_factoids_kg_file_name = \"am_1888_factoids.ttl\"\n",
    "am_1888_factoids_kg_file = os.path.join(tmp_folder, am_1888_factoids_kg_file_name)\n",
    "am_1888_permanent_kg_file_name = \"am_1888_permanent.ttl\"\n",
    "am_1888_permanent_kg_file = os.path.join(tmp_folder, am_1888_permanent_kg_file_name)\n",
    "\n",
    "am_1888_geojson = fm.read_json_file(am_1888_geojson_file)\n",
    "\n",
    "am_1888_source_desc = {\n",
    "    \"lang\" : \"fr\", \n",
    "    \"label\" : \"Plan de l'atlas municipal de 1888\",\n",
    "    \"publisher\" : {\n",
    "        \"label\": \"Ville de Paris\"\n",
    "        }\n",
    "}\n",
    "\n",
    "am_1888_time_interval = {\n",
    "    \"start_time\" : {\"stamp\":\"1887-01-01T00:00:00Z\",\"precision\":\"year\",\"calendar\":\"gregorian\"},\n",
    "    \"end_time\" : {\"stamp\":\"1889-01-01T00:00:00Z\",\"precision\":\"year\",\"calendar\":\"gregorian\"},\n",
    "}\n",
    "am_1888_geojson[\"source\"] = am_1888_source_desc\n",
    "am_1888_geojson[\"time\"] = am_1888_time_interval"
   ]
  },
  {
   "cell_type": "code",
   "execution_count": null,
   "metadata": {},
   "outputs": [],
   "source": [
    "# fc.create_factoid_process_geojson(graphdb_url, cn_1847_repository_name, namespace_prefixes, tmp_folder, ont_file, ontology_named_graph_name,\n",
    "#                                factoids_named_graph_name, permanent_named_graph_name, cn_1847_geojson, geojson_join_property, cn_1847_kg_file, landmark_type, lang)\n",
    "# fc.create_factoid_process_geojson(graphdb_url, an_1849_repository_name, namespace_prefixes, tmp_folder, ont_file, ontology_named_graph_name,\n",
    "#                                factoids_named_graph_name, permanent_named_graph_name, an_1849_geojson, geojson_join_property, an_1849_kg_file, landmark_type, lang)\n",
    "# fc.create_factoid_process_geojson(graphdb_url, pm_1871_repository_name, namespace_prefixes, tmp_folder, ont_file, ontology_named_graph_name,\n",
    "#                                factoids_named_graph_name, permanent_named_graph_name, pm_1871_geojson, geojson_join_property, pm_1871_kg_file, landmark_type, lang)\n",
    "# fc.create_factoid_process_geojson(graphdb_url, am_1888_repository_name, namespace_prefixes, tmp_folder, ont_file, ontology_named_graph_name,\n",
    "#                                factoids_named_graph_name, permanent_named_graph_name, am_1888_geojson, geojson_join_property, am_1888_kg_file, landmark_type, lang)"
   ]
  },
  {
   "cell_type": "code",
   "execution_count": null,
   "metadata": {},
   "outputs": [],
   "source": [
    "# msp.transfert_factoids_to_facts_repository(graphdb_url, facts_repository_name, cn_1847_repository_name,\n",
    "#                                        cn_1847_factoids_kg_file, cn_1847_permanent_kg_file, factoids_named_graph_name, facts_named_graph_name, permanent_named_graph_name)\n",
    "# msp.import_factoids_in_facts(graphdb_url, facts_repository_name, factoids_named_graph_name, facts_named_graph_name, tmp_named_graph_name, facts_ttl_file, implicit_to_facts_ttl_file, ont_file, ontology_named_graph_name)\n",
    "\n",
    "# msp.transfert_factoids_to_facts_repository(graphdb_url, facts_repository_name, an_1849_repository_name,\n",
    "#                                        an_1849_factoids_kg_file, an_1849_permanent_kg_file, factoids_named_graph_name, facts_named_graph_name, permanent_named_graph_name)\n",
    "# msp.import_factoids_in_facts(graphdb_url, facts_repository_name, factoids_named_graph_name, facts_named_graph_name, tmp_named_graph_name, facts_ttl_file, implicit_to_facts_ttl_file, ont_file, ontology_named_graph_name)\n",
    "\n",
    "# msp.transfert_factoids_to_facts_repository(graphdb_url, facts_repository_name, pm_1871_repository_name,\n",
    "#                                        pm_1871_factoids_kg_file, pm_1871_permanent_kg_file, factoids_named_graph_name, facts_named_graph_name, permanent_named_graph_name)\n",
    "# msp.import_factoids_in_facts(graphdb_url, facts_repository_name, factoids_named_graph_name, facts_named_graph_name, tmp_named_graph_name, facts_ttl_file, implicit_to_facts_ttl_file, ont_file, ontology_named_graph_name)\n",
    "\n",
    "# msp.transfert_factoids_to_facts_repository(graphdb_url, facts_repository_name, am_1888_repository_name,\n",
    "#                                        am_1888_factoids_kg_file, am_1888_permanent_kg_file, factoids_named_graph_name, facts_named_graph_name, permanent_named_graph_name)\n",
    "# msp.import_factoids_in_facts(graphdb_url, facts_repository_name, factoids_named_graph_name, facts_named_graph_name, tmp_named_graph_name, facts_ttl_file, implicit_to_facts_ttl_file, ont_file, ontology_named_graph_name)"
   ]
  },
  {
   "cell_type": "code",
   "execution_count": null,
   "metadata": {},
   "outputs": [],
   "source": [
    "def add_time_relations(graphdb_url:str, repository_name:str, time_named_graph_name:str):\n",
    "    \"\"\"\n",
    "    Ajout de relations temporelles :\n",
    "    * comparaison des instants appartenant à un même événement (i1 before/after i2)\n",
    "    * comparaison des instants liés à un même attribut (i1 before/after i2)\n",
    "    * déduction des instants au plus tôt / au plus tard liés aux événéments à partir des instants avant / après\n",
    "    * création d'intervalles de validité pour des versions d'attributs\n",
    "    * comparaison des intervalles de versions entre versions d'un même attribut\n",
    "\n",
    "    L'ensemble des triplets est stocké dans le graphe nommé dont le nom est `time_named_graph_name`.\n",
    "    \"\"\"\n",
    "    \n",
    "    time_named_graph_uri = URIRef(gd.get_named_graph_uri_from_name(graphdb_url, repository_name, time_named_graph_name))\n",
    "\n",
    "    tm.compare_time_instants_of_events(graphdb_url, repository_name, time_named_graph_uri)\n",
    "    tm.compare_time_instants_of_attributes(graphdb_url, repository_name, time_named_graph_uri)\n",
    "    tm.get_earliest_and_latest_time_instants_for_events(graphdb_url, repository_name, time_named_graph_uri)\n",
    "    tm.get_validity_interval_for_attribute_versions(graphdb_url, repository_name, time_named_graph_uri)\n",
    "    tm.compare_time_intervals_of_attribute_versions(graphdb_url, repository_name, time_named_graph_uri)\n",
    "\n",
    "add_time_relations(graphdb_url, facts_repository_name, time_named_graph_name)"
   ]
  },
  {
   "cell_type": "code",
   "execution_count": null,
   "metadata": {},
   "outputs": [],
   "source": [
    "import pyproj\n",
    "from shapely.ops import transform\n",
    "from shapely import wkt\n",
    "import re\n",
    "\n",
    "def get_insert_data_query_for_version_comparisons(version_comparisons:list[tuple], named_graph_uri:URIRef=None):\n",
    "    query_lines = \"\"\n",
    "    for comp in version_comparisons:\n",
    "        if comp[2]:\n",
    "            pred = \"addr:sameVersionValueAs\"\n",
    "        else:\n",
    "            pred = \"addr:differentVersionValueFrom\"\n",
    "\n",
    "        query_lines += f\"{comp[0].n3()} {pred} {comp[1].n3()} .\\n\"\n",
    "\n",
    "    if named_graph_uri is None:\n",
    "        opened_named_graph = \"\"\n",
    "        closed_named_graph = \"\"\n",
    "    else:\n",
    "        opened_named_graph = f\"GRAPH {named_graph_uri.n3()} {{\"\n",
    "        closed_named_graph = f\"}}\"\n",
    "        \n",
    "    query = f\"\"\"\n",
    "        PREFIX addr: <http://rdf.geohistoricaldata.org/def/address#>\n",
    "\n",
    "        INSERT DATA {{\n",
    "        {opened_named_graph}\n",
    "        {query_lines}\n",
    "        {closed_named_graph}\n",
    "        }} \n",
    "        \"\"\"\n",
    "\n",
    "    return query\n",
    "\n",
    "def get_wkt_geom_from_geosparql_wktliteral(wktliteral:str):\n",
    "    wkt_srid_pattern = \"<(.{0,})>\"\n",
    "    wkt_value_pattern = \"<.{0,}> {1,}\"\n",
    "    wkt_geom_srid_match = re.match(wkt_srid_pattern, wktliteral)\n",
    "    \n",
    "    epsg_4326_uri = URIRef(\"http://www.opengis.net/def/crs/EPSG/0/4326\")\n",
    "    crs84_uri = URIRef(\"http://www.opengis.net/def/crs/OGC/1.3/CRS84\")\n",
    "\n",
    "    if wkt_geom_srid_match is not None:\n",
    "        wkt_geom_srid = URIRef(wkt_geom_srid_match.group(1))\n",
    "    else:\n",
    "        wkt_geom_srid = epsg_4326_uri\n",
    "\n",
    "    if wkt_geom_srid == crs84_uri:\n",
    "        wkt_geom_srid = epsg_4326_uri\n",
    "    wkt_geom_value = re.sub(wkt_value_pattern, \"\", wktliteral)\n",
    "\n",
    "    return wkt_geom_value, wkt_geom_srid\n",
    "\n",
    "def transform_geometry_crs(geom, crs_from, crs_to):\n",
    "    \"\"\"\n",
    "    Obtenir une géométrie définie dans le système de coordonnées `from_crs` vers le système `to_crs`.\n",
    "    \"\"\"\n",
    "\n",
    "    project = pyproj.Transformer.from_crs(crs_from, crs_to, always_xy=True).transform\n",
    "    return transform(project, geom)\n",
    "\n",
    "def get_pyproj_crs_from_opengis_epsg_uri(opengis_epsg_uri:URIRef):\n",
    "    pattern = \"http://www.opengis.net/def/crs/EPSG/0/([0-9]{1,})\"\n",
    "    try :\n",
    "        epsg_code = re.match(pattern, opengis_epsg_uri.strip()).group(1)\n",
    "        return pyproj.CRS(f'EPSG:{epsg_code}')\n",
    "    except :\n",
    "        return None\n",
    "\n",
    "def are_similar_geometries(geom_1, geom_2):\n",
    "    # geom_intersection = geom_1.intersection(geom_2)\n",
    "    # geom_union = geom_1.union(geom_2)\n",
    "    # coef = geom_intersection.area/geom_union.area\n",
    "\n",
    "    # if coef > 0.7:\n",
    "    #     return True\n",
    "    # else:\n",
    "    #     return False\n",
    "\n",
    "    geom_intersection = geom_1.envelope.intersection(geom_2.envelope)\n",
    "    geom_union = geom_1.envelope.union(geom_2.envelope)\n",
    "    coef = geom_intersection.area/geom_union.area\n",
    "\n",
    "    if coef >= 0.8:\n",
    "        print(coef)\n",
    "        return True\n",
    "    else:\n",
    "        return False\n",
    "\n",
    "def get_processed_geometry(geom_wkt, geom_srid_uri:URIRef, crs_uri:URIRef, buffer_radius:float):\n",
    "    \"\"\"\n",
    "    Obtention d'une géométrie pour pouvoir la comparer aux autres :\n",
    "    * ses coordonnées seront exprimées dans le référentiel lié à `crs_uri`\n",
    "    * si la géométrie est une ligne ou un point (area=0.0), alors on récupère une zone tampon dont le buffer est donné par `buffer_radius`\n",
    "    \"\"\"\n",
    "\n",
    "    geom = wkt.loads(geom_wkt)\n",
    "    crs_from = get_pyproj_crs_from_opengis_epsg_uri(geom_srid_uri)\n",
    "    crs_to = get_pyproj_crs_from_opengis_epsg_uri(crs_uri)\n",
    "\n",
    "    # Conversion de la géométrie vers le système de coordonnées cible\n",
    "    if crs_from != crs_to:\n",
    "        geom = transform_geometry_crs(geom, crs_from, crs_to)\n",
    "    \n",
    "    # Ajout d'un buffer `meter_buffer` mètres si c'est pas un polygone\n",
    "    if geom.area == 0.0:\n",
    "        geom = geom.buffer(buffer_radius)\n",
    "\n",
    "    return geom\n",
    "\n",
    "def get_geometry_versions(graphdb_url:str, repository_name:str, crs_uri:URIRef, buffer_radius:float):\n",
    "    query = \"\"\"\n",
    "        PREFIX atype: <http://rdf.geohistoricaldata.org/id/codes/address/attributeType/>\n",
    "        PREFIX addr: <http://rdf.geohistoricaldata.org/def/address#>\n",
    "\n",
    "        SELECT ?attr ?av ?geom WHERE {\n",
    "            ?attr a addr:Attribute ; addr:isAttributeType atype:Geometry ; addr:hasAttributeVersion ?av.\n",
    "            ?av addr:versionValue ?geom.\n",
    "        }\n",
    "        \"\"\"\n",
    "    \n",
    "    a = gd.select_query_to_json(query, graphdb_url, repository_name)\n",
    "    geom_versions = {}\n",
    "\n",
    "    for elem in a.get(\"results\").get(\"bindings\"):\n",
    "\n",
    "        # Récupération des URIs (attibut et version d'attribut) et de la géométrie\n",
    "        rel_attr = gr.convert_result_elem_to_rdflib_elem(elem.get('attr'))\n",
    "        rel_av = gr.convert_result_elem_to_rdflib_elem(elem.get('av'))\n",
    "        rel_geom = gr.convert_result_elem_to_rdflib_elem(elem.get('geom'))\n",
    "\n",
    "        if rel_attr not in geom_versions.keys():\n",
    "            geom_versions[rel_attr] = {}\n",
    "\n",
    "        geom_wkt, geom_srid_uri = get_wkt_geom_from_geosparql_wktliteral(rel_geom.strip())\n",
    "        geom = get_processed_geometry(geom_wkt, geom_srid_uri, crs_uri, buffer_radius)\n",
    "        geom_versions[rel_attr][rel_av] = geom\n",
    "\n",
    "    return geom_versions\n",
    "\n",
    "def test_geom(graphdb_url:str, repository_name:str, comp_named_graph_name:str, crs_uri:URIRef, buffer_radius:float):\n",
    "    \n",
    "    geom_versions = get_geometry_versions(graphdb_url, repository_name, crs_uri, buffer_radius)\n",
    "    version_comparisons = []\n",
    "    for attr_vers_uris in geom_versions.values():\n",
    "        for attr_vers_uri_1, geom_1 in attr_vers_uris.items():\n",
    "            for attr_vers_uri_2, geom_2 in attr_vers_uris.items():\n",
    "                if attr_vers_uri_1 != attr_vers_uri_2:\n",
    "                    sim_geoms = are_similar_geometries(geom_1, geom_2)\n",
    "                    version_comparisons.append((attr_vers_uri_1, attr_vers_uri_2, sim_geoms))\n",
    "\n",
    "    comp_named_graph_uri = URIRef(gd.get_named_graph_uri_from_name(graphdb_url, repository_name, comp_named_graph_name))\n",
    "    query = get_insert_data_query_for_version_comparisons(version_comparisons, comp_named_graph_uri)\n",
    "    # print(query)\n",
    "    # gd.update_query(query, graphdb_url, repository_name)"
   ]
  },
  {
   "cell_type": "code",
   "execution_count": null,
   "metadata": {},
   "outputs": [],
   "source": [
    "crs_uri = URIRef('http://www.opengis.net/def/crs/EPSG/0/2154')\n",
    "comp_named_graph_name = \"version_comparisons\"\n",
    "test_geom(graphdb_url, facts_repository_name, comp_named_graph_name, crs_uri, buffer_radius=5)"
   ]
  },
  {
   "cell_type": "code",
   "execution_count": null,
   "metadata": {},
   "outputs": [],
   "source": [
    "# wkt_geom_1 = \"GEOMETRYCOLLECTION (MULTILINESTRING ((652389.475687 6858949.618137, 652473.25595 6859042.910018)), MULTILINESTRING ((652473.25595 6859042.910018, 652487.397191 6859059.790447)), MULTILINESTRING ((652543.71011 6859097.31558, 652622.978439 6859129.647989)), MULTILINESTRING ((652488.514709 6859073.780449, 652543.71011 6859097.31558)), MULTILINESTRING ((652370.309844 6858929.780064, 652389.475687 6858949.618137)))\"\n",
    "# wkt_geom_2 = \"POLYGON ((2.352701 48.829847, 2.352732 48.829719, 2.352699 48.829732, 2.352572 48.829637, 2.352545 48.829617, 2.352518 48.829596, 2.352487 48.829573, 2.352349 48.829469, 2.352128 48.829304, 2.352087 48.829273, 2.352049 48.829245, 2.352064 48.829237, 2.352006 48.829194, 2.351976 48.829172, 2.351955 48.829156, 2.351925 48.829134, 2.351868 48.829093, 2.351853 48.829081, 2.35177 48.82902, 2.351768 48.829021, 2.351757 48.829027, 2.351706 48.828989, 2.351682 48.82897, 2.351661 48.828955, 2.351637 48.828937, 2.351632 48.828933, 2.351641 48.828928, 2.351625 48.828917, 2.351599 48.828896, 2.351417 48.828752, 2.351317 48.828677, 2.351224 48.82868, 2.351223 48.828726, 2.35135 48.82882, 2.351497 48.828931, 2.351591 48.829001, 2.351605 48.829011, 2.351684 48.829071, 2.35173 48.829105, 2.351881 48.829218, 2.351864 48.829227, 2.352004 48.829332, 2.352022 48.829345, 2.352076 48.829386, 2.35209 48.829397, 2.35218 48.829464, 2.352197 48.829454, 2.352221 48.829472, 2.352238 48.829485, 2.352252 48.829495, 2.352283 48.829518, 2.352361 48.829577, 2.352381 48.829591, 2.352429 48.829627, 2.352507 48.829686, 2.352538 48.829666, 2.352557 48.82968, 2.352593 48.829708, 2.352615 48.829724, 2.352634 48.829738, 2.352641 48.829786, 2.352686 48.82982, 2.352701 48.829847))\"\n",
    "# geom_1 = wkt.loads(wkt_geom_1)\n",
    "# geom_2 = wkt.loads(wkt_geom_2)\n",
    "\n",
    "# bbox_geom_1 = geom_1.envelope\n",
    "# bbox_geom_2 = geom_2.envelope\n",
    "# print(bbox_geom_1)\n"
   ]
  }
 ],
 "metadata": {
  "kernelspec": {
   "display_name": "Python 3",
   "language": "python",
   "name": "python3"
  },
  "language_info": {
   "codemirror_mode": {
    "name": "ipython",
    "version": 3
   },
   "file_extension": ".py",
   "mimetype": "text/x-python",
   "name": "python",
   "nbconvert_exporter": "python",
   "pygments_lexer": "ipython3",
   "version": "3.10.12"
  },
  "orig_nbformat": 4
 },
 "nbformat": 4,
 "nbformat_minor": 2
}
